{
 "cells": [
  {
   "cell_type": "code",
   "execution_count": 1,
   "metadata": {},
   "outputs": [],
   "source": [
    "import pandas as pd\n",
    "import plotly.express as px\n",
    "from sklearn.ensemble import RandomForestClassifier\n",
    "from sklearn.neighbors import KNeighborsClassifier\n",
    "from sklearn.ensemble import AdaBoostClassifier\n",
    "from sklearn.svm import SVC\n",
    "from sklearn.model_selection import train_test_split , cross_val_score\n",
    "from sklearn.linear_model import LogisticRegression\n",
    "from sklearn.neural_network import MLPClassifier"
   ]
  },
  {
   "cell_type": "code",
   "execution_count": 2,
   "metadata": {},
   "outputs": [],
   "source": [
    "# 读取CSV文件\n",
    "df = pd.read_csv(\"../../processed_dataset/Data.csv\")"
   ]
  },
  {
   "cell_type": "code",
   "execution_count": 3,
   "metadata": {},
   "outputs": [
    {
     "data": {
      "text/html": [
       "<div>\n",
       "<style scoped>\n",
       "    .dataframe tbody tr th:only-of-type {\n",
       "        vertical-align: middle;\n",
       "    }\n",
       "\n",
       "    .dataframe tbody tr th {\n",
       "        vertical-align: top;\n",
       "    }\n",
       "\n",
       "    .dataframe thead th {\n",
       "        text-align: right;\n",
       "    }\n",
       "</style>\n",
       "<table border=\"1\" class=\"dataframe\">\n",
       "  <thead>\n",
       "    <tr style=\"text-align: right;\">\n",
       "      <th></th>\n",
       "      <th>dis_ballcarrier_tackler|min</th>\n",
       "      <th>o_standard_tackler|mean</th>\n",
       "      <th>ballcarrier_x_range</th>\n",
       "      <th>o_standard_tackler|skew</th>\n",
       "      <th>dis_ballcarrier_tackler|mean</th>\n",
       "      <th>o_tackler|std</th>\n",
       "      <th>x_standard_ballcarrier|max</th>\n",
       "      <th>momentum_tackler|skew</th>\n",
       "      <th>s_tackler|mean</th>\n",
       "      <th>power_tackler|skew</th>\n",
       "      <th>...</th>\n",
       "      <th>dis_ballcarrier_tackler|std</th>\n",
       "      <th>x_standard_ballcarrier|std</th>\n",
       "      <th>assist|max</th>\n",
       "      <th>x_ballcarrier|std</th>\n",
       "      <th>ballcarrier_y_range</th>\n",
       "      <th>dis_ballcarrier_tackler|skew</th>\n",
       "      <th>tackler_x_range</th>\n",
       "      <th>y_standard_tackler|skew</th>\n",
       "      <th>dis_tackler|mean</th>\n",
       "      <th>tackle_assist_success</th>\n",
       "    </tr>\n",
       "  </thead>\n",
       "  <tbody>\n",
       "    <tr>\n",
       "      <th>0</th>\n",
       "      <td>0.353412</td>\n",
       "      <td>243.486735</td>\n",
       "      <td>14.42</td>\n",
       "      <td>-1.689632</td>\n",
       "      <td>11.599050</td>\n",
       "      <td>51.314965</td>\n",
       "      <td>54.81</td>\n",
       "      <td>0.011192</td>\n",
       "      <td>2.039112</td>\n",
       "      <td>0.406975</td>\n",
       "      <td>...</td>\n",
       "      <td>7.123702</td>\n",
       "      <td>4.995149</td>\n",
       "      <td>0</td>\n",
       "      <td>4.995149</td>\n",
       "      <td>11.11</td>\n",
       "      <td>-0.357283</td>\n",
       "      <td>5.01</td>\n",
       "      <td>-0.097733</td>\n",
       "      <td>0.225510</td>\n",
       "      <td>1</td>\n",
       "    </tr>\n",
       "    <tr>\n",
       "      <th>1</th>\n",
       "      <td>0.319531</td>\n",
       "      <td>194.060000</td>\n",
       "      <td>1.21</td>\n",
       "      <td>-0.187944</td>\n",
       "      <td>1.103907</td>\n",
       "      <td>128.588694</td>\n",
       "      <td>60.21</td>\n",
       "      <td>0.138439</td>\n",
       "      <td>2.688793</td>\n",
       "      <td>-0.307915</td>\n",
       "      <td>...</td>\n",
       "      <td>0.813950</td>\n",
       "      <td>0.402561</td>\n",
       "      <td>0</td>\n",
       "      <td>0.402561</td>\n",
       "      <td>1.05</td>\n",
       "      <td>1.389278</td>\n",
       "      <td>4.09</td>\n",
       "      <td>0.565220</td>\n",
       "      <td>0.289500</td>\n",
       "      <td>1</td>\n",
       "    </tr>\n",
       "    <tr>\n",
       "      <th>2</th>\n",
       "      <td>0.325576</td>\n",
       "      <td>104.441800</td>\n",
       "      <td>5.18</td>\n",
       "      <td>0.956788</td>\n",
       "      <td>2.745755</td>\n",
       "      <td>92.490039</td>\n",
       "      <td>86.88</td>\n",
       "      <td>0.681306</td>\n",
       "      <td>1.800819</td>\n",
       "      <td>0.766512</td>\n",
       "      <td>...</td>\n",
       "      <td>1.235816</td>\n",
       "      <td>1.517915</td>\n",
       "      <td>0</td>\n",
       "      <td>1.517915</td>\n",
       "      <td>3.65</td>\n",
       "      <td>0.755065</td>\n",
       "      <td>3.62</td>\n",
       "      <td>0.776466</td>\n",
       "      <td>0.200000</td>\n",
       "      <td>0</td>\n",
       "    </tr>\n",
       "    <tr>\n",
       "      <th>3</th>\n",
       "      <td>0.375366</td>\n",
       "      <td>237.212600</td>\n",
       "      <td>5.18</td>\n",
       "      <td>-0.428398</td>\n",
       "      <td>2.575385</td>\n",
       "      <td>52.261286</td>\n",
       "      <td>86.88</td>\n",
       "      <td>0.749411</td>\n",
       "      <td>1.754185</td>\n",
       "      <td>1.129921</td>\n",
       "      <td>...</td>\n",
       "      <td>3.053362</td>\n",
       "      <td>1.517915</td>\n",
       "      <td>0</td>\n",
       "      <td>1.517915</td>\n",
       "      <td>3.65</td>\n",
       "      <td>1.452462</td>\n",
       "      <td>6.59</td>\n",
       "      <td>-1.403647</td>\n",
       "      <td>0.199600</td>\n",
       "      <td>1</td>\n",
       "    </tr>\n",
       "    <tr>\n",
       "      <th>4</th>\n",
       "      <td>0.240416</td>\n",
       "      <td>260.619636</td>\n",
       "      <td>11.40</td>\n",
       "      <td>5.159116</td>\n",
       "      <td>3.753073</td>\n",
       "      <td>12.788584</td>\n",
       "      <td>54.32</td>\n",
       "      <td>-1.158870</td>\n",
       "      <td>2.981110</td>\n",
       "      <td>1.002690</td>\n",
       "      <td>...</td>\n",
       "      <td>3.604446</td>\n",
       "      <td>4.277748</td>\n",
       "      <td>0</td>\n",
       "      <td>4.277748</td>\n",
       "      <td>9.60</td>\n",
       "      <td>0.438490</td>\n",
       "      <td>5.38</td>\n",
       "      <td>-0.122112</td>\n",
       "      <td>0.329273</td>\n",
       "      <td>1</td>\n",
       "    </tr>\n",
       "  </tbody>\n",
       "</table>\n",
       "<p>5 rows × 22 columns</p>\n",
       "</div>"
      ],
      "text/plain": [
       "   dis_ballcarrier_tackler|min  o_standard_tackler|mean  ballcarrier_x_range  \\\n",
       "0                     0.353412               243.486735                14.42   \n",
       "1                     0.319531               194.060000                 1.21   \n",
       "2                     0.325576               104.441800                 5.18   \n",
       "3                     0.375366               237.212600                 5.18   \n",
       "4                     0.240416               260.619636                11.40   \n",
       "\n",
       "   o_standard_tackler|skew  dis_ballcarrier_tackler|mean  o_tackler|std  \\\n",
       "0                -1.689632                     11.599050      51.314965   \n",
       "1                -0.187944                      1.103907     128.588694   \n",
       "2                 0.956788                      2.745755      92.490039   \n",
       "3                -0.428398                      2.575385      52.261286   \n",
       "4                 5.159116                      3.753073      12.788584   \n",
       "\n",
       "   x_standard_ballcarrier|max  momentum_tackler|skew  s_tackler|mean  \\\n",
       "0                       54.81               0.011192        2.039112   \n",
       "1                       60.21               0.138439        2.688793   \n",
       "2                       86.88               0.681306        1.800819   \n",
       "3                       86.88               0.749411        1.754185   \n",
       "4                       54.32              -1.158870        2.981110   \n",
       "\n",
       "   power_tackler|skew  ...  dis_ballcarrier_tackler|std  \\\n",
       "0            0.406975  ...                     7.123702   \n",
       "1           -0.307915  ...                     0.813950   \n",
       "2            0.766512  ...                     1.235816   \n",
       "3            1.129921  ...                     3.053362   \n",
       "4            1.002690  ...                     3.604446   \n",
       "\n",
       "   x_standard_ballcarrier|std  assist|max  x_ballcarrier|std  \\\n",
       "0                    4.995149           0           4.995149   \n",
       "1                    0.402561           0           0.402561   \n",
       "2                    1.517915           0           1.517915   \n",
       "3                    1.517915           0           1.517915   \n",
       "4                    4.277748           0           4.277748   \n",
       "\n",
       "   ballcarrier_y_range  dis_ballcarrier_tackler|skew  tackler_x_range  \\\n",
       "0                11.11                     -0.357283             5.01   \n",
       "1                 1.05                      1.389278             4.09   \n",
       "2                 3.65                      0.755065             3.62   \n",
       "3                 3.65                      1.452462             6.59   \n",
       "4                 9.60                      0.438490             5.38   \n",
       "\n",
       "   y_standard_tackler|skew  dis_tackler|mean  tackle_assist_success  \n",
       "0                -0.097733          0.225510                      1  \n",
       "1                 0.565220          0.289500                      1  \n",
       "2                 0.776466          0.200000                      0  \n",
       "3                -1.403647          0.199600                      1  \n",
       "4                -0.122112          0.329273                      1  \n",
       "\n",
       "[5 rows x 22 columns]"
      ]
     },
     "execution_count": 3,
     "metadata": {},
     "output_type": "execute_result"
    }
   ],
   "source": [
    "# 读取列名文件\n",
    "with open(\"../../processed_dataset/final_features.txt\", \"r\") as file:\n",
    "    selected_columns = [line.strip() for line in file]\n",
    "\n",
    "# 添加'tackle_assist_success'列\n",
    "selected_columns.append('tackle_assist_success')\n",
    "\n",
    "# 在DataFrame中仅保留所选列\n",
    "df = df[selected_columns]\n",
    "\n",
    "df.head()"
   ]
  },
  {
   "cell_type": "code",
   "execution_count": 4,
   "metadata": {},
   "outputs": [
    {
     "name": "stderr",
     "output_type": "stream",
     "text": [
      "c:\\Users\\spdor\\anaconda3\\envs\\python_all\\lib\\site-packages\\sklearn\\linear_model\\_logistic.py:458: ConvergenceWarning: lbfgs failed to converge (status=1):\n",
      "STOP: TOTAL NO. of ITERATIONS REACHED LIMIT.\n",
      "\n",
      "Increase the number of iterations (max_iter) or scale the data as shown in:\n",
      "    https://scikit-learn.org/stable/modules/preprocessing.html\n",
      "Please also refer to the documentation for alternative solver options:\n",
      "    https://scikit-learn.org/stable/modules/linear_model.html#logistic-regression\n",
      "  n_iter_i = _check_optimize_result(\n",
      "c:\\Users\\spdor\\anaconda3\\envs\\python_all\\lib\\site-packages\\sklearn\\linear_model\\_logistic.py:458: ConvergenceWarning: lbfgs failed to converge (status=1):\n",
      "STOP: TOTAL NO. of ITERATIONS REACHED LIMIT.\n",
      "\n",
      "Increase the number of iterations (max_iter) or scale the data as shown in:\n",
      "    https://scikit-learn.org/stable/modules/preprocessing.html\n",
      "Please also refer to the documentation for alternative solver options:\n",
      "    https://scikit-learn.org/stable/modules/linear_model.html#logistic-regression\n",
      "  n_iter_i = _check_optimize_result(\n",
      "c:\\Users\\spdor\\anaconda3\\envs\\python_all\\lib\\site-packages\\sklearn\\linear_model\\_logistic.py:458: ConvergenceWarning: lbfgs failed to converge (status=1):\n",
      "STOP: TOTAL NO. of ITERATIONS REACHED LIMIT.\n",
      "\n",
      "Increase the number of iterations (max_iter) or scale the data as shown in:\n",
      "    https://scikit-learn.org/stable/modules/preprocessing.html\n",
      "Please also refer to the documentation for alternative solver options:\n",
      "    https://scikit-learn.org/stable/modules/linear_model.html#logistic-regression\n",
      "  n_iter_i = _check_optimize_result(\n",
      "c:\\Users\\spdor\\anaconda3\\envs\\python_all\\lib\\site-packages\\sklearn\\linear_model\\_logistic.py:458: ConvergenceWarning: lbfgs failed to converge (status=1):\n",
      "STOP: TOTAL NO. of ITERATIONS REACHED LIMIT.\n",
      "\n",
      "Increase the number of iterations (max_iter) or scale the data as shown in:\n",
      "    https://scikit-learn.org/stable/modules/preprocessing.html\n",
      "Please also refer to the documentation for alternative solver options:\n",
      "    https://scikit-learn.org/stable/modules/linear_model.html#logistic-regression\n",
      "  n_iter_i = _check_optimize_result(\n",
      "c:\\Users\\spdor\\anaconda3\\envs\\python_all\\lib\\site-packages\\sklearn\\linear_model\\_logistic.py:458: ConvergenceWarning: lbfgs failed to converge (status=1):\n",
      "STOP: TOTAL NO. of ITERATIONS REACHED LIMIT.\n",
      "\n",
      "Increase the number of iterations (max_iter) or scale the data as shown in:\n",
      "    https://scikit-learn.org/stable/modules/preprocessing.html\n",
      "Please also refer to the documentation for alternative solver options:\n",
      "    https://scikit-learn.org/stable/modules/linear_model.html#logistic-regression\n",
      "  n_iter_i = _check_optimize_result(\n"
     ]
    },
    {
     "data": {
      "application/vnd.plotly.v1+json": {
       "config": {
        "plotlyServerURL": "https://plot.ly"
       },
       "data": [
        {
         "alignmentgroup": "True",
         "hovertemplate": "分类器=%{x}<br>得分=%{y}<extra></extra>",
         "legendgroup": "",
         "marker": {
          "color": "#636efa"
         },
         "name": "",
         "notched": false,
         "offsetgroup": "",
         "orientation": "v",
         "showlegend": false,
         "type": "box",
         "x": [
          "k-NN",
          "k-NN",
          "k-NN",
          "k-NN",
          "k-NN",
          "Logistic Regression",
          "Logistic Regression",
          "Logistic Regression",
          "Logistic Regression",
          "Logistic Regression",
          "Random Forest",
          "Random Forest",
          "Random Forest",
          "Random Forest",
          "Random Forest",
          "SVM",
          "SVM",
          "SVM",
          "SVM",
          "SVM",
          "AdaBoost",
          "AdaBoost",
          "AdaBoost",
          "AdaBoost",
          "AdaBoost",
          "Neural Network",
          "Neural Network",
          "Neural Network",
          "Neural Network",
          "Neural Network"
         ],
         "x0": " ",
         "xaxis": "x",
         "y": [
          0.8319415448851775,
          0.8319415448851775,
          0.8345511482254697,
          0.8329853862212944,
          0.829242819843342,
          0.8627348643006263,
          0.8606471816283925,
          0.8611691022964509,
          0.872651356993737,
          0.8626631853785901,
          0.8982254697286013,
          0.9024008350730689,
          0.8956158663883089,
          0.894572025052192,
          0.8986945169712793,
          0.8282881002087683,
          0.8298538622129437,
          0.8288100208768268,
          0.8293319415448852,
          0.829242819843342,
          0.8919624217118998,
          0.8935281837160751,
          0.9018789144050104,
          0.8924843423799582,
          0.8924281984334204,
          0.8950939457202505,
          0.8919624217118998,
          0.8966597077244259,
          0.8909185803757829,
          0.8877284595300261
         ],
         "y0": " ",
         "yaxis": "y"
        }
       ],
       "layout": {
        "boxmode": "group",
        "legend": {
         "tracegroupgap": 0
        },
        "template": {
         "data": {
          "bar": [
           {
            "error_x": {
             "color": "#2a3f5f"
            },
            "error_y": {
             "color": "#2a3f5f"
            },
            "marker": {
             "line": {
              "color": "#E5ECF6",
              "width": 0.5
             },
             "pattern": {
              "fillmode": "overlay",
              "size": 10,
              "solidity": 0.2
             }
            },
            "type": "bar"
           }
          ],
          "barpolar": [
           {
            "marker": {
             "line": {
              "color": "#E5ECF6",
              "width": 0.5
             },
             "pattern": {
              "fillmode": "overlay",
              "size": 10,
              "solidity": 0.2
             }
            },
            "type": "barpolar"
           }
          ],
          "carpet": [
           {
            "aaxis": {
             "endlinecolor": "#2a3f5f",
             "gridcolor": "white",
             "linecolor": "white",
             "minorgridcolor": "white",
             "startlinecolor": "#2a3f5f"
            },
            "baxis": {
             "endlinecolor": "#2a3f5f",
             "gridcolor": "white",
             "linecolor": "white",
             "minorgridcolor": "white",
             "startlinecolor": "#2a3f5f"
            },
            "type": "carpet"
           }
          ],
          "choropleth": [
           {
            "colorbar": {
             "outlinewidth": 0,
             "ticks": ""
            },
            "type": "choropleth"
           }
          ],
          "contour": [
           {
            "colorbar": {
             "outlinewidth": 0,
             "ticks": ""
            },
            "colorscale": [
             [
              0,
              "#0d0887"
             ],
             [
              0.1111111111111111,
              "#46039f"
             ],
             [
              0.2222222222222222,
              "#7201a8"
             ],
             [
              0.3333333333333333,
              "#9c179e"
             ],
             [
              0.4444444444444444,
              "#bd3786"
             ],
             [
              0.5555555555555556,
              "#d8576b"
             ],
             [
              0.6666666666666666,
              "#ed7953"
             ],
             [
              0.7777777777777778,
              "#fb9f3a"
             ],
             [
              0.8888888888888888,
              "#fdca26"
             ],
             [
              1,
              "#f0f921"
             ]
            ],
            "type": "contour"
           }
          ],
          "contourcarpet": [
           {
            "colorbar": {
             "outlinewidth": 0,
             "ticks": ""
            },
            "type": "contourcarpet"
           }
          ],
          "heatmap": [
           {
            "colorbar": {
             "outlinewidth": 0,
             "ticks": ""
            },
            "colorscale": [
             [
              0,
              "#0d0887"
             ],
             [
              0.1111111111111111,
              "#46039f"
             ],
             [
              0.2222222222222222,
              "#7201a8"
             ],
             [
              0.3333333333333333,
              "#9c179e"
             ],
             [
              0.4444444444444444,
              "#bd3786"
             ],
             [
              0.5555555555555556,
              "#d8576b"
             ],
             [
              0.6666666666666666,
              "#ed7953"
             ],
             [
              0.7777777777777778,
              "#fb9f3a"
             ],
             [
              0.8888888888888888,
              "#fdca26"
             ],
             [
              1,
              "#f0f921"
             ]
            ],
            "type": "heatmap"
           }
          ],
          "heatmapgl": [
           {
            "colorbar": {
             "outlinewidth": 0,
             "ticks": ""
            },
            "colorscale": [
             [
              0,
              "#0d0887"
             ],
             [
              0.1111111111111111,
              "#46039f"
             ],
             [
              0.2222222222222222,
              "#7201a8"
             ],
             [
              0.3333333333333333,
              "#9c179e"
             ],
             [
              0.4444444444444444,
              "#bd3786"
             ],
             [
              0.5555555555555556,
              "#d8576b"
             ],
             [
              0.6666666666666666,
              "#ed7953"
             ],
             [
              0.7777777777777778,
              "#fb9f3a"
             ],
             [
              0.8888888888888888,
              "#fdca26"
             ],
             [
              1,
              "#f0f921"
             ]
            ],
            "type": "heatmapgl"
           }
          ],
          "histogram": [
           {
            "marker": {
             "pattern": {
              "fillmode": "overlay",
              "size": 10,
              "solidity": 0.2
             }
            },
            "type": "histogram"
           }
          ],
          "histogram2d": [
           {
            "colorbar": {
             "outlinewidth": 0,
             "ticks": ""
            },
            "colorscale": [
             [
              0,
              "#0d0887"
             ],
             [
              0.1111111111111111,
              "#46039f"
             ],
             [
              0.2222222222222222,
              "#7201a8"
             ],
             [
              0.3333333333333333,
              "#9c179e"
             ],
             [
              0.4444444444444444,
              "#bd3786"
             ],
             [
              0.5555555555555556,
              "#d8576b"
             ],
             [
              0.6666666666666666,
              "#ed7953"
             ],
             [
              0.7777777777777778,
              "#fb9f3a"
             ],
             [
              0.8888888888888888,
              "#fdca26"
             ],
             [
              1,
              "#f0f921"
             ]
            ],
            "type": "histogram2d"
           }
          ],
          "histogram2dcontour": [
           {
            "colorbar": {
             "outlinewidth": 0,
             "ticks": ""
            },
            "colorscale": [
             [
              0,
              "#0d0887"
             ],
             [
              0.1111111111111111,
              "#46039f"
             ],
             [
              0.2222222222222222,
              "#7201a8"
             ],
             [
              0.3333333333333333,
              "#9c179e"
             ],
             [
              0.4444444444444444,
              "#bd3786"
             ],
             [
              0.5555555555555556,
              "#d8576b"
             ],
             [
              0.6666666666666666,
              "#ed7953"
             ],
             [
              0.7777777777777778,
              "#fb9f3a"
             ],
             [
              0.8888888888888888,
              "#fdca26"
             ],
             [
              1,
              "#f0f921"
             ]
            ],
            "type": "histogram2dcontour"
           }
          ],
          "mesh3d": [
           {
            "colorbar": {
             "outlinewidth": 0,
             "ticks": ""
            },
            "type": "mesh3d"
           }
          ],
          "parcoords": [
           {
            "line": {
             "colorbar": {
              "outlinewidth": 0,
              "ticks": ""
             }
            },
            "type": "parcoords"
           }
          ],
          "pie": [
           {
            "automargin": true,
            "type": "pie"
           }
          ],
          "scatter": [
           {
            "fillpattern": {
             "fillmode": "overlay",
             "size": 10,
             "solidity": 0.2
            },
            "type": "scatter"
           }
          ],
          "scatter3d": [
           {
            "line": {
             "colorbar": {
              "outlinewidth": 0,
              "ticks": ""
             }
            },
            "marker": {
             "colorbar": {
              "outlinewidth": 0,
              "ticks": ""
             }
            },
            "type": "scatter3d"
           }
          ],
          "scattercarpet": [
           {
            "marker": {
             "colorbar": {
              "outlinewidth": 0,
              "ticks": ""
             }
            },
            "type": "scattercarpet"
           }
          ],
          "scattergeo": [
           {
            "marker": {
             "colorbar": {
              "outlinewidth": 0,
              "ticks": ""
             }
            },
            "type": "scattergeo"
           }
          ],
          "scattergl": [
           {
            "marker": {
             "colorbar": {
              "outlinewidth": 0,
              "ticks": ""
             }
            },
            "type": "scattergl"
           }
          ],
          "scattermapbox": [
           {
            "marker": {
             "colorbar": {
              "outlinewidth": 0,
              "ticks": ""
             }
            },
            "type": "scattermapbox"
           }
          ],
          "scatterpolar": [
           {
            "marker": {
             "colorbar": {
              "outlinewidth": 0,
              "ticks": ""
             }
            },
            "type": "scatterpolar"
           }
          ],
          "scatterpolargl": [
           {
            "marker": {
             "colorbar": {
              "outlinewidth": 0,
              "ticks": ""
             }
            },
            "type": "scatterpolargl"
           }
          ],
          "scatterternary": [
           {
            "marker": {
             "colorbar": {
              "outlinewidth": 0,
              "ticks": ""
             }
            },
            "type": "scatterternary"
           }
          ],
          "surface": [
           {
            "colorbar": {
             "outlinewidth": 0,
             "ticks": ""
            },
            "colorscale": [
             [
              0,
              "#0d0887"
             ],
             [
              0.1111111111111111,
              "#46039f"
             ],
             [
              0.2222222222222222,
              "#7201a8"
             ],
             [
              0.3333333333333333,
              "#9c179e"
             ],
             [
              0.4444444444444444,
              "#bd3786"
             ],
             [
              0.5555555555555556,
              "#d8576b"
             ],
             [
              0.6666666666666666,
              "#ed7953"
             ],
             [
              0.7777777777777778,
              "#fb9f3a"
             ],
             [
              0.8888888888888888,
              "#fdca26"
             ],
             [
              1,
              "#f0f921"
             ]
            ],
            "type": "surface"
           }
          ],
          "table": [
           {
            "cells": {
             "fill": {
              "color": "#EBF0F8"
             },
             "line": {
              "color": "white"
             }
            },
            "header": {
             "fill": {
              "color": "#C8D4E3"
             },
             "line": {
              "color": "white"
             }
            },
            "type": "table"
           }
          ]
         },
         "layout": {
          "annotationdefaults": {
           "arrowcolor": "#2a3f5f",
           "arrowhead": 0,
           "arrowwidth": 1
          },
          "autotypenumbers": "strict",
          "coloraxis": {
           "colorbar": {
            "outlinewidth": 0,
            "ticks": ""
           }
          },
          "colorscale": {
           "diverging": [
            [
             0,
             "#8e0152"
            ],
            [
             0.1,
             "#c51b7d"
            ],
            [
             0.2,
             "#de77ae"
            ],
            [
             0.3,
             "#f1b6da"
            ],
            [
             0.4,
             "#fde0ef"
            ],
            [
             0.5,
             "#f7f7f7"
            ],
            [
             0.6,
             "#e6f5d0"
            ],
            [
             0.7,
             "#b8e186"
            ],
            [
             0.8,
             "#7fbc41"
            ],
            [
             0.9,
             "#4d9221"
            ],
            [
             1,
             "#276419"
            ]
           ],
           "sequential": [
            [
             0,
             "#0d0887"
            ],
            [
             0.1111111111111111,
             "#46039f"
            ],
            [
             0.2222222222222222,
             "#7201a8"
            ],
            [
             0.3333333333333333,
             "#9c179e"
            ],
            [
             0.4444444444444444,
             "#bd3786"
            ],
            [
             0.5555555555555556,
             "#d8576b"
            ],
            [
             0.6666666666666666,
             "#ed7953"
            ],
            [
             0.7777777777777778,
             "#fb9f3a"
            ],
            [
             0.8888888888888888,
             "#fdca26"
            ],
            [
             1,
             "#f0f921"
            ]
           ],
           "sequentialminus": [
            [
             0,
             "#0d0887"
            ],
            [
             0.1111111111111111,
             "#46039f"
            ],
            [
             0.2222222222222222,
             "#7201a8"
            ],
            [
             0.3333333333333333,
             "#9c179e"
            ],
            [
             0.4444444444444444,
             "#bd3786"
            ],
            [
             0.5555555555555556,
             "#d8576b"
            ],
            [
             0.6666666666666666,
             "#ed7953"
            ],
            [
             0.7777777777777778,
             "#fb9f3a"
            ],
            [
             0.8888888888888888,
             "#fdca26"
            ],
            [
             1,
             "#f0f921"
            ]
           ]
          },
          "colorway": [
           "#636efa",
           "#EF553B",
           "#00cc96",
           "#ab63fa",
           "#FFA15A",
           "#19d3f3",
           "#FF6692",
           "#B6E880",
           "#FF97FF",
           "#FECB52"
          ],
          "font": {
           "color": "#2a3f5f"
          },
          "geo": {
           "bgcolor": "white",
           "lakecolor": "white",
           "landcolor": "#E5ECF6",
           "showlakes": true,
           "showland": true,
           "subunitcolor": "white"
          },
          "hoverlabel": {
           "align": "left"
          },
          "hovermode": "closest",
          "mapbox": {
           "style": "light"
          },
          "paper_bgcolor": "white",
          "plot_bgcolor": "#E5ECF6",
          "polar": {
           "angularaxis": {
            "gridcolor": "white",
            "linecolor": "white",
            "ticks": ""
           },
           "bgcolor": "#E5ECF6",
           "radialaxis": {
            "gridcolor": "white",
            "linecolor": "white",
            "ticks": ""
           }
          },
          "scene": {
           "xaxis": {
            "backgroundcolor": "#E5ECF6",
            "gridcolor": "white",
            "gridwidth": 2,
            "linecolor": "white",
            "showbackground": true,
            "ticks": "",
            "zerolinecolor": "white"
           },
           "yaxis": {
            "backgroundcolor": "#E5ECF6",
            "gridcolor": "white",
            "gridwidth": 2,
            "linecolor": "white",
            "showbackground": true,
            "ticks": "",
            "zerolinecolor": "white"
           },
           "zaxis": {
            "backgroundcolor": "#E5ECF6",
            "gridcolor": "white",
            "gridwidth": 2,
            "linecolor": "white",
            "showbackground": true,
            "ticks": "",
            "zerolinecolor": "white"
           }
          },
          "shapedefaults": {
           "line": {
            "color": "#2a3f5f"
           }
          },
          "ternary": {
           "aaxis": {
            "gridcolor": "white",
            "linecolor": "white",
            "ticks": ""
           },
           "baxis": {
            "gridcolor": "white",
            "linecolor": "white",
            "ticks": ""
           },
           "bgcolor": "#E5ECF6",
           "caxis": {
            "gridcolor": "white",
            "linecolor": "white",
            "ticks": ""
           }
          },
          "title": {
           "x": 0.05
          },
          "xaxis": {
           "automargin": true,
           "gridcolor": "white",
           "linecolor": "white",
           "ticks": "",
           "title": {
            "standoff": 15
           },
           "zerolinecolor": "white",
           "zerolinewidth": 2
          },
          "yaxis": {
           "automargin": true,
           "gridcolor": "white",
           "linecolor": "white",
           "ticks": "",
           "title": {
            "standoff": 15
           },
           "zerolinecolor": "white",
           "zerolinewidth": 2
          }
         }
        },
        "title": {
         "text": "不同分类器的交叉验证得分"
        },
        "xaxis": {
         "anchor": "y",
         "domain": [
          0,
          1
         ],
         "title": {
          "text": "分类器"
         }
        },
        "yaxis": {
         "anchor": "x",
         "domain": [
          0,
          1
         ],
         "title": {
          "text": "得分"
         }
        }
       }
      }
     },
     "metadata": {},
     "output_type": "display_data"
    }
   ],
   "source": [
    "# 划分特征和目标列\n",
    "X = df.drop(columns=['tackle_assist_success'])\n",
    "y = df['tackle_assist_success']\n",
    "\n",
    "# 将'tackle_assist_success'列转换为二进制分类目标\n",
    "threshold = 0.5\n",
    "y = (y > threshold).astype(int)\n",
    "\n",
    "# 划分数据集为80%训练集和20%验证集\n",
    "X_train, X_valid, y_train, y_valid = train_test_split(X, y, test_size=0.2, random_state=42)\n",
    "\n",
    "# 初始化不同的分类器\n",
    "classifiers = {\n",
    "    'k-NN': KNeighborsClassifier(),\n",
    "    'Logistic Regression': LogisticRegression(),\n",
    "    'Random Forest': RandomForestClassifier(),\n",
    "    'SVM': SVC(),\n",
    "    'AdaBoost': AdaBoostClassifier(),\n",
    "    'Neural Network': MLPClassifier()\n",
    "}\n",
    "\n",
    "# 存储不同分类器的交叉验证得分\n",
    "scores = {}\n",
    "\n",
    "for clf_name, clf in classifiers.items():\n",
    "    # 计算交叉验证得分\n",
    "    cv_scores = cross_val_score(clf, X_train, y_train, cv=5)\n",
    "    scores[clf_name] = cv_scores\n",
    "\n",
    "# 将得分数据转换为DataFrame\n",
    "scores_df = pd.DataFrame(scores)\n",
    "\n",
    "# 使用Plotly绘制箱型图\n",
    "fig = px.box(scores_df, title='不同分类器的交叉验证得分',\n",
    "             labels={'variable': '分类器', 'value': '得分'},\n",
    "             boxmode='group')\n",
    "\n",
    "# 显示图形\n",
    "fig.show()"
   ]
  },
  {
   "cell_type": "code",
   "execution_count": 5,
   "metadata": {},
   "outputs": [],
   "source": [
    "# # 划分特征和目标列\n",
    "# X = df.drop(columns=['tackle_assist_success'])\n",
    "# y = df['tackle_assist_success']\n",
    "\n",
    "# # 划分数据集为80%训练集和20%验证集\n",
    "# X_train, X_valid, y_train, y_valid = train_test_split(X, y, test_size=0.2, random_state=42)\n",
    "\n",
    "# seed = 7\n",
    "# models = []\n",
    "\n",
    "# models.append(('KNN', KNeighborsClassifier())),\n",
    "# models.append(('Logistic Regression', LogisticRegression())),\n",
    "# models.append(('Random Forest', RandomForestClassifier())),\n",
    "# models.append(('SVM', SVC())),\n",
    "# models.append(('AdaBoost', AdaBoostClassifier())),\n",
    "# models.append(('MLP', MLPClassifier())),\n",
    "\n",
    "# results = []\n",
    "# names = []\n",
    "# scoring = 'accuracy'\n",
    "\n",
    "# # 训练和评估不同分类器\n",
    "# for name, model in models:\n",
    "# \tkfold = model_selection.KFold(n_splits=10, shuffle=True)\n",
    "# \tcv_results = model_selection.cross_val_score(model, X, y, cv=kfold, scoring=scoring)\n",
    "# \tresults.append(cv_results)\n",
    "# \tnames.append(name)\n",
    "# \tmsg = \"%s准确度————平均：%f 标准差(%f)\" % (name, cv_results.mean(), cv_results.std())\n",
    "# \tprint(msg)\n",
    "\n",
    "# # 将结果转换为DataFrame\n",
    "# results_df = pd.DataFrame(results)\n",
    "\n",
    "# # 使用Plotly绘制箱型图\n",
    "# fig = px.box(results_df, x='Classifier', y='Accuracy', title='不同分类器的准确度比较')\n",
    "# fig.show()"
   ]
  },
  {
   "cell_type": "code",
   "execution_count": null,
   "metadata": {},
   "outputs": [],
   "source": []
  }
 ],
 "metadata": {
  "kernelspec": {
   "display_name": "python_all",
   "language": "python",
   "name": "python3"
  },
  "language_info": {
   "codemirror_mode": {
    "name": "ipython",
    "version": 3
   },
   "file_extension": ".py",
   "mimetype": "text/x-python",
   "name": "python",
   "nbconvert_exporter": "python",
   "pygments_lexer": "ipython3",
   "version": "3.8.16"
  }
 },
 "nbformat": 4,
 "nbformat_minor": 2
}
