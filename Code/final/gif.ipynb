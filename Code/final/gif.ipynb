{
 "cells": [
  {
   "cell_type": "code",
   "execution_count": 6,
   "metadata": {
    "ExecuteTime": {
     "end_time": "2023-12-20T19:02:45.748099Z",
     "start_time": "2023-12-20T19:02:44.288412100Z"
    }
   },
   "outputs": [],
   "source": [
    "import pandas as pd\n",
    "import plotly.graph_objs as go\n",
    "import ipywidgets as widgets\n",
    "from IPython.display import display\n",
    "\n",
    "# 读取数据\n",
    "df = pd.read_csv('../../../Dataset/tracking_week_1.csv')"
   ]
  },
  {
   "cell_type": "code",
   "execution_count": 7,
   "outputs": [],
   "source": [
    "# 筛选特定的gameId和playId\n",
    "def filter_data(df, game_id, play_id):\n",
    "    return df[(df['gameId'] == game_id) & (df['playId'] == play_id)]\n",
    "\n",
    "# # 示例的gameId和playId\n",
    "# game_id_example = 2022090800\n",
    "# play_id_example = 56\n",
    "# \n",
    "# # 筛选数据\n",
    "# filtered_df = filter_data(df, game_id_example, play_id_example)\n",
    "# filtered_df.head()\n",
    "# # filtered_df.to_csv('filtered_df.csv')"
   ],
   "metadata": {
    "collapsed": false,
    "ExecuteTime": {
     "end_time": "2023-12-20T19:02:45.763833500Z",
     "start_time": "2023-12-20T19:02:45.752105100Z"
    }
   }
  },
  {
   "cell_type": "code",
   "execution_count": 8,
   "outputs": [],
   "source": [
    "# 绘制球场\n",
    "import plotly.graph_objects as go\n",
    "\n",
    "def draw_detailed_football_field():\n",
    "    field_shapes = []\n",
    "    field_annotations = []\n",
    "\n",
    "    # field_shapes.append(go.layout.Shape(type=\"rect\", x0=0, y0=0, x1=120, y1=53.3, line=dict(color=\"white\"), fillcolor='green'))\n",
    "    # field_shapes.append(go.layout.Shape(type=\"rect\", x0=0, y0=0, x1=10, y1=53.3, line=dict(color=\"white\"), fillcolor='darkgreen'))\n",
    "    # field_shapes.append(go.layout.Shape(type=\"rect\", x0=110, y0=0, x1=120, y1=53.3, line=dict(color=\"white\"), fillcolor='darkgreen'))\n",
    "    \n",
    "    field_shapes.append(go.layout.Shape(type=\"rect\", x0=0, y0=0, x1=120, y1=53.3, line=dict(color=\"white\")))\n",
    "    field_shapes.append(go.layout.Shape(type=\"rect\", x0=0, y0=0, x1=10, y1=53.3, line=dict(color=\"white\")))\n",
    "    field_shapes.append(go.layout.Shape(type=\"rect\", x0=110, y0=0, x1=120, y1=53.3, line=dict(color=\"white\")))\n",
    "\n",
    "    # 增加码线和小标记线\n",
    "    for line in range(10, 110, 5):\n",
    "        # 码线\n",
    "        field_shapes.append(go.layout.Shape(type=\"line\", x0=line, y0=0, x1=line, y1=53.3, line=dict(color=\"white\")))\n",
    "        # 小标记线\n",
    "        gate = 26.65\n",
    "        dis = 31 - gate\n",
    "        base = 1\n",
    "        for mark in range(line + 1, line + 5):\n",
    "            field_shapes.append(go.layout.Shape(type=\"line\", x0=mark, y0=gate+dis, x1=mark, y1=gate+dis+1.5, line=dict(color=\"white\", width=3)))\n",
    "            field_shapes.append(go.layout.Shape(type=\"line\", x0=mark, y0=gate-dis, x1=mark, y1=gate-dis-1.5, line=dict(color=\"white\", width=3)))\n",
    "            field_shapes.append(go.layout.Shape(type=\"line\", x0=mark, y0=base, x1=mark, y1=base+1.5, line=dict(color=\"white\", width=3)))\n",
    "            field_shapes.append(go.layout.Shape(type=\"line\", x0=mark, y0=53.3-base, x1=mark, y1=53.3-base-1.5, line=dict(color=\"white\", width=3)))\n",
    "\n",
    "    # 码数\n",
    "    for i in range(10, 100, 10):\n",
    "        number = str(i) if i <= 50 else str(100 - i)\n",
    "        field_annotations.append(go.layout.Annotation(x=i+10, y=8, text=number, showarrow=False, font=dict(size=30, family=\"Din\", color=\"white\")))\n",
    "        field_annotations.append(go.layout.Annotation(x=i+10, y=44, text=number, showarrow=False, font=dict(size=30, family=\"Din\", color=\"white\")))\n",
    "        \n",
    "        # 进攻方向\n",
    "        if i < 50:\n",
    "            field_annotations.append(go.layout.Annotation(x=i+8, y=8, text=\"◀\", showarrow=False, font=dict(size=10, color=\"white\")))\n",
    "            field_annotations.append(go.layout.Annotation(x=i+8, y=44, text=\"◀\", showarrow=False, font=dict(size=10, color=\"white\")))\n",
    "        elif i > 50:\n",
    "            field_annotations.append(go.layout.Annotation(x=i+12, y=8, text=\"▶\", showarrow=False, font=dict(size=10, color=\"white\")))\n",
    "            field_annotations.append(go.layout.Annotation(x=i+12, y=44, text=\"▶\", showarrow=False, font=dict(size=10, color=\"white\")))\n",
    "            \n",
    "    # 球门\n",
    "    field_annotations.append(go.layout.Annotation(x=0, y=26.65, text=\"| |\", showarrow=False, font=dict(size=30, color=\"white\")))\n",
    "    field_annotations.append(go.layout.Annotation(x=120, y=26.65, text=\"| |\", showarrow=False, font=dict(size=30, color=\"white\")))\n",
    "\n",
    "    return field_shapes, field_annotations"
   ],
   "metadata": {
    "collapsed": false,
    "ExecuteTime": {
     "end_time": "2023-12-20T19:02:45.781985900Z",
     "start_time": "2023-12-20T19:02:45.772362300Z"
    }
   }
  },
  {
   "cell_type": "code",
   "execution_count": 9,
   "outputs": [],
   "source": [
    "# 绘制动画\n",
    "def create_animation(filtered_df, initial_frame):\n",
    "    # 获取详细的足球场地形状和注释\n",
    "    field_shapes, field_annotations = draw_detailed_football_field()\n",
    "\n",
    "    # 确定两支球队的名称\n",
    "    team_colors = {}\n",
    "    team_names = filtered_df['club'].unique()\n",
    "    \n",
    "    for team in team_names:\n",
    "        if team != 'football':\n",
    "            if not team_colors:  \n",
    "                team_colors[team] = 'blue'\n",
    "            else:  \n",
    "                team_colors[team] = 'red'\n",
    "    \n",
    "    team_colors['football'] = 'green'\n",
    "\n",
    "    # 定义图形布局\n",
    "    fig = go.Figure(\n",
    "        layout=go.Layout(\n",
    "            shapes=field_shapes,  # 添加场地形状\n",
    "            annotations=field_annotations,\n",
    "            xaxis=dict(range=[0, 120], autorange=False, showgrid=False, showticklabels=False),\n",
    "            yaxis=dict(range=[0, 53.3], autorange=False, showgrid=False, showticklabels=False),\n",
    "            updatemenus=[dict(\n",
    "                type=\"buttons\",\n",
    "                showactive=False,\n",
    "                buttons=[dict(\n",
    "                    label=\"Play\",\n",
    "                    method=\"animate\",\n",
    "                    args=[None, dict(frame=dict(duration=50, redraw=True), fromcurrent=True)]\n",
    "                )]\n",
    "            )],\n",
    "            sliders=[dict(\n",
    "                steps=[dict(method='animate', args=[[f'{k}'],\n",
    "                                                    dict(mode='immediate', frame=dict(duration=50, redraw=True), fromcurrent=True)],\n",
    "                     label=f'{k}')\n",
    "                       for k in filtered_df['frameId'].unique()],\n",
    "                transition=dict(duration=0),\n",
    "                x=0,\n",
    "                y=0,\n",
    "                currentvalue=dict(font=dict(size=12), prefix='Frame: ', visible=True),\n",
    "                len=1.0\n",
    "            )]\n",
    "        )\n",
    "    )\n",
    "\n",
    "    # 为每个帧创建数据集，区分主队和客队\n",
    "    frames = []\n",
    "    for frame_number, frame_data in filtered_df.groupby('frameId'):\n",
    "        frame_traces = []\n",
    "        for club, data in frame_data.groupby('club'):\n",
    "            color = team_colors[club]\n",
    "            frame_traces.append(go.Scatter(\n",
    "                x=data['x'], y=data['y'], mode='markers+text',\n",
    "                text=data['nflId'], name=club,\n",
    "                marker=dict(color=color, size=10),\n",
    "                textfont=dict(color=color),\n",
    "                textposition='bottom center'\n",
    "            ))\n",
    "        frames.append(go.Frame(data=frame_traces, name=str(frame_number)))\n",
    "\n",
    "    # 将帧添加到图形中\n",
    "    fig.frames = frames\n",
    "\n",
    "    # 添加初始位置的球员散点图\n",
    "    for club, data in initial_frame.groupby('club'):\n",
    "        color = team_colors[club]\n",
    "        fig.add_trace(go.Scatter(\n",
    "            x=data['x'], y=data['y'], mode='markers+text',\n",
    "            text=data['nflId'], name=club,\n",
    "            marker=dict(color=color, size=10),\n",
    "            textfont=dict(color=color),\n",
    "            textposition='bottom center'\n",
    "        ))\n",
    "\n",
    "    # 设置动画\n",
    "    fig.update_layout(transition=dict(duration=50), title=\"一次进攻的动态图\")\n",
    "\n",
    "    return fig\n",
    "\n"
   ],
   "metadata": {
    "collapsed": false,
    "ExecuteTime": {
     "end_time": "2023-12-20T19:02:45.793502800Z",
     "start_time": "2023-12-20T19:02:45.785491700Z"
    }
   }
  },
  {
   "cell_type": "code",
   "execution_count": 10,
   "outputs": [
    {
     "data": {
      "text/plain": "Text(value='2022090800', description='Game ID:')",
      "application/vnd.jupyter.widget-view+json": {
       "version_major": 2,
       "version_minor": 0,
       "model_id": "1b9339b0850d42319fbd53c07471c576"
      }
     },
     "metadata": {},
     "output_type": "display_data"
    },
    {
     "data": {
      "text/plain": "Text(value='56', description='Play ID:')",
      "application/vnd.jupyter.widget-view+json": {
       "version_major": 2,
       "version_minor": 0,
       "model_id": "38e8e54b291943b4b6c4d429f1042718"
      }
     },
     "metadata": {},
     "output_type": "display_data"
    },
    {
     "data": {
      "text/plain": "Button(description='Generate Visualization', style=ButtonStyle())",
      "application/vnd.jupyter.widget-view+json": {
       "version_major": 2,
       "version_minor": 0,
       "model_id": "c2161775712342a1bac5b2f7c273ffeb"
      }
     },
     "metadata": {},
     "output_type": "display_data"
    },
    {
     "data": {
      "text/plain": "Output()",
      "application/vnd.jupyter.widget-view+json": {
       "version_major": 2,
       "version_minor": 0,
       "model_id": "b226960e3ca24ba7bd5302c5fb7ab20c"
      }
     },
     "metadata": {},
     "output_type": "display_data"
    }
   ],
   "source": [
    "# 文本框用于输入 gameId 和 playId\n",
    "game_id_input = widgets.Text(\n",
    "    value='2022090800',  # 示例的gameId\n",
    "    description='Game ID:',\n",
    "    disabled=False\n",
    ")\n",
    "\n",
    "play_id_input = widgets.Text(\n",
    "    value='56',  # 示例的playId\n",
    "    description='Play ID:',\n",
    "    disabled=False\n",
    ")\n",
    "\n",
    "# 按钮用于触发可视化\n",
    "button = widgets.Button(description=\"Generate Visualization\")\n",
    "\n",
    "# 输出区域\n",
    "output = widgets.Output()\n",
    "\n",
    "def on_button_clicked(b):\n",
    "    with output:\n",
    "        output.clear_output()\n",
    "        # 获取用户输入的 gameId 和 playId\n",
    "        game_id = int(game_id_input.value)\n",
    "        play_id = int(play_id_input.value)\n",
    "        \n",
    "        # 筛选数据\n",
    "        filtered_df = filter_data(df, game_id, play_id)\n",
    "        initial_frame = filtered_df[filtered_df['frameId'] == filtered_df['frameId'].min()]\n",
    "        \n",
    "        # 生成并显示图形\n",
    "        fig = create_animation(filtered_df, initial_frame)\n",
    "        fig.show()\n",
    "\n",
    "button.on_click(on_button_clicked)\n",
    "\n",
    "# 显示界面\n",
    "display(game_id_input, play_id_input, button, output)"
   ],
   "metadata": {
    "collapsed": false,
    "ExecuteTime": {
     "end_time": "2023-12-20T19:02:45.827569300Z",
     "start_time": "2023-12-20T19:02:45.798014600Z"
    }
   }
  }
 ],
 "metadata": {
  "kernelspec": {
   "display_name": "Python 3 (ipykernel)",
   "language": "python",
   "name": "python3"
  },
  "language_info": {
   "codemirror_mode": {
    "name": "ipython",
    "version": 3
   },
   "file_extension": ".py",
   "mimetype": "text/x-python",
   "name": "python",
   "nbconvert_exporter": "python",
   "pygments_lexer": "ipython3",
   "version": "3.10.9"
  }
 },
 "nbformat": 4,
 "nbformat_minor": 2
}
