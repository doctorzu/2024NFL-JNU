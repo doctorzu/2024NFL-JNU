{
 "cells": [
  {
   "cell_type": "markdown",
   "metadata": {},
   "source": [
    "### <font color='289C4E'>目录</font><a class='anchor' id='top'></a>\n",
    "- [导入数据](#1)\n",
    "- [标准化方向数据](#2)\n",
    "- [合并数据](#3)\n",
    "- [创建比赛摘要](#4)\n",
    "- [探索性数据分析](#5)\n",
    "- [建模](#6)\n",
    "- [GIF/动画](#7)"
   ]
  },
  {
   "cell_type": "markdown",
   "metadata": {},
   "source": [
    "# 1. 导入数据 <a class=\"anchor\"  id=\"1\"></a>"
   ]
  },
  {
   "cell_type": "code",
   "execution_count": null,
   "metadata": {},
   "outputs": [],
   "source": [
    "import pandas as pd\n",
    "import numpy as np\n",
    "import matplotlib.pyplot as plt\n",
    "import seaborn as sns\n",
    "import plotly.express as px\n",
    "import plotly.graph_objects as go"
   ]
  },
  {
   "cell_type": "code",
   "execution_count": null,
   "metadata": {},
   "outputs": [],
   "source": [
    "# 读取 games.csv 文件\n",
    "games_data = pd.read_csv('../../Dataset/games.csv')\n",
    "\n",
    "# 读取 players.csv 文件\n",
    "players_data = pd.read_csv('../../Dataset/players.csv')\n",
    "\n",
    "# 读取 plays.csv 文件\n",
    "plays_data = pd.read_csv('../../Dataset/plays.csv')\n",
    "\n",
    "# 读取 tackles.csv 文件\n",
    "tackles_data = pd.read_csv('../../Dataset/tackles.csv')"
   ]
  },
  {
   "cell_type": "markdown",
   "metadata": {},
   "source": [
    "建立一个函数用于统计表格相关列的值信息"
   ]
  },
  {
   "cell_type": "code",
   "execution_count": null,
   "metadata": {},
   "outputs": [],
   "source": [
    "def generate_summary_table(data):\n",
    "    summary_table = pd.DataFrame(columns=['Column', 'Data Type', 'Missing Values', 'Missing %', 'Unique Values', 'Min', 'Max', 'Mean', 'Median'])\n",
    "    \n",
    "    for column in data.columns:\n",
    "        data_type = str(data[column].dtype)\n",
    "        \n",
    "        missing_values = data[column].isnull().sum()\n",
    "        missing_percentage = (missing_values / len(data)) * 100\n",
    "        \n",
    "        if data[column].dtype == 'object':\n",
    "            min_value, max_value, mean_value, median_value = '', '', '', ''\n",
    "        else:\n",
    "            min_value = data[column].min()\n",
    "            max_value = data[column].max()\n",
    "            mean_value = data[column].mean()\n",
    "            median_value = data[column].median()\n",
    "        \n",
    "        unique_values = data[column].nunique()  # 计算唯一值数量\n",
    "        \n",
    "        summary_table = summary_table.append({\n",
    "            'Column': column,\n",
    "            'Data Type': data_type,\n",
    "            'Missing Values': missing_values,\n",
    "            'Missing %': f'{missing_percentage:.2f}%',\n",
    "            'Unique Values': unique_values,  # 添加唯一值数量\n",
    "            'Min': min_value,\n",
    "            'Max': max_value,\n",
    "            'Mean': mean_value,\n",
    "            'Median': median_value\n",
    "        }, ignore_index=True)\n",
    "    \n",
    "    formatted_table = summary_table.style.set_properties(**{'text-align': 'center'})\n",
    "    \n",
    "    print(\"表格信息统计:\")\n",
    "    display(formatted_table)\n",
    "    \n",
    "    return summary_table\n"
   ]
  },
  {
   "cell_type": "markdown",
   "metadata": {},
   "source": [
    "1. 比赛数据games.csv分析"
   ]
  },
  {
   "cell_type": "code",
   "execution_count": null,
   "metadata": {},
   "outputs": [],
   "source": [
    "games_data.head()"
   ]
  },
  {
   "cell_type": "markdown",
   "metadata": {},
   "source": [
    "生成表格信息统计图"
   ]
  },
  {
   "cell_type": "code",
   "execution_count": null,
   "metadata": {},
   "outputs": [],
   "source": [
    "# 调用函数并打印生成的表格\n",
    "games_data_summary = generate_summary_table(games_data)"
   ]
  },
  {
   "cell_type": "markdown",
   "metadata": {},
   "source": [
    "2. 球员数据players.csv分析"
   ]
  },
  {
   "cell_type": "code",
   "execution_count": null,
   "metadata": {},
   "outputs": [],
   "source": [
    "players_data.head()"
   ]
  },
  {
   "cell_type": "markdown",
   "metadata": {},
   "source": [
    "生成表格信息统计图"
   ]
  },
  {
   "cell_type": "code",
   "execution_count": null,
   "metadata": {},
   "outputs": [],
   "source": [
    "# 调用函数并打印生成的表格\n",
    "players_data_summary = generate_summary_table(players_data)"
   ]
  },
  {
   "cell_type": "markdown",
   "metadata": {},
   "source": [
    "3. 每场比赛数据plays.csv分析"
   ]
  },
  {
   "cell_type": "code",
   "execution_count": null,
   "metadata": {},
   "outputs": [],
   "source": [
    "plays_data.head()"
   ]
  },
  {
   "cell_type": "markdown",
   "metadata": {},
   "source": [
    "生成表格信息统计图"
   ]
  },
  {
   "cell_type": "code",
   "execution_count": null,
   "metadata": {},
   "outputs": [],
   "source": [
    "# 调用函数并打印生成的表格\n",
    "plays_data_summary = generate_summary_table(plays_data)"
   ]
  },
  {
   "cell_type": "markdown",
   "metadata": {},
   "source": [
    "4. 铲球数据tackles.csv分析"
   ]
  },
  {
   "cell_type": "code",
   "execution_count": null,
   "metadata": {},
   "outputs": [],
   "source": [
    "tackles_data.head()"
   ]
  },
  {
   "cell_type": "markdown",
   "metadata": {},
   "source": [
    "生成表格信息统计图"
   ]
  },
  {
   "cell_type": "code",
   "execution_count": null,
   "metadata": {},
   "outputs": [],
   "source": [
    "# 调用函数并打印生成的表格\n",
    "tackles_data_summary = generate_summary_table(tackles_data)"
   ]
  },
  {
   "cell_type": "markdown",
   "metadata": {},
   "source": [
    "# 2. 标准化数据 <a class=\"anchor\"  id=\"1\"></a>"
   ]
  },
  {
   "cell_type": "markdown",
   "metadata": {},
   "source": [
    "1. games.csv\n",
    "\n",
    "首先对该表格内容进行数据清洗与可视化\n",
    "\n",
    "由之前信息可得此表中没有出现数据缺失的情况，因此可以直接处理\n",
    "\n",
    "得分分布 - 直方图展示主队和客队得分的分布情况"
   ]
  },
  {
   "cell_type": "code",
   "execution_count": null,
   "metadata": {},
   "outputs": [],
   "source": [
    "# 调用函数并打印生成的表格\n",
    "games_data_summary = generate_summary_table(games_data)"
   ]
  },
  {
   "cell_type": "code",
   "execution_count": null,
   "metadata": {},
   "outputs": [],
   "source": [
    "# 创建直方图\n",
    "fig = px.histogram(games_data, x=[\"homeFinalScore\", \"visitorFinalScore\"], nbins=20, barmode=\"overlay\",\n",
    "                   labels={\"value\": \"Score\", \"variable\": \"Team\"}, title=\"Score Distribution\")\n",
    "fig.update_layout(xaxis_title=\"Score\", yaxis_title=\"Frequency\")\n",
    "fig.show()\n"
   ]
  },
  {
   "cell_type": "markdown",
   "metadata": {},
   "source": [
    "赛季中的队伍表现 - 折线图显示每支球队在赛季不同周次的得分情况"
   ]
  },
  {
   "cell_type": "code",
   "execution_count": null,
   "metadata": {},
   "outputs": [],
   "source": [
    "# 根据赛季、周次和队伍分组并计算得分总和\n",
    "team_scores = games_data.groupby([\"season\", \"week\", \"homeTeamAbbr\"])[\"homeFinalScore\"].sum().reset_index()\n",
    "team_scores = team_scores.rename(columns={\"homeTeamAbbr\": \"Team\", \"homeFinalScore\": \"Score\"})\n",
    "\n",
    "# 获取所有队伍的列表\n",
    "all_teams = team_scores[\"Team\"].unique().tolist()\n",
    "\n",
    "# 创建交互式折线图\n",
    "fig = go.Figure()\n",
    "\n",
    "for team in all_teams:\n",
    "    team_data = team_scores[team_scores[\"Team\"] == team]\n",
    "    fig.add_trace(go.Scatter(x=team_data[\"week\"], y=team_data[\"Score\"], mode='lines', name=team))\n",
    "\n",
    "# 设置布局\n",
    "fig.update_layout(\n",
    "    title=\"Team Performance in Different Weeks\",\n",
    "    xaxis_title=\"Week\",\n",
    "    yaxis_title=\"Score\",\n",
    "    legend=dict(orientation=\"h\", y=-0.2),\n",
    "    margin=dict(l=20, r=20, t=80, b=20)\n",
    ")\n",
    "\n",
    "fig.show()"
   ]
  },
  {
   "cell_type": "markdown",
   "metadata": {},
   "source": [
    "从结果可以看出，并不是所有的队伍每个星期都参赛"
   ]
  },
  {
   "cell_type": "markdown",
   "metadata": {},
   "source": [
    "赛季中比赛结果统计 - 饼图展示每个赛季主队和客队的胜利次数和比赛结果"
   ]
  },
  {
   "cell_type": "code",
   "execution_count": null,
   "metadata": {},
   "outputs": [],
   "source": [
    "# 创建新列，表示主队和客队的胜利情况\n",
    "games_data['home_win'] = games_data['homeFinalScore'] > games_data['visitorFinalScore']\n",
    "games_data['visitor_win'] = games_data['homeFinalScore'] < games_data['visitorFinalScore']\n",
    "\n",
    "# 统计每个赛季中主队和客队的胜利次数\n",
    "season_results = games_data.groupby(['season']).agg({\n",
    "    'home_win': 'sum',\n",
    "    'visitor_win': 'sum'\n",
    "}).reset_index()\n",
    "\n",
    "# 重塑数据以符合饼图格式\n",
    "season_results_melted = season_results.melt(id_vars='season', var_name='Result', value_name='Wins')\n",
    "\n",
    "# 显示饼图\n",
    "fig = px.pie(season_results_melted, values='Wins', names='Result', title='Season Results: Home Team vs Visitor Team Wins',\n",
    "             hover_data=['Wins'], labels={'Result': 'Game Result'})\n",
    "fig.show()"
   ]
  },
  {
   "cell_type": "markdown",
   "metadata": {},
   "source": [
    "看来主场确实有优势啊"
   ]
  },
  {
   "cell_type": "markdown",
   "metadata": {},
   "source": [
    "接下来进行数据清理的工作"
   ]
  },
  {
   "cell_type": "code",
   "execution_count": null,
   "metadata": {},
   "outputs": [],
   "source": [
    "# 调用函数并打印生成的表格\n",
    "games_data_summary = generate_summary_table(games_data)"
   ]
  },
  {
   "cell_type": "markdown",
   "metadata": {},
   "source": [
    "分析结果发现这里面存在着大量的非数值文本，这会使数据很难处理，因此我们要适当的舍弃或者对这些文本进行重新编码。接下来我们看看这些列分别代表了什么数据"
   ]
  },
  {
   "cell_type": "markdown",
   "metadata": {},
   "source": [
    "这些字段的含义如下：\n",
    "\n",
    "- **gameId（比赛ID）**：比赛的唯一标识符（数字）\n",
    "- **season（赛季）**：比赛所属的赛季（数字）\n",
    "- **week（周次）**：比赛所在的周次（数字）\n",
    "- **gameDate（比赛日期）**：比赛日期（时间，月/日/年）\n",
    "- **gameTimeEastern（比赛开始时间）**：比赛开始时间（时间，时:分:秒，东部标准时间）\n",
    "- **homeTeamAbbr（主队三字母代码）**：主队的三字母代码（文本）\n",
    "- **visitorTeamAbbr（客队三字母代码）**：客队的三字母代码（文本）\n",
    "- **homeFinalScore（主队最终得分）**：主队在比赛中的总得分（数字）\n",
    "- **visitorFinalScore（客队最终得分）**：客队在比赛中的总得分（数字）\n",
    "\n",
    "这些字段描述了每场比赛的详细信息，包括比赛的标识、赛季、比赛日期和时间、参赛队伍及其得分情况。"
   ]
  },
  {
   "cell_type": "markdown",
   "metadata": {},
   "source": [
    "* 其中赛季（season）肯定是一个无关值，因为这些数据都属于一个赛季，可以抛弃\n",
    "* gameTimeEastern可能不太重要，因为是比赛举行的时间，稍后可以用热力图分析一下\n",
    "* 而对主队客队，我们可以采用编码的方式来对这些队伍进行编码来剔除文本信息。"
   ]
  },
  {
   "cell_type": "markdown",
   "metadata": {},
   "source": [
    "由于热力图只能处理数值信息，因此我们应先将队名，比赛日期和比赛时间进行编码"
   ]
  },
  {
   "cell_type": "code",
   "execution_count": null,
   "metadata": {},
   "outputs": [],
   "source": [
    "# 获取所有队伍的列表，并按字母顺序排序\n",
    "teams = sorted(set(games_data['homeTeamAbbr'].unique()) | set(games_data['visitorTeamAbbr'].unique()))\n",
    "\n",
    "# 创建队伍编码映射\n",
    "team_encoding = {team: code for code, team in enumerate(teams, 1)}\n",
    "\n",
    "# 对 'homeTeamAbbr' 和 'visitorTeamAbbr' 进行编码\n",
    "games_data['homeTeamAbbr'] = games_data['homeTeamAbbr'].map(team_encoding)\n",
    "games_data['visitorTeamAbbr'] = games_data['visitorTeamAbbr'].map(team_encoding)\n",
    "\n",
    "# 对 'gameDate' 进行日期编码\n",
    "games_data['gameDate'] = pd.to_datetime(games_data['gameDate'])\n",
    "games_data['gameDate'] = (games_data['gameDate'] - games_data['gameDate'].min()).dt.days + 1\n",
    "\n",
    "# 对 'gameTimeEastern' 进行小时编码\n",
    "games_data['gameTimeEastern'] = pd.to_datetime(games_data['gameTimeEastern']).dt.hour + \\\n",
    "                                pd.to_datetime(games_data['gameTimeEastern']).dt.minute / 60 + \\\n",
    "                                pd.to_datetime(games_data['gameTimeEastern']).dt.second / 3600\n",
    "\n",
    "# 输出队名与编码的对应关系\n",
    "for team, code in team_encoding.items():\n",
    "    print(f\"Team: {team} -> Code: {code}\")\n",
    "\n",
    "# 输出编码后的结果\n",
    "print(games_data[['season', 'week', 'homeTeamAbbr', 'visitorTeamAbbr', 'homeFinalScore', 'visitorFinalScore', 'gameDate', 'gameTimeEastern']])"
   ]
  },
  {
   "cell_type": "markdown",
   "metadata": {},
   "source": [
    "对于队名我采用了一个编码规则，按照字母排列编码\n",
    "比赛日期也采用了相似的编码，比赛时间编码则是直接转化为小时数，比如20:00:00就编码为20"
   ]
  },
  {
   "cell_type": "markdown",
   "metadata": {},
   "source": [
    "首先drop掉season，再画出热力图，看看比赛时间会不会对比赛的胜负结果产生影响。"
   ]
  },
  {
   "cell_type": "code",
   "execution_count": null,
   "metadata": {},
   "outputs": [],
   "source": [
    "# 剔除 'season', 'home_win', 'visitor_win' 列\n",
    "games_df_without_season = games_data.drop(columns=['season', 'home_win', 'visitor_win'])\n",
    "\n",
    "# 计算相关性矩阵\n",
    "correlation_matrix = games_df_without_season.corr()\n",
    "\n",
    "# 创建热力图\n",
    "fig = px.imshow(correlation_matrix,\n",
    "                labels=dict(color=\"Correlation\"),\n",
    "                x=correlation_matrix.index,\n",
    "                y=correlation_matrix.columns,\n",
    "                color_continuous_scale='Viridis')\n",
    "\n",
    "# 在热力图中标注数值\n",
    "annotations = []\n",
    "for i, row in enumerate(correlation_matrix.index):\n",
    "    for j, col in enumerate(correlation_matrix.columns):\n",
    "        annotations.append(\n",
    "            dict(\n",
    "                x=col,\n",
    "                y=row,\n",
    "                text=f\"{correlation_matrix.iloc[i, j]:.2f}\",\n",
    "                showarrow=False,\n",
    "            )\n",
    "        )\n",
    "\n",
    "fig.update_layout(\n",
    "    title='Correlation Heatmap of Columns (Season Column Excluded)',\n",
    "    xaxis_title='Columns',\n",
    "    yaxis_title='Columns',\n",
    "    annotations=annotations\n",
    ")\n",
    "\n",
    "fig.show()"
   ]
  },
  {
   "cell_type": "markdown",
   "metadata": {},
   "source": [
    "发现gameId,week和gameDate强相关，这是因为比赛的时间安排决定了这几项必然强相关，相反，其他数据项的相关性并不大，我们可以放心剔除week和gameDate来减少数据维度，保留gameId，因为可能要用这项数据连接其他表"
   ]
  },
  {
   "cell_type": "code",
   "execution_count": null,
   "metadata": {},
   "outputs": [],
   "source": [
    "games_data_cleaned = games_data.drop(columns=['season', 'home_win', 'visitor_win', 'week', 'gameDate'])\n",
    "games_data_cleaned.head()  # 数据清理完成"
   ]
  },
  {
   "cell_type": "markdown",
   "metadata": {},
   "source": [
    "至此，该表的数据清理完成"
   ]
  },
  {
   "cell_type": "markdown",
   "metadata": {},
   "source": [
    "2. players.csv\n",
    "\n",
    "首先对该表格内容进行公制化转换，转换成我们可以处理的数据"
   ]
  },
  {
   "cell_type": "code",
   "execution_count": null,
   "metadata": {},
   "outputs": [],
   "source": [
    "players_data.head()"
   ]
  },
  {
   "cell_type": "markdown",
   "metadata": {},
   "source": [
    "身高：米  体重：千克  出生日期：转化为年龄"
   ]
  },
  {
   "cell_type": "code",
   "execution_count": null,
   "metadata": {},
   "outputs": [],
   "source": [
    "# 转换身高为厘米\n",
    "players_data['height'] = players_data['height'].apply(lambda x: int(x.split('-')[0]) * 30.48 + int(x.split('-')[1]) * 2.54)\n",
    "\n",
    "# 转换体重为公斤\n",
    "players_data['weight'] = players_data['weight'] * 0.453592\n",
    "\n",
    "# 计算年龄\n",
    "players_data['birthDate'] = 2022 - pd.to_datetime(players_data['birthDate']).dt.year\n",
    "\n",
    "# 输出转换后的结果\n",
    "print(players_data)"
   ]
  },
  {
   "cell_type": "code",
   "execution_count": null,
   "metadata": {},
   "outputs": [],
   "source": [
    "# 调用函数并打印生成的表格\n",
    "players_data_summary = generate_summary_table(players_data)"
   ]
  },
  {
   "cell_type": "markdown",
   "metadata": {},
   "source": [
    "由之前的统计信息可知，此表在生日值上是有缺失的，因此很多人的年龄不知道，并且缺失值达到了28.46%，不能采用中值或者均值进行替换，因此我们不得不舍弃该数据列，尽管在体育上年龄对于球员表现是重要因素。\n",
    "\n",
    "而且球员姓名也有重名，因此我们不能对球员姓名进行编码，只能使用nflId来标识球员"
   ]
  },
  {
   "cell_type": "code",
   "execution_count": null,
   "metadata": {},
   "outputs": [],
   "source": [
    "# 删除 'birthDate' 列\n",
    "players_data.drop(['birthDate'], axis=1, inplace=True)\n",
    "\n",
    "# 输出结果\n",
    "print(players_data)"
   ]
  },
  {
   "cell_type": "markdown",
   "metadata": {},
   "source": [
    "接下来我们进行可视化分析"
   ]
  },
  {
   "cell_type": "code",
   "execution_count": null,
   "metadata": {},
   "outputs": [],
   "source": [
    "# 创建直方图统计身高每一厘米的频率\n",
    "height_counts = players_data['height'].value_counts().sort_index()\n",
    "\n",
    "fig = go.Figure(data=[go.Bar(x=height_counts.index, y=height_counts.values)])\n",
    "fig.update_layout(\n",
    "    title='Height Distribution',\n",
    "    xaxis_title='Height (cm)',\n",
    "    yaxis_title='Frequency'\n",
    ")\n",
    "fig.show()"
   ]
  },
  {
   "cell_type": "code",
   "execution_count": null,
   "metadata": {},
   "outputs": [],
   "source": [
    "# 创建直方图统计体重\n",
    "fig_weight = px.histogram(players_data, x='weight', title='Weight Distribution')\n",
    "fig_weight.update_xaxes(title='Weight')\n",
    "fig_weight.show()"
   ]
  },
  {
   "cell_type": "code",
   "execution_count": null,
   "metadata": {},
   "outputs": [],
   "source": [
    "# 创建直方图不同位置的球员数量\n",
    "fig_position = px.histogram(players_data, x='position', title='Player Position Distribution')\n",
    "fig_position.update_xaxes(title='Position')\n",
    "fig_position.show()"
   ]
  },
  {
   "cell_type": "code",
   "execution_count": null,
   "metadata": {},
   "outputs": [],
   "source": [
    "# 创建箱线图得到位置与体重的关系\n",
    "fig_box = px.box(players_data, x='position', y='weight', title='Position vs Weight')\n",
    "fig_box.update_xaxes(title='Position')\n",
    "fig_box.update_yaxes(title='Weight')\n",
    "fig_box.show()"
   ]
  },
  {
   "cell_type": "code",
   "execution_count": null,
   "metadata": {},
   "outputs": [],
   "source": [
    "# 计算各个球员位置的平均身高和体重\n",
    "avg_height_weight = players_data.groupby('position').agg({'height': 'mean', 'weight': 'mean'}).reset_index()\n",
    "\n",
    "# 绘制柱状图展示不同位置球员的平均身高和体重\n",
    "fig_avg = px.bar(avg_height_weight, x='position', y=['height', 'weight'], \n",
    "                 barmode='group', title='Average Height and Weight by Position')\n",
    "fig_avg.update_xaxes(title='Position')\n",
    "fig_avg.update_yaxes(title='Value')\n",
    "fig_avg.show()"
   ]
  },
  {
   "cell_type": "code",
   "execution_count": null,
   "metadata": {},
   "outputs": [],
   "source": [
    "# 计算BMI指数\n",
    "players_data['bmi'] = players_data['weight'] / ((players_data['height'] / 100) ** 2)\n",
    "\n",
    "# 绘制BMI指数的直方图\n",
    "fig_bmi = px.histogram(players_data, x='bmi', title='BMI Distribution')\n",
    "fig_bmi.update_xaxes(title='BMI')\n",
    "fig_bmi.show()"
   ]
  },
  {
   "cell_type": "markdown",
   "metadata": {},
   "source": [
    "可视化分析完成后，接下来对其collegeName和position两列进行编码，将姓名drop掉使用nflId标识球员"
   ]
  },
  {
   "cell_type": "code",
   "execution_count": null,
   "metadata": {},
   "outputs": [],
   "source": [
    "# 获取所有学院和职位的列表，并按字母顺序排序\n",
    "college_names = sorted(players_data['collegeName'].unique())\n",
    "positions = sorted(players_data['position'].unique())\n",
    "\n",
    "# 创建学院和职位编码映射\n",
    "college_encoding = {college: code for code, college in enumerate(college_names, 1)}\n",
    "position_encoding = {position: code for code, position in enumerate(positions, 1)}\n",
    "\n",
    "# 对 'collegeName' 和 'position' 进行编码\n",
    "players_data['collegeName'] = players_data['collegeName'].map(college_encoding)\n",
    "players_data['position'] = players_data['position'].map(position_encoding)\n",
    "\n",
    "# 删除 'displayName' 列\n",
    "players_data.drop(['displayName'], axis=1, inplace=True)\n",
    "\n",
    "# 输出编码后的结果\n",
    "print(players_data)"
   ]
  }
 ],
 "metadata": {
  "kernelspec": {
   "display_name": "python_all",
   "language": "python",
   "name": "python3"
  },
  "language_info": {
   "codemirror_mode": {
    "name": "ipython",
    "version": 3
   },
   "file_extension": ".py",
   "mimetype": "text/x-python",
   "name": "python",
   "nbconvert_exporter": "python",
   "pygments_lexer": "ipython3",
   "version": "3.8.16"
  }
 },
 "nbformat": 4,
 "nbformat_minor": 2
}
