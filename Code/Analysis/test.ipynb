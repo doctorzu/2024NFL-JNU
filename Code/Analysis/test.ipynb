{
 "cells": [
  {
   "cell_type": "markdown",
   "metadata": {},
   "source": [
    "### <font color='289C4E'>目录</font><a class='anchor' id='top'></a>\n",
    "- [导入数据](#1)\n",
    "- [标准化方向数据](#2)\n",
    "- [合并数据](#3)\n",
    "- [创建比赛摘要](#4)\n",
    "- [探索性数据分析](#5)\n",
    "- [建模](#6)\n",
    "- [GIF/动画](#7)"
   ]
  },
  {
   "cell_type": "markdown",
   "metadata": {},
   "source": [
    "# 1. 导入数据 <a class=\"anchor\"  id=\"1\"></a>"
   ]
  },
  {
   "cell_type": "code",
   "execution_count": 1,
   "metadata": {},
   "outputs": [],
   "source": [
    "import pandas as pd\n",
    "import numpy as np\n",
    "import matplotlib.pyplot as plt\n",
    "import seaborn as sns\n",
    "import plotly.express as px\n",
    "import plotly.graph_objects as go"
   ]
  },
  {
   "cell_type": "code",
   "execution_count": 2,
   "metadata": {},
   "outputs": [],
   "source": [
    "# 读取 games.csv 文件\n",
    "games_data = pd.read_csv('../../Dataset/games.csv')\n",
    "\n",
    "# 读取 players.csv 文件\n",
    "players_data = pd.read_csv('../../Dataset/players.csv')\n",
    "\n",
    "# 读取 plays.csv 文件\n",
    "plays_data = pd.read_csv('../../Dataset/plays.csv')\n",
    "\n",
    "# 读取 tackles.csv 文件\n",
    "tackles_data = pd.read_csv('../../Dataset/tackles.csv')"
   ]
  },
  {
   "cell_type": "markdown",
   "metadata": {},
   "source": [
    "建立一个函数用于统计表格相关列的值信息"
   ]
  },
  {
   "cell_type": "code",
   "execution_count": 3,
   "metadata": {},
   "outputs": [],
   "source": [
    "def generate_summary_table(data):\n",
    "    summary_table = pd.DataFrame(columns=['Column', 'Data Type', 'Missing Values', 'Missing %', 'Unique Values', 'Min', 'Max', 'Mean', 'Median'])\n",
    "    \n",
    "    for column in data.columns:\n",
    "        data_type = str(data[column].dtype)\n",
    "        \n",
    "        missing_values = data[column].isnull().sum()\n",
    "        missing_percentage = (missing_values / len(data)) * 100\n",
    "        \n",
    "        if data[column].dtype == 'object':\n",
    "            min_value, max_value, mean_value, median_value = '', '', '', ''\n",
    "        else:\n",
    "            min_value = data[column].min()\n",
    "            max_value = data[column].max()\n",
    "            mean_value = data[column].mean()\n",
    "            median_value = data[column].median()\n",
    "        \n",
    "        unique_values = data[column].nunique()  # 计算唯一值数量\n",
    "        \n",
    "        summary_table = summary_table.append({\n",
    "            'Column': column,\n",
    "            'Data Type': data_type,\n",
    "            'Missing Values': missing_values,\n",
    "            'Missing %': f'{missing_percentage:.2f}%',\n",
    "            'Unique Values': unique_values,  # 添加唯一值数量\n",
    "            'Min': min_value,\n",
    "            'Max': max_value,\n",
    "            'Mean': mean_value,\n",
    "            'Median': median_value\n",
    "        }, ignore_index=True)\n",
    "    \n",
    "    formatted_table = summary_table.style.set_properties(**{'text-align': 'center'})\n",
    "    \n",
    "    print(\"表格信息统计:\")\n",
    "    display(formatted_table)\n",
    "    \n",
    "    return summary_table\n"
   ]
  },
  {
   "cell_type": "markdown",
   "metadata": {},
   "source": [
    "1. 比赛数据games.csv分析"
   ]
  },
  {
   "cell_type": "code",
   "execution_count": 4,
   "metadata": {},
   "outputs": [
    {
     "data": {
      "text/html": [
       "<div>\n",
       "<style scoped>\n",
       "    .dataframe tbody tr th:only-of-type {\n",
       "        vertical-align: middle;\n",
       "    }\n",
       "\n",
       "    .dataframe tbody tr th {\n",
       "        vertical-align: top;\n",
       "    }\n",
       "\n",
       "    .dataframe thead th {\n",
       "        text-align: right;\n",
       "    }\n",
       "</style>\n",
       "<table border=\"1\" class=\"dataframe\">\n",
       "  <thead>\n",
       "    <tr style=\"text-align: right;\">\n",
       "      <th></th>\n",
       "      <th>gameId</th>\n",
       "      <th>season</th>\n",
       "      <th>week</th>\n",
       "      <th>gameDate</th>\n",
       "      <th>gameTimeEastern</th>\n",
       "      <th>homeTeamAbbr</th>\n",
       "      <th>visitorTeamAbbr</th>\n",
       "      <th>homeFinalScore</th>\n",
       "      <th>visitorFinalScore</th>\n",
       "    </tr>\n",
       "  </thead>\n",
       "  <tbody>\n",
       "    <tr>\n",
       "      <th>0</th>\n",
       "      <td>2022090800</td>\n",
       "      <td>2022</td>\n",
       "      <td>1</td>\n",
       "      <td>09/08/2022</td>\n",
       "      <td>20:20:00</td>\n",
       "      <td>LA</td>\n",
       "      <td>BUF</td>\n",
       "      <td>10</td>\n",
       "      <td>31</td>\n",
       "    </tr>\n",
       "    <tr>\n",
       "      <th>1</th>\n",
       "      <td>2022091100</td>\n",
       "      <td>2022</td>\n",
       "      <td>1</td>\n",
       "      <td>09/11/2022</td>\n",
       "      <td>13:00:00</td>\n",
       "      <td>ATL</td>\n",
       "      <td>NO</td>\n",
       "      <td>26</td>\n",
       "      <td>27</td>\n",
       "    </tr>\n",
       "    <tr>\n",
       "      <th>2</th>\n",
       "      <td>2022091101</td>\n",
       "      <td>2022</td>\n",
       "      <td>1</td>\n",
       "      <td>09/11/2022</td>\n",
       "      <td>13:00:00</td>\n",
       "      <td>CAR</td>\n",
       "      <td>CLE</td>\n",
       "      <td>24</td>\n",
       "      <td>26</td>\n",
       "    </tr>\n",
       "    <tr>\n",
       "      <th>3</th>\n",
       "      <td>2022091102</td>\n",
       "      <td>2022</td>\n",
       "      <td>1</td>\n",
       "      <td>09/11/2022</td>\n",
       "      <td>13:00:00</td>\n",
       "      <td>CHI</td>\n",
       "      <td>SF</td>\n",
       "      <td>19</td>\n",
       "      <td>10</td>\n",
       "    </tr>\n",
       "    <tr>\n",
       "      <th>4</th>\n",
       "      <td>2022091103</td>\n",
       "      <td>2022</td>\n",
       "      <td>1</td>\n",
       "      <td>09/11/2022</td>\n",
       "      <td>13:00:00</td>\n",
       "      <td>CIN</td>\n",
       "      <td>PIT</td>\n",
       "      <td>20</td>\n",
       "      <td>23</td>\n",
       "    </tr>\n",
       "  </tbody>\n",
       "</table>\n",
       "</div>"
      ],
      "text/plain": [
       "       gameId  season  week    gameDate gameTimeEastern homeTeamAbbr  \\\n",
       "0  2022090800    2022     1  09/08/2022        20:20:00           LA   \n",
       "1  2022091100    2022     1  09/11/2022        13:00:00          ATL   \n",
       "2  2022091101    2022     1  09/11/2022        13:00:00          CAR   \n",
       "3  2022091102    2022     1  09/11/2022        13:00:00          CHI   \n",
       "4  2022091103    2022     1  09/11/2022        13:00:00          CIN   \n",
       "\n",
       "  visitorTeamAbbr  homeFinalScore  visitorFinalScore  \n",
       "0             BUF              10                 31  \n",
       "1              NO              26                 27  \n",
       "2             CLE              24                 26  \n",
       "3              SF              19                 10  \n",
       "4             PIT              20                 23  "
      ]
     },
     "execution_count": 4,
     "metadata": {},
     "output_type": "execute_result"
    }
   ],
   "source": [
    "games_data.head()"
   ]
  },
  {
   "cell_type": "markdown",
   "metadata": {},
   "source": [
    "生成表格信息统计图"
   ]
  },
  {
   "cell_type": "code",
   "execution_count": 5,
   "metadata": {},
   "outputs": [
    {
     "name": "stdout",
     "output_type": "stream",
     "text": [
      "表格信息统计:\n"
     ]
    },
    {
     "data": {
      "text/html": [
       "<style  type=\"text/css\" >\n",
       "#T_6272b_row0_col0,#T_6272b_row0_col1,#T_6272b_row0_col2,#T_6272b_row0_col3,#T_6272b_row0_col4,#T_6272b_row0_col5,#T_6272b_row0_col6,#T_6272b_row0_col7,#T_6272b_row0_col8,#T_6272b_row1_col0,#T_6272b_row1_col1,#T_6272b_row1_col2,#T_6272b_row1_col3,#T_6272b_row1_col4,#T_6272b_row1_col5,#T_6272b_row1_col6,#T_6272b_row1_col7,#T_6272b_row1_col8,#T_6272b_row2_col0,#T_6272b_row2_col1,#T_6272b_row2_col2,#T_6272b_row2_col3,#T_6272b_row2_col4,#T_6272b_row2_col5,#T_6272b_row2_col6,#T_6272b_row2_col7,#T_6272b_row2_col8,#T_6272b_row3_col0,#T_6272b_row3_col1,#T_6272b_row3_col2,#T_6272b_row3_col3,#T_6272b_row3_col4,#T_6272b_row3_col5,#T_6272b_row3_col6,#T_6272b_row3_col7,#T_6272b_row3_col8,#T_6272b_row4_col0,#T_6272b_row4_col1,#T_6272b_row4_col2,#T_6272b_row4_col3,#T_6272b_row4_col4,#T_6272b_row4_col5,#T_6272b_row4_col6,#T_6272b_row4_col7,#T_6272b_row4_col8,#T_6272b_row5_col0,#T_6272b_row5_col1,#T_6272b_row5_col2,#T_6272b_row5_col3,#T_6272b_row5_col4,#T_6272b_row5_col5,#T_6272b_row5_col6,#T_6272b_row5_col7,#T_6272b_row5_col8,#T_6272b_row6_col0,#T_6272b_row6_col1,#T_6272b_row6_col2,#T_6272b_row6_col3,#T_6272b_row6_col4,#T_6272b_row6_col5,#T_6272b_row6_col6,#T_6272b_row6_col7,#T_6272b_row6_col8,#T_6272b_row7_col0,#T_6272b_row7_col1,#T_6272b_row7_col2,#T_6272b_row7_col3,#T_6272b_row7_col4,#T_6272b_row7_col5,#T_6272b_row7_col6,#T_6272b_row7_col7,#T_6272b_row7_col8,#T_6272b_row8_col0,#T_6272b_row8_col1,#T_6272b_row8_col2,#T_6272b_row8_col3,#T_6272b_row8_col4,#T_6272b_row8_col5,#T_6272b_row8_col6,#T_6272b_row8_col7,#T_6272b_row8_col8{\n",
       "            text-align:  center;\n",
       "        }</style><table id=\"T_6272b_\" ><thead>    <tr>        <th class=\"blank level0\" ></th>        <th class=\"col_heading level0 col0\" >Column</th>        <th class=\"col_heading level0 col1\" >Data Type</th>        <th class=\"col_heading level0 col2\" >Missing Values</th>        <th class=\"col_heading level0 col3\" >Missing %</th>        <th class=\"col_heading level0 col4\" >Unique Values</th>        <th class=\"col_heading level0 col5\" >Min</th>        <th class=\"col_heading level0 col6\" >Max</th>        <th class=\"col_heading level0 col7\" >Mean</th>        <th class=\"col_heading level0 col8\" >Median</th>    </tr></thead><tbody>\n",
       "                <tr>\n",
       "                        <th id=\"T_6272b_level0_row0\" class=\"row_heading level0 row0\" >0</th>\n",
       "                        <td id=\"T_6272b_row0_col0\" class=\"data row0 col0\" >gameId</td>\n",
       "                        <td id=\"T_6272b_row0_col1\" class=\"data row0 col1\" >int64</td>\n",
       "                        <td id=\"T_6272b_row0_col2\" class=\"data row0 col2\" >0</td>\n",
       "                        <td id=\"T_6272b_row0_col3\" class=\"data row0 col3\" >0.00%</td>\n",
       "                        <td id=\"T_6272b_row0_col4\" class=\"data row0 col4\" >136</td>\n",
       "                        <td id=\"T_6272b_row0_col5\" class=\"data row0 col5\" >2022090800</td>\n",
       "                        <td id=\"T_6272b_row0_col6\" class=\"data row0 col6\" >2022110700</td>\n",
       "                        <td id=\"T_6272b_row0_col7\" class=\"data row0 col7\" >2022098922.117647</td>\n",
       "                        <td id=\"T_6272b_row0_col8\" class=\"data row0 col8\" >2022100902.500000</td>\n",
       "            </tr>\n",
       "            <tr>\n",
       "                        <th id=\"T_6272b_level0_row1\" class=\"row_heading level0 row1\" >1</th>\n",
       "                        <td id=\"T_6272b_row1_col0\" class=\"data row1 col0\" >season</td>\n",
       "                        <td id=\"T_6272b_row1_col1\" class=\"data row1 col1\" >int64</td>\n",
       "                        <td id=\"T_6272b_row1_col2\" class=\"data row1 col2\" >0</td>\n",
       "                        <td id=\"T_6272b_row1_col3\" class=\"data row1 col3\" >0.00%</td>\n",
       "                        <td id=\"T_6272b_row1_col4\" class=\"data row1 col4\" >1</td>\n",
       "                        <td id=\"T_6272b_row1_col5\" class=\"data row1 col5\" >2022</td>\n",
       "                        <td id=\"T_6272b_row1_col6\" class=\"data row1 col6\" >2022</td>\n",
       "                        <td id=\"T_6272b_row1_col7\" class=\"data row1 col7\" >2022.000000</td>\n",
       "                        <td id=\"T_6272b_row1_col8\" class=\"data row1 col8\" >2022.000000</td>\n",
       "            </tr>\n",
       "            <tr>\n",
       "                        <th id=\"T_6272b_level0_row2\" class=\"row_heading level0 row2\" >2</th>\n",
       "                        <td id=\"T_6272b_row2_col0\" class=\"data row2 col0\" >week</td>\n",
       "                        <td id=\"T_6272b_row2_col1\" class=\"data row2 col1\" >int64</td>\n",
       "                        <td id=\"T_6272b_row2_col2\" class=\"data row2 col2\" >0</td>\n",
       "                        <td id=\"T_6272b_row2_col3\" class=\"data row2 col3\" >0.00%</td>\n",
       "                        <td id=\"T_6272b_row2_col4\" class=\"data row2 col4\" >9</td>\n",
       "                        <td id=\"T_6272b_row2_col5\" class=\"data row2 col5\" >1</td>\n",
       "                        <td id=\"T_6272b_row2_col6\" class=\"data row2 col6\" >9</td>\n",
       "                        <td id=\"T_6272b_row2_col7\" class=\"data row2 col7\" >4.845588</td>\n",
       "                        <td id=\"T_6272b_row2_col8\" class=\"data row2 col8\" >5.000000</td>\n",
       "            </tr>\n",
       "            <tr>\n",
       "                        <th id=\"T_6272b_level0_row3\" class=\"row_heading level0 row3\" >3</th>\n",
       "                        <td id=\"T_6272b_row3_col0\" class=\"data row3 col0\" >gameDate</td>\n",
       "                        <td id=\"T_6272b_row3_col1\" class=\"data row3 col1\" >object</td>\n",
       "                        <td id=\"T_6272b_row3_col2\" class=\"data row3 col2\" >0</td>\n",
       "                        <td id=\"T_6272b_row3_col3\" class=\"data row3 col3\" >0.00%</td>\n",
       "                        <td id=\"T_6272b_row3_col4\" class=\"data row3 col4\" >27</td>\n",
       "                        <td id=\"T_6272b_row3_col5\" class=\"data row3 col5\" ></td>\n",
       "                        <td id=\"T_6272b_row3_col6\" class=\"data row3 col6\" ></td>\n",
       "                        <td id=\"T_6272b_row3_col7\" class=\"data row3 col7\" ></td>\n",
       "                        <td id=\"T_6272b_row3_col8\" class=\"data row3 col8\" ></td>\n",
       "            </tr>\n",
       "            <tr>\n",
       "                        <th id=\"T_6272b_level0_row4\" class=\"row_heading level0 row4\" >4</th>\n",
       "                        <td id=\"T_6272b_row4_col0\" class=\"data row4 col0\" >gameTimeEastern</td>\n",
       "                        <td id=\"T_6272b_row4_col1\" class=\"data row4 col1\" >object</td>\n",
       "                        <td id=\"T_6272b_row4_col2\" class=\"data row4 col2\" >0</td>\n",
       "                        <td id=\"T_6272b_row4_col3\" class=\"data row4 col3\" >0.00%</td>\n",
       "                        <td id=\"T_6272b_row4_col4\" class=\"data row4 col4\" >8</td>\n",
       "                        <td id=\"T_6272b_row4_col5\" class=\"data row4 col5\" ></td>\n",
       "                        <td id=\"T_6272b_row4_col6\" class=\"data row4 col6\" ></td>\n",
       "                        <td id=\"T_6272b_row4_col7\" class=\"data row4 col7\" ></td>\n",
       "                        <td id=\"T_6272b_row4_col8\" class=\"data row4 col8\" ></td>\n",
       "            </tr>\n",
       "            <tr>\n",
       "                        <th id=\"T_6272b_level0_row5\" class=\"row_heading level0 row5\" >5</th>\n",
       "                        <td id=\"T_6272b_row5_col0\" class=\"data row5 col0\" >homeTeamAbbr</td>\n",
       "                        <td id=\"T_6272b_row5_col1\" class=\"data row5 col1\" >object</td>\n",
       "                        <td id=\"T_6272b_row5_col2\" class=\"data row5 col2\" >0</td>\n",
       "                        <td id=\"T_6272b_row5_col3\" class=\"data row5 col3\" >0.00%</td>\n",
       "                        <td id=\"T_6272b_row5_col4\" class=\"data row5 col4\" >32</td>\n",
       "                        <td id=\"T_6272b_row5_col5\" class=\"data row5 col5\" ></td>\n",
       "                        <td id=\"T_6272b_row5_col6\" class=\"data row5 col6\" ></td>\n",
       "                        <td id=\"T_6272b_row5_col7\" class=\"data row5 col7\" ></td>\n",
       "                        <td id=\"T_6272b_row5_col8\" class=\"data row5 col8\" ></td>\n",
       "            </tr>\n",
       "            <tr>\n",
       "                        <th id=\"T_6272b_level0_row6\" class=\"row_heading level0 row6\" >6</th>\n",
       "                        <td id=\"T_6272b_row6_col0\" class=\"data row6 col0\" >visitorTeamAbbr</td>\n",
       "                        <td id=\"T_6272b_row6_col1\" class=\"data row6 col1\" >object</td>\n",
       "                        <td id=\"T_6272b_row6_col2\" class=\"data row6 col2\" >0</td>\n",
       "                        <td id=\"T_6272b_row6_col3\" class=\"data row6 col3\" >0.00%</td>\n",
       "                        <td id=\"T_6272b_row6_col4\" class=\"data row6 col4\" >32</td>\n",
       "                        <td id=\"T_6272b_row6_col5\" class=\"data row6 col5\" ></td>\n",
       "                        <td id=\"T_6272b_row6_col6\" class=\"data row6 col6\" ></td>\n",
       "                        <td id=\"T_6272b_row6_col7\" class=\"data row6 col7\" ></td>\n",
       "                        <td id=\"T_6272b_row6_col8\" class=\"data row6 col8\" ></td>\n",
       "            </tr>\n",
       "            <tr>\n",
       "                        <th id=\"T_6272b_level0_row7\" class=\"row_heading level0 row7\" >7</th>\n",
       "                        <td id=\"T_6272b_row7_col0\" class=\"data row7 col0\" >homeFinalScore</td>\n",
       "                        <td id=\"T_6272b_row7_col1\" class=\"data row7 col1\" >int64</td>\n",
       "                        <td id=\"T_6272b_row7_col2\" class=\"data row7 col2\" >0</td>\n",
       "                        <td id=\"T_6272b_row7_col3\" class=\"data row7 col3\" >0.00%</td>\n",
       "                        <td id=\"T_6272b_row7_col4\" class=\"data row7 col4\" >38</td>\n",
       "                        <td id=\"T_6272b_row7_col5\" class=\"data row7 col5\" >3</td>\n",
       "                        <td id=\"T_6272b_row7_col6\" class=\"data row7 col6\" >49</td>\n",
       "                        <td id=\"T_6272b_row7_col7\" class=\"data row7 col7\" >22.669118</td>\n",
       "                        <td id=\"T_6272b_row7_col8\" class=\"data row7 col8\" >22.500000</td>\n",
       "            </tr>\n",
       "            <tr>\n",
       "                        <th id=\"T_6272b_level0_row8\" class=\"row_heading level0 row8\" >8</th>\n",
       "                        <td id=\"T_6272b_row8_col0\" class=\"data row8 col0\" >visitorFinalScore</td>\n",
       "                        <td id=\"T_6272b_row8_col1\" class=\"data row8 col1\" >int64</td>\n",
       "                        <td id=\"T_6272b_row8_col2\" class=\"data row8 col2\" >0</td>\n",
       "                        <td id=\"T_6272b_row8_col3\" class=\"data row8 col3\" >0.00%</td>\n",
       "                        <td id=\"T_6272b_row8_col4\" class=\"data row8 col4\" >35</td>\n",
       "                        <td id=\"T_6272b_row8_col5\" class=\"data row8 col5\" >0</td>\n",
       "                        <td id=\"T_6272b_row8_col6\" class=\"data row8 col6\" >48</td>\n",
       "                        <td id=\"T_6272b_row8_col7\" class=\"data row8 col7\" >20.948529</td>\n",
       "                        <td id=\"T_6272b_row8_col8\" class=\"data row8 col8\" >20.000000</td>\n",
       "            </tr>\n",
       "    </tbody></table>"
      ],
      "text/plain": [
       "<pandas.io.formats.style.Styler at 0x267f40d9d30>"
      ]
     },
     "metadata": {},
     "output_type": "display_data"
    }
   ],
   "source": [
    "# 调用函数并打印生成的表格\n",
    "games_data_summary = generate_summary_table(games_data)"
   ]
  },
  {
   "cell_type": "markdown",
   "metadata": {},
   "source": [
    "2. 球员数据players.csv分析"
   ]
  },
  {
   "cell_type": "code",
   "execution_count": 6,
   "metadata": {},
   "outputs": [
    {
     "data": {
      "text/html": [
       "<div>\n",
       "<style scoped>\n",
       "    .dataframe tbody tr th:only-of-type {\n",
       "        vertical-align: middle;\n",
       "    }\n",
       "\n",
       "    .dataframe tbody tr th {\n",
       "        vertical-align: top;\n",
       "    }\n",
       "\n",
       "    .dataframe thead th {\n",
       "        text-align: right;\n",
       "    }\n",
       "</style>\n",
       "<table border=\"1\" class=\"dataframe\">\n",
       "  <thead>\n",
       "    <tr style=\"text-align: right;\">\n",
       "      <th></th>\n",
       "      <th>nflId</th>\n",
       "      <th>height</th>\n",
       "      <th>weight</th>\n",
       "      <th>birthDate</th>\n",
       "      <th>collegeName</th>\n",
       "      <th>position</th>\n",
       "      <th>displayName</th>\n",
       "    </tr>\n",
       "  </thead>\n",
       "  <tbody>\n",
       "    <tr>\n",
       "      <th>0</th>\n",
       "      <td>25511</td>\n",
       "      <td>6-4</td>\n",
       "      <td>225</td>\n",
       "      <td>1977-08-03</td>\n",
       "      <td>Michigan</td>\n",
       "      <td>QB</td>\n",
       "      <td>Tom Brady</td>\n",
       "    </tr>\n",
       "    <tr>\n",
       "      <th>1</th>\n",
       "      <td>29550</td>\n",
       "      <td>6-4</td>\n",
       "      <td>328</td>\n",
       "      <td>1982-01-22</td>\n",
       "      <td>Arkansas</td>\n",
       "      <td>T</td>\n",
       "      <td>Jason Peters</td>\n",
       "    </tr>\n",
       "    <tr>\n",
       "      <th>2</th>\n",
       "      <td>29851</td>\n",
       "      <td>6-2</td>\n",
       "      <td>225</td>\n",
       "      <td>1983-12-02</td>\n",
       "      <td>California</td>\n",
       "      <td>QB</td>\n",
       "      <td>Aaron Rodgers</td>\n",
       "    </tr>\n",
       "    <tr>\n",
       "      <th>3</th>\n",
       "      <td>30842</td>\n",
       "      <td>6-6</td>\n",
       "      <td>267</td>\n",
       "      <td>1984-05-19</td>\n",
       "      <td>UCLA</td>\n",
       "      <td>TE</td>\n",
       "      <td>Marcedes Lewis</td>\n",
       "    </tr>\n",
       "    <tr>\n",
       "      <th>4</th>\n",
       "      <td>33084</td>\n",
       "      <td>6-4</td>\n",
       "      <td>217</td>\n",
       "      <td>1985-05-17</td>\n",
       "      <td>Boston College</td>\n",
       "      <td>QB</td>\n",
       "      <td>Matt Ryan</td>\n",
       "    </tr>\n",
       "  </tbody>\n",
       "</table>\n",
       "</div>"
      ],
      "text/plain": [
       "   nflId height  weight   birthDate     collegeName position     displayName\n",
       "0  25511    6-4     225  1977-08-03        Michigan       QB       Tom Brady\n",
       "1  29550    6-4     328  1982-01-22        Arkansas        T    Jason Peters\n",
       "2  29851    6-2     225  1983-12-02      California       QB   Aaron Rodgers\n",
       "3  30842    6-6     267  1984-05-19            UCLA       TE  Marcedes Lewis\n",
       "4  33084    6-4     217  1985-05-17  Boston College       QB       Matt Ryan"
      ]
     },
     "execution_count": 6,
     "metadata": {},
     "output_type": "execute_result"
    }
   ],
   "source": [
    "players_data.head()"
   ]
  },
  {
   "cell_type": "markdown",
   "metadata": {},
   "source": [
    "生成表格信息统计图"
   ]
  },
  {
   "cell_type": "code",
   "execution_count": 7,
   "metadata": {},
   "outputs": [
    {
     "name": "stdout",
     "output_type": "stream",
     "text": [
      "表格信息统计:\n"
     ]
    },
    {
     "data": {
      "text/html": [
       "<style  type=\"text/css\" >\n",
       "#T_217fb_row0_col0,#T_217fb_row0_col1,#T_217fb_row0_col2,#T_217fb_row0_col3,#T_217fb_row0_col4,#T_217fb_row0_col5,#T_217fb_row0_col6,#T_217fb_row0_col7,#T_217fb_row0_col8,#T_217fb_row1_col0,#T_217fb_row1_col1,#T_217fb_row1_col2,#T_217fb_row1_col3,#T_217fb_row1_col4,#T_217fb_row1_col5,#T_217fb_row1_col6,#T_217fb_row1_col7,#T_217fb_row1_col8,#T_217fb_row2_col0,#T_217fb_row2_col1,#T_217fb_row2_col2,#T_217fb_row2_col3,#T_217fb_row2_col4,#T_217fb_row2_col5,#T_217fb_row2_col6,#T_217fb_row2_col7,#T_217fb_row2_col8,#T_217fb_row3_col0,#T_217fb_row3_col1,#T_217fb_row3_col2,#T_217fb_row3_col3,#T_217fb_row3_col4,#T_217fb_row3_col5,#T_217fb_row3_col6,#T_217fb_row3_col7,#T_217fb_row3_col8,#T_217fb_row4_col0,#T_217fb_row4_col1,#T_217fb_row4_col2,#T_217fb_row4_col3,#T_217fb_row4_col4,#T_217fb_row4_col5,#T_217fb_row4_col6,#T_217fb_row4_col7,#T_217fb_row4_col8,#T_217fb_row5_col0,#T_217fb_row5_col1,#T_217fb_row5_col2,#T_217fb_row5_col3,#T_217fb_row5_col4,#T_217fb_row5_col5,#T_217fb_row5_col6,#T_217fb_row5_col7,#T_217fb_row5_col8,#T_217fb_row6_col0,#T_217fb_row6_col1,#T_217fb_row6_col2,#T_217fb_row6_col3,#T_217fb_row6_col4,#T_217fb_row6_col5,#T_217fb_row6_col6,#T_217fb_row6_col7,#T_217fb_row6_col8{\n",
       "            text-align:  center;\n",
       "        }</style><table id=\"T_217fb_\" ><thead>    <tr>        <th class=\"blank level0\" ></th>        <th class=\"col_heading level0 col0\" >Column</th>        <th class=\"col_heading level0 col1\" >Data Type</th>        <th class=\"col_heading level0 col2\" >Missing Values</th>        <th class=\"col_heading level0 col3\" >Missing %</th>        <th class=\"col_heading level0 col4\" >Unique Values</th>        <th class=\"col_heading level0 col5\" >Min</th>        <th class=\"col_heading level0 col6\" >Max</th>        <th class=\"col_heading level0 col7\" >Mean</th>        <th class=\"col_heading level0 col8\" >Median</th>    </tr></thead><tbody>\n",
       "                <tr>\n",
       "                        <th id=\"T_217fb_level0_row0\" class=\"row_heading level0 row0\" >0</th>\n",
       "                        <td id=\"T_217fb_row0_col0\" class=\"data row0 col0\" >nflId</td>\n",
       "                        <td id=\"T_217fb_row0_col1\" class=\"data row0 col1\" >int64</td>\n",
       "                        <td id=\"T_217fb_row0_col2\" class=\"data row0 col2\" >0</td>\n",
       "                        <td id=\"T_217fb_row0_col3\" class=\"data row0 col3\" >0.00%</td>\n",
       "                        <td id=\"T_217fb_row0_col4\" class=\"data row0 col4\" >1683</td>\n",
       "                        <td id=\"T_217fb_row0_col5\" class=\"data row0 col5\" >25511</td>\n",
       "                        <td id=\"T_217fb_row0_col6\" class=\"data row0 col6\" >55241</td>\n",
       "                        <td id=\"T_217fb_row0_col7\" class=\"data row0 col7\" >48221.702317</td>\n",
       "                        <td id=\"T_217fb_row0_col8\" class=\"data row0 col8\" >47872.000000</td>\n",
       "            </tr>\n",
       "            <tr>\n",
       "                        <th id=\"T_217fb_level0_row1\" class=\"row_heading level0 row1\" >1</th>\n",
       "                        <td id=\"T_217fb_row1_col0\" class=\"data row1 col0\" >height</td>\n",
       "                        <td id=\"T_217fb_row1_col1\" class=\"data row1 col1\" >object</td>\n",
       "                        <td id=\"T_217fb_row1_col2\" class=\"data row1 col2\" >0</td>\n",
       "                        <td id=\"T_217fb_row1_col3\" class=\"data row1 col3\" >0.00%</td>\n",
       "                        <td id=\"T_217fb_row1_col4\" class=\"data row1 col4\" >16</td>\n",
       "                        <td id=\"T_217fb_row1_col5\" class=\"data row1 col5\" ></td>\n",
       "                        <td id=\"T_217fb_row1_col6\" class=\"data row1 col6\" ></td>\n",
       "                        <td id=\"T_217fb_row1_col7\" class=\"data row1 col7\" ></td>\n",
       "                        <td id=\"T_217fb_row1_col8\" class=\"data row1 col8\" ></td>\n",
       "            </tr>\n",
       "            <tr>\n",
       "                        <th id=\"T_217fb_level0_row2\" class=\"row_heading level0 row2\" >2</th>\n",
       "                        <td id=\"T_217fb_row2_col0\" class=\"data row2 col0\" >weight</td>\n",
       "                        <td id=\"T_217fb_row2_col1\" class=\"data row2 col1\" >int64</td>\n",
       "                        <td id=\"T_217fb_row2_col2\" class=\"data row2 col2\" >0</td>\n",
       "                        <td id=\"T_217fb_row2_col3\" class=\"data row2 col3\" >0.00%</td>\n",
       "                        <td id=\"T_217fb_row2_col4\" class=\"data row2 col4\" >179</td>\n",
       "                        <td id=\"T_217fb_row2_col5\" class=\"data row2 col5\" >153</td>\n",
       "                        <td id=\"T_217fb_row2_col6\" class=\"data row2 col6\" >380</td>\n",
       "                        <td id=\"T_217fb_row2_col7\" class=\"data row2 col7\" >245.724302</td>\n",
       "                        <td id=\"T_217fb_row2_col8\" class=\"data row2 col8\" >236.000000</td>\n",
       "            </tr>\n",
       "            <tr>\n",
       "                        <th id=\"T_217fb_level0_row3\" class=\"row_heading level0 row3\" >3</th>\n",
       "                        <td id=\"T_217fb_row3_col0\" class=\"data row3 col0\" >birthDate</td>\n",
       "                        <td id=\"T_217fb_row3_col1\" class=\"data row3 col1\" >object</td>\n",
       "                        <td id=\"T_217fb_row3_col2\" class=\"data row3 col2\" >479</td>\n",
       "                        <td id=\"T_217fb_row3_col3\" class=\"data row3 col3\" >28.46%</td>\n",
       "                        <td id=\"T_217fb_row3_col4\" class=\"data row3 col4\" >985</td>\n",
       "                        <td id=\"T_217fb_row3_col5\" class=\"data row3 col5\" ></td>\n",
       "                        <td id=\"T_217fb_row3_col6\" class=\"data row3 col6\" ></td>\n",
       "                        <td id=\"T_217fb_row3_col7\" class=\"data row3 col7\" ></td>\n",
       "                        <td id=\"T_217fb_row3_col8\" class=\"data row3 col8\" ></td>\n",
       "            </tr>\n",
       "            <tr>\n",
       "                        <th id=\"T_217fb_level0_row4\" class=\"row_heading level0 row4\" >4</th>\n",
       "                        <td id=\"T_217fb_row4_col0\" class=\"data row4 col0\" >collegeName</td>\n",
       "                        <td id=\"T_217fb_row4_col1\" class=\"data row4 col1\" >object</td>\n",
       "                        <td id=\"T_217fb_row4_col2\" class=\"data row4 col2\" >0</td>\n",
       "                        <td id=\"T_217fb_row4_col3\" class=\"data row4 col3\" >0.00%</td>\n",
       "                        <td id=\"T_217fb_row4_col4\" class=\"data row4 col4\" >226</td>\n",
       "                        <td id=\"T_217fb_row4_col5\" class=\"data row4 col5\" ></td>\n",
       "                        <td id=\"T_217fb_row4_col6\" class=\"data row4 col6\" ></td>\n",
       "                        <td id=\"T_217fb_row4_col7\" class=\"data row4 col7\" ></td>\n",
       "                        <td id=\"T_217fb_row4_col8\" class=\"data row4 col8\" ></td>\n",
       "            </tr>\n",
       "            <tr>\n",
       "                        <th id=\"T_217fb_level0_row5\" class=\"row_heading level0 row5\" >5</th>\n",
       "                        <td id=\"T_217fb_row5_col0\" class=\"data row5 col0\" >position</td>\n",
       "                        <td id=\"T_217fb_row5_col1\" class=\"data row5 col1\" >object</td>\n",
       "                        <td id=\"T_217fb_row5_col2\" class=\"data row5 col2\" >0</td>\n",
       "                        <td id=\"T_217fb_row5_col3\" class=\"data row5 col3\" >0.00%</td>\n",
       "                        <td id=\"T_217fb_row5_col4\" class=\"data row5 col4\" >19</td>\n",
       "                        <td id=\"T_217fb_row5_col5\" class=\"data row5 col5\" ></td>\n",
       "                        <td id=\"T_217fb_row5_col6\" class=\"data row5 col6\" ></td>\n",
       "                        <td id=\"T_217fb_row5_col7\" class=\"data row5 col7\" ></td>\n",
       "                        <td id=\"T_217fb_row5_col8\" class=\"data row5 col8\" ></td>\n",
       "            </tr>\n",
       "            <tr>\n",
       "                        <th id=\"T_217fb_level0_row6\" class=\"row_heading level0 row6\" >6</th>\n",
       "                        <td id=\"T_217fb_row6_col0\" class=\"data row6 col0\" >displayName</td>\n",
       "                        <td id=\"T_217fb_row6_col1\" class=\"data row6 col1\" >object</td>\n",
       "                        <td id=\"T_217fb_row6_col2\" class=\"data row6 col2\" >0</td>\n",
       "                        <td id=\"T_217fb_row6_col3\" class=\"data row6 col3\" >0.00%</td>\n",
       "                        <td id=\"T_217fb_row6_col4\" class=\"data row6 col4\" >1672</td>\n",
       "                        <td id=\"T_217fb_row6_col5\" class=\"data row6 col5\" ></td>\n",
       "                        <td id=\"T_217fb_row6_col6\" class=\"data row6 col6\" ></td>\n",
       "                        <td id=\"T_217fb_row6_col7\" class=\"data row6 col7\" ></td>\n",
       "                        <td id=\"T_217fb_row6_col8\" class=\"data row6 col8\" ></td>\n",
       "            </tr>\n",
       "    </tbody></table>"
      ],
      "text/plain": [
       "<pandas.io.formats.style.Styler at 0x267b548deb0>"
      ]
     },
     "metadata": {},
     "output_type": "display_data"
    }
   ],
   "source": [
    "# 调用函数并打印生成的表格\n",
    "players_data_summary = generate_summary_table(players_data)"
   ]
  },
  {
   "cell_type": "markdown",
   "metadata": {},
   "source": [
    "3. 每场比赛数据plays.csv分析"
   ]
  },
  {
   "cell_type": "code",
   "execution_count": 8,
   "metadata": {},
   "outputs": [
    {
     "data": {
      "text/html": [
       "<div>\n",
       "<style scoped>\n",
       "    .dataframe tbody tr th:only-of-type {\n",
       "        vertical-align: middle;\n",
       "    }\n",
       "\n",
       "    .dataframe tbody tr th {\n",
       "        vertical-align: top;\n",
       "    }\n",
       "\n",
       "    .dataframe thead th {\n",
       "        text-align: right;\n",
       "    }\n",
       "</style>\n",
       "<table border=\"1\" class=\"dataframe\">\n",
       "  <thead>\n",
       "    <tr style=\"text-align: right;\">\n",
       "      <th></th>\n",
       "      <th>gameId</th>\n",
       "      <th>playId</th>\n",
       "      <th>ballCarrierId</th>\n",
       "      <th>ballCarrierDisplayName</th>\n",
       "      <th>playDescription</th>\n",
       "      <th>quarter</th>\n",
       "      <th>down</th>\n",
       "      <th>yardsToGo</th>\n",
       "      <th>possessionTeam</th>\n",
       "      <th>defensiveTeam</th>\n",
       "      <th>...</th>\n",
       "      <th>preSnapHomeTeamWinProbability</th>\n",
       "      <th>preSnapVisitorTeamWinProbability</th>\n",
       "      <th>homeTeamWinProbabilityAdded</th>\n",
       "      <th>visitorTeamWinProbilityAdded</th>\n",
       "      <th>expectedPoints</th>\n",
       "      <th>expectedPointsAdded</th>\n",
       "      <th>foulName1</th>\n",
       "      <th>foulName2</th>\n",
       "      <th>foulNFLId1</th>\n",
       "      <th>foulNFLId2</th>\n",
       "    </tr>\n",
       "  </thead>\n",
       "  <tbody>\n",
       "    <tr>\n",
       "      <th>0</th>\n",
       "      <td>2022100908</td>\n",
       "      <td>3537</td>\n",
       "      <td>48723</td>\n",
       "      <td>Parker Hesse</td>\n",
       "      <td>(7:52) (Shotgun) M.Mariota pass short middle t...</td>\n",
       "      <td>4</td>\n",
       "      <td>1</td>\n",
       "      <td>10</td>\n",
       "      <td>ATL</td>\n",
       "      <td>TB</td>\n",
       "      <td>...</td>\n",
       "      <td>0.976785</td>\n",
       "      <td>0.023215</td>\n",
       "      <td>-0.006110</td>\n",
       "      <td>0.006110</td>\n",
       "      <td>2.360609</td>\n",
       "      <td>0.981955</td>\n",
       "      <td>NaN</td>\n",
       "      <td>NaN</td>\n",
       "      <td>NaN</td>\n",
       "      <td>NaN</td>\n",
       "    </tr>\n",
       "    <tr>\n",
       "      <th>1</th>\n",
       "      <td>2022091103</td>\n",
       "      <td>3126</td>\n",
       "      <td>52457</td>\n",
       "      <td>Chase Claypool</td>\n",
       "      <td>(7:38) (Shotgun) C.Claypool right end to PIT 3...</td>\n",
       "      <td>4</td>\n",
       "      <td>1</td>\n",
       "      <td>10</td>\n",
       "      <td>PIT</td>\n",
       "      <td>CIN</td>\n",
       "      <td>...</td>\n",
       "      <td>0.160485</td>\n",
       "      <td>0.839515</td>\n",
       "      <td>-0.010865</td>\n",
       "      <td>0.010865</td>\n",
       "      <td>1.733344</td>\n",
       "      <td>-0.263424</td>\n",
       "      <td>NaN</td>\n",
       "      <td>NaN</td>\n",
       "      <td>NaN</td>\n",
       "      <td>NaN</td>\n",
       "    </tr>\n",
       "    <tr>\n",
       "      <th>2</th>\n",
       "      <td>2022091111</td>\n",
       "      <td>1148</td>\n",
       "      <td>42547</td>\n",
       "      <td>Darren Waller</td>\n",
       "      <td>(8:57) D.Carr pass short middle to D.Waller to...</td>\n",
       "      <td>2</td>\n",
       "      <td>2</td>\n",
       "      <td>5</td>\n",
       "      <td>LV</td>\n",
       "      <td>LAC</td>\n",
       "      <td>...</td>\n",
       "      <td>0.756661</td>\n",
       "      <td>0.243339</td>\n",
       "      <td>-0.037409</td>\n",
       "      <td>0.037409</td>\n",
       "      <td>1.312855</td>\n",
       "      <td>1.133666</td>\n",
       "      <td>NaN</td>\n",
       "      <td>NaN</td>\n",
       "      <td>NaN</td>\n",
       "      <td>NaN</td>\n",
       "    </tr>\n",
       "    <tr>\n",
       "      <th>3</th>\n",
       "      <td>2022100212</td>\n",
       "      <td>2007</td>\n",
       "      <td>46461</td>\n",
       "      <td>Mike Boone</td>\n",
       "      <td>(13:12) M.Boone left tackle to DEN 44 for 7 ya...</td>\n",
       "      <td>3</td>\n",
       "      <td>2</td>\n",
       "      <td>10</td>\n",
       "      <td>DEN</td>\n",
       "      <td>LV</td>\n",
       "      <td>...</td>\n",
       "      <td>0.620552</td>\n",
       "      <td>0.379448</td>\n",
       "      <td>-0.002451</td>\n",
       "      <td>0.002451</td>\n",
       "      <td>1.641006</td>\n",
       "      <td>-0.043580</td>\n",
       "      <td>NaN</td>\n",
       "      <td>NaN</td>\n",
       "      <td>NaN</td>\n",
       "      <td>NaN</td>\n",
       "    </tr>\n",
       "    <tr>\n",
       "      <th>4</th>\n",
       "      <td>2022091900</td>\n",
       "      <td>1372</td>\n",
       "      <td>47857</td>\n",
       "      <td>Devin Singletary</td>\n",
       "      <td>(8:33) D.Singletary right guard to TEN 32 for ...</td>\n",
       "      <td>2</td>\n",
       "      <td>1</td>\n",
       "      <td>10</td>\n",
       "      <td>BUF</td>\n",
       "      <td>TEN</td>\n",
       "      <td>...</td>\n",
       "      <td>0.836290</td>\n",
       "      <td>0.163710</td>\n",
       "      <td>0.001053</td>\n",
       "      <td>-0.001053</td>\n",
       "      <td>3.686428</td>\n",
       "      <td>-0.167903</td>\n",
       "      <td>NaN</td>\n",
       "      <td>NaN</td>\n",
       "      <td>NaN</td>\n",
       "      <td>NaN</td>\n",
       "    </tr>\n",
       "  </tbody>\n",
       "</table>\n",
       "<p>5 rows × 35 columns</p>\n",
       "</div>"
      ],
      "text/plain": [
       "       gameId  playId  ballCarrierId ballCarrierDisplayName  \\\n",
       "0  2022100908    3537          48723           Parker Hesse   \n",
       "1  2022091103    3126          52457         Chase Claypool   \n",
       "2  2022091111    1148          42547          Darren Waller   \n",
       "3  2022100212    2007          46461             Mike Boone   \n",
       "4  2022091900    1372          47857       Devin Singletary   \n",
       "\n",
       "                                     playDescription  quarter  down  \\\n",
       "0  (7:52) (Shotgun) M.Mariota pass short middle t...        4     1   \n",
       "1  (7:38) (Shotgun) C.Claypool right end to PIT 3...        4     1   \n",
       "2  (8:57) D.Carr pass short middle to D.Waller to...        2     2   \n",
       "3  (13:12) M.Boone left tackle to DEN 44 for 7 ya...        3     2   \n",
       "4  (8:33) D.Singletary right guard to TEN 32 for ...        2     1   \n",
       "\n",
       "   yardsToGo possessionTeam defensiveTeam  ... preSnapHomeTeamWinProbability  \\\n",
       "0         10            ATL            TB  ...                      0.976785   \n",
       "1         10            PIT           CIN  ...                      0.160485   \n",
       "2          5             LV           LAC  ...                      0.756661   \n",
       "3         10            DEN            LV  ...                      0.620552   \n",
       "4         10            BUF           TEN  ...                      0.836290   \n",
       "\n",
       "   preSnapVisitorTeamWinProbability homeTeamWinProbabilityAdded  \\\n",
       "0                          0.023215                   -0.006110   \n",
       "1                          0.839515                   -0.010865   \n",
       "2                          0.243339                   -0.037409   \n",
       "3                          0.379448                   -0.002451   \n",
       "4                          0.163710                    0.001053   \n",
       "\n",
       "   visitorTeamWinProbilityAdded  expectedPoints expectedPointsAdded  \\\n",
       "0                      0.006110        2.360609            0.981955   \n",
       "1                      0.010865        1.733344           -0.263424   \n",
       "2                      0.037409        1.312855            1.133666   \n",
       "3                      0.002451        1.641006           -0.043580   \n",
       "4                     -0.001053        3.686428           -0.167903   \n",
       "\n",
       "   foulName1  foulName2  foulNFLId1  foulNFLId2  \n",
       "0        NaN        NaN         NaN         NaN  \n",
       "1        NaN        NaN         NaN         NaN  \n",
       "2        NaN        NaN         NaN         NaN  \n",
       "3        NaN        NaN         NaN         NaN  \n",
       "4        NaN        NaN         NaN         NaN  \n",
       "\n",
       "[5 rows x 35 columns]"
      ]
     },
     "execution_count": 8,
     "metadata": {},
     "output_type": "execute_result"
    }
   ],
   "source": [
    "plays_data.head()"
   ]
  },
  {
   "cell_type": "markdown",
   "metadata": {},
   "source": [
    "生成表格信息统计图"
   ]
  },
  {
   "cell_type": "code",
   "execution_count": 9,
   "metadata": {},
   "outputs": [
    {
     "name": "stdout",
     "output_type": "stream",
     "text": [
      "表格信息统计:\n"
     ]
    },
    {
     "data": {
      "text/html": [
       "<style  type=\"text/css\" >\n",
       "#T_47d4e_row0_col0,#T_47d4e_row0_col1,#T_47d4e_row0_col2,#T_47d4e_row0_col3,#T_47d4e_row0_col4,#T_47d4e_row0_col5,#T_47d4e_row0_col6,#T_47d4e_row0_col7,#T_47d4e_row0_col8,#T_47d4e_row1_col0,#T_47d4e_row1_col1,#T_47d4e_row1_col2,#T_47d4e_row1_col3,#T_47d4e_row1_col4,#T_47d4e_row1_col5,#T_47d4e_row1_col6,#T_47d4e_row1_col7,#T_47d4e_row1_col8,#T_47d4e_row2_col0,#T_47d4e_row2_col1,#T_47d4e_row2_col2,#T_47d4e_row2_col3,#T_47d4e_row2_col4,#T_47d4e_row2_col5,#T_47d4e_row2_col6,#T_47d4e_row2_col7,#T_47d4e_row2_col8,#T_47d4e_row3_col0,#T_47d4e_row3_col1,#T_47d4e_row3_col2,#T_47d4e_row3_col3,#T_47d4e_row3_col4,#T_47d4e_row3_col5,#T_47d4e_row3_col6,#T_47d4e_row3_col7,#T_47d4e_row3_col8,#T_47d4e_row4_col0,#T_47d4e_row4_col1,#T_47d4e_row4_col2,#T_47d4e_row4_col3,#T_47d4e_row4_col4,#T_47d4e_row4_col5,#T_47d4e_row4_col6,#T_47d4e_row4_col7,#T_47d4e_row4_col8,#T_47d4e_row5_col0,#T_47d4e_row5_col1,#T_47d4e_row5_col2,#T_47d4e_row5_col3,#T_47d4e_row5_col4,#T_47d4e_row5_col5,#T_47d4e_row5_col6,#T_47d4e_row5_col7,#T_47d4e_row5_col8,#T_47d4e_row6_col0,#T_47d4e_row6_col1,#T_47d4e_row6_col2,#T_47d4e_row6_col3,#T_47d4e_row6_col4,#T_47d4e_row6_col5,#T_47d4e_row6_col6,#T_47d4e_row6_col7,#T_47d4e_row6_col8,#T_47d4e_row7_col0,#T_47d4e_row7_col1,#T_47d4e_row7_col2,#T_47d4e_row7_col3,#T_47d4e_row7_col4,#T_47d4e_row7_col5,#T_47d4e_row7_col6,#T_47d4e_row7_col7,#T_47d4e_row7_col8,#T_47d4e_row8_col0,#T_47d4e_row8_col1,#T_47d4e_row8_col2,#T_47d4e_row8_col3,#T_47d4e_row8_col4,#T_47d4e_row8_col5,#T_47d4e_row8_col6,#T_47d4e_row8_col7,#T_47d4e_row8_col8,#T_47d4e_row9_col0,#T_47d4e_row9_col1,#T_47d4e_row9_col2,#T_47d4e_row9_col3,#T_47d4e_row9_col4,#T_47d4e_row9_col5,#T_47d4e_row9_col6,#T_47d4e_row9_col7,#T_47d4e_row9_col8,#T_47d4e_row10_col0,#T_47d4e_row10_col1,#T_47d4e_row10_col2,#T_47d4e_row10_col3,#T_47d4e_row10_col4,#T_47d4e_row10_col5,#T_47d4e_row10_col6,#T_47d4e_row10_col7,#T_47d4e_row10_col8,#T_47d4e_row11_col0,#T_47d4e_row11_col1,#T_47d4e_row11_col2,#T_47d4e_row11_col3,#T_47d4e_row11_col4,#T_47d4e_row11_col5,#T_47d4e_row11_col6,#T_47d4e_row11_col7,#T_47d4e_row11_col8,#T_47d4e_row12_col0,#T_47d4e_row12_col1,#T_47d4e_row12_col2,#T_47d4e_row12_col3,#T_47d4e_row12_col4,#T_47d4e_row12_col5,#T_47d4e_row12_col6,#T_47d4e_row12_col7,#T_47d4e_row12_col8,#T_47d4e_row13_col0,#T_47d4e_row13_col1,#T_47d4e_row13_col2,#T_47d4e_row13_col3,#T_47d4e_row13_col4,#T_47d4e_row13_col5,#T_47d4e_row13_col6,#T_47d4e_row13_col7,#T_47d4e_row13_col8,#T_47d4e_row14_col0,#T_47d4e_row14_col1,#T_47d4e_row14_col2,#T_47d4e_row14_col3,#T_47d4e_row14_col4,#T_47d4e_row14_col5,#T_47d4e_row14_col6,#T_47d4e_row14_col7,#T_47d4e_row14_col8,#T_47d4e_row15_col0,#T_47d4e_row15_col1,#T_47d4e_row15_col2,#T_47d4e_row15_col3,#T_47d4e_row15_col4,#T_47d4e_row15_col5,#T_47d4e_row15_col6,#T_47d4e_row15_col7,#T_47d4e_row15_col8,#T_47d4e_row16_col0,#T_47d4e_row16_col1,#T_47d4e_row16_col2,#T_47d4e_row16_col3,#T_47d4e_row16_col4,#T_47d4e_row16_col5,#T_47d4e_row16_col6,#T_47d4e_row16_col7,#T_47d4e_row16_col8,#T_47d4e_row17_col0,#T_47d4e_row17_col1,#T_47d4e_row17_col2,#T_47d4e_row17_col3,#T_47d4e_row17_col4,#T_47d4e_row17_col5,#T_47d4e_row17_col6,#T_47d4e_row17_col7,#T_47d4e_row17_col8,#T_47d4e_row18_col0,#T_47d4e_row18_col1,#T_47d4e_row18_col2,#T_47d4e_row18_col3,#T_47d4e_row18_col4,#T_47d4e_row18_col5,#T_47d4e_row18_col6,#T_47d4e_row18_col7,#T_47d4e_row18_col8,#T_47d4e_row19_col0,#T_47d4e_row19_col1,#T_47d4e_row19_col2,#T_47d4e_row19_col3,#T_47d4e_row19_col4,#T_47d4e_row19_col5,#T_47d4e_row19_col6,#T_47d4e_row19_col7,#T_47d4e_row19_col8,#T_47d4e_row20_col0,#T_47d4e_row20_col1,#T_47d4e_row20_col2,#T_47d4e_row20_col3,#T_47d4e_row20_col4,#T_47d4e_row20_col5,#T_47d4e_row20_col6,#T_47d4e_row20_col7,#T_47d4e_row20_col8,#T_47d4e_row21_col0,#T_47d4e_row21_col1,#T_47d4e_row21_col2,#T_47d4e_row21_col3,#T_47d4e_row21_col4,#T_47d4e_row21_col5,#T_47d4e_row21_col6,#T_47d4e_row21_col7,#T_47d4e_row21_col8,#T_47d4e_row22_col0,#T_47d4e_row22_col1,#T_47d4e_row22_col2,#T_47d4e_row22_col3,#T_47d4e_row22_col4,#T_47d4e_row22_col5,#T_47d4e_row22_col6,#T_47d4e_row22_col7,#T_47d4e_row22_col8,#T_47d4e_row23_col0,#T_47d4e_row23_col1,#T_47d4e_row23_col2,#T_47d4e_row23_col3,#T_47d4e_row23_col4,#T_47d4e_row23_col5,#T_47d4e_row23_col6,#T_47d4e_row23_col7,#T_47d4e_row23_col8,#T_47d4e_row24_col0,#T_47d4e_row24_col1,#T_47d4e_row24_col2,#T_47d4e_row24_col3,#T_47d4e_row24_col4,#T_47d4e_row24_col5,#T_47d4e_row24_col6,#T_47d4e_row24_col7,#T_47d4e_row24_col8,#T_47d4e_row25_col0,#T_47d4e_row25_col1,#T_47d4e_row25_col2,#T_47d4e_row25_col3,#T_47d4e_row25_col4,#T_47d4e_row25_col5,#T_47d4e_row25_col6,#T_47d4e_row25_col7,#T_47d4e_row25_col8,#T_47d4e_row26_col0,#T_47d4e_row26_col1,#T_47d4e_row26_col2,#T_47d4e_row26_col3,#T_47d4e_row26_col4,#T_47d4e_row26_col5,#T_47d4e_row26_col6,#T_47d4e_row26_col7,#T_47d4e_row26_col8,#T_47d4e_row27_col0,#T_47d4e_row27_col1,#T_47d4e_row27_col2,#T_47d4e_row27_col3,#T_47d4e_row27_col4,#T_47d4e_row27_col5,#T_47d4e_row27_col6,#T_47d4e_row27_col7,#T_47d4e_row27_col8,#T_47d4e_row28_col0,#T_47d4e_row28_col1,#T_47d4e_row28_col2,#T_47d4e_row28_col3,#T_47d4e_row28_col4,#T_47d4e_row28_col5,#T_47d4e_row28_col6,#T_47d4e_row28_col7,#T_47d4e_row28_col8,#T_47d4e_row29_col0,#T_47d4e_row29_col1,#T_47d4e_row29_col2,#T_47d4e_row29_col3,#T_47d4e_row29_col4,#T_47d4e_row29_col5,#T_47d4e_row29_col6,#T_47d4e_row29_col7,#T_47d4e_row29_col8,#T_47d4e_row30_col0,#T_47d4e_row30_col1,#T_47d4e_row30_col2,#T_47d4e_row30_col3,#T_47d4e_row30_col4,#T_47d4e_row30_col5,#T_47d4e_row30_col6,#T_47d4e_row30_col7,#T_47d4e_row30_col8,#T_47d4e_row31_col0,#T_47d4e_row31_col1,#T_47d4e_row31_col2,#T_47d4e_row31_col3,#T_47d4e_row31_col4,#T_47d4e_row31_col5,#T_47d4e_row31_col6,#T_47d4e_row31_col7,#T_47d4e_row31_col8,#T_47d4e_row32_col0,#T_47d4e_row32_col1,#T_47d4e_row32_col2,#T_47d4e_row32_col3,#T_47d4e_row32_col4,#T_47d4e_row32_col5,#T_47d4e_row32_col6,#T_47d4e_row32_col7,#T_47d4e_row32_col8,#T_47d4e_row33_col0,#T_47d4e_row33_col1,#T_47d4e_row33_col2,#T_47d4e_row33_col3,#T_47d4e_row33_col4,#T_47d4e_row33_col5,#T_47d4e_row33_col6,#T_47d4e_row33_col7,#T_47d4e_row33_col8,#T_47d4e_row34_col0,#T_47d4e_row34_col1,#T_47d4e_row34_col2,#T_47d4e_row34_col3,#T_47d4e_row34_col4,#T_47d4e_row34_col5,#T_47d4e_row34_col6,#T_47d4e_row34_col7,#T_47d4e_row34_col8{\n",
       "            text-align:  center;\n",
       "        }</style><table id=\"T_47d4e_\" ><thead>    <tr>        <th class=\"blank level0\" ></th>        <th class=\"col_heading level0 col0\" >Column</th>        <th class=\"col_heading level0 col1\" >Data Type</th>        <th class=\"col_heading level0 col2\" >Missing Values</th>        <th class=\"col_heading level0 col3\" >Missing %</th>        <th class=\"col_heading level0 col4\" >Unique Values</th>        <th class=\"col_heading level0 col5\" >Min</th>        <th class=\"col_heading level0 col6\" >Max</th>        <th class=\"col_heading level0 col7\" >Mean</th>        <th class=\"col_heading level0 col8\" >Median</th>    </tr></thead><tbody>\n",
       "                <tr>\n",
       "                        <th id=\"T_47d4e_level0_row0\" class=\"row_heading level0 row0\" >0</th>\n",
       "                        <td id=\"T_47d4e_row0_col0\" class=\"data row0 col0\" >gameId</td>\n",
       "                        <td id=\"T_47d4e_row0_col1\" class=\"data row0 col1\" >int64</td>\n",
       "                        <td id=\"T_47d4e_row0_col2\" class=\"data row0 col2\" >0</td>\n",
       "                        <td id=\"T_47d4e_row0_col3\" class=\"data row0 col3\" >0.00%</td>\n",
       "                        <td id=\"T_47d4e_row0_col4\" class=\"data row0 col4\" >136</td>\n",
       "                        <td id=\"T_47d4e_row0_col5\" class=\"data row0 col5\" >2022090800</td>\n",
       "                        <td id=\"T_47d4e_row0_col6\" class=\"data row0 col6\" >2022110700</td>\n",
       "                        <td id=\"T_47d4e_row0_col7\" class=\"data row0 col7\" >2022098953.855598</td>\n",
       "                        <td id=\"T_47d4e_row0_col8\" class=\"data row0 col8\" >2022100903.000000</td>\n",
       "            </tr>\n",
       "            <tr>\n",
       "                        <th id=\"T_47d4e_level0_row1\" class=\"row_heading level0 row1\" >1</th>\n",
       "                        <td id=\"T_47d4e_row1_col0\" class=\"data row1 col0\" >playId</td>\n",
       "                        <td id=\"T_47d4e_row1_col1\" class=\"data row1 col1\" >int64</td>\n",
       "                        <td id=\"T_47d4e_row1_col2\" class=\"data row1 col2\" >0</td>\n",
       "                        <td id=\"T_47d4e_row1_col3\" class=\"data row1 col3\" >0.00%</td>\n",
       "                        <td id=\"T_47d4e_row1_col4\" class=\"data row1 col4\" >3974</td>\n",
       "                        <td id=\"T_47d4e_row1_col5\" class=\"data row1 col5\" >54</td>\n",
       "                        <td id=\"T_47d4e_row1_col6\" class=\"data row1 col6\" >5096</td>\n",
       "                        <td id=\"T_47d4e_row1_col7\" class=\"data row1 col7\" >1986.603476</td>\n",
       "                        <td id=\"T_47d4e_row1_col8\" class=\"data row1 col8\" >1990.500000</td>\n",
       "            </tr>\n",
       "            <tr>\n",
       "                        <th id=\"T_47d4e_level0_row2\" class=\"row_heading level0 row2\" >2</th>\n",
       "                        <td id=\"T_47d4e_row2_col0\" class=\"data row2 col0\" >ballCarrierId</td>\n",
       "                        <td id=\"T_47d4e_row2_col1\" class=\"data row2 col1\" >int64</td>\n",
       "                        <td id=\"T_47d4e_row2_col2\" class=\"data row2 col2\" >0</td>\n",
       "                        <td id=\"T_47d4e_row2_col3\" class=\"data row2 col3\" >0.00%</td>\n",
       "                        <td id=\"T_47d4e_row2_col4\" class=\"data row2 col4\" >480</td>\n",
       "                        <td id=\"T_47d4e_row2_col5\" class=\"data row2 col5\" >25511</td>\n",
       "                        <td id=\"T_47d4e_row2_col6\" class=\"data row2 col6\" >55158</td>\n",
       "                        <td id=\"T_47d4e_row2_col7\" class=\"data row2 col7\" >48072.271664</td>\n",
       "                        <td id=\"T_47d4e_row2_col8\" class=\"data row2 col8\" >47789.000000</td>\n",
       "            </tr>\n",
       "            <tr>\n",
       "                        <th id=\"T_47d4e_level0_row3\" class=\"row_heading level0 row3\" >3</th>\n",
       "                        <td id=\"T_47d4e_row3_col0\" class=\"data row3 col0\" >ballCarrierDisplayName</td>\n",
       "                        <td id=\"T_47d4e_row3_col1\" class=\"data row3 col1\" >object</td>\n",
       "                        <td id=\"T_47d4e_row3_col2\" class=\"data row3 col2\" >0</td>\n",
       "                        <td id=\"T_47d4e_row3_col3\" class=\"data row3 col3\" >0.00%</td>\n",
       "                        <td id=\"T_47d4e_row3_col4\" class=\"data row3 col4\" >480</td>\n",
       "                        <td id=\"T_47d4e_row3_col5\" class=\"data row3 col5\" ></td>\n",
       "                        <td id=\"T_47d4e_row3_col6\" class=\"data row3 col6\" ></td>\n",
       "                        <td id=\"T_47d4e_row3_col7\" class=\"data row3 col7\" ></td>\n",
       "                        <td id=\"T_47d4e_row3_col8\" class=\"data row3 col8\" ></td>\n",
       "            </tr>\n",
       "            <tr>\n",
       "                        <th id=\"T_47d4e_level0_row4\" class=\"row_heading level0 row4\" >4</th>\n",
       "                        <td id=\"T_47d4e_row4_col0\" class=\"data row4 col0\" >playDescription</td>\n",
       "                        <td id=\"T_47d4e_row4_col1\" class=\"data row4 col1\" >object</td>\n",
       "                        <td id=\"T_47d4e_row4_col2\" class=\"data row4 col2\" >0</td>\n",
       "                        <td id=\"T_47d4e_row4_col3\" class=\"data row4 col3\" >0.00%</td>\n",
       "                        <td id=\"T_47d4e_row4_col4\" class=\"data row4 col4\" >12486</td>\n",
       "                        <td id=\"T_47d4e_row4_col5\" class=\"data row4 col5\" ></td>\n",
       "                        <td id=\"T_47d4e_row4_col6\" class=\"data row4 col6\" ></td>\n",
       "                        <td id=\"T_47d4e_row4_col7\" class=\"data row4 col7\" ></td>\n",
       "                        <td id=\"T_47d4e_row4_col8\" class=\"data row4 col8\" ></td>\n",
       "            </tr>\n",
       "            <tr>\n",
       "                        <th id=\"T_47d4e_level0_row5\" class=\"row_heading level0 row5\" >5</th>\n",
       "                        <td id=\"T_47d4e_row5_col0\" class=\"data row5 col0\" >quarter</td>\n",
       "                        <td id=\"T_47d4e_row5_col1\" class=\"data row5 col1\" >int64</td>\n",
       "                        <td id=\"T_47d4e_row5_col2\" class=\"data row5 col2\" >0</td>\n",
       "                        <td id=\"T_47d4e_row5_col3\" class=\"data row5 col3\" >0.00%</td>\n",
       "                        <td id=\"T_47d4e_row5_col4\" class=\"data row5 col4\" >5</td>\n",
       "                        <td id=\"T_47d4e_row5_col5\" class=\"data row5 col5\" >1</td>\n",
       "                        <td id=\"T_47d4e_row5_col6\" class=\"data row5 col6\" >5</td>\n",
       "                        <td id=\"T_47d4e_row5_col7\" class=\"data row5 col7\" >2.550136</td>\n",
       "                        <td id=\"T_47d4e_row5_col8\" class=\"data row5 col8\" >3.000000</td>\n",
       "            </tr>\n",
       "            <tr>\n",
       "                        <th id=\"T_47d4e_level0_row6\" class=\"row_heading level0 row6\" >6</th>\n",
       "                        <td id=\"T_47d4e_row6_col0\" class=\"data row6 col0\" >down</td>\n",
       "                        <td id=\"T_47d4e_row6_col1\" class=\"data row6 col1\" >int64</td>\n",
       "                        <td id=\"T_47d4e_row6_col2\" class=\"data row6 col2\" >0</td>\n",
       "                        <td id=\"T_47d4e_row6_col3\" class=\"data row6 col3\" >0.00%</td>\n",
       "                        <td id=\"T_47d4e_row6_col4\" class=\"data row6 col4\" >4</td>\n",
       "                        <td id=\"T_47d4e_row6_col5\" class=\"data row6 col5\" >1</td>\n",
       "                        <td id=\"T_47d4e_row6_col6\" class=\"data row6 col6\" >4</td>\n",
       "                        <td id=\"T_47d4e_row6_col7\" class=\"data row6 col7\" >1.727054</td>\n",
       "                        <td id=\"T_47d4e_row6_col8\" class=\"data row6 col8\" >2.000000</td>\n",
       "            </tr>\n",
       "            <tr>\n",
       "                        <th id=\"T_47d4e_level0_row7\" class=\"row_heading level0 row7\" >7</th>\n",
       "                        <td id=\"T_47d4e_row7_col0\" class=\"data row7 col0\" >yardsToGo</td>\n",
       "                        <td id=\"T_47d4e_row7_col1\" class=\"data row7 col1\" >int64</td>\n",
       "                        <td id=\"T_47d4e_row7_col2\" class=\"data row7 col2\" >0</td>\n",
       "                        <td id=\"T_47d4e_row7_col3\" class=\"data row7 col3\" >0.00%</td>\n",
       "                        <td id=\"T_47d4e_row7_col4\" class=\"data row7 col4\" >32</td>\n",
       "                        <td id=\"T_47d4e_row7_col5\" class=\"data row7 col5\" >1</td>\n",
       "                        <td id=\"T_47d4e_row7_col6\" class=\"data row7 col6\" >38</td>\n",
       "                        <td id=\"T_47d4e_row7_col7\" class=\"data row7 col7\" >8.469085</td>\n",
       "                        <td id=\"T_47d4e_row7_col8\" class=\"data row7 col8\" >10.000000</td>\n",
       "            </tr>\n",
       "            <tr>\n",
       "                        <th id=\"T_47d4e_level0_row8\" class=\"row_heading level0 row8\" >8</th>\n",
       "                        <td id=\"T_47d4e_row8_col0\" class=\"data row8 col0\" >possessionTeam</td>\n",
       "                        <td id=\"T_47d4e_row8_col1\" class=\"data row8 col1\" >object</td>\n",
       "                        <td id=\"T_47d4e_row8_col2\" class=\"data row8 col2\" >0</td>\n",
       "                        <td id=\"T_47d4e_row8_col3\" class=\"data row8 col3\" >0.00%</td>\n",
       "                        <td id=\"T_47d4e_row8_col4\" class=\"data row8 col4\" >32</td>\n",
       "                        <td id=\"T_47d4e_row8_col5\" class=\"data row8 col5\" ></td>\n",
       "                        <td id=\"T_47d4e_row8_col6\" class=\"data row8 col6\" ></td>\n",
       "                        <td id=\"T_47d4e_row8_col7\" class=\"data row8 col7\" ></td>\n",
       "                        <td id=\"T_47d4e_row8_col8\" class=\"data row8 col8\" ></td>\n",
       "            </tr>\n",
       "            <tr>\n",
       "                        <th id=\"T_47d4e_level0_row9\" class=\"row_heading level0 row9\" >9</th>\n",
       "                        <td id=\"T_47d4e_row9_col0\" class=\"data row9 col0\" >defensiveTeam</td>\n",
       "                        <td id=\"T_47d4e_row9_col1\" class=\"data row9 col1\" >object</td>\n",
       "                        <td id=\"T_47d4e_row9_col2\" class=\"data row9 col2\" >0</td>\n",
       "                        <td id=\"T_47d4e_row9_col3\" class=\"data row9 col3\" >0.00%</td>\n",
       "                        <td id=\"T_47d4e_row9_col4\" class=\"data row9 col4\" >32</td>\n",
       "                        <td id=\"T_47d4e_row9_col5\" class=\"data row9 col5\" ></td>\n",
       "                        <td id=\"T_47d4e_row9_col6\" class=\"data row9 col6\" ></td>\n",
       "                        <td id=\"T_47d4e_row9_col7\" class=\"data row9 col7\" ></td>\n",
       "                        <td id=\"T_47d4e_row9_col8\" class=\"data row9 col8\" ></td>\n",
       "            </tr>\n",
       "            <tr>\n",
       "                        <th id=\"T_47d4e_level0_row10\" class=\"row_heading level0 row10\" >10</th>\n",
       "                        <td id=\"T_47d4e_row10_col0\" class=\"data row10 col0\" >yardlineSide</td>\n",
       "                        <td id=\"T_47d4e_row10_col1\" class=\"data row10 col1\" >object</td>\n",
       "                        <td id=\"T_47d4e_row10_col2\" class=\"data row10 col2\" >167</td>\n",
       "                        <td id=\"T_47d4e_row10_col3\" class=\"data row10 col3\" >1.34%</td>\n",
       "                        <td id=\"T_47d4e_row10_col4\" class=\"data row10 col4\" >32</td>\n",
       "                        <td id=\"T_47d4e_row10_col5\" class=\"data row10 col5\" ></td>\n",
       "                        <td id=\"T_47d4e_row10_col6\" class=\"data row10 col6\" ></td>\n",
       "                        <td id=\"T_47d4e_row10_col7\" class=\"data row10 col7\" ></td>\n",
       "                        <td id=\"T_47d4e_row10_col8\" class=\"data row10 col8\" ></td>\n",
       "            </tr>\n",
       "            <tr>\n",
       "                        <th id=\"T_47d4e_level0_row11\" class=\"row_heading level0 row11\" >11</th>\n",
       "                        <td id=\"T_47d4e_row11_col0\" class=\"data row11 col0\" >yardlineNumber</td>\n",
       "                        <td id=\"T_47d4e_row11_col1\" class=\"data row11 col1\" >int64</td>\n",
       "                        <td id=\"T_47d4e_row11_col2\" class=\"data row11 col2\" >0</td>\n",
       "                        <td id=\"T_47d4e_row11_col3\" class=\"data row11 col3\" >0.00%</td>\n",
       "                        <td id=\"T_47d4e_row11_col4\" class=\"data row11 col4\" >50</td>\n",
       "                        <td id=\"T_47d4e_row11_col5\" class=\"data row11 col5\" >1</td>\n",
       "                        <td id=\"T_47d4e_row11_col6\" class=\"data row11 col6\" >50</td>\n",
       "                        <td id=\"T_47d4e_row11_col7\" class=\"data row11 col7\" >29.573122</td>\n",
       "                        <td id=\"T_47d4e_row11_col8\" class=\"data row11 col8\" >30.000000</td>\n",
       "            </tr>\n",
       "            <tr>\n",
       "                        <th id=\"T_47d4e_level0_row12\" class=\"row_heading level0 row12\" >12</th>\n",
       "                        <td id=\"T_47d4e_row12_col0\" class=\"data row12 col0\" >gameClock</td>\n",
       "                        <td id=\"T_47d4e_row12_col1\" class=\"data row12 col1\" >object</td>\n",
       "                        <td id=\"T_47d4e_row12_col2\" class=\"data row12 col2\" >0</td>\n",
       "                        <td id=\"T_47d4e_row12_col3\" class=\"data row12 col3\" >0.00%</td>\n",
       "                        <td id=\"T_47d4e_row12_col4\" class=\"data row12 col4\" >898</td>\n",
       "                        <td id=\"T_47d4e_row12_col5\" class=\"data row12 col5\" ></td>\n",
       "                        <td id=\"T_47d4e_row12_col6\" class=\"data row12 col6\" ></td>\n",
       "                        <td id=\"T_47d4e_row12_col7\" class=\"data row12 col7\" ></td>\n",
       "                        <td id=\"T_47d4e_row12_col8\" class=\"data row12 col8\" ></td>\n",
       "            </tr>\n",
       "            <tr>\n",
       "                        <th id=\"T_47d4e_level0_row13\" class=\"row_heading level0 row13\" >13</th>\n",
       "                        <td id=\"T_47d4e_row13_col0\" class=\"data row13 col0\" >preSnapHomeScore</td>\n",
       "                        <td id=\"T_47d4e_row13_col1\" class=\"data row13 col1\" >int64</td>\n",
       "                        <td id=\"T_47d4e_row13_col2\" class=\"data row13 col2\" >0</td>\n",
       "                        <td id=\"T_47d4e_row13_col3\" class=\"data row13 col3\" >0.00%</td>\n",
       "                        <td id=\"T_47d4e_row13_col4\" class=\"data row13 col4\" >42</td>\n",
       "                        <td id=\"T_47d4e_row13_col5\" class=\"data row13 col5\" >0</td>\n",
       "                        <td id=\"T_47d4e_row13_col6\" class=\"data row13 col6\" >49</td>\n",
       "                        <td id=\"T_47d4e_row13_col7\" class=\"data row13 col7\" >11.170671</td>\n",
       "                        <td id=\"T_47d4e_row13_col8\" class=\"data row13 col8\" >10.000000</td>\n",
       "            </tr>\n",
       "            <tr>\n",
       "                        <th id=\"T_47d4e_level0_row14\" class=\"row_heading level0 row14\" >14</th>\n",
       "                        <td id=\"T_47d4e_row14_col0\" class=\"data row14 col0\" >preSnapVisitorScore</td>\n",
       "                        <td id=\"T_47d4e_row14_col1\" class=\"data row14 col1\" >int64</td>\n",
       "                        <td id=\"T_47d4e_row14_col2\" class=\"data row14 col2\" >0</td>\n",
       "                        <td id=\"T_47d4e_row14_col3\" class=\"data row14 col3\" >0.00%</td>\n",
       "                        <td id=\"T_47d4e_row14_col4\" class=\"data row14 col4\" >36</td>\n",
       "                        <td id=\"T_47d4e_row14_col5\" class=\"data row14 col5\" >0</td>\n",
       "                        <td id=\"T_47d4e_row14_col6\" class=\"data row14 col6\" >48</td>\n",
       "                        <td id=\"T_47d4e_row14_col7\" class=\"data row14 col7\" >9.862967</td>\n",
       "                        <td id=\"T_47d4e_row14_col8\" class=\"data row14 col8\" >7.000000</td>\n",
       "            </tr>\n",
       "            <tr>\n",
       "                        <th id=\"T_47d4e_level0_row15\" class=\"row_heading level0 row15\" >15</th>\n",
       "                        <td id=\"T_47d4e_row15_col0\" class=\"data row15 col0\" >passResult</td>\n",
       "                        <td id=\"T_47d4e_row15_col1\" class=\"data row15 col1\" >object</td>\n",
       "                        <td id=\"T_47d4e_row15_col2\" class=\"data row15 col2\" >6381</td>\n",
       "                        <td id=\"T_47d4e_row15_col3\" class=\"data row15 col3\" >51.11%</td>\n",
       "                        <td id=\"T_47d4e_row15_col4\" class=\"data row15 col4\" >2</td>\n",
       "                        <td id=\"T_47d4e_row15_col5\" class=\"data row15 col5\" ></td>\n",
       "                        <td id=\"T_47d4e_row15_col6\" class=\"data row15 col6\" ></td>\n",
       "                        <td id=\"T_47d4e_row15_col7\" class=\"data row15 col7\" ></td>\n",
       "                        <td id=\"T_47d4e_row15_col8\" class=\"data row15 col8\" ></td>\n",
       "            </tr>\n",
       "            <tr>\n",
       "                        <th id=\"T_47d4e_level0_row16\" class=\"row_heading level0 row16\" >16</th>\n",
       "                        <td id=\"T_47d4e_row16_col0\" class=\"data row16 col0\" >passLength</td>\n",
       "                        <td id=\"T_47d4e_row16_col1\" class=\"data row16 col1\" >float64</td>\n",
       "                        <td id=\"T_47d4e_row16_col2\" class=\"data row16 col2\" >6852</td>\n",
       "                        <td id=\"T_47d4e_row16_col3\" class=\"data row16 col3\" >54.88%</td>\n",
       "                        <td id=\"T_47d4e_row16_col4\" class=\"data row16 col4\" >65</td>\n",
       "                        <td id=\"T_47d4e_row16_col5\" class=\"data row16 col5\" >-9.000000</td>\n",
       "                        <td id=\"T_47d4e_row16_col6\" class=\"data row16 col6\" >61.000000</td>\n",
       "                        <td id=\"T_47d4e_row16_col7\" class=\"data row16 col7\" >5.455982</td>\n",
       "                        <td id=\"T_47d4e_row16_col8\" class=\"data row16 col8\" >4.000000</td>\n",
       "            </tr>\n",
       "            <tr>\n",
       "                        <th id=\"T_47d4e_level0_row17\" class=\"row_heading level0 row17\" >17</th>\n",
       "                        <td id=\"T_47d4e_row17_col0\" class=\"data row17 col0\" >penaltyYards</td>\n",
       "                        <td id=\"T_47d4e_row17_col1\" class=\"data row17 col1\" >float64</td>\n",
       "                        <td id=\"T_47d4e_row17_col2\" class=\"data row17 col2\" >11871</td>\n",
       "                        <td id=\"T_47d4e_row17_col3\" class=\"data row17 col3\" >95.07%</td>\n",
       "                        <td id=\"T_47d4e_row17_col4\" class=\"data row17 col4\" >23</td>\n",
       "                        <td id=\"T_47d4e_row17_col5\" class=\"data row17 col5\" >-15.000000</td>\n",
       "                        <td id=\"T_47d4e_row17_col6\" class=\"data row17 col6\" >15.000000</td>\n",
       "                        <td id=\"T_47d4e_row17_col7\" class=\"data row17 col7\" >-2.091057</td>\n",
       "                        <td id=\"T_47d4e_row17_col8\" class=\"data row17 col8\" >-5.000000</td>\n",
       "            </tr>\n",
       "            <tr>\n",
       "                        <th id=\"T_47d4e_level0_row18\" class=\"row_heading level0 row18\" >18</th>\n",
       "                        <td id=\"T_47d4e_row18_col0\" class=\"data row18 col0\" >prePenaltyPlayResult</td>\n",
       "                        <td id=\"T_47d4e_row18_col1\" class=\"data row18 col1\" >int64</td>\n",
       "                        <td id=\"T_47d4e_row18_col2\" class=\"data row18 col2\" >0</td>\n",
       "                        <td id=\"T_47d4e_row18_col3\" class=\"data row18 col3\" >0.00%</td>\n",
       "                        <td id=\"T_47d4e_row18_col4\" class=\"data row18 col4\" >86</td>\n",
       "                        <td id=\"T_47d4e_row18_col5\" class=\"data row18 col5\" >-26</td>\n",
       "                        <td id=\"T_47d4e_row18_col6\" class=\"data row18 col6\" >98</td>\n",
       "                        <td id=\"T_47d4e_row18_col7\" class=\"data row18 col7\" >7.582012</td>\n",
       "                        <td id=\"T_47d4e_row18_col8\" class=\"data row18 col8\" >5.000000</td>\n",
       "            </tr>\n",
       "            <tr>\n",
       "                        <th id=\"T_47d4e_level0_row19\" class=\"row_heading level0 row19\" >19</th>\n",
       "                        <td id=\"T_47d4e_row19_col0\" class=\"data row19 col0\" >playResult</td>\n",
       "                        <td id=\"T_47d4e_row19_col1\" class=\"data row19 col1\" >int64</td>\n",
       "                        <td id=\"T_47d4e_row19_col2\" class=\"data row19 col2\" >0</td>\n",
       "                        <td id=\"T_47d4e_row19_col3\" class=\"data row19 col3\" >0.00%</td>\n",
       "                        <td id=\"T_47d4e_row19_col4\" class=\"data row19 col4\" >97</td>\n",
       "                        <td id=\"T_47d4e_row19_col5\" class=\"data row19 col5\" >-61</td>\n",
       "                        <td id=\"T_47d4e_row19_col6\" class=\"data row19 col6\" >98</td>\n",
       "                        <td id=\"T_47d4e_row19_col7\" class=\"data row19 col7\" >7.218565</td>\n",
       "                        <td id=\"T_47d4e_row19_col8\" class=\"data row19 col8\" >5.000000</td>\n",
       "            </tr>\n",
       "            <tr>\n",
       "                        <th id=\"T_47d4e_level0_row20\" class=\"row_heading level0 row20\" >20</th>\n",
       "                        <td id=\"T_47d4e_row20_col0\" class=\"data row20 col0\" >playNullifiedByPenalty</td>\n",
       "                        <td id=\"T_47d4e_row20_col1\" class=\"data row20 col1\" >object</td>\n",
       "                        <td id=\"T_47d4e_row20_col2\" class=\"data row20 col2\" >0</td>\n",
       "                        <td id=\"T_47d4e_row20_col3\" class=\"data row20 col3\" >0.00%</td>\n",
       "                        <td id=\"T_47d4e_row20_col4\" class=\"data row20 col4\" >2</td>\n",
       "                        <td id=\"T_47d4e_row20_col5\" class=\"data row20 col5\" ></td>\n",
       "                        <td id=\"T_47d4e_row20_col6\" class=\"data row20 col6\" ></td>\n",
       "                        <td id=\"T_47d4e_row20_col7\" class=\"data row20 col7\" ></td>\n",
       "                        <td id=\"T_47d4e_row20_col8\" class=\"data row20 col8\" ></td>\n",
       "            </tr>\n",
       "            <tr>\n",
       "                        <th id=\"T_47d4e_level0_row21\" class=\"row_heading level0 row21\" >21</th>\n",
       "                        <td id=\"T_47d4e_row21_col0\" class=\"data row21 col0\" >absoluteYardlineNumber</td>\n",
       "                        <td id=\"T_47d4e_row21_col1\" class=\"data row21 col1\" >int64</td>\n",
       "                        <td id=\"T_47d4e_row21_col2\" class=\"data row21 col2\" >0</td>\n",
       "                        <td id=\"T_47d4e_row21_col3\" class=\"data row21 col3\" >0.00%</td>\n",
       "                        <td id=\"T_47d4e_row21_col4\" class=\"data row21 col4\" >99</td>\n",
       "                        <td id=\"T_47d4e_row21_col5\" class=\"data row21 col5\" >11</td>\n",
       "                        <td id=\"T_47d4e_row21_col6\" class=\"data row21 col6\" >109</td>\n",
       "                        <td id=\"T_47d4e_row21_col7\" class=\"data row21 col7\" >60.426077</td>\n",
       "                        <td id=\"T_47d4e_row21_col8\" class=\"data row21 col8\" >61.000000</td>\n",
       "            </tr>\n",
       "            <tr>\n",
       "                        <th id=\"T_47d4e_level0_row22\" class=\"row_heading level0 row22\" >22</th>\n",
       "                        <td id=\"T_47d4e_row22_col0\" class=\"data row22 col0\" >offenseFormation</td>\n",
       "                        <td id=\"T_47d4e_row22_col1\" class=\"data row22 col1\" >object</td>\n",
       "                        <td id=\"T_47d4e_row22_col2\" class=\"data row22 col2\" >4</td>\n",
       "                        <td id=\"T_47d4e_row22_col3\" class=\"data row22 col3\" >0.03%</td>\n",
       "                        <td id=\"T_47d4e_row22_col4\" class=\"data row22 col4\" >7</td>\n",
       "                        <td id=\"T_47d4e_row22_col5\" class=\"data row22 col5\" ></td>\n",
       "                        <td id=\"T_47d4e_row22_col6\" class=\"data row22 col6\" ></td>\n",
       "                        <td id=\"T_47d4e_row22_col7\" class=\"data row22 col7\" ></td>\n",
       "                        <td id=\"T_47d4e_row22_col8\" class=\"data row22 col8\" ></td>\n",
       "            </tr>\n",
       "            <tr>\n",
       "                        <th id=\"T_47d4e_level0_row23\" class=\"row_heading level0 row23\" >23</th>\n",
       "                        <td id=\"T_47d4e_row23_col0\" class=\"data row23 col0\" >defendersInTheBox</td>\n",
       "                        <td id=\"T_47d4e_row23_col1\" class=\"data row23 col1\" >float64</td>\n",
       "                        <td id=\"T_47d4e_row23_col2\" class=\"data row23 col2\" >5</td>\n",
       "                        <td id=\"T_47d4e_row23_col3\" class=\"data row23 col3\" >0.04%</td>\n",
       "                        <td id=\"T_47d4e_row23_col4\" class=\"data row23 col4\" >11</td>\n",
       "                        <td id=\"T_47d4e_row23_col5\" class=\"data row23 col5\" >1.000000</td>\n",
       "                        <td id=\"T_47d4e_row23_col6\" class=\"data row23 col6\" >11.000000</td>\n",
       "                        <td id=\"T_47d4e_row23_col7\" class=\"data row23 col7\" >6.424085</td>\n",
       "                        <td id=\"T_47d4e_row23_col8\" class=\"data row23 col8\" >6.000000</td>\n",
       "            </tr>\n",
       "            <tr>\n",
       "                        <th id=\"T_47d4e_level0_row24\" class=\"row_heading level0 row24\" >24</th>\n",
       "                        <td id=\"T_47d4e_row24_col0\" class=\"data row24 col0\" >passProbability</td>\n",
       "                        <td id=\"T_47d4e_row24_col1\" class=\"data row24 col1\" >float64</td>\n",
       "                        <td id=\"T_47d4e_row24_col2\" class=\"data row24 col2\" >337</td>\n",
       "                        <td id=\"T_47d4e_row24_col3\" class=\"data row24 col3\" >2.70%</td>\n",
       "                        <td id=\"T_47d4e_row24_col4\" class=\"data row24 col4\" >11554</td>\n",
       "                        <td id=\"T_47d4e_row24_col5\" class=\"data row24 col5\" >0.005607</td>\n",
       "                        <td id=\"T_47d4e_row24_col6\" class=\"data row24 col6\" >0.996206</td>\n",
       "                        <td id=\"T_47d4e_row24_col7\" class=\"data row24 col7\" >0.603845</td>\n",
       "                        <td id=\"T_47d4e_row24_col8\" class=\"data row24 col8\" >0.584451</td>\n",
       "            </tr>\n",
       "            <tr>\n",
       "                        <th id=\"T_47d4e_level0_row25\" class=\"row_heading level0 row25\" >25</th>\n",
       "                        <td id=\"T_47d4e_row25_col0\" class=\"data row25 col0\" >preSnapHomeTeamWinProbability</td>\n",
       "                        <td id=\"T_47d4e_row25_col1\" class=\"data row25 col1\" >float64</td>\n",
       "                        <td id=\"T_47d4e_row25_col2\" class=\"data row25 col2\" >0</td>\n",
       "                        <td id=\"T_47d4e_row25_col3\" class=\"data row25 col3\" >0.00%</td>\n",
       "                        <td id=\"T_47d4e_row25_col4\" class=\"data row25 col4\" >12429</td>\n",
       "                        <td id=\"T_47d4e_row25_col5\" class=\"data row25 col5\" >0.001049</td>\n",
       "                        <td id=\"T_47d4e_row25_col6\" class=\"data row25 col6\" >0.999175</td>\n",
       "                        <td id=\"T_47d4e_row25_col7\" class=\"data row25 col7\" >0.556236</td>\n",
       "                        <td id=\"T_47d4e_row25_col8\" class=\"data row25 col8\" >0.585621</td>\n",
       "            </tr>\n",
       "            <tr>\n",
       "                        <th id=\"T_47d4e_level0_row26\" class=\"row_heading level0 row26\" >26</th>\n",
       "                        <td id=\"T_47d4e_row26_col0\" class=\"data row26 col0\" >preSnapVisitorTeamWinProbability</td>\n",
       "                        <td id=\"T_47d4e_row26_col1\" class=\"data row26 col1\" >float64</td>\n",
       "                        <td id=\"T_47d4e_row26_col2\" class=\"data row26 col2\" >0</td>\n",
       "                        <td id=\"T_47d4e_row26_col3\" class=\"data row26 col3\" >0.00%</td>\n",
       "                        <td id=\"T_47d4e_row26_col4\" class=\"data row26 col4\" >12429</td>\n",
       "                        <td id=\"T_47d4e_row26_col5\" class=\"data row26 col5\" >0.000825</td>\n",
       "                        <td id=\"T_47d4e_row26_col6\" class=\"data row26 col6\" >0.998951</td>\n",
       "                        <td id=\"T_47d4e_row26_col7\" class=\"data row26 col7\" >0.443764</td>\n",
       "                        <td id=\"T_47d4e_row26_col8\" class=\"data row26 col8\" >0.414379</td>\n",
       "            </tr>\n",
       "            <tr>\n",
       "                        <th id=\"T_47d4e_level0_row27\" class=\"row_heading level0 row27\" >27</th>\n",
       "                        <td id=\"T_47d4e_row27_col0\" class=\"data row27 col0\" >homeTeamWinProbabilityAdded</td>\n",
       "                        <td id=\"T_47d4e_row27_col1\" class=\"data row27 col1\" >float64</td>\n",
       "                        <td id=\"T_47d4e_row27_col2\" class=\"data row27 col2\" >0</td>\n",
       "                        <td id=\"T_47d4e_row27_col3\" class=\"data row27 col3\" >0.00%</td>\n",
       "                        <td id=\"T_47d4e_row27_col4\" class=\"data row27 col4\" >12410</td>\n",
       "                        <td id=\"T_47d4e_row27_col5\" class=\"data row27 col5\" >-0.521181</td>\n",
       "                        <td id=\"T_47d4e_row27_col6\" class=\"data row27 col6\" >0.471527</td>\n",
       "                        <td id=\"T_47d4e_row27_col7\" class=\"data row27 col7\" >0.000110</td>\n",
       "                        <td id=\"T_47d4e_row27_col8\" class=\"data row27 col8\" >0.000008</td>\n",
       "            </tr>\n",
       "            <tr>\n",
       "                        <th id=\"T_47d4e_level0_row28\" class=\"row_heading level0 row28\" >28</th>\n",
       "                        <td id=\"T_47d4e_row28_col0\" class=\"data row28 col0\" >visitorTeamWinProbilityAdded</td>\n",
       "                        <td id=\"T_47d4e_row28_col1\" class=\"data row28 col1\" >float64</td>\n",
       "                        <td id=\"T_47d4e_row28_col2\" class=\"data row28 col2\" >0</td>\n",
       "                        <td id=\"T_47d4e_row28_col3\" class=\"data row28 col3\" >0.00%</td>\n",
       "                        <td id=\"T_47d4e_row28_col4\" class=\"data row28 col4\" >12410</td>\n",
       "                        <td id=\"T_47d4e_row28_col5\" class=\"data row28 col5\" >-0.471527</td>\n",
       "                        <td id=\"T_47d4e_row28_col6\" class=\"data row28 col6\" >0.521181</td>\n",
       "                        <td id=\"T_47d4e_row28_col7\" class=\"data row28 col7\" >-0.000110</td>\n",
       "                        <td id=\"T_47d4e_row28_col8\" class=\"data row28 col8\" >-0.000008</td>\n",
       "            </tr>\n",
       "            <tr>\n",
       "                        <th id=\"T_47d4e_level0_row29\" class=\"row_heading level0 row29\" >29</th>\n",
       "                        <td id=\"T_47d4e_row29_col0\" class=\"data row29 col0\" >expectedPoints</td>\n",
       "                        <td id=\"T_47d4e_row29_col1\" class=\"data row29 col1\" >float64</td>\n",
       "                        <td id=\"T_47d4e_row29_col2\" class=\"data row29 col2\" >0</td>\n",
       "                        <td id=\"T_47d4e_row29_col3\" class=\"data row29 col3\" >0.00%</td>\n",
       "                        <td id=\"T_47d4e_row29_col4\" class=\"data row29 col4\" >12104</td>\n",
       "                        <td id=\"T_47d4e_row29_col5\" class=\"data row29 col5\" >-2.366872</td>\n",
       "                        <td id=\"T_47d4e_row29_col6\" class=\"data row29 col6\" >6.558894</td>\n",
       "                        <td id=\"T_47d4e_row29_col7\" class=\"data row29 col7\" >2.258360</td>\n",
       "                        <td id=\"T_47d4e_row29_col8\" class=\"data row29 col8\" >2.031321</td>\n",
       "            </tr>\n",
       "            <tr>\n",
       "                        <th id=\"T_47d4e_level0_row30\" class=\"row_heading level0 row30\" >30</th>\n",
       "                        <td id=\"T_47d4e_row30_col0\" class=\"data row30 col0\" >expectedPointsAdded</td>\n",
       "                        <td id=\"T_47d4e_row30_col1\" class=\"data row30 col1\" >float64</td>\n",
       "                        <td id=\"T_47d4e_row30_col2\" class=\"data row30 col2\" >1</td>\n",
       "                        <td id=\"T_47d4e_row30_col3\" class=\"data row30 col3\" >0.01%</td>\n",
       "                        <td id=\"T_47d4e_row30_col4\" class=\"data row30 col4\" >12450</td>\n",
       "                        <td id=\"T_47d4e_row30_col5\" class=\"data row30 col5\" >-9.986150</td>\n",
       "                        <td id=\"T_47d4e_row30_col6\" class=\"data row30 col6\" >8.698986</td>\n",
       "                        <td id=\"T_47d4e_row30_col7\" class=\"data row30 col7\" >0.297367</td>\n",
       "                        <td id=\"T_47d4e_row30_col8\" class=\"data row30 col8\" >0.112532</td>\n",
       "            </tr>\n",
       "            <tr>\n",
       "                        <th id=\"T_47d4e_level0_row31\" class=\"row_heading level0 row31\" >31</th>\n",
       "                        <td id=\"T_47d4e_row31_col0\" class=\"data row31 col0\" >foulName1</td>\n",
       "                        <td id=\"T_47d4e_row31_col1\" class=\"data row31 col1\" >object</td>\n",
       "                        <td id=\"T_47d4e_row31_col2\" class=\"data row31 col2\" >11894</td>\n",
       "                        <td id=\"T_47d4e_row31_col3\" class=\"data row31 col3\" >95.26%</td>\n",
       "                        <td id=\"T_47d4e_row31_col4\" class=\"data row31 col4\" >25</td>\n",
       "                        <td id=\"T_47d4e_row31_col5\" class=\"data row31 col5\" ></td>\n",
       "                        <td id=\"T_47d4e_row31_col6\" class=\"data row31 col6\" ></td>\n",
       "                        <td id=\"T_47d4e_row31_col7\" class=\"data row31 col7\" ></td>\n",
       "                        <td id=\"T_47d4e_row31_col8\" class=\"data row31 col8\" ></td>\n",
       "            </tr>\n",
       "            <tr>\n",
       "                        <th id=\"T_47d4e_level0_row32\" class=\"row_heading level0 row32\" >32</th>\n",
       "                        <td id=\"T_47d4e_row32_col0\" class=\"data row32 col0\" >foulName2</td>\n",
       "                        <td id=\"T_47d4e_row32_col1\" class=\"data row32 col1\" >object</td>\n",
       "                        <td id=\"T_47d4e_row32_col2\" class=\"data row32 col2\" >12461</td>\n",
       "                        <td id=\"T_47d4e_row32_col3\" class=\"data row32 col3\" >99.80%</td>\n",
       "                        <td id=\"T_47d4e_row32_col4\" class=\"data row32 col4\" >10</td>\n",
       "                        <td id=\"T_47d4e_row32_col5\" class=\"data row32 col5\" ></td>\n",
       "                        <td id=\"T_47d4e_row32_col6\" class=\"data row32 col6\" ></td>\n",
       "                        <td id=\"T_47d4e_row32_col7\" class=\"data row32 col7\" ></td>\n",
       "                        <td id=\"T_47d4e_row32_col8\" class=\"data row32 col8\" ></td>\n",
       "            </tr>\n",
       "            <tr>\n",
       "                        <th id=\"T_47d4e_level0_row33\" class=\"row_heading level0 row33\" >33</th>\n",
       "                        <td id=\"T_47d4e_row33_col0\" class=\"data row33 col0\" >foulNFLId1</td>\n",
       "                        <td id=\"T_47d4e_row33_col1\" class=\"data row33 col1\" >float64</td>\n",
       "                        <td id=\"T_47d4e_row33_col2\" class=\"data row33 col2\" >11894</td>\n",
       "                        <td id=\"T_47d4e_row33_col3\" class=\"data row33 col3\" >95.26%</td>\n",
       "                        <td id=\"T_47d4e_row33_col4\" class=\"data row33 col4\" >420</td>\n",
       "                        <td id=\"T_47d4e_row33_col5\" class=\"data row33 col5\" >33107.000000</td>\n",
       "                        <td id=\"T_47d4e_row33_col6\" class=\"data row33 col6\" >55157.000000</td>\n",
       "                        <td id=\"T_47d4e_row33_col7\" class=\"data row33 col7\" >47759.856419</td>\n",
       "                        <td id=\"T_47d4e_row33_col8\" class=\"data row33 col8\" >47793.500000</td>\n",
       "            </tr>\n",
       "            <tr>\n",
       "                        <th id=\"T_47d4e_level0_row34\" class=\"row_heading level0 row34\" >34</th>\n",
       "                        <td id=\"T_47d4e_row34_col0\" class=\"data row34 col0\" >foulNFLId2</td>\n",
       "                        <td id=\"T_47d4e_row34_col1\" class=\"data row34 col1\" >float64</td>\n",
       "                        <td id=\"T_47d4e_row34_col2\" class=\"data row34 col2\" >12461</td>\n",
       "                        <td id=\"T_47d4e_row34_col3\" class=\"data row34 col3\" >99.80%</td>\n",
       "                        <td id=\"T_47d4e_row34_col4\" class=\"data row34 col4\" >25</td>\n",
       "                        <td id=\"T_47d4e_row34_col5\" class=\"data row34 col5\" >43586.000000</td>\n",
       "                        <td id=\"T_47d4e_row34_col6\" class=\"data row34 col6\" >54650.000000</td>\n",
       "                        <td id=\"T_47d4e_row34_col7\" class=\"data row34 col7\" >50000.560000</td>\n",
       "                        <td id=\"T_47d4e_row34_col8\" class=\"data row34 col8\" >48089.000000</td>\n",
       "            </tr>\n",
       "    </tbody></table>"
      ],
      "text/plain": [
       "<pandas.io.formats.style.Styler at 0x267b56a2550>"
      ]
     },
     "metadata": {},
     "output_type": "display_data"
    }
   ],
   "source": [
    "# 调用函数并打印生成的表格\n",
    "plays_data_summary = generate_summary_table(plays_data)"
   ]
  },
  {
   "cell_type": "markdown",
   "metadata": {},
   "source": [
    "4. 铲球数据tackles.csv分析"
   ]
  },
  {
   "cell_type": "code",
   "execution_count": 10,
   "metadata": {},
   "outputs": [
    {
     "data": {
      "text/html": [
       "<div>\n",
       "<style scoped>\n",
       "    .dataframe tbody tr th:only-of-type {\n",
       "        vertical-align: middle;\n",
       "    }\n",
       "\n",
       "    .dataframe tbody tr th {\n",
       "        vertical-align: top;\n",
       "    }\n",
       "\n",
       "    .dataframe thead th {\n",
       "        text-align: right;\n",
       "    }\n",
       "</style>\n",
       "<table border=\"1\" class=\"dataframe\">\n",
       "  <thead>\n",
       "    <tr style=\"text-align: right;\">\n",
       "      <th></th>\n",
       "      <th>gameId</th>\n",
       "      <th>playId</th>\n",
       "      <th>nflId</th>\n",
       "      <th>tackle</th>\n",
       "      <th>assist</th>\n",
       "      <th>forcedFumble</th>\n",
       "      <th>pff_missedTackle</th>\n",
       "    </tr>\n",
       "  </thead>\n",
       "  <tbody>\n",
       "    <tr>\n",
       "      <th>0</th>\n",
       "      <td>2022090800</td>\n",
       "      <td>101</td>\n",
       "      <td>42816</td>\n",
       "      <td>1</td>\n",
       "      <td>0</td>\n",
       "      <td>0</td>\n",
       "      <td>0</td>\n",
       "    </tr>\n",
       "    <tr>\n",
       "      <th>1</th>\n",
       "      <td>2022090800</td>\n",
       "      <td>393</td>\n",
       "      <td>46232</td>\n",
       "      <td>1</td>\n",
       "      <td>0</td>\n",
       "      <td>0</td>\n",
       "      <td>0</td>\n",
       "    </tr>\n",
       "    <tr>\n",
       "      <th>2</th>\n",
       "      <td>2022090800</td>\n",
       "      <td>486</td>\n",
       "      <td>40166</td>\n",
       "      <td>1</td>\n",
       "      <td>0</td>\n",
       "      <td>0</td>\n",
       "      <td>0</td>\n",
       "    </tr>\n",
       "    <tr>\n",
       "      <th>3</th>\n",
       "      <td>2022090800</td>\n",
       "      <td>646</td>\n",
       "      <td>47939</td>\n",
       "      <td>1</td>\n",
       "      <td>0</td>\n",
       "      <td>0</td>\n",
       "      <td>0</td>\n",
       "    </tr>\n",
       "    <tr>\n",
       "      <th>4</th>\n",
       "      <td>2022090800</td>\n",
       "      <td>818</td>\n",
       "      <td>40107</td>\n",
       "      <td>1</td>\n",
       "      <td>0</td>\n",
       "      <td>0</td>\n",
       "      <td>0</td>\n",
       "    </tr>\n",
       "  </tbody>\n",
       "</table>\n",
       "</div>"
      ],
      "text/plain": [
       "       gameId  playId  nflId  tackle  assist  forcedFumble  pff_missedTackle\n",
       "0  2022090800     101  42816       1       0             0                 0\n",
       "1  2022090800     393  46232       1       0             0                 0\n",
       "2  2022090800     486  40166       1       0             0                 0\n",
       "3  2022090800     646  47939       1       0             0                 0\n",
       "4  2022090800     818  40107       1       0             0                 0"
      ]
     },
     "execution_count": 10,
     "metadata": {},
     "output_type": "execute_result"
    }
   ],
   "source": [
    "tackles_data.head()"
   ]
  },
  {
   "cell_type": "markdown",
   "metadata": {},
   "source": [
    "生成表格信息统计图"
   ]
  },
  {
   "cell_type": "code",
   "execution_count": 11,
   "metadata": {},
   "outputs": [
    {
     "name": "stdout",
     "output_type": "stream",
     "text": [
      "表格信息统计:\n"
     ]
    },
    {
     "data": {
      "text/html": [
       "<style  type=\"text/css\" >\n",
       "#T_730c7_row0_col0,#T_730c7_row0_col1,#T_730c7_row0_col2,#T_730c7_row0_col3,#T_730c7_row0_col4,#T_730c7_row0_col5,#T_730c7_row0_col6,#T_730c7_row0_col7,#T_730c7_row0_col8,#T_730c7_row1_col0,#T_730c7_row1_col1,#T_730c7_row1_col2,#T_730c7_row1_col3,#T_730c7_row1_col4,#T_730c7_row1_col5,#T_730c7_row1_col6,#T_730c7_row1_col7,#T_730c7_row1_col8,#T_730c7_row2_col0,#T_730c7_row2_col1,#T_730c7_row2_col2,#T_730c7_row2_col3,#T_730c7_row2_col4,#T_730c7_row2_col5,#T_730c7_row2_col6,#T_730c7_row2_col7,#T_730c7_row2_col8,#T_730c7_row3_col0,#T_730c7_row3_col1,#T_730c7_row3_col2,#T_730c7_row3_col3,#T_730c7_row3_col4,#T_730c7_row3_col5,#T_730c7_row3_col6,#T_730c7_row3_col7,#T_730c7_row3_col8,#T_730c7_row4_col0,#T_730c7_row4_col1,#T_730c7_row4_col2,#T_730c7_row4_col3,#T_730c7_row4_col4,#T_730c7_row4_col5,#T_730c7_row4_col6,#T_730c7_row4_col7,#T_730c7_row4_col8,#T_730c7_row5_col0,#T_730c7_row5_col1,#T_730c7_row5_col2,#T_730c7_row5_col3,#T_730c7_row5_col4,#T_730c7_row5_col5,#T_730c7_row5_col6,#T_730c7_row5_col7,#T_730c7_row5_col8,#T_730c7_row6_col0,#T_730c7_row6_col1,#T_730c7_row6_col2,#T_730c7_row6_col3,#T_730c7_row6_col4,#T_730c7_row6_col5,#T_730c7_row6_col6,#T_730c7_row6_col7,#T_730c7_row6_col8{\n",
       "            text-align:  center;\n",
       "        }</style><table id=\"T_730c7_\" ><thead>    <tr>        <th class=\"blank level0\" ></th>        <th class=\"col_heading level0 col0\" >Column</th>        <th class=\"col_heading level0 col1\" >Data Type</th>        <th class=\"col_heading level0 col2\" >Missing Values</th>        <th class=\"col_heading level0 col3\" >Missing %</th>        <th class=\"col_heading level0 col4\" >Unique Values</th>        <th class=\"col_heading level0 col5\" >Min</th>        <th class=\"col_heading level0 col6\" >Max</th>        <th class=\"col_heading level0 col7\" >Mean</th>        <th class=\"col_heading level0 col8\" >Median</th>    </tr></thead><tbody>\n",
       "                <tr>\n",
       "                        <th id=\"T_730c7_level0_row0\" class=\"row_heading level0 row0\" >0</th>\n",
       "                        <td id=\"T_730c7_row0_col0\" class=\"data row0 col0\" >gameId</td>\n",
       "                        <td id=\"T_730c7_row0_col1\" class=\"data row0 col1\" >int64</td>\n",
       "                        <td id=\"T_730c7_row0_col2\" class=\"data row0 col2\" >0</td>\n",
       "                        <td id=\"T_730c7_row0_col3\" class=\"data row0 col3\" >0.00%</td>\n",
       "                        <td id=\"T_730c7_row0_col4\" class=\"data row0 col4\" >136</td>\n",
       "                        <td id=\"T_730c7_row0_col5\" class=\"data row0 col5\" >2022090800</td>\n",
       "                        <td id=\"T_730c7_row0_col6\" class=\"data row0 col6\" >2022110700</td>\n",
       "                        <td id=\"T_730c7_row0_col7\" class=\"data row0 col7\" >2022098971.441123</td>\n",
       "                        <td id=\"T_730c7_row0_col8\" class=\"data row0 col8\" >2022100903.000000</td>\n",
       "            </tr>\n",
       "            <tr>\n",
       "                        <th id=\"T_730c7_level0_row1\" class=\"row_heading level0 row1\" >1</th>\n",
       "                        <td id=\"T_730c7_row1_col0\" class=\"data row1 col0\" >playId</td>\n",
       "                        <td id=\"T_730c7_row1_col1\" class=\"data row1 col1\" >int64</td>\n",
       "                        <td id=\"T_730c7_row1_col2\" class=\"data row1 col2\" >0</td>\n",
       "                        <td id=\"T_730c7_row1_col3\" class=\"data row1 col3\" >0.00%</td>\n",
       "                        <td id=\"T_730c7_row1_col4\" class=\"data row1 col4\" >3943</td>\n",
       "                        <td id=\"T_730c7_row1_col5\" class=\"data row1 col5\" >54</td>\n",
       "                        <td id=\"T_730c7_row1_col6\" class=\"data row1 col6\" >5096</td>\n",
       "                        <td id=\"T_730c7_row1_col7\" class=\"data row1 col7\" >1982.974578</td>\n",
       "                        <td id=\"T_730c7_row1_col8\" class=\"data row1 col8\" >1991.000000</td>\n",
       "            </tr>\n",
       "            <tr>\n",
       "                        <th id=\"T_730c7_level0_row2\" class=\"row_heading level0 row2\" >2</th>\n",
       "                        <td id=\"T_730c7_row2_col0\" class=\"data row2 col0\" >nflId</td>\n",
       "                        <td id=\"T_730c7_row2_col1\" class=\"data row2 col1\" >int64</td>\n",
       "                        <td id=\"T_730c7_row2_col2\" class=\"data row2 col2\" >0</td>\n",
       "                        <td id=\"T_730c7_row2_col3\" class=\"data row2 col3\" >0.00%</td>\n",
       "                        <td id=\"T_730c7_row2_col4\" class=\"data row2 col4\" >800</td>\n",
       "                        <td id=\"T_730c7_row2_col5\" class=\"data row2 col5\" >33131</td>\n",
       "                        <td id=\"T_730c7_row2_col6\" class=\"data row2 col6\" >55241</td>\n",
       "                        <td id=\"T_730c7_row2_col7\" class=\"data row2 col7\" >47602.719442</td>\n",
       "                        <td id=\"T_730c7_row2_col8\" class=\"data row2 col8\" >46669.000000</td>\n",
       "            </tr>\n",
       "            <tr>\n",
       "                        <th id=\"T_730c7_level0_row3\" class=\"row_heading level0 row3\" >3</th>\n",
       "                        <td id=\"T_730c7_row3_col0\" class=\"data row3 col0\" >tackle</td>\n",
       "                        <td id=\"T_730c7_row3_col1\" class=\"data row3 col1\" >int64</td>\n",
       "                        <td id=\"T_730c7_row3_col2\" class=\"data row3 col2\" >0</td>\n",
       "                        <td id=\"T_730c7_row3_col3\" class=\"data row3 col3\" >0.00%</td>\n",
       "                        <td id=\"T_730c7_row3_col4\" class=\"data row3 col4\" >2</td>\n",
       "                        <td id=\"T_730c7_row3_col5\" class=\"data row3 col5\" >0</td>\n",
       "                        <td id=\"T_730c7_row3_col6\" class=\"data row3 col6\" >1</td>\n",
       "                        <td id=\"T_730c7_row3_col7\" class=\"data row3 col7\" >0.569207</td>\n",
       "                        <td id=\"T_730c7_row3_col8\" class=\"data row3 col8\" >1.000000</td>\n",
       "            </tr>\n",
       "            <tr>\n",
       "                        <th id=\"T_730c7_level0_row4\" class=\"row_heading level0 row4\" >4</th>\n",
       "                        <td id=\"T_730c7_row4_col0\" class=\"data row4 col0\" >assist</td>\n",
       "                        <td id=\"T_730c7_row4_col1\" class=\"data row4 col1\" >int64</td>\n",
       "                        <td id=\"T_730c7_row4_col2\" class=\"data row4 col2\" >0</td>\n",
       "                        <td id=\"T_730c7_row4_col3\" class=\"data row4 col3\" >0.00%</td>\n",
       "                        <td id=\"T_730c7_row4_col4\" class=\"data row4 col4\" >2</td>\n",
       "                        <td id=\"T_730c7_row4_col5\" class=\"data row4 col5\" >0</td>\n",
       "                        <td id=\"T_730c7_row4_col6\" class=\"data row4 col6\" >1</td>\n",
       "                        <td id=\"T_730c7_row4_col7\" class=\"data row4 col7\" >0.315276</td>\n",
       "                        <td id=\"T_730c7_row4_col8\" class=\"data row4 col8\" >0.000000</td>\n",
       "            </tr>\n",
       "            <tr>\n",
       "                        <th id=\"T_730c7_level0_row5\" class=\"row_heading level0 row5\" >5</th>\n",
       "                        <td id=\"T_730c7_row5_col0\" class=\"data row5 col0\" >forcedFumble</td>\n",
       "                        <td id=\"T_730c7_row5_col1\" class=\"data row5 col1\" >int64</td>\n",
       "                        <td id=\"T_730c7_row5_col2\" class=\"data row5 col2\" >0</td>\n",
       "                        <td id=\"T_730c7_row5_col3\" class=\"data row5 col3\" >0.00%</td>\n",
       "                        <td id=\"T_730c7_row5_col4\" class=\"data row5 col4\" >2</td>\n",
       "                        <td id=\"T_730c7_row5_col5\" class=\"data row5 col5\" >0</td>\n",
       "                        <td id=\"T_730c7_row5_col6\" class=\"data row5 col6\" >1</td>\n",
       "                        <td id=\"T_730c7_row5_col7\" class=\"data row5 col7\" >0.005681</td>\n",
       "                        <td id=\"T_730c7_row5_col8\" class=\"data row5 col8\" >0.000000</td>\n",
       "            </tr>\n",
       "            <tr>\n",
       "                        <th id=\"T_730c7_level0_row6\" class=\"row_heading level0 row6\" >6</th>\n",
       "                        <td id=\"T_730c7_row6_col0\" class=\"data row6 col0\" >pff_missedTackle</td>\n",
       "                        <td id=\"T_730c7_row6_col1\" class=\"data row6 col1\" >int64</td>\n",
       "                        <td id=\"T_730c7_row6_col2\" class=\"data row6 col2\" >0</td>\n",
       "                        <td id=\"T_730c7_row6_col3\" class=\"data row6 col3\" >0.00%</td>\n",
       "                        <td id=\"T_730c7_row6_col4\" class=\"data row6 col4\" >2</td>\n",
       "                        <td id=\"T_730c7_row6_col5\" class=\"data row6 col5\" >0</td>\n",
       "                        <td id=\"T_730c7_row6_col6\" class=\"data row6 col6\" >1</td>\n",
       "                        <td id=\"T_730c7_row6_col7\" class=\"data row6 col7\" >0.119936</td>\n",
       "                        <td id=\"T_730c7_row6_col8\" class=\"data row6 col8\" >0.000000</td>\n",
       "            </tr>\n",
       "    </tbody></table>"
      ],
      "text/plain": [
       "<pandas.io.formats.style.Styler at 0x267b56dcdf0>"
      ]
     },
     "metadata": {},
     "output_type": "display_data"
    }
   ],
   "source": [
    "# 调用函数并打印生成的表格\n",
    "tackles_data_summary = generate_summary_table(tackles_data)"
   ]
  },
  {
   "cell_type": "markdown",
   "metadata": {},
   "source": [
    "# 2. 标准化数据 <a class=\"anchor\"  id=\"1\"></a>"
   ]
  },
  {
   "cell_type": "markdown",
   "metadata": {},
   "source": [
    "1. games.csv\n",
    "\n",
    "首先对该表格内容进行数据清洗与可视化\n",
    "\n",
    "由之前信息可得此表中没有出现数据缺失的情况，因此可以直接处理\n",
    "\n",
    "得分分布 - 直方图展示主队和客队得分的分布情况"
   ]
  },
  {
   "cell_type": "code",
   "execution_count": 12,
   "metadata": {},
   "outputs": [
    {
     "name": "stdout",
     "output_type": "stream",
     "text": [
      "表格信息统计:\n"
     ]
    },
    {
     "data": {
      "text/html": [
       "<style  type=\"text/css\" >\n",
       "#T_9516d_row0_col0,#T_9516d_row0_col1,#T_9516d_row0_col2,#T_9516d_row0_col3,#T_9516d_row0_col4,#T_9516d_row0_col5,#T_9516d_row0_col6,#T_9516d_row0_col7,#T_9516d_row0_col8,#T_9516d_row1_col0,#T_9516d_row1_col1,#T_9516d_row1_col2,#T_9516d_row1_col3,#T_9516d_row1_col4,#T_9516d_row1_col5,#T_9516d_row1_col6,#T_9516d_row1_col7,#T_9516d_row1_col8,#T_9516d_row2_col0,#T_9516d_row2_col1,#T_9516d_row2_col2,#T_9516d_row2_col3,#T_9516d_row2_col4,#T_9516d_row2_col5,#T_9516d_row2_col6,#T_9516d_row2_col7,#T_9516d_row2_col8,#T_9516d_row3_col0,#T_9516d_row3_col1,#T_9516d_row3_col2,#T_9516d_row3_col3,#T_9516d_row3_col4,#T_9516d_row3_col5,#T_9516d_row3_col6,#T_9516d_row3_col7,#T_9516d_row3_col8,#T_9516d_row4_col0,#T_9516d_row4_col1,#T_9516d_row4_col2,#T_9516d_row4_col3,#T_9516d_row4_col4,#T_9516d_row4_col5,#T_9516d_row4_col6,#T_9516d_row4_col7,#T_9516d_row4_col8,#T_9516d_row5_col0,#T_9516d_row5_col1,#T_9516d_row5_col2,#T_9516d_row5_col3,#T_9516d_row5_col4,#T_9516d_row5_col5,#T_9516d_row5_col6,#T_9516d_row5_col7,#T_9516d_row5_col8,#T_9516d_row6_col0,#T_9516d_row6_col1,#T_9516d_row6_col2,#T_9516d_row6_col3,#T_9516d_row6_col4,#T_9516d_row6_col5,#T_9516d_row6_col6,#T_9516d_row6_col7,#T_9516d_row6_col8,#T_9516d_row7_col0,#T_9516d_row7_col1,#T_9516d_row7_col2,#T_9516d_row7_col3,#T_9516d_row7_col4,#T_9516d_row7_col5,#T_9516d_row7_col6,#T_9516d_row7_col7,#T_9516d_row7_col8,#T_9516d_row8_col0,#T_9516d_row8_col1,#T_9516d_row8_col2,#T_9516d_row8_col3,#T_9516d_row8_col4,#T_9516d_row8_col5,#T_9516d_row8_col6,#T_9516d_row8_col7,#T_9516d_row8_col8{\n",
       "            text-align:  center;\n",
       "        }</style><table id=\"T_9516d_\" ><thead>    <tr>        <th class=\"blank level0\" ></th>        <th class=\"col_heading level0 col0\" >Column</th>        <th class=\"col_heading level0 col1\" >Data Type</th>        <th class=\"col_heading level0 col2\" >Missing Values</th>        <th class=\"col_heading level0 col3\" >Missing %</th>        <th class=\"col_heading level0 col4\" >Unique Values</th>        <th class=\"col_heading level0 col5\" >Min</th>        <th class=\"col_heading level0 col6\" >Max</th>        <th class=\"col_heading level0 col7\" >Mean</th>        <th class=\"col_heading level0 col8\" >Median</th>    </tr></thead><tbody>\n",
       "                <tr>\n",
       "                        <th id=\"T_9516d_level0_row0\" class=\"row_heading level0 row0\" >0</th>\n",
       "                        <td id=\"T_9516d_row0_col0\" class=\"data row0 col0\" >gameId</td>\n",
       "                        <td id=\"T_9516d_row0_col1\" class=\"data row0 col1\" >int64</td>\n",
       "                        <td id=\"T_9516d_row0_col2\" class=\"data row0 col2\" >0</td>\n",
       "                        <td id=\"T_9516d_row0_col3\" class=\"data row0 col3\" >0.00%</td>\n",
       "                        <td id=\"T_9516d_row0_col4\" class=\"data row0 col4\" >136</td>\n",
       "                        <td id=\"T_9516d_row0_col5\" class=\"data row0 col5\" >2022090800</td>\n",
       "                        <td id=\"T_9516d_row0_col6\" class=\"data row0 col6\" >2022110700</td>\n",
       "                        <td id=\"T_9516d_row0_col7\" class=\"data row0 col7\" >2022098922.117647</td>\n",
       "                        <td id=\"T_9516d_row0_col8\" class=\"data row0 col8\" >2022100902.500000</td>\n",
       "            </tr>\n",
       "            <tr>\n",
       "                        <th id=\"T_9516d_level0_row1\" class=\"row_heading level0 row1\" >1</th>\n",
       "                        <td id=\"T_9516d_row1_col0\" class=\"data row1 col0\" >season</td>\n",
       "                        <td id=\"T_9516d_row1_col1\" class=\"data row1 col1\" >int64</td>\n",
       "                        <td id=\"T_9516d_row1_col2\" class=\"data row1 col2\" >0</td>\n",
       "                        <td id=\"T_9516d_row1_col3\" class=\"data row1 col3\" >0.00%</td>\n",
       "                        <td id=\"T_9516d_row1_col4\" class=\"data row1 col4\" >1</td>\n",
       "                        <td id=\"T_9516d_row1_col5\" class=\"data row1 col5\" >2022</td>\n",
       "                        <td id=\"T_9516d_row1_col6\" class=\"data row1 col6\" >2022</td>\n",
       "                        <td id=\"T_9516d_row1_col7\" class=\"data row1 col7\" >2022.000000</td>\n",
       "                        <td id=\"T_9516d_row1_col8\" class=\"data row1 col8\" >2022.000000</td>\n",
       "            </tr>\n",
       "            <tr>\n",
       "                        <th id=\"T_9516d_level0_row2\" class=\"row_heading level0 row2\" >2</th>\n",
       "                        <td id=\"T_9516d_row2_col0\" class=\"data row2 col0\" >week</td>\n",
       "                        <td id=\"T_9516d_row2_col1\" class=\"data row2 col1\" >int64</td>\n",
       "                        <td id=\"T_9516d_row2_col2\" class=\"data row2 col2\" >0</td>\n",
       "                        <td id=\"T_9516d_row2_col3\" class=\"data row2 col3\" >0.00%</td>\n",
       "                        <td id=\"T_9516d_row2_col4\" class=\"data row2 col4\" >9</td>\n",
       "                        <td id=\"T_9516d_row2_col5\" class=\"data row2 col5\" >1</td>\n",
       "                        <td id=\"T_9516d_row2_col6\" class=\"data row2 col6\" >9</td>\n",
       "                        <td id=\"T_9516d_row2_col7\" class=\"data row2 col7\" >4.845588</td>\n",
       "                        <td id=\"T_9516d_row2_col8\" class=\"data row2 col8\" >5.000000</td>\n",
       "            </tr>\n",
       "            <tr>\n",
       "                        <th id=\"T_9516d_level0_row3\" class=\"row_heading level0 row3\" >3</th>\n",
       "                        <td id=\"T_9516d_row3_col0\" class=\"data row3 col0\" >gameDate</td>\n",
       "                        <td id=\"T_9516d_row3_col1\" class=\"data row3 col1\" >object</td>\n",
       "                        <td id=\"T_9516d_row3_col2\" class=\"data row3 col2\" >0</td>\n",
       "                        <td id=\"T_9516d_row3_col3\" class=\"data row3 col3\" >0.00%</td>\n",
       "                        <td id=\"T_9516d_row3_col4\" class=\"data row3 col4\" >27</td>\n",
       "                        <td id=\"T_9516d_row3_col5\" class=\"data row3 col5\" ></td>\n",
       "                        <td id=\"T_9516d_row3_col6\" class=\"data row3 col6\" ></td>\n",
       "                        <td id=\"T_9516d_row3_col7\" class=\"data row3 col7\" ></td>\n",
       "                        <td id=\"T_9516d_row3_col8\" class=\"data row3 col8\" ></td>\n",
       "            </tr>\n",
       "            <tr>\n",
       "                        <th id=\"T_9516d_level0_row4\" class=\"row_heading level0 row4\" >4</th>\n",
       "                        <td id=\"T_9516d_row4_col0\" class=\"data row4 col0\" >gameTimeEastern</td>\n",
       "                        <td id=\"T_9516d_row4_col1\" class=\"data row4 col1\" >object</td>\n",
       "                        <td id=\"T_9516d_row4_col2\" class=\"data row4 col2\" >0</td>\n",
       "                        <td id=\"T_9516d_row4_col3\" class=\"data row4 col3\" >0.00%</td>\n",
       "                        <td id=\"T_9516d_row4_col4\" class=\"data row4 col4\" >8</td>\n",
       "                        <td id=\"T_9516d_row4_col5\" class=\"data row4 col5\" ></td>\n",
       "                        <td id=\"T_9516d_row4_col6\" class=\"data row4 col6\" ></td>\n",
       "                        <td id=\"T_9516d_row4_col7\" class=\"data row4 col7\" ></td>\n",
       "                        <td id=\"T_9516d_row4_col8\" class=\"data row4 col8\" ></td>\n",
       "            </tr>\n",
       "            <tr>\n",
       "                        <th id=\"T_9516d_level0_row5\" class=\"row_heading level0 row5\" >5</th>\n",
       "                        <td id=\"T_9516d_row5_col0\" class=\"data row5 col0\" >homeTeamAbbr</td>\n",
       "                        <td id=\"T_9516d_row5_col1\" class=\"data row5 col1\" >object</td>\n",
       "                        <td id=\"T_9516d_row5_col2\" class=\"data row5 col2\" >0</td>\n",
       "                        <td id=\"T_9516d_row5_col3\" class=\"data row5 col3\" >0.00%</td>\n",
       "                        <td id=\"T_9516d_row5_col4\" class=\"data row5 col4\" >32</td>\n",
       "                        <td id=\"T_9516d_row5_col5\" class=\"data row5 col5\" ></td>\n",
       "                        <td id=\"T_9516d_row5_col6\" class=\"data row5 col6\" ></td>\n",
       "                        <td id=\"T_9516d_row5_col7\" class=\"data row5 col7\" ></td>\n",
       "                        <td id=\"T_9516d_row5_col8\" class=\"data row5 col8\" ></td>\n",
       "            </tr>\n",
       "            <tr>\n",
       "                        <th id=\"T_9516d_level0_row6\" class=\"row_heading level0 row6\" >6</th>\n",
       "                        <td id=\"T_9516d_row6_col0\" class=\"data row6 col0\" >visitorTeamAbbr</td>\n",
       "                        <td id=\"T_9516d_row6_col1\" class=\"data row6 col1\" >object</td>\n",
       "                        <td id=\"T_9516d_row6_col2\" class=\"data row6 col2\" >0</td>\n",
       "                        <td id=\"T_9516d_row6_col3\" class=\"data row6 col3\" >0.00%</td>\n",
       "                        <td id=\"T_9516d_row6_col4\" class=\"data row6 col4\" >32</td>\n",
       "                        <td id=\"T_9516d_row6_col5\" class=\"data row6 col5\" ></td>\n",
       "                        <td id=\"T_9516d_row6_col6\" class=\"data row6 col6\" ></td>\n",
       "                        <td id=\"T_9516d_row6_col7\" class=\"data row6 col7\" ></td>\n",
       "                        <td id=\"T_9516d_row6_col8\" class=\"data row6 col8\" ></td>\n",
       "            </tr>\n",
       "            <tr>\n",
       "                        <th id=\"T_9516d_level0_row7\" class=\"row_heading level0 row7\" >7</th>\n",
       "                        <td id=\"T_9516d_row7_col0\" class=\"data row7 col0\" >homeFinalScore</td>\n",
       "                        <td id=\"T_9516d_row7_col1\" class=\"data row7 col1\" >int64</td>\n",
       "                        <td id=\"T_9516d_row7_col2\" class=\"data row7 col2\" >0</td>\n",
       "                        <td id=\"T_9516d_row7_col3\" class=\"data row7 col3\" >0.00%</td>\n",
       "                        <td id=\"T_9516d_row7_col4\" class=\"data row7 col4\" >38</td>\n",
       "                        <td id=\"T_9516d_row7_col5\" class=\"data row7 col5\" >3</td>\n",
       "                        <td id=\"T_9516d_row7_col6\" class=\"data row7 col6\" >49</td>\n",
       "                        <td id=\"T_9516d_row7_col7\" class=\"data row7 col7\" >22.669118</td>\n",
       "                        <td id=\"T_9516d_row7_col8\" class=\"data row7 col8\" >22.500000</td>\n",
       "            </tr>\n",
       "            <tr>\n",
       "                        <th id=\"T_9516d_level0_row8\" class=\"row_heading level0 row8\" >8</th>\n",
       "                        <td id=\"T_9516d_row8_col0\" class=\"data row8 col0\" >visitorFinalScore</td>\n",
       "                        <td id=\"T_9516d_row8_col1\" class=\"data row8 col1\" >int64</td>\n",
       "                        <td id=\"T_9516d_row8_col2\" class=\"data row8 col2\" >0</td>\n",
       "                        <td id=\"T_9516d_row8_col3\" class=\"data row8 col3\" >0.00%</td>\n",
       "                        <td id=\"T_9516d_row8_col4\" class=\"data row8 col4\" >35</td>\n",
       "                        <td id=\"T_9516d_row8_col5\" class=\"data row8 col5\" >0</td>\n",
       "                        <td id=\"T_9516d_row8_col6\" class=\"data row8 col6\" >48</td>\n",
       "                        <td id=\"T_9516d_row8_col7\" class=\"data row8 col7\" >20.948529</td>\n",
       "                        <td id=\"T_9516d_row8_col8\" class=\"data row8 col8\" >20.000000</td>\n",
       "            </tr>\n",
       "    </tbody></table>"
      ],
      "text/plain": [
       "<pandas.io.formats.style.Styler at 0x267b5692ac0>"
      ]
     },
     "metadata": {},
     "output_type": "display_data"
    }
   ],
   "source": [
    "# 调用函数并打印生成的表格\n",
    "games_data_summary = generate_summary_table(games_data)"
   ]
  },
  {
   "cell_type": "code",
   "execution_count": 13,
   "metadata": {},
   "outputs": [
    {
     "data": {
      "application/vnd.plotly.v1+json": {
       "config": {
        "plotlyServerURL": "https://plot.ly"
       },
       "data": [
        {
         "alignmentgroup": "True",
         "bingroup": "x",
         "hovertemplate": "Team=homeFinalScore<br>Score=%{x}<br>count=%{y}<extra></extra>",
         "legendgroup": "homeFinalScore",
         "marker": {
          "color": "#636efa",
          "opacity": 0.5,
          "pattern": {
           "shape": ""
          }
         },
         "name": "homeFinalScore",
         "nbinsx": 20,
         "offsetgroup": "homeFinalScore",
         "orientation": "v",
         "showlegend": true,
         "type": "histogram",
         "x": [
          10,
          26,
          24,
          19,
          20,
          35,
          20,
          20,
          9,
          28,
          21,
          24,
          23,
          20,
          3,
          17,
          27,
          38,
          30,
          36,
          24,
          10,
          19,
          14,
          31,
          27,
          20,
          16,
          23,
          27,
          41,
          24,
          29,
          22,
          23,
          20,
          21,
          28,
          26,
          12,
          24,
          8,
          10,
          12,
          23,
          12,
          11,
          16,
          27,
          25,
          23,
          20,
          25,
          45,
          24,
          17,
          20,
          29,
          20,
          16,
          27,
          32,
          31,
          24,
          9,
          22,
          38,
          28,
          6,
          29,
          29,
          39,
          40,
          21,
          17,
          15,
          17,
          10,
          19,
          30,
          7,
          28,
          15,
          10,
          34,
          16,
          26,
          24,
          20,
          24,
          19,
          20,
          26,
          19,
          42,
          23,
          21,
          35,
          24,
          17,
          19,
          23,
          9,
          38,
          23,
          23,
          16,
          14,
          22,
          17,
          37,
          49,
          27,
          34,
          24,
          17,
          35,
          10,
          16,
          14,
          27,
          27,
          32,
          17,
          17,
          32,
          42,
          15,
          27,
          26,
          20,
          17,
          21,
          16,
          20,
          13
         ],
         "xaxis": "x",
         "yaxis": "y"
        },
        {
         "alignmentgroup": "True",
         "bingroup": "x",
         "hovertemplate": "Team=visitorFinalScore<br>Score=%{x}<br>count=%{y}<extra></extra>",
         "legendgroup": "visitorFinalScore",
         "marker": {
          "color": "#EF553B",
          "opacity": 0.5,
          "pattern": {
           "shape": ""
          }
         },
         "name": "visitorFinalScore",
         "nbinsx": 20,
         "offsetgroup": "visitorFinalScore",
         "orientation": "v",
         "showlegend": true,
         "type": "histogram",
         "x": [
          31,
          27,
          26,
          10,
          23,
          38,
          20,
          7,
          24,
          22,
          44,
          19,
          7,
          21,
          19,
          16,
          24,
          42,
          31,
          27,
          0,
          20,
          16,
          17,
          27,
          7,
          17,
          9,
          29,
          10,
          7,
          7,
          17,
          14,
          20,
          17,
          19,
          24,
          37,
          27,
          22,
          24,
          38,
          20,
          27,
          14,
          10,
          23,
          15,
          28,
          20,
          23,
          10,
          48,
          34,
          24,
          12,
          21,
          24,
          26,
          24,
          23,
          41,
          9,
          12,
          27,
          3,
          30,
          13,
          22,
          0,
          32,
          17,
          15,
          21,
          37,
          20,
          22,
          17,
          29,
          12,
          14,
          38,
          27,
          27,
          24,
          30,
          20,
          18,
          10,
          9,
          24,
          17,
          16,
          34,
          20,
          3,
          17,
          6,
          23,
          10,
          21,
          16,
          20,
          37,
          44,
          10,
          33,
          27,
          21,
          34,
          29,
          31,
          26,
          0,
          22,
          13,
          17,
          17,
          31,
          13,
          17,
          13,
          29,
          20,
          35,
          21,
          9,
          20,
          3,
          17,
          20,
          31,
          13,
          17,
          27
         ],
         "xaxis": "x",
         "yaxis": "y"
        }
       ],
       "layout": {
        "barmode": "overlay",
        "legend": {
         "title": {
          "text": "Team"
         },
         "tracegroupgap": 0
        },
        "template": {
         "data": {
          "bar": [
           {
            "error_x": {
             "color": "#2a3f5f"
            },
            "error_y": {
             "color": "#2a3f5f"
            },
            "marker": {
             "line": {
              "color": "#E5ECF6",
              "width": 0.5
             },
             "pattern": {
              "fillmode": "overlay",
              "size": 10,
              "solidity": 0.2
             }
            },
            "type": "bar"
           }
          ],
          "barpolar": [
           {
            "marker": {
             "line": {
              "color": "#E5ECF6",
              "width": 0.5
             },
             "pattern": {
              "fillmode": "overlay",
              "size": 10,
              "solidity": 0.2
             }
            },
            "type": "barpolar"
           }
          ],
          "carpet": [
           {
            "aaxis": {
             "endlinecolor": "#2a3f5f",
             "gridcolor": "white",
             "linecolor": "white",
             "minorgridcolor": "white",
             "startlinecolor": "#2a3f5f"
            },
            "baxis": {
             "endlinecolor": "#2a3f5f",
             "gridcolor": "white",
             "linecolor": "white",
             "minorgridcolor": "white",
             "startlinecolor": "#2a3f5f"
            },
            "type": "carpet"
           }
          ],
          "choropleth": [
           {
            "colorbar": {
             "outlinewidth": 0,
             "ticks": ""
            },
            "type": "choropleth"
           }
          ],
          "contour": [
           {
            "colorbar": {
             "outlinewidth": 0,
             "ticks": ""
            },
            "colorscale": [
             [
              0,
              "#0d0887"
             ],
             [
              0.1111111111111111,
              "#46039f"
             ],
             [
              0.2222222222222222,
              "#7201a8"
             ],
             [
              0.3333333333333333,
              "#9c179e"
             ],
             [
              0.4444444444444444,
              "#bd3786"
             ],
             [
              0.5555555555555556,
              "#d8576b"
             ],
             [
              0.6666666666666666,
              "#ed7953"
             ],
             [
              0.7777777777777778,
              "#fb9f3a"
             ],
             [
              0.8888888888888888,
              "#fdca26"
             ],
             [
              1,
              "#f0f921"
             ]
            ],
            "type": "contour"
           }
          ],
          "contourcarpet": [
           {
            "colorbar": {
             "outlinewidth": 0,
             "ticks": ""
            },
            "type": "contourcarpet"
           }
          ],
          "heatmap": [
           {
            "colorbar": {
             "outlinewidth": 0,
             "ticks": ""
            },
            "colorscale": [
             [
              0,
              "#0d0887"
             ],
             [
              0.1111111111111111,
              "#46039f"
             ],
             [
              0.2222222222222222,
              "#7201a8"
             ],
             [
              0.3333333333333333,
              "#9c179e"
             ],
             [
              0.4444444444444444,
              "#bd3786"
             ],
             [
              0.5555555555555556,
              "#d8576b"
             ],
             [
              0.6666666666666666,
              "#ed7953"
             ],
             [
              0.7777777777777778,
              "#fb9f3a"
             ],
             [
              0.8888888888888888,
              "#fdca26"
             ],
             [
              1,
              "#f0f921"
             ]
            ],
            "type": "heatmap"
           }
          ],
          "heatmapgl": [
           {
            "colorbar": {
             "outlinewidth": 0,
             "ticks": ""
            },
            "colorscale": [
             [
              0,
              "#0d0887"
             ],
             [
              0.1111111111111111,
              "#46039f"
             ],
             [
              0.2222222222222222,
              "#7201a8"
             ],
             [
              0.3333333333333333,
              "#9c179e"
             ],
             [
              0.4444444444444444,
              "#bd3786"
             ],
             [
              0.5555555555555556,
              "#d8576b"
             ],
             [
              0.6666666666666666,
              "#ed7953"
             ],
             [
              0.7777777777777778,
              "#fb9f3a"
             ],
             [
              0.8888888888888888,
              "#fdca26"
             ],
             [
              1,
              "#f0f921"
             ]
            ],
            "type": "heatmapgl"
           }
          ],
          "histogram": [
           {
            "marker": {
             "pattern": {
              "fillmode": "overlay",
              "size": 10,
              "solidity": 0.2
             }
            },
            "type": "histogram"
           }
          ],
          "histogram2d": [
           {
            "colorbar": {
             "outlinewidth": 0,
             "ticks": ""
            },
            "colorscale": [
             [
              0,
              "#0d0887"
             ],
             [
              0.1111111111111111,
              "#46039f"
             ],
             [
              0.2222222222222222,
              "#7201a8"
             ],
             [
              0.3333333333333333,
              "#9c179e"
             ],
             [
              0.4444444444444444,
              "#bd3786"
             ],
             [
              0.5555555555555556,
              "#d8576b"
             ],
             [
              0.6666666666666666,
              "#ed7953"
             ],
             [
              0.7777777777777778,
              "#fb9f3a"
             ],
             [
              0.8888888888888888,
              "#fdca26"
             ],
             [
              1,
              "#f0f921"
             ]
            ],
            "type": "histogram2d"
           }
          ],
          "histogram2dcontour": [
           {
            "colorbar": {
             "outlinewidth": 0,
             "ticks": ""
            },
            "colorscale": [
             [
              0,
              "#0d0887"
             ],
             [
              0.1111111111111111,
              "#46039f"
             ],
             [
              0.2222222222222222,
              "#7201a8"
             ],
             [
              0.3333333333333333,
              "#9c179e"
             ],
             [
              0.4444444444444444,
              "#bd3786"
             ],
             [
              0.5555555555555556,
              "#d8576b"
             ],
             [
              0.6666666666666666,
              "#ed7953"
             ],
             [
              0.7777777777777778,
              "#fb9f3a"
             ],
             [
              0.8888888888888888,
              "#fdca26"
             ],
             [
              1,
              "#f0f921"
             ]
            ],
            "type": "histogram2dcontour"
           }
          ],
          "mesh3d": [
           {
            "colorbar": {
             "outlinewidth": 0,
             "ticks": ""
            },
            "type": "mesh3d"
           }
          ],
          "parcoords": [
           {
            "line": {
             "colorbar": {
              "outlinewidth": 0,
              "ticks": ""
             }
            },
            "type": "parcoords"
           }
          ],
          "pie": [
           {
            "automargin": true,
            "type": "pie"
           }
          ],
          "scatter": [
           {
            "fillpattern": {
             "fillmode": "overlay",
             "size": 10,
             "solidity": 0.2
            },
            "type": "scatter"
           }
          ],
          "scatter3d": [
           {
            "line": {
             "colorbar": {
              "outlinewidth": 0,
              "ticks": ""
             }
            },
            "marker": {
             "colorbar": {
              "outlinewidth": 0,
              "ticks": ""
             }
            },
            "type": "scatter3d"
           }
          ],
          "scattercarpet": [
           {
            "marker": {
             "colorbar": {
              "outlinewidth": 0,
              "ticks": ""
             }
            },
            "type": "scattercarpet"
           }
          ],
          "scattergeo": [
           {
            "marker": {
             "colorbar": {
              "outlinewidth": 0,
              "ticks": ""
             }
            },
            "type": "scattergeo"
           }
          ],
          "scattergl": [
           {
            "marker": {
             "colorbar": {
              "outlinewidth": 0,
              "ticks": ""
             }
            },
            "type": "scattergl"
           }
          ],
          "scattermapbox": [
           {
            "marker": {
             "colorbar": {
              "outlinewidth": 0,
              "ticks": ""
             }
            },
            "type": "scattermapbox"
           }
          ],
          "scatterpolar": [
           {
            "marker": {
             "colorbar": {
              "outlinewidth": 0,
              "ticks": ""
             }
            },
            "type": "scatterpolar"
           }
          ],
          "scatterpolargl": [
           {
            "marker": {
             "colorbar": {
              "outlinewidth": 0,
              "ticks": ""
             }
            },
            "type": "scatterpolargl"
           }
          ],
          "scatterternary": [
           {
            "marker": {
             "colorbar": {
              "outlinewidth": 0,
              "ticks": ""
             }
            },
            "type": "scatterternary"
           }
          ],
          "surface": [
           {
            "colorbar": {
             "outlinewidth": 0,
             "ticks": ""
            },
            "colorscale": [
             [
              0,
              "#0d0887"
             ],
             [
              0.1111111111111111,
              "#46039f"
             ],
             [
              0.2222222222222222,
              "#7201a8"
             ],
             [
              0.3333333333333333,
              "#9c179e"
             ],
             [
              0.4444444444444444,
              "#bd3786"
             ],
             [
              0.5555555555555556,
              "#d8576b"
             ],
             [
              0.6666666666666666,
              "#ed7953"
             ],
             [
              0.7777777777777778,
              "#fb9f3a"
             ],
             [
              0.8888888888888888,
              "#fdca26"
             ],
             [
              1,
              "#f0f921"
             ]
            ],
            "type": "surface"
           }
          ],
          "table": [
           {
            "cells": {
             "fill": {
              "color": "#EBF0F8"
             },
             "line": {
              "color": "white"
             }
            },
            "header": {
             "fill": {
              "color": "#C8D4E3"
             },
             "line": {
              "color": "white"
             }
            },
            "type": "table"
           }
          ]
         },
         "layout": {
          "annotationdefaults": {
           "arrowcolor": "#2a3f5f",
           "arrowhead": 0,
           "arrowwidth": 1
          },
          "autotypenumbers": "strict",
          "coloraxis": {
           "colorbar": {
            "outlinewidth": 0,
            "ticks": ""
           }
          },
          "colorscale": {
           "diverging": [
            [
             0,
             "#8e0152"
            ],
            [
             0.1,
             "#c51b7d"
            ],
            [
             0.2,
             "#de77ae"
            ],
            [
             0.3,
             "#f1b6da"
            ],
            [
             0.4,
             "#fde0ef"
            ],
            [
             0.5,
             "#f7f7f7"
            ],
            [
             0.6,
             "#e6f5d0"
            ],
            [
             0.7,
             "#b8e186"
            ],
            [
             0.8,
             "#7fbc41"
            ],
            [
             0.9,
             "#4d9221"
            ],
            [
             1,
             "#276419"
            ]
           ],
           "sequential": [
            [
             0,
             "#0d0887"
            ],
            [
             0.1111111111111111,
             "#46039f"
            ],
            [
             0.2222222222222222,
             "#7201a8"
            ],
            [
             0.3333333333333333,
             "#9c179e"
            ],
            [
             0.4444444444444444,
             "#bd3786"
            ],
            [
             0.5555555555555556,
             "#d8576b"
            ],
            [
             0.6666666666666666,
             "#ed7953"
            ],
            [
             0.7777777777777778,
             "#fb9f3a"
            ],
            [
             0.8888888888888888,
             "#fdca26"
            ],
            [
             1,
             "#f0f921"
            ]
           ],
           "sequentialminus": [
            [
             0,
             "#0d0887"
            ],
            [
             0.1111111111111111,
             "#46039f"
            ],
            [
             0.2222222222222222,
             "#7201a8"
            ],
            [
             0.3333333333333333,
             "#9c179e"
            ],
            [
             0.4444444444444444,
             "#bd3786"
            ],
            [
             0.5555555555555556,
             "#d8576b"
            ],
            [
             0.6666666666666666,
             "#ed7953"
            ],
            [
             0.7777777777777778,
             "#fb9f3a"
            ],
            [
             0.8888888888888888,
             "#fdca26"
            ],
            [
             1,
             "#f0f921"
            ]
           ]
          },
          "colorway": [
           "#636efa",
           "#EF553B",
           "#00cc96",
           "#ab63fa",
           "#FFA15A",
           "#19d3f3",
           "#FF6692",
           "#B6E880",
           "#FF97FF",
           "#FECB52"
          ],
          "font": {
           "color": "#2a3f5f"
          },
          "geo": {
           "bgcolor": "white",
           "lakecolor": "white",
           "landcolor": "#E5ECF6",
           "showlakes": true,
           "showland": true,
           "subunitcolor": "white"
          },
          "hoverlabel": {
           "align": "left"
          },
          "hovermode": "closest",
          "mapbox": {
           "style": "light"
          },
          "paper_bgcolor": "white",
          "plot_bgcolor": "#E5ECF6",
          "polar": {
           "angularaxis": {
            "gridcolor": "white",
            "linecolor": "white",
            "ticks": ""
           },
           "bgcolor": "#E5ECF6",
           "radialaxis": {
            "gridcolor": "white",
            "linecolor": "white",
            "ticks": ""
           }
          },
          "scene": {
           "xaxis": {
            "backgroundcolor": "#E5ECF6",
            "gridcolor": "white",
            "gridwidth": 2,
            "linecolor": "white",
            "showbackground": true,
            "ticks": "",
            "zerolinecolor": "white"
           },
           "yaxis": {
            "backgroundcolor": "#E5ECF6",
            "gridcolor": "white",
            "gridwidth": 2,
            "linecolor": "white",
            "showbackground": true,
            "ticks": "",
            "zerolinecolor": "white"
           },
           "zaxis": {
            "backgroundcolor": "#E5ECF6",
            "gridcolor": "white",
            "gridwidth": 2,
            "linecolor": "white",
            "showbackground": true,
            "ticks": "",
            "zerolinecolor": "white"
           }
          },
          "shapedefaults": {
           "line": {
            "color": "#2a3f5f"
           }
          },
          "ternary": {
           "aaxis": {
            "gridcolor": "white",
            "linecolor": "white",
            "ticks": ""
           },
           "baxis": {
            "gridcolor": "white",
            "linecolor": "white",
            "ticks": ""
           },
           "bgcolor": "#E5ECF6",
           "caxis": {
            "gridcolor": "white",
            "linecolor": "white",
            "ticks": ""
           }
          },
          "title": {
           "x": 0.05
          },
          "xaxis": {
           "automargin": true,
           "gridcolor": "white",
           "linecolor": "white",
           "ticks": "",
           "title": {
            "standoff": 15
           },
           "zerolinecolor": "white",
           "zerolinewidth": 2
          },
          "yaxis": {
           "automargin": true,
           "gridcolor": "white",
           "linecolor": "white",
           "ticks": "",
           "title": {
            "standoff": 15
           },
           "zerolinecolor": "white",
           "zerolinewidth": 2
          }
         }
        },
        "title": {
         "text": "Score Distribution"
        },
        "xaxis": {
         "anchor": "y",
         "domain": [
          0,
          1
         ],
         "title": {
          "text": "Score"
         }
        },
        "yaxis": {
         "anchor": "x",
         "domain": [
          0,
          1
         ],
         "title": {
          "text": "Frequency"
         }
        }
       }
      }
     },
     "metadata": {},
     "output_type": "display_data"
    }
   ],
   "source": [
    "# 创建直方图\n",
    "fig = px.histogram(games_data, x=[\"homeFinalScore\", \"visitorFinalScore\"], nbins=20, barmode=\"overlay\",\n",
    "                   labels={\"value\": \"Score\", \"variable\": \"Team\"}, title=\"Score Distribution\")\n",
    "fig.update_layout(xaxis_title=\"Score\", yaxis_title=\"Frequency\")\n",
    "fig.show()\n"
   ]
  },
  {
   "cell_type": "markdown",
   "metadata": {},
   "source": [
    "赛季中的队伍表现 - 折线图显示每支球队在赛季不同周次的得分情况"
   ]
  },
  {
   "cell_type": "code",
   "execution_count": 14,
   "metadata": {},
   "outputs": [
    {
     "data": {
      "application/vnd.plotly.v1+json": {
       "config": {
        "plotlyServerURL": "https://plot.ly"
       },
       "data": [
        {
         "mode": "lines",
         "name": "ARI",
         "type": "scatter",
         "x": [
          1,
          3,
          5,
          7,
          9
         ],
         "y": [
          21,
          12,
          17,
          42,
          21
         ]
        },
        {
         "mode": "lines",
         "name": "ATL",
         "type": "scatter",
         "x": [
          1,
          4,
          6,
          8,
          9
         ],
         "y": [
          26,
          23,
          28,
          37,
          17
         ]
        },
        {
         "mode": "lines",
         "name": "CAR",
         "type": "scatter",
         "x": [
          1,
          3,
          4,
          5,
          7
         ],
         "y": [
          24,
          22,
          16,
          15,
          21
         ]
        },
        {
         "mode": "lines",
         "name": "CHI",
         "type": "scatter",
         "x": [
          1,
          3,
          6,
          9
         ],
         "y": [
          19,
          23,
          7,
          32
         ]
        },
        {
         "mode": "lines",
         "name": "CIN",
         "type": "scatter",
         "x": [
          1,
          4,
          7,
          9
         ],
         "y": [
          20,
          27,
          35,
          42
         ]
        },
        {
         "mode": "lines",
         "name": "DAL",
         "type": "scatter",
         "x": [
          1,
          2,
          4,
          7,
          8
         ],
         "y": [
          3,
          20,
          25,
          24,
          49
         ]
        },
        {
         "mode": "lines",
         "name": "DET",
         "type": "scatter",
         "x": [
          1,
          2,
          4,
          8,
          9
         ],
         "y": [
          35,
          36,
          45,
          27,
          15
         ]
        },
        {
         "mode": "lines",
         "name": "HOU",
         "type": "scatter",
         "x": [
          1,
          4,
          8,
          9
         ],
         "y": [
          20,
          24,
          10,
          17
         ]
        },
        {
         "mode": "lines",
         "name": "LA",
         "type": "scatter",
         "x": [
          1,
          2,
          5,
          6,
          8
         ],
         "y": [
          10,
          31,
          10,
          24,
          14
         ]
        },
        {
         "mode": "lines",
         "name": "LAC",
         "type": "scatter",
         "x": [
          1,
          3,
          6,
          7
         ],
         "y": [
          24,
          10,
          19,
          23
         ]
        },
        {
         "mode": "lines",
         "name": "MIA",
         "type": "scatter",
         "x": [
          1,
          3,
          6,
          7
         ],
         "y": [
          20,
          21,
          16,
          16
         ]
        },
        {
         "mode": "lines",
         "name": "MIN",
         "type": "scatter",
         "x": [
          1,
          3,
          5,
          8
         ],
         "y": [
          23,
          28,
          29,
          34
         ]
        },
        {
         "mode": "lines",
         "name": "NYJ",
         "type": "scatter",
         "x": [
          1,
          3,
          5,
          8,
          9
         ],
         "y": [
          9,
          12,
          40,
          17,
          20
         ]
        },
        {
         "mode": "lines",
         "name": "SEA",
         "type": "scatter",
         "x": [
          1,
          3,
          6,
          8
         ],
         "y": [
          17,
          23,
          19,
          27
         ]
        },
        {
         "mode": "lines",
         "name": "TEN",
         "type": "scatter",
         "x": [
          1,
          3,
          7
         ],
         "y": [
          20,
          24,
          19
         ]
        },
        {
         "mode": "lines",
         "name": "WAS",
         "type": "scatter",
         "x": [
          1,
          3,
          5,
          7,
          9
         ],
         "y": [
          28,
          8,
          17,
          23,
          17
         ]
        },
        {
         "mode": "lines",
         "name": "BAL",
         "type": "scatter",
         "x": [
          2,
          4,
          5,
          7
         ],
         "y": [
          38,
          20,
          19,
          23
         ]
        },
        {
         "mode": "lines",
         "name": "BUF",
         "type": "scatter",
         "x": [
          2,
          5,
          8
         ],
         "y": [
          41,
          38,
          27
         ]
        },
        {
         "mode": "lines",
         "name": "CLE",
         "type": "scatter",
         "x": [
          2,
          3,
          5,
          6,
          8
         ],
         "y": [
          30,
          29,
          28,
          15,
          32
         ]
        },
        {
         "mode": "lines",
         "name": "DEN",
         "type": "scatter",
         "x": [
          2,
          3,
          5,
          7
         ],
         "y": [
          16,
          11,
          9,
          9
         ]
        },
        {
         "mode": "lines",
         "name": "GB",
         "type": "scatter",
         "x": [
          2,
          4,
          5,
          6
         ],
         "y": [
          27,
          27,
          22,
          10
         ]
        },
        {
         "mode": "lines",
         "name": "JAX",
         "type": "scatter",
         "x": [
          2,
          5,
          7,
          8,
          9
         ],
         "y": [
          24,
          6,
          17,
          17,
          27
         ]
        },
        {
         "mode": "lines",
         "name": "KC",
         "type": "scatter",
         "x": [
          2,
          5,
          6,
          9
         ],
         "y": [
          27,
          30,
          20,
          20
         ]
        },
        {
         "mode": "lines",
         "name": "LV",
         "type": "scatter",
         "x": [
          2,
          4,
          7
         ],
         "y": [
          23,
          32,
          38
         ]
        },
        {
         "mode": "lines",
         "name": "NO",
         "type": "scatter",
         "x": [
          2,
          4,
          5,
          6,
          8,
          9
         ],
         "y": [
          10,
          25,
          39,
          26,
          24,
          13
         ]
        },
        {
         "mode": "lines",
         "name": "NYG",
         "type": "scatter",
         "x": [
          2,
          3,
          4,
          6
         ],
         "y": [
          19,
          16,
          20,
          24
         ]
        },
        {
         "mode": "lines",
         "name": "PHI",
         "type": "scatter",
         "x": [
          2,
          4,
          6,
          8
         ],
         "y": [
          24,
          29,
          26,
          35
         ]
        },
        {
         "mode": "lines",
         "name": "PIT",
         "type": "scatter",
         "x": [
          2,
          4,
          6
         ],
         "y": [
          14,
          20,
          20
         ]
        },
        {
         "mode": "lines",
         "name": "SF",
         "type": "scatter",
         "x": [
          2,
          4,
          7
         ],
         "y": [
          27,
          24,
          23
         ]
        },
        {
         "mode": "lines",
         "name": "IND",
         "type": "scatter",
         "x": [
          3,
          4,
          6,
          8
         ],
         "y": [
          20,
          17,
          34,
          16
         ]
        },
        {
         "mode": "lines",
         "name": "NE",
         "type": "scatter",
         "x": [
          3,
          5,
          7,
          9
         ],
         "y": [
          26,
          29,
          14,
          26
         ]
        },
        {
         "mode": "lines",
         "name": "TB",
         "type": "scatter",
         "x": [
          3,
          4,
          5,
          8,
          9
         ],
         "y": [
          12,
          31,
          21,
          22,
          16
         ]
        }
       ],
       "layout": {
        "legend": {
         "orientation": "h",
         "y": -0.2
        },
        "margin": {
         "b": 20,
         "l": 20,
         "r": 20,
         "t": 80
        },
        "template": {
         "data": {
          "bar": [
           {
            "error_x": {
             "color": "#2a3f5f"
            },
            "error_y": {
             "color": "#2a3f5f"
            },
            "marker": {
             "line": {
              "color": "#E5ECF6",
              "width": 0.5
             },
             "pattern": {
              "fillmode": "overlay",
              "size": 10,
              "solidity": 0.2
             }
            },
            "type": "bar"
           }
          ],
          "barpolar": [
           {
            "marker": {
             "line": {
              "color": "#E5ECF6",
              "width": 0.5
             },
             "pattern": {
              "fillmode": "overlay",
              "size": 10,
              "solidity": 0.2
             }
            },
            "type": "barpolar"
           }
          ],
          "carpet": [
           {
            "aaxis": {
             "endlinecolor": "#2a3f5f",
             "gridcolor": "white",
             "linecolor": "white",
             "minorgridcolor": "white",
             "startlinecolor": "#2a3f5f"
            },
            "baxis": {
             "endlinecolor": "#2a3f5f",
             "gridcolor": "white",
             "linecolor": "white",
             "minorgridcolor": "white",
             "startlinecolor": "#2a3f5f"
            },
            "type": "carpet"
           }
          ],
          "choropleth": [
           {
            "colorbar": {
             "outlinewidth": 0,
             "ticks": ""
            },
            "type": "choropleth"
           }
          ],
          "contour": [
           {
            "colorbar": {
             "outlinewidth": 0,
             "ticks": ""
            },
            "colorscale": [
             [
              0,
              "#0d0887"
             ],
             [
              0.1111111111111111,
              "#46039f"
             ],
             [
              0.2222222222222222,
              "#7201a8"
             ],
             [
              0.3333333333333333,
              "#9c179e"
             ],
             [
              0.4444444444444444,
              "#bd3786"
             ],
             [
              0.5555555555555556,
              "#d8576b"
             ],
             [
              0.6666666666666666,
              "#ed7953"
             ],
             [
              0.7777777777777778,
              "#fb9f3a"
             ],
             [
              0.8888888888888888,
              "#fdca26"
             ],
             [
              1,
              "#f0f921"
             ]
            ],
            "type": "contour"
           }
          ],
          "contourcarpet": [
           {
            "colorbar": {
             "outlinewidth": 0,
             "ticks": ""
            },
            "type": "contourcarpet"
           }
          ],
          "heatmap": [
           {
            "colorbar": {
             "outlinewidth": 0,
             "ticks": ""
            },
            "colorscale": [
             [
              0,
              "#0d0887"
             ],
             [
              0.1111111111111111,
              "#46039f"
             ],
             [
              0.2222222222222222,
              "#7201a8"
             ],
             [
              0.3333333333333333,
              "#9c179e"
             ],
             [
              0.4444444444444444,
              "#bd3786"
             ],
             [
              0.5555555555555556,
              "#d8576b"
             ],
             [
              0.6666666666666666,
              "#ed7953"
             ],
             [
              0.7777777777777778,
              "#fb9f3a"
             ],
             [
              0.8888888888888888,
              "#fdca26"
             ],
             [
              1,
              "#f0f921"
             ]
            ],
            "type": "heatmap"
           }
          ],
          "heatmapgl": [
           {
            "colorbar": {
             "outlinewidth": 0,
             "ticks": ""
            },
            "colorscale": [
             [
              0,
              "#0d0887"
             ],
             [
              0.1111111111111111,
              "#46039f"
             ],
             [
              0.2222222222222222,
              "#7201a8"
             ],
             [
              0.3333333333333333,
              "#9c179e"
             ],
             [
              0.4444444444444444,
              "#bd3786"
             ],
             [
              0.5555555555555556,
              "#d8576b"
             ],
             [
              0.6666666666666666,
              "#ed7953"
             ],
             [
              0.7777777777777778,
              "#fb9f3a"
             ],
             [
              0.8888888888888888,
              "#fdca26"
             ],
             [
              1,
              "#f0f921"
             ]
            ],
            "type": "heatmapgl"
           }
          ],
          "histogram": [
           {
            "marker": {
             "pattern": {
              "fillmode": "overlay",
              "size": 10,
              "solidity": 0.2
             }
            },
            "type": "histogram"
           }
          ],
          "histogram2d": [
           {
            "colorbar": {
             "outlinewidth": 0,
             "ticks": ""
            },
            "colorscale": [
             [
              0,
              "#0d0887"
             ],
             [
              0.1111111111111111,
              "#46039f"
             ],
             [
              0.2222222222222222,
              "#7201a8"
             ],
             [
              0.3333333333333333,
              "#9c179e"
             ],
             [
              0.4444444444444444,
              "#bd3786"
             ],
             [
              0.5555555555555556,
              "#d8576b"
             ],
             [
              0.6666666666666666,
              "#ed7953"
             ],
             [
              0.7777777777777778,
              "#fb9f3a"
             ],
             [
              0.8888888888888888,
              "#fdca26"
             ],
             [
              1,
              "#f0f921"
             ]
            ],
            "type": "histogram2d"
           }
          ],
          "histogram2dcontour": [
           {
            "colorbar": {
             "outlinewidth": 0,
             "ticks": ""
            },
            "colorscale": [
             [
              0,
              "#0d0887"
             ],
             [
              0.1111111111111111,
              "#46039f"
             ],
             [
              0.2222222222222222,
              "#7201a8"
             ],
             [
              0.3333333333333333,
              "#9c179e"
             ],
             [
              0.4444444444444444,
              "#bd3786"
             ],
             [
              0.5555555555555556,
              "#d8576b"
             ],
             [
              0.6666666666666666,
              "#ed7953"
             ],
             [
              0.7777777777777778,
              "#fb9f3a"
             ],
             [
              0.8888888888888888,
              "#fdca26"
             ],
             [
              1,
              "#f0f921"
             ]
            ],
            "type": "histogram2dcontour"
           }
          ],
          "mesh3d": [
           {
            "colorbar": {
             "outlinewidth": 0,
             "ticks": ""
            },
            "type": "mesh3d"
           }
          ],
          "parcoords": [
           {
            "line": {
             "colorbar": {
              "outlinewidth": 0,
              "ticks": ""
             }
            },
            "type": "parcoords"
           }
          ],
          "pie": [
           {
            "automargin": true,
            "type": "pie"
           }
          ],
          "scatter": [
           {
            "fillpattern": {
             "fillmode": "overlay",
             "size": 10,
             "solidity": 0.2
            },
            "type": "scatter"
           }
          ],
          "scatter3d": [
           {
            "line": {
             "colorbar": {
              "outlinewidth": 0,
              "ticks": ""
             }
            },
            "marker": {
             "colorbar": {
              "outlinewidth": 0,
              "ticks": ""
             }
            },
            "type": "scatter3d"
           }
          ],
          "scattercarpet": [
           {
            "marker": {
             "colorbar": {
              "outlinewidth": 0,
              "ticks": ""
             }
            },
            "type": "scattercarpet"
           }
          ],
          "scattergeo": [
           {
            "marker": {
             "colorbar": {
              "outlinewidth": 0,
              "ticks": ""
             }
            },
            "type": "scattergeo"
           }
          ],
          "scattergl": [
           {
            "marker": {
             "colorbar": {
              "outlinewidth": 0,
              "ticks": ""
             }
            },
            "type": "scattergl"
           }
          ],
          "scattermapbox": [
           {
            "marker": {
             "colorbar": {
              "outlinewidth": 0,
              "ticks": ""
             }
            },
            "type": "scattermapbox"
           }
          ],
          "scatterpolar": [
           {
            "marker": {
             "colorbar": {
              "outlinewidth": 0,
              "ticks": ""
             }
            },
            "type": "scatterpolar"
           }
          ],
          "scatterpolargl": [
           {
            "marker": {
             "colorbar": {
              "outlinewidth": 0,
              "ticks": ""
             }
            },
            "type": "scatterpolargl"
           }
          ],
          "scatterternary": [
           {
            "marker": {
             "colorbar": {
              "outlinewidth": 0,
              "ticks": ""
             }
            },
            "type": "scatterternary"
           }
          ],
          "surface": [
           {
            "colorbar": {
             "outlinewidth": 0,
             "ticks": ""
            },
            "colorscale": [
             [
              0,
              "#0d0887"
             ],
             [
              0.1111111111111111,
              "#46039f"
             ],
             [
              0.2222222222222222,
              "#7201a8"
             ],
             [
              0.3333333333333333,
              "#9c179e"
             ],
             [
              0.4444444444444444,
              "#bd3786"
             ],
             [
              0.5555555555555556,
              "#d8576b"
             ],
             [
              0.6666666666666666,
              "#ed7953"
             ],
             [
              0.7777777777777778,
              "#fb9f3a"
             ],
             [
              0.8888888888888888,
              "#fdca26"
             ],
             [
              1,
              "#f0f921"
             ]
            ],
            "type": "surface"
           }
          ],
          "table": [
           {
            "cells": {
             "fill": {
              "color": "#EBF0F8"
             },
             "line": {
              "color": "white"
             }
            },
            "header": {
             "fill": {
              "color": "#C8D4E3"
             },
             "line": {
              "color": "white"
             }
            },
            "type": "table"
           }
          ]
         },
         "layout": {
          "annotationdefaults": {
           "arrowcolor": "#2a3f5f",
           "arrowhead": 0,
           "arrowwidth": 1
          },
          "autotypenumbers": "strict",
          "coloraxis": {
           "colorbar": {
            "outlinewidth": 0,
            "ticks": ""
           }
          },
          "colorscale": {
           "diverging": [
            [
             0,
             "#8e0152"
            ],
            [
             0.1,
             "#c51b7d"
            ],
            [
             0.2,
             "#de77ae"
            ],
            [
             0.3,
             "#f1b6da"
            ],
            [
             0.4,
             "#fde0ef"
            ],
            [
             0.5,
             "#f7f7f7"
            ],
            [
             0.6,
             "#e6f5d0"
            ],
            [
             0.7,
             "#b8e186"
            ],
            [
             0.8,
             "#7fbc41"
            ],
            [
             0.9,
             "#4d9221"
            ],
            [
             1,
             "#276419"
            ]
           ],
           "sequential": [
            [
             0,
             "#0d0887"
            ],
            [
             0.1111111111111111,
             "#46039f"
            ],
            [
             0.2222222222222222,
             "#7201a8"
            ],
            [
             0.3333333333333333,
             "#9c179e"
            ],
            [
             0.4444444444444444,
             "#bd3786"
            ],
            [
             0.5555555555555556,
             "#d8576b"
            ],
            [
             0.6666666666666666,
             "#ed7953"
            ],
            [
             0.7777777777777778,
             "#fb9f3a"
            ],
            [
             0.8888888888888888,
             "#fdca26"
            ],
            [
             1,
             "#f0f921"
            ]
           ],
           "sequentialminus": [
            [
             0,
             "#0d0887"
            ],
            [
             0.1111111111111111,
             "#46039f"
            ],
            [
             0.2222222222222222,
             "#7201a8"
            ],
            [
             0.3333333333333333,
             "#9c179e"
            ],
            [
             0.4444444444444444,
             "#bd3786"
            ],
            [
             0.5555555555555556,
             "#d8576b"
            ],
            [
             0.6666666666666666,
             "#ed7953"
            ],
            [
             0.7777777777777778,
             "#fb9f3a"
            ],
            [
             0.8888888888888888,
             "#fdca26"
            ],
            [
             1,
             "#f0f921"
            ]
           ]
          },
          "colorway": [
           "#636efa",
           "#EF553B",
           "#00cc96",
           "#ab63fa",
           "#FFA15A",
           "#19d3f3",
           "#FF6692",
           "#B6E880",
           "#FF97FF",
           "#FECB52"
          ],
          "font": {
           "color": "#2a3f5f"
          },
          "geo": {
           "bgcolor": "white",
           "lakecolor": "white",
           "landcolor": "#E5ECF6",
           "showlakes": true,
           "showland": true,
           "subunitcolor": "white"
          },
          "hoverlabel": {
           "align": "left"
          },
          "hovermode": "closest",
          "mapbox": {
           "style": "light"
          },
          "paper_bgcolor": "white",
          "plot_bgcolor": "#E5ECF6",
          "polar": {
           "angularaxis": {
            "gridcolor": "white",
            "linecolor": "white",
            "ticks": ""
           },
           "bgcolor": "#E5ECF6",
           "radialaxis": {
            "gridcolor": "white",
            "linecolor": "white",
            "ticks": ""
           }
          },
          "scene": {
           "xaxis": {
            "backgroundcolor": "#E5ECF6",
            "gridcolor": "white",
            "gridwidth": 2,
            "linecolor": "white",
            "showbackground": true,
            "ticks": "",
            "zerolinecolor": "white"
           },
           "yaxis": {
            "backgroundcolor": "#E5ECF6",
            "gridcolor": "white",
            "gridwidth": 2,
            "linecolor": "white",
            "showbackground": true,
            "ticks": "",
            "zerolinecolor": "white"
           },
           "zaxis": {
            "backgroundcolor": "#E5ECF6",
            "gridcolor": "white",
            "gridwidth": 2,
            "linecolor": "white",
            "showbackground": true,
            "ticks": "",
            "zerolinecolor": "white"
           }
          },
          "shapedefaults": {
           "line": {
            "color": "#2a3f5f"
           }
          },
          "ternary": {
           "aaxis": {
            "gridcolor": "white",
            "linecolor": "white",
            "ticks": ""
           },
           "baxis": {
            "gridcolor": "white",
            "linecolor": "white",
            "ticks": ""
           },
           "bgcolor": "#E5ECF6",
           "caxis": {
            "gridcolor": "white",
            "linecolor": "white",
            "ticks": ""
           }
          },
          "title": {
           "x": 0.05
          },
          "xaxis": {
           "automargin": true,
           "gridcolor": "white",
           "linecolor": "white",
           "ticks": "",
           "title": {
            "standoff": 15
           },
           "zerolinecolor": "white",
           "zerolinewidth": 2
          },
          "yaxis": {
           "automargin": true,
           "gridcolor": "white",
           "linecolor": "white",
           "ticks": "",
           "title": {
            "standoff": 15
           },
           "zerolinecolor": "white",
           "zerolinewidth": 2
          }
         }
        },
        "title": {
         "text": "Team Performance in Different Weeks"
        },
        "xaxis": {
         "title": {
          "text": "Week"
         }
        },
        "yaxis": {
         "title": {
          "text": "Score"
         }
        }
       }
      }
     },
     "metadata": {},
     "output_type": "display_data"
    }
   ],
   "source": [
    "# 根据赛季、周次和队伍分组并计算得分总和\n",
    "team_scores = games_data.groupby([\"season\", \"week\", \"homeTeamAbbr\"])[\"homeFinalScore\"].sum().reset_index()\n",
    "team_scores = team_scores.rename(columns={\"homeTeamAbbr\": \"Team\", \"homeFinalScore\": \"Score\"})\n",
    "\n",
    "# 获取所有队伍的列表\n",
    "all_teams = team_scores[\"Team\"].unique().tolist()\n",
    "\n",
    "# 创建交互式折线图\n",
    "fig = go.Figure()\n",
    "\n",
    "for team in all_teams:\n",
    "    team_data = team_scores[team_scores[\"Team\"] == team]\n",
    "    fig.add_trace(go.Scatter(x=team_data[\"week\"], y=team_data[\"Score\"], mode='lines', name=team))\n",
    "\n",
    "# 设置布局\n",
    "fig.update_layout(\n",
    "    title=\"Team Performance in Different Weeks\",\n",
    "    xaxis_title=\"Week\",\n",
    "    yaxis_title=\"Score\",\n",
    "    legend=dict(orientation=\"h\", y=-0.2),\n",
    "    margin=dict(l=20, r=20, t=80, b=20)\n",
    ")\n",
    "\n",
    "fig.show()"
   ]
  },
  {
   "cell_type": "markdown",
   "metadata": {},
   "source": [
    "从结果可以看出，并不是所有的队伍每个星期都参赛"
   ]
  },
  {
   "cell_type": "markdown",
   "metadata": {},
   "source": [
    "赛季中比赛结果统计 - 饼图展示每个赛季主队和客队的胜利次数和比赛结果"
   ]
  },
  {
   "cell_type": "code",
   "execution_count": 15,
   "metadata": {},
   "outputs": [
    {
     "data": {
      "application/vnd.plotly.v1+json": {
       "config": {
        "plotlyServerURL": "https://plot.ly"
       },
       "data": [
        {
         "customdata": [
          [
           73
          ],
          [
           62
          ]
         ],
         "domain": {
          "x": [
           0,
           1
          ],
          "y": [
           0,
           1
          ]
         },
         "hovertemplate": "Game Result=%{label}<br>Wins=%{customdata[0]}<extra></extra>",
         "labels": [
          "home_win",
          "visitor_win"
         ],
         "legendgroup": "",
         "name": "",
         "showlegend": true,
         "type": "pie",
         "values": [
          73,
          62
         ]
        }
       ],
       "layout": {
        "legend": {
         "tracegroupgap": 0
        },
        "template": {
         "data": {
          "bar": [
           {
            "error_x": {
             "color": "#2a3f5f"
            },
            "error_y": {
             "color": "#2a3f5f"
            },
            "marker": {
             "line": {
              "color": "#E5ECF6",
              "width": 0.5
             },
             "pattern": {
              "fillmode": "overlay",
              "size": 10,
              "solidity": 0.2
             }
            },
            "type": "bar"
           }
          ],
          "barpolar": [
           {
            "marker": {
             "line": {
              "color": "#E5ECF6",
              "width": 0.5
             },
             "pattern": {
              "fillmode": "overlay",
              "size": 10,
              "solidity": 0.2
             }
            },
            "type": "barpolar"
           }
          ],
          "carpet": [
           {
            "aaxis": {
             "endlinecolor": "#2a3f5f",
             "gridcolor": "white",
             "linecolor": "white",
             "minorgridcolor": "white",
             "startlinecolor": "#2a3f5f"
            },
            "baxis": {
             "endlinecolor": "#2a3f5f",
             "gridcolor": "white",
             "linecolor": "white",
             "minorgridcolor": "white",
             "startlinecolor": "#2a3f5f"
            },
            "type": "carpet"
           }
          ],
          "choropleth": [
           {
            "colorbar": {
             "outlinewidth": 0,
             "ticks": ""
            },
            "type": "choropleth"
           }
          ],
          "contour": [
           {
            "colorbar": {
             "outlinewidth": 0,
             "ticks": ""
            },
            "colorscale": [
             [
              0,
              "#0d0887"
             ],
             [
              0.1111111111111111,
              "#46039f"
             ],
             [
              0.2222222222222222,
              "#7201a8"
             ],
             [
              0.3333333333333333,
              "#9c179e"
             ],
             [
              0.4444444444444444,
              "#bd3786"
             ],
             [
              0.5555555555555556,
              "#d8576b"
             ],
             [
              0.6666666666666666,
              "#ed7953"
             ],
             [
              0.7777777777777778,
              "#fb9f3a"
             ],
             [
              0.8888888888888888,
              "#fdca26"
             ],
             [
              1,
              "#f0f921"
             ]
            ],
            "type": "contour"
           }
          ],
          "contourcarpet": [
           {
            "colorbar": {
             "outlinewidth": 0,
             "ticks": ""
            },
            "type": "contourcarpet"
           }
          ],
          "heatmap": [
           {
            "colorbar": {
             "outlinewidth": 0,
             "ticks": ""
            },
            "colorscale": [
             [
              0,
              "#0d0887"
             ],
             [
              0.1111111111111111,
              "#46039f"
             ],
             [
              0.2222222222222222,
              "#7201a8"
             ],
             [
              0.3333333333333333,
              "#9c179e"
             ],
             [
              0.4444444444444444,
              "#bd3786"
             ],
             [
              0.5555555555555556,
              "#d8576b"
             ],
             [
              0.6666666666666666,
              "#ed7953"
             ],
             [
              0.7777777777777778,
              "#fb9f3a"
             ],
             [
              0.8888888888888888,
              "#fdca26"
             ],
             [
              1,
              "#f0f921"
             ]
            ],
            "type": "heatmap"
           }
          ],
          "heatmapgl": [
           {
            "colorbar": {
             "outlinewidth": 0,
             "ticks": ""
            },
            "colorscale": [
             [
              0,
              "#0d0887"
             ],
             [
              0.1111111111111111,
              "#46039f"
             ],
             [
              0.2222222222222222,
              "#7201a8"
             ],
             [
              0.3333333333333333,
              "#9c179e"
             ],
             [
              0.4444444444444444,
              "#bd3786"
             ],
             [
              0.5555555555555556,
              "#d8576b"
             ],
             [
              0.6666666666666666,
              "#ed7953"
             ],
             [
              0.7777777777777778,
              "#fb9f3a"
             ],
             [
              0.8888888888888888,
              "#fdca26"
             ],
             [
              1,
              "#f0f921"
             ]
            ],
            "type": "heatmapgl"
           }
          ],
          "histogram": [
           {
            "marker": {
             "pattern": {
              "fillmode": "overlay",
              "size": 10,
              "solidity": 0.2
             }
            },
            "type": "histogram"
           }
          ],
          "histogram2d": [
           {
            "colorbar": {
             "outlinewidth": 0,
             "ticks": ""
            },
            "colorscale": [
             [
              0,
              "#0d0887"
             ],
             [
              0.1111111111111111,
              "#46039f"
             ],
             [
              0.2222222222222222,
              "#7201a8"
             ],
             [
              0.3333333333333333,
              "#9c179e"
             ],
             [
              0.4444444444444444,
              "#bd3786"
             ],
             [
              0.5555555555555556,
              "#d8576b"
             ],
             [
              0.6666666666666666,
              "#ed7953"
             ],
             [
              0.7777777777777778,
              "#fb9f3a"
             ],
             [
              0.8888888888888888,
              "#fdca26"
             ],
             [
              1,
              "#f0f921"
             ]
            ],
            "type": "histogram2d"
           }
          ],
          "histogram2dcontour": [
           {
            "colorbar": {
             "outlinewidth": 0,
             "ticks": ""
            },
            "colorscale": [
             [
              0,
              "#0d0887"
             ],
             [
              0.1111111111111111,
              "#46039f"
             ],
             [
              0.2222222222222222,
              "#7201a8"
             ],
             [
              0.3333333333333333,
              "#9c179e"
             ],
             [
              0.4444444444444444,
              "#bd3786"
             ],
             [
              0.5555555555555556,
              "#d8576b"
             ],
             [
              0.6666666666666666,
              "#ed7953"
             ],
             [
              0.7777777777777778,
              "#fb9f3a"
             ],
             [
              0.8888888888888888,
              "#fdca26"
             ],
             [
              1,
              "#f0f921"
             ]
            ],
            "type": "histogram2dcontour"
           }
          ],
          "mesh3d": [
           {
            "colorbar": {
             "outlinewidth": 0,
             "ticks": ""
            },
            "type": "mesh3d"
           }
          ],
          "parcoords": [
           {
            "line": {
             "colorbar": {
              "outlinewidth": 0,
              "ticks": ""
             }
            },
            "type": "parcoords"
           }
          ],
          "pie": [
           {
            "automargin": true,
            "type": "pie"
           }
          ],
          "scatter": [
           {
            "fillpattern": {
             "fillmode": "overlay",
             "size": 10,
             "solidity": 0.2
            },
            "type": "scatter"
           }
          ],
          "scatter3d": [
           {
            "line": {
             "colorbar": {
              "outlinewidth": 0,
              "ticks": ""
             }
            },
            "marker": {
             "colorbar": {
              "outlinewidth": 0,
              "ticks": ""
             }
            },
            "type": "scatter3d"
           }
          ],
          "scattercarpet": [
           {
            "marker": {
             "colorbar": {
              "outlinewidth": 0,
              "ticks": ""
             }
            },
            "type": "scattercarpet"
           }
          ],
          "scattergeo": [
           {
            "marker": {
             "colorbar": {
              "outlinewidth": 0,
              "ticks": ""
             }
            },
            "type": "scattergeo"
           }
          ],
          "scattergl": [
           {
            "marker": {
             "colorbar": {
              "outlinewidth": 0,
              "ticks": ""
             }
            },
            "type": "scattergl"
           }
          ],
          "scattermapbox": [
           {
            "marker": {
             "colorbar": {
              "outlinewidth": 0,
              "ticks": ""
             }
            },
            "type": "scattermapbox"
           }
          ],
          "scatterpolar": [
           {
            "marker": {
             "colorbar": {
              "outlinewidth": 0,
              "ticks": ""
             }
            },
            "type": "scatterpolar"
           }
          ],
          "scatterpolargl": [
           {
            "marker": {
             "colorbar": {
              "outlinewidth": 0,
              "ticks": ""
             }
            },
            "type": "scatterpolargl"
           }
          ],
          "scatterternary": [
           {
            "marker": {
             "colorbar": {
              "outlinewidth": 0,
              "ticks": ""
             }
            },
            "type": "scatterternary"
           }
          ],
          "surface": [
           {
            "colorbar": {
             "outlinewidth": 0,
             "ticks": ""
            },
            "colorscale": [
             [
              0,
              "#0d0887"
             ],
             [
              0.1111111111111111,
              "#46039f"
             ],
             [
              0.2222222222222222,
              "#7201a8"
             ],
             [
              0.3333333333333333,
              "#9c179e"
             ],
             [
              0.4444444444444444,
              "#bd3786"
             ],
             [
              0.5555555555555556,
              "#d8576b"
             ],
             [
              0.6666666666666666,
              "#ed7953"
             ],
             [
              0.7777777777777778,
              "#fb9f3a"
             ],
             [
              0.8888888888888888,
              "#fdca26"
             ],
             [
              1,
              "#f0f921"
             ]
            ],
            "type": "surface"
           }
          ],
          "table": [
           {
            "cells": {
             "fill": {
              "color": "#EBF0F8"
             },
             "line": {
              "color": "white"
             }
            },
            "header": {
             "fill": {
              "color": "#C8D4E3"
             },
             "line": {
              "color": "white"
             }
            },
            "type": "table"
           }
          ]
         },
         "layout": {
          "annotationdefaults": {
           "arrowcolor": "#2a3f5f",
           "arrowhead": 0,
           "arrowwidth": 1
          },
          "autotypenumbers": "strict",
          "coloraxis": {
           "colorbar": {
            "outlinewidth": 0,
            "ticks": ""
           }
          },
          "colorscale": {
           "diverging": [
            [
             0,
             "#8e0152"
            ],
            [
             0.1,
             "#c51b7d"
            ],
            [
             0.2,
             "#de77ae"
            ],
            [
             0.3,
             "#f1b6da"
            ],
            [
             0.4,
             "#fde0ef"
            ],
            [
             0.5,
             "#f7f7f7"
            ],
            [
             0.6,
             "#e6f5d0"
            ],
            [
             0.7,
             "#b8e186"
            ],
            [
             0.8,
             "#7fbc41"
            ],
            [
             0.9,
             "#4d9221"
            ],
            [
             1,
             "#276419"
            ]
           ],
           "sequential": [
            [
             0,
             "#0d0887"
            ],
            [
             0.1111111111111111,
             "#46039f"
            ],
            [
             0.2222222222222222,
             "#7201a8"
            ],
            [
             0.3333333333333333,
             "#9c179e"
            ],
            [
             0.4444444444444444,
             "#bd3786"
            ],
            [
             0.5555555555555556,
             "#d8576b"
            ],
            [
             0.6666666666666666,
             "#ed7953"
            ],
            [
             0.7777777777777778,
             "#fb9f3a"
            ],
            [
             0.8888888888888888,
             "#fdca26"
            ],
            [
             1,
             "#f0f921"
            ]
           ],
           "sequentialminus": [
            [
             0,
             "#0d0887"
            ],
            [
             0.1111111111111111,
             "#46039f"
            ],
            [
             0.2222222222222222,
             "#7201a8"
            ],
            [
             0.3333333333333333,
             "#9c179e"
            ],
            [
             0.4444444444444444,
             "#bd3786"
            ],
            [
             0.5555555555555556,
             "#d8576b"
            ],
            [
             0.6666666666666666,
             "#ed7953"
            ],
            [
             0.7777777777777778,
             "#fb9f3a"
            ],
            [
             0.8888888888888888,
             "#fdca26"
            ],
            [
             1,
             "#f0f921"
            ]
           ]
          },
          "colorway": [
           "#636efa",
           "#EF553B",
           "#00cc96",
           "#ab63fa",
           "#FFA15A",
           "#19d3f3",
           "#FF6692",
           "#B6E880",
           "#FF97FF",
           "#FECB52"
          ],
          "font": {
           "color": "#2a3f5f"
          },
          "geo": {
           "bgcolor": "white",
           "lakecolor": "white",
           "landcolor": "#E5ECF6",
           "showlakes": true,
           "showland": true,
           "subunitcolor": "white"
          },
          "hoverlabel": {
           "align": "left"
          },
          "hovermode": "closest",
          "mapbox": {
           "style": "light"
          },
          "paper_bgcolor": "white",
          "plot_bgcolor": "#E5ECF6",
          "polar": {
           "angularaxis": {
            "gridcolor": "white",
            "linecolor": "white",
            "ticks": ""
           },
           "bgcolor": "#E5ECF6",
           "radialaxis": {
            "gridcolor": "white",
            "linecolor": "white",
            "ticks": ""
           }
          },
          "scene": {
           "xaxis": {
            "backgroundcolor": "#E5ECF6",
            "gridcolor": "white",
            "gridwidth": 2,
            "linecolor": "white",
            "showbackground": true,
            "ticks": "",
            "zerolinecolor": "white"
           },
           "yaxis": {
            "backgroundcolor": "#E5ECF6",
            "gridcolor": "white",
            "gridwidth": 2,
            "linecolor": "white",
            "showbackground": true,
            "ticks": "",
            "zerolinecolor": "white"
           },
           "zaxis": {
            "backgroundcolor": "#E5ECF6",
            "gridcolor": "white",
            "gridwidth": 2,
            "linecolor": "white",
            "showbackground": true,
            "ticks": "",
            "zerolinecolor": "white"
           }
          },
          "shapedefaults": {
           "line": {
            "color": "#2a3f5f"
           }
          },
          "ternary": {
           "aaxis": {
            "gridcolor": "white",
            "linecolor": "white",
            "ticks": ""
           },
           "baxis": {
            "gridcolor": "white",
            "linecolor": "white",
            "ticks": ""
           },
           "bgcolor": "#E5ECF6",
           "caxis": {
            "gridcolor": "white",
            "linecolor": "white",
            "ticks": ""
           }
          },
          "title": {
           "x": 0.05
          },
          "xaxis": {
           "automargin": true,
           "gridcolor": "white",
           "linecolor": "white",
           "ticks": "",
           "title": {
            "standoff": 15
           },
           "zerolinecolor": "white",
           "zerolinewidth": 2
          },
          "yaxis": {
           "automargin": true,
           "gridcolor": "white",
           "linecolor": "white",
           "ticks": "",
           "title": {
            "standoff": 15
           },
           "zerolinecolor": "white",
           "zerolinewidth": 2
          }
         }
        },
        "title": {
         "text": "Season Results: Home Team vs Visitor Team Wins"
        }
       }
      }
     },
     "metadata": {},
     "output_type": "display_data"
    }
   ],
   "source": [
    "# 创建新列，表示主队和客队的胜利情况\n",
    "games_data['home_win'] = games_data['homeFinalScore'] > games_data['visitorFinalScore']\n",
    "games_data['visitor_win'] = games_data['homeFinalScore'] < games_data['visitorFinalScore']\n",
    "\n",
    "# 统计每个赛季中主队和客队的胜利次数\n",
    "season_results = games_data.groupby(['season']).agg({\n",
    "    'home_win': 'sum',\n",
    "    'visitor_win': 'sum'\n",
    "}).reset_index()\n",
    "\n",
    "# 重塑数据以符合饼图格式\n",
    "season_results_melted = season_results.melt(id_vars='season', var_name='Result', value_name='Wins')\n",
    "\n",
    "# 显示饼图\n",
    "fig = px.pie(season_results_melted, values='Wins', names='Result', title='Season Results: Home Team vs Visitor Team Wins',\n",
    "             hover_data=['Wins'], labels={'Result': 'Game Result'})\n",
    "fig.show()"
   ]
  },
  {
   "cell_type": "markdown",
   "metadata": {},
   "source": [
    "看来主场确实有优势啊"
   ]
  },
  {
   "cell_type": "markdown",
   "metadata": {},
   "source": [
    "接下来进行数据清理的工作"
   ]
  },
  {
   "cell_type": "code",
   "execution_count": 16,
   "metadata": {},
   "outputs": [
    {
     "name": "stdout",
     "output_type": "stream",
     "text": [
      "表格信息统计:\n"
     ]
    },
    {
     "data": {
      "text/html": [
       "<style  type=\"text/css\" >\n",
       "#T_be6d3_row0_col0,#T_be6d3_row0_col1,#T_be6d3_row0_col2,#T_be6d3_row0_col3,#T_be6d3_row0_col4,#T_be6d3_row0_col5,#T_be6d3_row0_col6,#T_be6d3_row0_col7,#T_be6d3_row0_col8,#T_be6d3_row1_col0,#T_be6d3_row1_col1,#T_be6d3_row1_col2,#T_be6d3_row1_col3,#T_be6d3_row1_col4,#T_be6d3_row1_col5,#T_be6d3_row1_col6,#T_be6d3_row1_col7,#T_be6d3_row1_col8,#T_be6d3_row2_col0,#T_be6d3_row2_col1,#T_be6d3_row2_col2,#T_be6d3_row2_col3,#T_be6d3_row2_col4,#T_be6d3_row2_col5,#T_be6d3_row2_col6,#T_be6d3_row2_col7,#T_be6d3_row2_col8,#T_be6d3_row3_col0,#T_be6d3_row3_col1,#T_be6d3_row3_col2,#T_be6d3_row3_col3,#T_be6d3_row3_col4,#T_be6d3_row3_col5,#T_be6d3_row3_col6,#T_be6d3_row3_col7,#T_be6d3_row3_col8,#T_be6d3_row4_col0,#T_be6d3_row4_col1,#T_be6d3_row4_col2,#T_be6d3_row4_col3,#T_be6d3_row4_col4,#T_be6d3_row4_col5,#T_be6d3_row4_col6,#T_be6d3_row4_col7,#T_be6d3_row4_col8,#T_be6d3_row5_col0,#T_be6d3_row5_col1,#T_be6d3_row5_col2,#T_be6d3_row5_col3,#T_be6d3_row5_col4,#T_be6d3_row5_col5,#T_be6d3_row5_col6,#T_be6d3_row5_col7,#T_be6d3_row5_col8,#T_be6d3_row6_col0,#T_be6d3_row6_col1,#T_be6d3_row6_col2,#T_be6d3_row6_col3,#T_be6d3_row6_col4,#T_be6d3_row6_col5,#T_be6d3_row6_col6,#T_be6d3_row6_col7,#T_be6d3_row6_col8,#T_be6d3_row7_col0,#T_be6d3_row7_col1,#T_be6d3_row7_col2,#T_be6d3_row7_col3,#T_be6d3_row7_col4,#T_be6d3_row7_col5,#T_be6d3_row7_col6,#T_be6d3_row7_col7,#T_be6d3_row7_col8,#T_be6d3_row8_col0,#T_be6d3_row8_col1,#T_be6d3_row8_col2,#T_be6d3_row8_col3,#T_be6d3_row8_col4,#T_be6d3_row8_col5,#T_be6d3_row8_col6,#T_be6d3_row8_col7,#T_be6d3_row8_col8,#T_be6d3_row9_col0,#T_be6d3_row9_col1,#T_be6d3_row9_col2,#T_be6d3_row9_col3,#T_be6d3_row9_col4,#T_be6d3_row9_col5,#T_be6d3_row9_col6,#T_be6d3_row9_col7,#T_be6d3_row9_col8,#T_be6d3_row10_col0,#T_be6d3_row10_col1,#T_be6d3_row10_col2,#T_be6d3_row10_col3,#T_be6d3_row10_col4,#T_be6d3_row10_col5,#T_be6d3_row10_col6,#T_be6d3_row10_col7,#T_be6d3_row10_col8{\n",
       "            text-align:  center;\n",
       "        }</style><table id=\"T_be6d3_\" ><thead>    <tr>        <th class=\"blank level0\" ></th>        <th class=\"col_heading level0 col0\" >Column</th>        <th class=\"col_heading level0 col1\" >Data Type</th>        <th class=\"col_heading level0 col2\" >Missing Values</th>        <th class=\"col_heading level0 col3\" >Missing %</th>        <th class=\"col_heading level0 col4\" >Unique Values</th>        <th class=\"col_heading level0 col5\" >Min</th>        <th class=\"col_heading level0 col6\" >Max</th>        <th class=\"col_heading level0 col7\" >Mean</th>        <th class=\"col_heading level0 col8\" >Median</th>    </tr></thead><tbody>\n",
       "                <tr>\n",
       "                        <th id=\"T_be6d3_level0_row0\" class=\"row_heading level0 row0\" >0</th>\n",
       "                        <td id=\"T_be6d3_row0_col0\" class=\"data row0 col0\" >gameId</td>\n",
       "                        <td id=\"T_be6d3_row0_col1\" class=\"data row0 col1\" >int64</td>\n",
       "                        <td id=\"T_be6d3_row0_col2\" class=\"data row0 col2\" >0</td>\n",
       "                        <td id=\"T_be6d3_row0_col3\" class=\"data row0 col3\" >0.00%</td>\n",
       "                        <td id=\"T_be6d3_row0_col4\" class=\"data row0 col4\" >136</td>\n",
       "                        <td id=\"T_be6d3_row0_col5\" class=\"data row0 col5\" >2022090800</td>\n",
       "                        <td id=\"T_be6d3_row0_col6\" class=\"data row0 col6\" >2022110700</td>\n",
       "                        <td id=\"T_be6d3_row0_col7\" class=\"data row0 col7\" >2022098922.117647</td>\n",
       "                        <td id=\"T_be6d3_row0_col8\" class=\"data row0 col8\" >2022100902.500000</td>\n",
       "            </tr>\n",
       "            <tr>\n",
       "                        <th id=\"T_be6d3_level0_row1\" class=\"row_heading level0 row1\" >1</th>\n",
       "                        <td id=\"T_be6d3_row1_col0\" class=\"data row1 col0\" >season</td>\n",
       "                        <td id=\"T_be6d3_row1_col1\" class=\"data row1 col1\" >int64</td>\n",
       "                        <td id=\"T_be6d3_row1_col2\" class=\"data row1 col2\" >0</td>\n",
       "                        <td id=\"T_be6d3_row1_col3\" class=\"data row1 col3\" >0.00%</td>\n",
       "                        <td id=\"T_be6d3_row1_col4\" class=\"data row1 col4\" >1</td>\n",
       "                        <td id=\"T_be6d3_row1_col5\" class=\"data row1 col5\" >2022</td>\n",
       "                        <td id=\"T_be6d3_row1_col6\" class=\"data row1 col6\" >2022</td>\n",
       "                        <td id=\"T_be6d3_row1_col7\" class=\"data row1 col7\" >2022.000000</td>\n",
       "                        <td id=\"T_be6d3_row1_col8\" class=\"data row1 col8\" >2022.000000</td>\n",
       "            </tr>\n",
       "            <tr>\n",
       "                        <th id=\"T_be6d3_level0_row2\" class=\"row_heading level0 row2\" >2</th>\n",
       "                        <td id=\"T_be6d3_row2_col0\" class=\"data row2 col0\" >week</td>\n",
       "                        <td id=\"T_be6d3_row2_col1\" class=\"data row2 col1\" >int64</td>\n",
       "                        <td id=\"T_be6d3_row2_col2\" class=\"data row2 col2\" >0</td>\n",
       "                        <td id=\"T_be6d3_row2_col3\" class=\"data row2 col3\" >0.00%</td>\n",
       "                        <td id=\"T_be6d3_row2_col4\" class=\"data row2 col4\" >9</td>\n",
       "                        <td id=\"T_be6d3_row2_col5\" class=\"data row2 col5\" >1</td>\n",
       "                        <td id=\"T_be6d3_row2_col6\" class=\"data row2 col6\" >9</td>\n",
       "                        <td id=\"T_be6d3_row2_col7\" class=\"data row2 col7\" >4.845588</td>\n",
       "                        <td id=\"T_be6d3_row2_col8\" class=\"data row2 col8\" >5.000000</td>\n",
       "            </tr>\n",
       "            <tr>\n",
       "                        <th id=\"T_be6d3_level0_row3\" class=\"row_heading level0 row3\" >3</th>\n",
       "                        <td id=\"T_be6d3_row3_col0\" class=\"data row3 col0\" >gameDate</td>\n",
       "                        <td id=\"T_be6d3_row3_col1\" class=\"data row3 col1\" >object</td>\n",
       "                        <td id=\"T_be6d3_row3_col2\" class=\"data row3 col2\" >0</td>\n",
       "                        <td id=\"T_be6d3_row3_col3\" class=\"data row3 col3\" >0.00%</td>\n",
       "                        <td id=\"T_be6d3_row3_col4\" class=\"data row3 col4\" >27</td>\n",
       "                        <td id=\"T_be6d3_row3_col5\" class=\"data row3 col5\" ></td>\n",
       "                        <td id=\"T_be6d3_row3_col6\" class=\"data row3 col6\" ></td>\n",
       "                        <td id=\"T_be6d3_row3_col7\" class=\"data row3 col7\" ></td>\n",
       "                        <td id=\"T_be6d3_row3_col8\" class=\"data row3 col8\" ></td>\n",
       "            </tr>\n",
       "            <tr>\n",
       "                        <th id=\"T_be6d3_level0_row4\" class=\"row_heading level0 row4\" >4</th>\n",
       "                        <td id=\"T_be6d3_row4_col0\" class=\"data row4 col0\" >gameTimeEastern</td>\n",
       "                        <td id=\"T_be6d3_row4_col1\" class=\"data row4 col1\" >object</td>\n",
       "                        <td id=\"T_be6d3_row4_col2\" class=\"data row4 col2\" >0</td>\n",
       "                        <td id=\"T_be6d3_row4_col3\" class=\"data row4 col3\" >0.00%</td>\n",
       "                        <td id=\"T_be6d3_row4_col4\" class=\"data row4 col4\" >8</td>\n",
       "                        <td id=\"T_be6d3_row4_col5\" class=\"data row4 col5\" ></td>\n",
       "                        <td id=\"T_be6d3_row4_col6\" class=\"data row4 col6\" ></td>\n",
       "                        <td id=\"T_be6d3_row4_col7\" class=\"data row4 col7\" ></td>\n",
       "                        <td id=\"T_be6d3_row4_col8\" class=\"data row4 col8\" ></td>\n",
       "            </tr>\n",
       "            <tr>\n",
       "                        <th id=\"T_be6d3_level0_row5\" class=\"row_heading level0 row5\" >5</th>\n",
       "                        <td id=\"T_be6d3_row5_col0\" class=\"data row5 col0\" >homeTeamAbbr</td>\n",
       "                        <td id=\"T_be6d3_row5_col1\" class=\"data row5 col1\" >object</td>\n",
       "                        <td id=\"T_be6d3_row5_col2\" class=\"data row5 col2\" >0</td>\n",
       "                        <td id=\"T_be6d3_row5_col3\" class=\"data row5 col3\" >0.00%</td>\n",
       "                        <td id=\"T_be6d3_row5_col4\" class=\"data row5 col4\" >32</td>\n",
       "                        <td id=\"T_be6d3_row5_col5\" class=\"data row5 col5\" ></td>\n",
       "                        <td id=\"T_be6d3_row5_col6\" class=\"data row5 col6\" ></td>\n",
       "                        <td id=\"T_be6d3_row5_col7\" class=\"data row5 col7\" ></td>\n",
       "                        <td id=\"T_be6d3_row5_col8\" class=\"data row5 col8\" ></td>\n",
       "            </tr>\n",
       "            <tr>\n",
       "                        <th id=\"T_be6d3_level0_row6\" class=\"row_heading level0 row6\" >6</th>\n",
       "                        <td id=\"T_be6d3_row6_col0\" class=\"data row6 col0\" >visitorTeamAbbr</td>\n",
       "                        <td id=\"T_be6d3_row6_col1\" class=\"data row6 col1\" >object</td>\n",
       "                        <td id=\"T_be6d3_row6_col2\" class=\"data row6 col2\" >0</td>\n",
       "                        <td id=\"T_be6d3_row6_col3\" class=\"data row6 col3\" >0.00%</td>\n",
       "                        <td id=\"T_be6d3_row6_col4\" class=\"data row6 col4\" >32</td>\n",
       "                        <td id=\"T_be6d3_row6_col5\" class=\"data row6 col5\" ></td>\n",
       "                        <td id=\"T_be6d3_row6_col6\" class=\"data row6 col6\" ></td>\n",
       "                        <td id=\"T_be6d3_row6_col7\" class=\"data row6 col7\" ></td>\n",
       "                        <td id=\"T_be6d3_row6_col8\" class=\"data row6 col8\" ></td>\n",
       "            </tr>\n",
       "            <tr>\n",
       "                        <th id=\"T_be6d3_level0_row7\" class=\"row_heading level0 row7\" >7</th>\n",
       "                        <td id=\"T_be6d3_row7_col0\" class=\"data row7 col0\" >homeFinalScore</td>\n",
       "                        <td id=\"T_be6d3_row7_col1\" class=\"data row7 col1\" >int64</td>\n",
       "                        <td id=\"T_be6d3_row7_col2\" class=\"data row7 col2\" >0</td>\n",
       "                        <td id=\"T_be6d3_row7_col3\" class=\"data row7 col3\" >0.00%</td>\n",
       "                        <td id=\"T_be6d3_row7_col4\" class=\"data row7 col4\" >38</td>\n",
       "                        <td id=\"T_be6d3_row7_col5\" class=\"data row7 col5\" >3</td>\n",
       "                        <td id=\"T_be6d3_row7_col6\" class=\"data row7 col6\" >49</td>\n",
       "                        <td id=\"T_be6d3_row7_col7\" class=\"data row7 col7\" >22.669118</td>\n",
       "                        <td id=\"T_be6d3_row7_col8\" class=\"data row7 col8\" >22.500000</td>\n",
       "            </tr>\n",
       "            <tr>\n",
       "                        <th id=\"T_be6d3_level0_row8\" class=\"row_heading level0 row8\" >8</th>\n",
       "                        <td id=\"T_be6d3_row8_col0\" class=\"data row8 col0\" >visitorFinalScore</td>\n",
       "                        <td id=\"T_be6d3_row8_col1\" class=\"data row8 col1\" >int64</td>\n",
       "                        <td id=\"T_be6d3_row8_col2\" class=\"data row8 col2\" >0</td>\n",
       "                        <td id=\"T_be6d3_row8_col3\" class=\"data row8 col3\" >0.00%</td>\n",
       "                        <td id=\"T_be6d3_row8_col4\" class=\"data row8 col4\" >35</td>\n",
       "                        <td id=\"T_be6d3_row8_col5\" class=\"data row8 col5\" >0</td>\n",
       "                        <td id=\"T_be6d3_row8_col6\" class=\"data row8 col6\" >48</td>\n",
       "                        <td id=\"T_be6d3_row8_col7\" class=\"data row8 col7\" >20.948529</td>\n",
       "                        <td id=\"T_be6d3_row8_col8\" class=\"data row8 col8\" >20.000000</td>\n",
       "            </tr>\n",
       "            <tr>\n",
       "                        <th id=\"T_be6d3_level0_row9\" class=\"row_heading level0 row9\" >9</th>\n",
       "                        <td id=\"T_be6d3_row9_col0\" class=\"data row9 col0\" >home_win</td>\n",
       "                        <td id=\"T_be6d3_row9_col1\" class=\"data row9 col1\" >bool</td>\n",
       "                        <td id=\"T_be6d3_row9_col2\" class=\"data row9 col2\" >0</td>\n",
       "                        <td id=\"T_be6d3_row9_col3\" class=\"data row9 col3\" >0.00%</td>\n",
       "                        <td id=\"T_be6d3_row9_col4\" class=\"data row9 col4\" >2</td>\n",
       "                        <td id=\"T_be6d3_row9_col5\" class=\"data row9 col5\" >False</td>\n",
       "                        <td id=\"T_be6d3_row9_col6\" class=\"data row9 col6\" >True</td>\n",
       "                        <td id=\"T_be6d3_row9_col7\" class=\"data row9 col7\" >0.536765</td>\n",
       "                        <td id=\"T_be6d3_row9_col8\" class=\"data row9 col8\" >1.000000</td>\n",
       "            </tr>\n",
       "            <tr>\n",
       "                        <th id=\"T_be6d3_level0_row10\" class=\"row_heading level0 row10\" >10</th>\n",
       "                        <td id=\"T_be6d3_row10_col0\" class=\"data row10 col0\" >visitor_win</td>\n",
       "                        <td id=\"T_be6d3_row10_col1\" class=\"data row10 col1\" >bool</td>\n",
       "                        <td id=\"T_be6d3_row10_col2\" class=\"data row10 col2\" >0</td>\n",
       "                        <td id=\"T_be6d3_row10_col3\" class=\"data row10 col3\" >0.00%</td>\n",
       "                        <td id=\"T_be6d3_row10_col4\" class=\"data row10 col4\" >2</td>\n",
       "                        <td id=\"T_be6d3_row10_col5\" class=\"data row10 col5\" >False</td>\n",
       "                        <td id=\"T_be6d3_row10_col6\" class=\"data row10 col6\" >True</td>\n",
       "                        <td id=\"T_be6d3_row10_col7\" class=\"data row10 col7\" >0.455882</td>\n",
       "                        <td id=\"T_be6d3_row10_col8\" class=\"data row10 col8\" >0.000000</td>\n",
       "            </tr>\n",
       "    </tbody></table>"
      ],
      "text/plain": [
       "<pandas.io.formats.style.Styler at 0x267f40e6d60>"
      ]
     },
     "metadata": {},
     "output_type": "display_data"
    }
   ],
   "source": [
    "# 调用函数并打印生成的表格\n",
    "games_data_summary = generate_summary_table(games_data)"
   ]
  },
  {
   "cell_type": "markdown",
   "metadata": {},
   "source": [
    "分析结果发现这里面存在着大量的非数值文本，这会使数据很难处理，因此我们要适当的舍弃或者对这些文本进行重新编码。接下来我们看看这些列分别代表了什么数据"
   ]
  },
  {
   "cell_type": "markdown",
   "metadata": {},
   "source": [
    "这些字段的含义如下：\n",
    "\n",
    "- **gameId（比赛ID）**：比赛的唯一标识符（数字）\n",
    "- **season（赛季）**：比赛所属的赛季（数字）\n",
    "- **week（周次）**：比赛所在的周次（数字）\n",
    "- **gameDate（比赛日期）**：比赛日期（时间，月/日/年）\n",
    "- **gameTimeEastern（比赛开始时间）**：比赛开始时间（时间，时:分:秒，东部标准时间）\n",
    "- **homeTeamAbbr（主队三字母代码）**：主队的三字母代码（文本）\n",
    "- **visitorTeamAbbr（客队三字母代码）**：客队的三字母代码（文本）\n",
    "- **homeFinalScore（主队最终得分）**：主队在比赛中的总得分（数字）\n",
    "- **visitorFinalScore（客队最终得分）**：客队在比赛中的总得分（数字）\n",
    "\n",
    "这些字段描述了每场比赛的详细信息，包括比赛的标识、赛季、比赛日期和时间、参赛队伍及其得分情况。"
   ]
  },
  {
   "cell_type": "markdown",
   "metadata": {},
   "source": [
    "* 其中赛季（season）肯定是一个无关值，因为这些数据都属于一个赛季，可以抛弃\n",
    "* gameTimeEastern可能不太重要，因为是比赛举行的时间，稍后可以用热力图分析一下\n",
    "* 而对主队客队，我们可以采用编码的方式来对这些队伍进行编码来剔除文本信息。"
   ]
  },
  {
   "cell_type": "markdown",
   "metadata": {},
   "source": [
    "由于热力图只能处理数值信息，因此我们应先将队名，比赛日期和比赛时间进行编码"
   ]
  },
  {
   "cell_type": "code",
   "execution_count": 17,
   "metadata": {},
   "outputs": [
    {
     "name": "stdout",
     "output_type": "stream",
     "text": [
      "Team: ARI -> Code: 1\n",
      "Team: ATL -> Code: 2\n",
      "Team: BAL -> Code: 3\n",
      "Team: BUF -> Code: 4\n",
      "Team: CAR -> Code: 5\n",
      "Team: CHI -> Code: 6\n",
      "Team: CIN -> Code: 7\n",
      "Team: CLE -> Code: 8\n",
      "Team: DAL -> Code: 9\n",
      "Team: DEN -> Code: 10\n",
      "Team: DET -> Code: 11\n",
      "Team: GB -> Code: 12\n",
      "Team: HOU -> Code: 13\n",
      "Team: IND -> Code: 14\n",
      "Team: JAX -> Code: 15\n",
      "Team: KC -> Code: 16\n",
      "Team: LA -> Code: 17\n",
      "Team: LAC -> Code: 18\n",
      "Team: LV -> Code: 19\n",
      "Team: MIA -> Code: 20\n",
      "Team: MIN -> Code: 21\n",
      "Team: NE -> Code: 22\n",
      "Team: NO -> Code: 23\n",
      "Team: NYG -> Code: 24\n",
      "Team: NYJ -> Code: 25\n",
      "Team: PHI -> Code: 26\n",
      "Team: PIT -> Code: 27\n",
      "Team: SEA -> Code: 28\n",
      "Team: SF -> Code: 29\n",
      "Team: TB -> Code: 30\n",
      "Team: TEN -> Code: 31\n",
      "Team: WAS -> Code: 32\n",
      "     season  week  homeTeamAbbr  visitorTeamAbbr  homeFinalScore  \\\n",
      "0      2022     1            17                4              10   \n",
      "1      2022     1             2               23              26   \n",
      "2      2022     1             5                8              24   \n",
      "3      2022     1             6               29              19   \n",
      "4      2022     1             7               27              20   \n",
      "..      ...   ...           ...              ...             ...   \n",
      "131    2022     9            32               21              17   \n",
      "132    2022     9             1               28              21   \n",
      "133    2022     9            30               17              16   \n",
      "134    2022     9            16               31              20   \n",
      "135    2022     9            23                3              13   \n",
      "\n",
      "     visitorFinalScore  gameDate  gameTimeEastern  \n",
      "0                   31         1        20.333333  \n",
      "1                   27         4        13.000000  \n",
      "2                   26         4        13.000000  \n",
      "3                   10         4        13.000000  \n",
      "4                   23         4        13.000000  \n",
      "..                 ...       ...              ...  \n",
      "131                 20        60        13.000000  \n",
      "132                 31        60        16.083333  \n",
      "133                 13        60        16.416667  \n",
      "134                 17        60        20.333333  \n",
      "135                 27        61        20.250000  \n",
      "\n",
      "[136 rows x 8 columns]\n"
     ]
    }
   ],
   "source": [
    "# 获取所有队伍的列表，并按字母顺序排序\n",
    "teams = sorted(set(games_data['homeTeamAbbr'].unique()) | set(games_data['visitorTeamAbbr'].unique()))\n",
    "\n",
    "# 创建队伍编码映射\n",
    "team_encoding = {team: code for code, team in enumerate(teams, 1)}\n",
    "\n",
    "# 对 'homeTeamAbbr' 和 'visitorTeamAbbr' 进行编码\n",
    "games_data['homeTeamAbbr'] = games_data['homeTeamAbbr'].map(team_encoding)\n",
    "games_data['visitorTeamAbbr'] = games_data['visitorTeamAbbr'].map(team_encoding)\n",
    "\n",
    "# 对 'gameDate' 进行日期编码\n",
    "games_data['gameDate'] = pd.to_datetime(games_data['gameDate'])\n",
    "games_data['gameDate'] = (games_data['gameDate'] - games_data['gameDate'].min()).dt.days + 1\n",
    "\n",
    "# 对 'gameTimeEastern' 进行小时编码\n",
    "games_data['gameTimeEastern'] = pd.to_datetime(games_data['gameTimeEastern']).dt.hour + \\\n",
    "                                pd.to_datetime(games_data['gameTimeEastern']).dt.minute / 60 + \\\n",
    "                                pd.to_datetime(games_data['gameTimeEastern']).dt.second / 3600\n",
    "\n",
    "# 输出队名与编码的对应关系\n",
    "for team, code in team_encoding.items():\n",
    "    print(f\"Team: {team} -> Code: {code}\")\n",
    "\n",
    "# 输出编码后的结果\n",
    "print(games_data[['season', 'week', 'homeTeamAbbr', 'visitorTeamAbbr', 'homeFinalScore', 'visitorFinalScore', 'gameDate', 'gameTimeEastern']])"
   ]
  },
  {
   "cell_type": "markdown",
   "metadata": {},
   "source": [
    "对于队名我采用了一个编码规则，按照字母排列编码\n",
    "比赛日期也采用了相似的编码，比赛时间编码则是直接转化为小时数，比如20:00:00就编码为20"
   ]
  },
  {
   "cell_type": "markdown",
   "metadata": {},
   "source": [
    "首先drop掉season，再画出热力图，看看比赛时间会不会对比赛的胜负结果产生影响。"
   ]
  },
  {
   "cell_type": "code",
   "execution_count": 18,
   "metadata": {},
   "outputs": [
    {
     "data": {
      "application/vnd.plotly.v1+json": {
       "config": {
        "plotlyServerURL": "https://plot.ly"
       },
       "data": [
        {
         "coloraxis": "coloraxis",
         "hovertemplate": "x: %{x}<br>y: %{y}<br>Correlation: %{z}<extra></extra>",
         "name": "0",
         "type": "heatmap",
         "x": [
          "gameId",
          "week",
          "gameDate",
          "gameTimeEastern",
          "homeTeamAbbr",
          "visitorTeamAbbr",
          "homeFinalScore",
          "visitorFinalScore"
         ],
         "xaxis": "x",
         "y": [
          "gameId",
          "week",
          "gameDate",
          "gameTimeEastern",
          "homeTeamAbbr",
          "visitorTeamAbbr",
          "homeFinalScore",
          "visitorFinalScore"
         ],
         "yaxis": "y",
         "z": [
          [
           1,
           0.9415580727369367,
           0.9425193589142606,
           -0.053924107717620996,
           -0.012840368275361481,
           0.0027515917802847286,
           0.07147728735795628,
           -0.004079091817473697
          ],
          [
           0.9415580727369367,
           1,
           0.9989808721805354,
           -0.01901054485076573,
           -0.004308157517776851,
           -0.01108098938949608,
           0.07265153477173447,
           -0.023447225857642577
          ],
          [
           0.9425193589142606,
           0.9989808721805354,
           1,
           -0.030998251368217315,
           0.002338507994042068,
           -0.014795287899626376,
           0.07480260380978793,
           -0.02627677787398805
          ],
          [
           -0.053924107717620996,
           -0.01901054485076573,
           -0.030998251368217315,
           1,
           -0.01878114974963224,
           -0.02032746881967046,
           -0.15574295909077515,
           -0.060828482103066635
          ],
          [
           -0.012840368275361481,
           -0.004308157517776851,
           0.002338507994042068,
           -0.01878114974963224,
           1,
           -0.1659499149515523,
           -0.1388884050301358,
           -0.10301388889400047
          ],
          [
           0.0027515917802847286,
           -0.01108098938949608,
           -0.014795287899626376,
           -0.02032746881967046,
           -0.1659499149515523,
           1,
           -0.05679778544311967,
           -0.02067727845874733
          ],
          [
           0.07147728735795628,
           0.07265153477173447,
           0.07480260380978793,
           -0.15574295909077515,
           -0.1388884050301358,
           -0.05679778544311967,
           1,
           0.15133198141545862
          ],
          [
           -0.004079091817473697,
           -0.023447225857642577,
           -0.02627677787398805,
           -0.060828482103066635,
           -0.10301388889400047,
           -0.02067727845874733,
           0.15133198141545862,
           1
          ]
         ]
        }
       ],
       "layout": {
        "annotations": [
         {
          "showarrow": false,
          "text": "1.00",
          "x": "gameId",
          "y": "gameId"
         },
         {
          "showarrow": false,
          "text": "0.94",
          "x": "week",
          "y": "gameId"
         },
         {
          "showarrow": false,
          "text": "0.94",
          "x": "gameDate",
          "y": "gameId"
         },
         {
          "showarrow": false,
          "text": "-0.05",
          "x": "gameTimeEastern",
          "y": "gameId"
         },
         {
          "showarrow": false,
          "text": "-0.01",
          "x": "homeTeamAbbr",
          "y": "gameId"
         },
         {
          "showarrow": false,
          "text": "0.00",
          "x": "visitorTeamAbbr",
          "y": "gameId"
         },
         {
          "showarrow": false,
          "text": "0.07",
          "x": "homeFinalScore",
          "y": "gameId"
         },
         {
          "showarrow": false,
          "text": "-0.00",
          "x": "visitorFinalScore",
          "y": "gameId"
         },
         {
          "showarrow": false,
          "text": "0.94",
          "x": "gameId",
          "y": "week"
         },
         {
          "showarrow": false,
          "text": "1.00",
          "x": "week",
          "y": "week"
         },
         {
          "showarrow": false,
          "text": "1.00",
          "x": "gameDate",
          "y": "week"
         },
         {
          "showarrow": false,
          "text": "-0.02",
          "x": "gameTimeEastern",
          "y": "week"
         },
         {
          "showarrow": false,
          "text": "-0.00",
          "x": "homeTeamAbbr",
          "y": "week"
         },
         {
          "showarrow": false,
          "text": "-0.01",
          "x": "visitorTeamAbbr",
          "y": "week"
         },
         {
          "showarrow": false,
          "text": "0.07",
          "x": "homeFinalScore",
          "y": "week"
         },
         {
          "showarrow": false,
          "text": "-0.02",
          "x": "visitorFinalScore",
          "y": "week"
         },
         {
          "showarrow": false,
          "text": "0.94",
          "x": "gameId",
          "y": "gameDate"
         },
         {
          "showarrow": false,
          "text": "1.00",
          "x": "week",
          "y": "gameDate"
         },
         {
          "showarrow": false,
          "text": "1.00",
          "x": "gameDate",
          "y": "gameDate"
         },
         {
          "showarrow": false,
          "text": "-0.03",
          "x": "gameTimeEastern",
          "y": "gameDate"
         },
         {
          "showarrow": false,
          "text": "0.00",
          "x": "homeTeamAbbr",
          "y": "gameDate"
         },
         {
          "showarrow": false,
          "text": "-0.01",
          "x": "visitorTeamAbbr",
          "y": "gameDate"
         },
         {
          "showarrow": false,
          "text": "0.07",
          "x": "homeFinalScore",
          "y": "gameDate"
         },
         {
          "showarrow": false,
          "text": "-0.03",
          "x": "visitorFinalScore",
          "y": "gameDate"
         },
         {
          "showarrow": false,
          "text": "-0.05",
          "x": "gameId",
          "y": "gameTimeEastern"
         },
         {
          "showarrow": false,
          "text": "-0.02",
          "x": "week",
          "y": "gameTimeEastern"
         },
         {
          "showarrow": false,
          "text": "-0.03",
          "x": "gameDate",
          "y": "gameTimeEastern"
         },
         {
          "showarrow": false,
          "text": "1.00",
          "x": "gameTimeEastern",
          "y": "gameTimeEastern"
         },
         {
          "showarrow": false,
          "text": "-0.02",
          "x": "homeTeamAbbr",
          "y": "gameTimeEastern"
         },
         {
          "showarrow": false,
          "text": "-0.02",
          "x": "visitorTeamAbbr",
          "y": "gameTimeEastern"
         },
         {
          "showarrow": false,
          "text": "-0.16",
          "x": "homeFinalScore",
          "y": "gameTimeEastern"
         },
         {
          "showarrow": false,
          "text": "-0.06",
          "x": "visitorFinalScore",
          "y": "gameTimeEastern"
         },
         {
          "showarrow": false,
          "text": "-0.01",
          "x": "gameId",
          "y": "homeTeamAbbr"
         },
         {
          "showarrow": false,
          "text": "-0.00",
          "x": "week",
          "y": "homeTeamAbbr"
         },
         {
          "showarrow": false,
          "text": "0.00",
          "x": "gameDate",
          "y": "homeTeamAbbr"
         },
         {
          "showarrow": false,
          "text": "-0.02",
          "x": "gameTimeEastern",
          "y": "homeTeamAbbr"
         },
         {
          "showarrow": false,
          "text": "1.00",
          "x": "homeTeamAbbr",
          "y": "homeTeamAbbr"
         },
         {
          "showarrow": false,
          "text": "-0.17",
          "x": "visitorTeamAbbr",
          "y": "homeTeamAbbr"
         },
         {
          "showarrow": false,
          "text": "-0.14",
          "x": "homeFinalScore",
          "y": "homeTeamAbbr"
         },
         {
          "showarrow": false,
          "text": "-0.10",
          "x": "visitorFinalScore",
          "y": "homeTeamAbbr"
         },
         {
          "showarrow": false,
          "text": "0.00",
          "x": "gameId",
          "y": "visitorTeamAbbr"
         },
         {
          "showarrow": false,
          "text": "-0.01",
          "x": "week",
          "y": "visitorTeamAbbr"
         },
         {
          "showarrow": false,
          "text": "-0.01",
          "x": "gameDate",
          "y": "visitorTeamAbbr"
         },
         {
          "showarrow": false,
          "text": "-0.02",
          "x": "gameTimeEastern",
          "y": "visitorTeamAbbr"
         },
         {
          "showarrow": false,
          "text": "-0.17",
          "x": "homeTeamAbbr",
          "y": "visitorTeamAbbr"
         },
         {
          "showarrow": false,
          "text": "1.00",
          "x": "visitorTeamAbbr",
          "y": "visitorTeamAbbr"
         },
         {
          "showarrow": false,
          "text": "-0.06",
          "x": "homeFinalScore",
          "y": "visitorTeamAbbr"
         },
         {
          "showarrow": false,
          "text": "-0.02",
          "x": "visitorFinalScore",
          "y": "visitorTeamAbbr"
         },
         {
          "showarrow": false,
          "text": "0.07",
          "x": "gameId",
          "y": "homeFinalScore"
         },
         {
          "showarrow": false,
          "text": "0.07",
          "x": "week",
          "y": "homeFinalScore"
         },
         {
          "showarrow": false,
          "text": "0.07",
          "x": "gameDate",
          "y": "homeFinalScore"
         },
         {
          "showarrow": false,
          "text": "-0.16",
          "x": "gameTimeEastern",
          "y": "homeFinalScore"
         },
         {
          "showarrow": false,
          "text": "-0.14",
          "x": "homeTeamAbbr",
          "y": "homeFinalScore"
         },
         {
          "showarrow": false,
          "text": "-0.06",
          "x": "visitorTeamAbbr",
          "y": "homeFinalScore"
         },
         {
          "showarrow": false,
          "text": "1.00",
          "x": "homeFinalScore",
          "y": "homeFinalScore"
         },
         {
          "showarrow": false,
          "text": "0.15",
          "x": "visitorFinalScore",
          "y": "homeFinalScore"
         },
         {
          "showarrow": false,
          "text": "-0.00",
          "x": "gameId",
          "y": "visitorFinalScore"
         },
         {
          "showarrow": false,
          "text": "-0.02",
          "x": "week",
          "y": "visitorFinalScore"
         },
         {
          "showarrow": false,
          "text": "-0.03",
          "x": "gameDate",
          "y": "visitorFinalScore"
         },
         {
          "showarrow": false,
          "text": "-0.06",
          "x": "gameTimeEastern",
          "y": "visitorFinalScore"
         },
         {
          "showarrow": false,
          "text": "-0.10",
          "x": "homeTeamAbbr",
          "y": "visitorFinalScore"
         },
         {
          "showarrow": false,
          "text": "-0.02",
          "x": "visitorTeamAbbr",
          "y": "visitorFinalScore"
         },
         {
          "showarrow": false,
          "text": "0.15",
          "x": "homeFinalScore",
          "y": "visitorFinalScore"
         },
         {
          "showarrow": false,
          "text": "1.00",
          "x": "visitorFinalScore",
          "y": "visitorFinalScore"
         }
        ],
        "coloraxis": {
         "colorbar": {
          "title": {
           "text": "Correlation"
          }
         },
         "colorscale": [
          [
           0,
           "#440154"
          ],
          [
           0.1111111111111111,
           "#482878"
          ],
          [
           0.2222222222222222,
           "#3e4989"
          ],
          [
           0.3333333333333333,
           "#31688e"
          ],
          [
           0.4444444444444444,
           "#26828e"
          ],
          [
           0.5555555555555556,
           "#1f9e89"
          ],
          [
           0.6666666666666666,
           "#35b779"
          ],
          [
           0.7777777777777778,
           "#6ece58"
          ],
          [
           0.8888888888888888,
           "#b5de2b"
          ],
          [
           1,
           "#fde725"
          ]
         ]
        },
        "margin": {
         "t": 60
        },
        "template": {
         "data": {
          "bar": [
           {
            "error_x": {
             "color": "#2a3f5f"
            },
            "error_y": {
             "color": "#2a3f5f"
            },
            "marker": {
             "line": {
              "color": "#E5ECF6",
              "width": 0.5
             },
             "pattern": {
              "fillmode": "overlay",
              "size": 10,
              "solidity": 0.2
             }
            },
            "type": "bar"
           }
          ],
          "barpolar": [
           {
            "marker": {
             "line": {
              "color": "#E5ECF6",
              "width": 0.5
             },
             "pattern": {
              "fillmode": "overlay",
              "size": 10,
              "solidity": 0.2
             }
            },
            "type": "barpolar"
           }
          ],
          "carpet": [
           {
            "aaxis": {
             "endlinecolor": "#2a3f5f",
             "gridcolor": "white",
             "linecolor": "white",
             "minorgridcolor": "white",
             "startlinecolor": "#2a3f5f"
            },
            "baxis": {
             "endlinecolor": "#2a3f5f",
             "gridcolor": "white",
             "linecolor": "white",
             "minorgridcolor": "white",
             "startlinecolor": "#2a3f5f"
            },
            "type": "carpet"
           }
          ],
          "choropleth": [
           {
            "colorbar": {
             "outlinewidth": 0,
             "ticks": ""
            },
            "type": "choropleth"
           }
          ],
          "contour": [
           {
            "colorbar": {
             "outlinewidth": 0,
             "ticks": ""
            },
            "colorscale": [
             [
              0,
              "#0d0887"
             ],
             [
              0.1111111111111111,
              "#46039f"
             ],
             [
              0.2222222222222222,
              "#7201a8"
             ],
             [
              0.3333333333333333,
              "#9c179e"
             ],
             [
              0.4444444444444444,
              "#bd3786"
             ],
             [
              0.5555555555555556,
              "#d8576b"
             ],
             [
              0.6666666666666666,
              "#ed7953"
             ],
             [
              0.7777777777777778,
              "#fb9f3a"
             ],
             [
              0.8888888888888888,
              "#fdca26"
             ],
             [
              1,
              "#f0f921"
             ]
            ],
            "type": "contour"
           }
          ],
          "contourcarpet": [
           {
            "colorbar": {
             "outlinewidth": 0,
             "ticks": ""
            },
            "type": "contourcarpet"
           }
          ],
          "heatmap": [
           {
            "colorbar": {
             "outlinewidth": 0,
             "ticks": ""
            },
            "colorscale": [
             [
              0,
              "#0d0887"
             ],
             [
              0.1111111111111111,
              "#46039f"
             ],
             [
              0.2222222222222222,
              "#7201a8"
             ],
             [
              0.3333333333333333,
              "#9c179e"
             ],
             [
              0.4444444444444444,
              "#bd3786"
             ],
             [
              0.5555555555555556,
              "#d8576b"
             ],
             [
              0.6666666666666666,
              "#ed7953"
             ],
             [
              0.7777777777777778,
              "#fb9f3a"
             ],
             [
              0.8888888888888888,
              "#fdca26"
             ],
             [
              1,
              "#f0f921"
             ]
            ],
            "type": "heatmap"
           }
          ],
          "heatmapgl": [
           {
            "colorbar": {
             "outlinewidth": 0,
             "ticks": ""
            },
            "colorscale": [
             [
              0,
              "#0d0887"
             ],
             [
              0.1111111111111111,
              "#46039f"
             ],
             [
              0.2222222222222222,
              "#7201a8"
             ],
             [
              0.3333333333333333,
              "#9c179e"
             ],
             [
              0.4444444444444444,
              "#bd3786"
             ],
             [
              0.5555555555555556,
              "#d8576b"
             ],
             [
              0.6666666666666666,
              "#ed7953"
             ],
             [
              0.7777777777777778,
              "#fb9f3a"
             ],
             [
              0.8888888888888888,
              "#fdca26"
             ],
             [
              1,
              "#f0f921"
             ]
            ],
            "type": "heatmapgl"
           }
          ],
          "histogram": [
           {
            "marker": {
             "pattern": {
              "fillmode": "overlay",
              "size": 10,
              "solidity": 0.2
             }
            },
            "type": "histogram"
           }
          ],
          "histogram2d": [
           {
            "colorbar": {
             "outlinewidth": 0,
             "ticks": ""
            },
            "colorscale": [
             [
              0,
              "#0d0887"
             ],
             [
              0.1111111111111111,
              "#46039f"
             ],
             [
              0.2222222222222222,
              "#7201a8"
             ],
             [
              0.3333333333333333,
              "#9c179e"
             ],
             [
              0.4444444444444444,
              "#bd3786"
             ],
             [
              0.5555555555555556,
              "#d8576b"
             ],
             [
              0.6666666666666666,
              "#ed7953"
             ],
             [
              0.7777777777777778,
              "#fb9f3a"
             ],
             [
              0.8888888888888888,
              "#fdca26"
             ],
             [
              1,
              "#f0f921"
             ]
            ],
            "type": "histogram2d"
           }
          ],
          "histogram2dcontour": [
           {
            "colorbar": {
             "outlinewidth": 0,
             "ticks": ""
            },
            "colorscale": [
             [
              0,
              "#0d0887"
             ],
             [
              0.1111111111111111,
              "#46039f"
             ],
             [
              0.2222222222222222,
              "#7201a8"
             ],
             [
              0.3333333333333333,
              "#9c179e"
             ],
             [
              0.4444444444444444,
              "#bd3786"
             ],
             [
              0.5555555555555556,
              "#d8576b"
             ],
             [
              0.6666666666666666,
              "#ed7953"
             ],
             [
              0.7777777777777778,
              "#fb9f3a"
             ],
             [
              0.8888888888888888,
              "#fdca26"
             ],
             [
              1,
              "#f0f921"
             ]
            ],
            "type": "histogram2dcontour"
           }
          ],
          "mesh3d": [
           {
            "colorbar": {
             "outlinewidth": 0,
             "ticks": ""
            },
            "type": "mesh3d"
           }
          ],
          "parcoords": [
           {
            "line": {
             "colorbar": {
              "outlinewidth": 0,
              "ticks": ""
             }
            },
            "type": "parcoords"
           }
          ],
          "pie": [
           {
            "automargin": true,
            "type": "pie"
           }
          ],
          "scatter": [
           {
            "fillpattern": {
             "fillmode": "overlay",
             "size": 10,
             "solidity": 0.2
            },
            "type": "scatter"
           }
          ],
          "scatter3d": [
           {
            "line": {
             "colorbar": {
              "outlinewidth": 0,
              "ticks": ""
             }
            },
            "marker": {
             "colorbar": {
              "outlinewidth": 0,
              "ticks": ""
             }
            },
            "type": "scatter3d"
           }
          ],
          "scattercarpet": [
           {
            "marker": {
             "colorbar": {
              "outlinewidth": 0,
              "ticks": ""
             }
            },
            "type": "scattercarpet"
           }
          ],
          "scattergeo": [
           {
            "marker": {
             "colorbar": {
              "outlinewidth": 0,
              "ticks": ""
             }
            },
            "type": "scattergeo"
           }
          ],
          "scattergl": [
           {
            "marker": {
             "colorbar": {
              "outlinewidth": 0,
              "ticks": ""
             }
            },
            "type": "scattergl"
           }
          ],
          "scattermapbox": [
           {
            "marker": {
             "colorbar": {
              "outlinewidth": 0,
              "ticks": ""
             }
            },
            "type": "scattermapbox"
           }
          ],
          "scatterpolar": [
           {
            "marker": {
             "colorbar": {
              "outlinewidth": 0,
              "ticks": ""
             }
            },
            "type": "scatterpolar"
           }
          ],
          "scatterpolargl": [
           {
            "marker": {
             "colorbar": {
              "outlinewidth": 0,
              "ticks": ""
             }
            },
            "type": "scatterpolargl"
           }
          ],
          "scatterternary": [
           {
            "marker": {
             "colorbar": {
              "outlinewidth": 0,
              "ticks": ""
             }
            },
            "type": "scatterternary"
           }
          ],
          "surface": [
           {
            "colorbar": {
             "outlinewidth": 0,
             "ticks": ""
            },
            "colorscale": [
             [
              0,
              "#0d0887"
             ],
             [
              0.1111111111111111,
              "#46039f"
             ],
             [
              0.2222222222222222,
              "#7201a8"
             ],
             [
              0.3333333333333333,
              "#9c179e"
             ],
             [
              0.4444444444444444,
              "#bd3786"
             ],
             [
              0.5555555555555556,
              "#d8576b"
             ],
             [
              0.6666666666666666,
              "#ed7953"
             ],
             [
              0.7777777777777778,
              "#fb9f3a"
             ],
             [
              0.8888888888888888,
              "#fdca26"
             ],
             [
              1,
              "#f0f921"
             ]
            ],
            "type": "surface"
           }
          ],
          "table": [
           {
            "cells": {
             "fill": {
              "color": "#EBF0F8"
             },
             "line": {
              "color": "white"
             }
            },
            "header": {
             "fill": {
              "color": "#C8D4E3"
             },
             "line": {
              "color": "white"
             }
            },
            "type": "table"
           }
          ]
         },
         "layout": {
          "annotationdefaults": {
           "arrowcolor": "#2a3f5f",
           "arrowhead": 0,
           "arrowwidth": 1
          },
          "autotypenumbers": "strict",
          "coloraxis": {
           "colorbar": {
            "outlinewidth": 0,
            "ticks": ""
           }
          },
          "colorscale": {
           "diverging": [
            [
             0,
             "#8e0152"
            ],
            [
             0.1,
             "#c51b7d"
            ],
            [
             0.2,
             "#de77ae"
            ],
            [
             0.3,
             "#f1b6da"
            ],
            [
             0.4,
             "#fde0ef"
            ],
            [
             0.5,
             "#f7f7f7"
            ],
            [
             0.6,
             "#e6f5d0"
            ],
            [
             0.7,
             "#b8e186"
            ],
            [
             0.8,
             "#7fbc41"
            ],
            [
             0.9,
             "#4d9221"
            ],
            [
             1,
             "#276419"
            ]
           ],
           "sequential": [
            [
             0,
             "#0d0887"
            ],
            [
             0.1111111111111111,
             "#46039f"
            ],
            [
             0.2222222222222222,
             "#7201a8"
            ],
            [
             0.3333333333333333,
             "#9c179e"
            ],
            [
             0.4444444444444444,
             "#bd3786"
            ],
            [
             0.5555555555555556,
             "#d8576b"
            ],
            [
             0.6666666666666666,
             "#ed7953"
            ],
            [
             0.7777777777777778,
             "#fb9f3a"
            ],
            [
             0.8888888888888888,
             "#fdca26"
            ],
            [
             1,
             "#f0f921"
            ]
           ],
           "sequentialminus": [
            [
             0,
             "#0d0887"
            ],
            [
             0.1111111111111111,
             "#46039f"
            ],
            [
             0.2222222222222222,
             "#7201a8"
            ],
            [
             0.3333333333333333,
             "#9c179e"
            ],
            [
             0.4444444444444444,
             "#bd3786"
            ],
            [
             0.5555555555555556,
             "#d8576b"
            ],
            [
             0.6666666666666666,
             "#ed7953"
            ],
            [
             0.7777777777777778,
             "#fb9f3a"
            ],
            [
             0.8888888888888888,
             "#fdca26"
            ],
            [
             1,
             "#f0f921"
            ]
           ]
          },
          "colorway": [
           "#636efa",
           "#EF553B",
           "#00cc96",
           "#ab63fa",
           "#FFA15A",
           "#19d3f3",
           "#FF6692",
           "#B6E880",
           "#FF97FF",
           "#FECB52"
          ],
          "font": {
           "color": "#2a3f5f"
          },
          "geo": {
           "bgcolor": "white",
           "lakecolor": "white",
           "landcolor": "#E5ECF6",
           "showlakes": true,
           "showland": true,
           "subunitcolor": "white"
          },
          "hoverlabel": {
           "align": "left"
          },
          "hovermode": "closest",
          "mapbox": {
           "style": "light"
          },
          "paper_bgcolor": "white",
          "plot_bgcolor": "#E5ECF6",
          "polar": {
           "angularaxis": {
            "gridcolor": "white",
            "linecolor": "white",
            "ticks": ""
           },
           "bgcolor": "#E5ECF6",
           "radialaxis": {
            "gridcolor": "white",
            "linecolor": "white",
            "ticks": ""
           }
          },
          "scene": {
           "xaxis": {
            "backgroundcolor": "#E5ECF6",
            "gridcolor": "white",
            "gridwidth": 2,
            "linecolor": "white",
            "showbackground": true,
            "ticks": "",
            "zerolinecolor": "white"
           },
           "yaxis": {
            "backgroundcolor": "#E5ECF6",
            "gridcolor": "white",
            "gridwidth": 2,
            "linecolor": "white",
            "showbackground": true,
            "ticks": "",
            "zerolinecolor": "white"
           },
           "zaxis": {
            "backgroundcolor": "#E5ECF6",
            "gridcolor": "white",
            "gridwidth": 2,
            "linecolor": "white",
            "showbackground": true,
            "ticks": "",
            "zerolinecolor": "white"
           }
          },
          "shapedefaults": {
           "line": {
            "color": "#2a3f5f"
           }
          },
          "ternary": {
           "aaxis": {
            "gridcolor": "white",
            "linecolor": "white",
            "ticks": ""
           },
           "baxis": {
            "gridcolor": "white",
            "linecolor": "white",
            "ticks": ""
           },
           "bgcolor": "#E5ECF6",
           "caxis": {
            "gridcolor": "white",
            "linecolor": "white",
            "ticks": ""
           }
          },
          "title": {
           "x": 0.05
          },
          "xaxis": {
           "automargin": true,
           "gridcolor": "white",
           "linecolor": "white",
           "ticks": "",
           "title": {
            "standoff": 15
           },
           "zerolinecolor": "white",
           "zerolinewidth": 2
          },
          "yaxis": {
           "automargin": true,
           "gridcolor": "white",
           "linecolor": "white",
           "ticks": "",
           "title": {
            "standoff": 15
           },
           "zerolinecolor": "white",
           "zerolinewidth": 2
          }
         }
        },
        "title": {
         "text": "Correlation Heatmap of Columns (Season Column Excluded)"
        },
        "xaxis": {
         "anchor": "y",
         "constrain": "domain",
         "domain": [
          0,
          1
         ],
         "scaleanchor": "y",
         "title": {
          "text": "Columns"
         }
        },
        "yaxis": {
         "anchor": "x",
         "autorange": "reversed",
         "constrain": "domain",
         "domain": [
          0,
          1
         ],
         "title": {
          "text": "Columns"
         }
        }
       }
      }
     },
     "metadata": {},
     "output_type": "display_data"
    }
   ],
   "source": [
    "# 剔除 'season', 'home_win', 'visitor_win' 列\n",
    "games_df_without_season = games_data.drop(columns=['season', 'home_win', 'visitor_win'])\n",
    "\n",
    "# 计算相关性矩阵\n",
    "correlation_matrix = games_df_without_season.corr()\n",
    "\n",
    "# 创建热力图\n",
    "fig = px.imshow(correlation_matrix,\n",
    "                labels=dict(color=\"Correlation\"),\n",
    "                x=correlation_matrix.index,\n",
    "                y=correlation_matrix.columns,\n",
    "                color_continuous_scale='Viridis')\n",
    "\n",
    "# 在热力图中标注数值\n",
    "annotations = []\n",
    "for i, row in enumerate(correlation_matrix.index):\n",
    "    for j, col in enumerate(correlation_matrix.columns):\n",
    "        annotations.append(\n",
    "            dict(\n",
    "                x=col,\n",
    "                y=row,\n",
    "                text=f\"{correlation_matrix.iloc[i, j]:.2f}\",\n",
    "                showarrow=False,\n",
    "            )\n",
    "        )\n",
    "\n",
    "fig.update_layout(\n",
    "    title='Correlation Heatmap of Columns (Season Column Excluded)',\n",
    "    xaxis_title='Columns',\n",
    "    yaxis_title='Columns',\n",
    "    annotations=annotations\n",
    ")\n",
    "\n",
    "fig.show()"
   ]
  },
  {
   "cell_type": "markdown",
   "metadata": {},
   "source": [
    "发现gameId,week和gameDate强相关，这是因为比赛的时间安排决定了这几项必然强相关，相反，其他数据项的相关性并不大，我们可以放心剔除week和gameDate来减少数据维度，保留gameId，因为可能要用这项数据连接其他表"
   ]
  },
  {
   "cell_type": "code",
   "execution_count": 19,
   "metadata": {},
   "outputs": [
    {
     "data": {
      "text/html": [
       "<div>\n",
       "<style scoped>\n",
       "    .dataframe tbody tr th:only-of-type {\n",
       "        vertical-align: middle;\n",
       "    }\n",
       "\n",
       "    .dataframe tbody tr th {\n",
       "        vertical-align: top;\n",
       "    }\n",
       "\n",
       "    .dataframe thead th {\n",
       "        text-align: right;\n",
       "    }\n",
       "</style>\n",
       "<table border=\"1\" class=\"dataframe\">\n",
       "  <thead>\n",
       "    <tr style=\"text-align: right;\">\n",
       "      <th></th>\n",
       "      <th>gameId</th>\n",
       "      <th>gameTimeEastern</th>\n",
       "      <th>homeTeamAbbr</th>\n",
       "      <th>visitorTeamAbbr</th>\n",
       "      <th>homeFinalScore</th>\n",
       "      <th>visitorFinalScore</th>\n",
       "    </tr>\n",
       "  </thead>\n",
       "  <tbody>\n",
       "    <tr>\n",
       "      <th>0</th>\n",
       "      <td>2022090800</td>\n",
       "      <td>20.333333</td>\n",
       "      <td>17</td>\n",
       "      <td>4</td>\n",
       "      <td>10</td>\n",
       "      <td>31</td>\n",
       "    </tr>\n",
       "    <tr>\n",
       "      <th>1</th>\n",
       "      <td>2022091100</td>\n",
       "      <td>13.000000</td>\n",
       "      <td>2</td>\n",
       "      <td>23</td>\n",
       "      <td>26</td>\n",
       "      <td>27</td>\n",
       "    </tr>\n",
       "    <tr>\n",
       "      <th>2</th>\n",
       "      <td>2022091101</td>\n",
       "      <td>13.000000</td>\n",
       "      <td>5</td>\n",
       "      <td>8</td>\n",
       "      <td>24</td>\n",
       "      <td>26</td>\n",
       "    </tr>\n",
       "    <tr>\n",
       "      <th>3</th>\n",
       "      <td>2022091102</td>\n",
       "      <td>13.000000</td>\n",
       "      <td>6</td>\n",
       "      <td>29</td>\n",
       "      <td>19</td>\n",
       "      <td>10</td>\n",
       "    </tr>\n",
       "    <tr>\n",
       "      <th>4</th>\n",
       "      <td>2022091103</td>\n",
       "      <td>13.000000</td>\n",
       "      <td>7</td>\n",
       "      <td>27</td>\n",
       "      <td>20</td>\n",
       "      <td>23</td>\n",
       "    </tr>\n",
       "  </tbody>\n",
       "</table>\n",
       "</div>"
      ],
      "text/plain": [
       "       gameId  gameTimeEastern  homeTeamAbbr  visitorTeamAbbr  homeFinalScore  \\\n",
       "0  2022090800        20.333333            17                4              10   \n",
       "1  2022091100        13.000000             2               23              26   \n",
       "2  2022091101        13.000000             5                8              24   \n",
       "3  2022091102        13.000000             6               29              19   \n",
       "4  2022091103        13.000000             7               27              20   \n",
       "\n",
       "   visitorFinalScore  \n",
       "0                 31  \n",
       "1                 27  \n",
       "2                 26  \n",
       "3                 10  \n",
       "4                 23  "
      ]
     },
     "execution_count": 19,
     "metadata": {},
     "output_type": "execute_result"
    }
   ],
   "source": [
    "games_data_cleaned = games_data.drop(columns=['season', 'home_win', 'visitor_win', 'week', 'gameDate'])\n",
    "games_data_cleaned.head()  # 数据清理完成"
   ]
  },
  {
   "cell_type": "markdown",
   "metadata": {},
   "source": [
    "至此，该表的数据清理完成"
   ]
  },
  {
   "cell_type": "markdown",
   "metadata": {},
   "source": [
    "2. players.csv\n",
    "\n",
    "首先对该表格内容进行公制化转换，转换成我们可以处理的数据"
   ]
  },
  {
   "cell_type": "code",
   "execution_count": 20,
   "metadata": {},
   "outputs": [
    {
     "data": {
      "text/html": [
       "<div>\n",
       "<style scoped>\n",
       "    .dataframe tbody tr th:only-of-type {\n",
       "        vertical-align: middle;\n",
       "    }\n",
       "\n",
       "    .dataframe tbody tr th {\n",
       "        vertical-align: top;\n",
       "    }\n",
       "\n",
       "    .dataframe thead th {\n",
       "        text-align: right;\n",
       "    }\n",
       "</style>\n",
       "<table border=\"1\" class=\"dataframe\">\n",
       "  <thead>\n",
       "    <tr style=\"text-align: right;\">\n",
       "      <th></th>\n",
       "      <th>nflId</th>\n",
       "      <th>height</th>\n",
       "      <th>weight</th>\n",
       "      <th>birthDate</th>\n",
       "      <th>collegeName</th>\n",
       "      <th>position</th>\n",
       "      <th>displayName</th>\n",
       "    </tr>\n",
       "  </thead>\n",
       "  <tbody>\n",
       "    <tr>\n",
       "      <th>0</th>\n",
       "      <td>25511</td>\n",
       "      <td>6-4</td>\n",
       "      <td>225</td>\n",
       "      <td>1977-08-03</td>\n",
       "      <td>Michigan</td>\n",
       "      <td>QB</td>\n",
       "      <td>Tom Brady</td>\n",
       "    </tr>\n",
       "    <tr>\n",
       "      <th>1</th>\n",
       "      <td>29550</td>\n",
       "      <td>6-4</td>\n",
       "      <td>328</td>\n",
       "      <td>1982-01-22</td>\n",
       "      <td>Arkansas</td>\n",
       "      <td>T</td>\n",
       "      <td>Jason Peters</td>\n",
       "    </tr>\n",
       "    <tr>\n",
       "      <th>2</th>\n",
       "      <td>29851</td>\n",
       "      <td>6-2</td>\n",
       "      <td>225</td>\n",
       "      <td>1983-12-02</td>\n",
       "      <td>California</td>\n",
       "      <td>QB</td>\n",
       "      <td>Aaron Rodgers</td>\n",
       "    </tr>\n",
       "    <tr>\n",
       "      <th>3</th>\n",
       "      <td>30842</td>\n",
       "      <td>6-6</td>\n",
       "      <td>267</td>\n",
       "      <td>1984-05-19</td>\n",
       "      <td>UCLA</td>\n",
       "      <td>TE</td>\n",
       "      <td>Marcedes Lewis</td>\n",
       "    </tr>\n",
       "    <tr>\n",
       "      <th>4</th>\n",
       "      <td>33084</td>\n",
       "      <td>6-4</td>\n",
       "      <td>217</td>\n",
       "      <td>1985-05-17</td>\n",
       "      <td>Boston College</td>\n",
       "      <td>QB</td>\n",
       "      <td>Matt Ryan</td>\n",
       "    </tr>\n",
       "  </tbody>\n",
       "</table>\n",
       "</div>"
      ],
      "text/plain": [
       "   nflId height  weight   birthDate     collegeName position     displayName\n",
       "0  25511    6-4     225  1977-08-03        Michigan       QB       Tom Brady\n",
       "1  29550    6-4     328  1982-01-22        Arkansas        T    Jason Peters\n",
       "2  29851    6-2     225  1983-12-02      California       QB   Aaron Rodgers\n",
       "3  30842    6-6     267  1984-05-19            UCLA       TE  Marcedes Lewis\n",
       "4  33084    6-4     217  1985-05-17  Boston College       QB       Matt Ryan"
      ]
     },
     "execution_count": 20,
     "metadata": {},
     "output_type": "execute_result"
    }
   ],
   "source": [
    "players_data.head()"
   ]
  },
  {
   "cell_type": "markdown",
   "metadata": {},
   "source": [
    "身高：米  体重：千克  出生日期：转化为年龄"
   ]
  },
  {
   "cell_type": "code",
   "execution_count": 21,
   "metadata": {},
   "outputs": [
    {
     "name": "stdout",
     "output_type": "stream",
     "text": [
      "      nflId  height      weight  birthDate       collegeName position  \\\n",
      "0     25511  193.04  102.058200       45.0          Michigan       QB   \n",
      "1     29550  193.04  148.778176       40.0          Arkansas        T   \n",
      "2     29851  187.96  102.058200       39.0        California       QB   \n",
      "3     30842  198.12  121.109064       38.0              UCLA       TE   \n",
      "4     33084  193.04   98.429464       37.0    Boston College       QB   \n",
      "...     ...     ...         ...        ...               ...      ...   \n",
      "1678  55200  198.12  120.655472        NaN           Indiana       DT   \n",
      "1679  55212  182.88  104.326160        NaN        Iowa State      ILB   \n",
      "1680  55239  187.96  136.077600        NaN      Pennsylvania       DT   \n",
      "1681  55240  185.42   83.914520        NaN           Buffalo       CB   \n",
      "1682  55241  187.96  127.005760        NaN  Coastal Carolina       DT   \n",
      "\n",
      "           displayName  \n",
      "0            Tom Brady  \n",
      "1         Jason Peters  \n",
      "2        Aaron Rodgers  \n",
      "3       Marcedes Lewis  \n",
      "4            Matt Ryan  \n",
      "...                ...  \n",
      "1678    Ryder Anderson  \n",
      "1679       Jake Hummel  \n",
      "1680      Prince Emili  \n",
      "1681  Ja'Marcus Ingram  \n",
      "1682       C.J. Brewer  \n",
      "\n",
      "[1683 rows x 7 columns]\n"
     ]
    }
   ],
   "source": [
    "# 转换身高为厘米\n",
    "players_data['height'] = players_data['height'].apply(lambda x: int(x.split('-')[0]) * 30.48 + int(x.split('-')[1]) * 2.54)\n",
    "\n",
    "# 转换体重为公斤\n",
    "players_data['weight'] = players_data['weight'] * 0.453592\n",
    "\n",
    "# 计算年龄\n",
    "players_data['birthDate'] = 2022 - pd.to_datetime(players_data['birthDate']).dt.year\n",
    "\n",
    "# 输出转换后的结果\n",
    "print(players_data)"
   ]
  },
  {
   "cell_type": "code",
   "execution_count": 22,
   "metadata": {},
   "outputs": [
    {
     "name": "stdout",
     "output_type": "stream",
     "text": [
      "表格信息统计:\n"
     ]
    },
    {
     "data": {
      "text/html": [
       "<style  type=\"text/css\" >\n",
       "#T_ec919_row0_col0,#T_ec919_row0_col1,#T_ec919_row0_col2,#T_ec919_row0_col3,#T_ec919_row0_col4,#T_ec919_row0_col5,#T_ec919_row0_col6,#T_ec919_row0_col7,#T_ec919_row0_col8,#T_ec919_row1_col0,#T_ec919_row1_col1,#T_ec919_row1_col2,#T_ec919_row1_col3,#T_ec919_row1_col4,#T_ec919_row1_col5,#T_ec919_row1_col6,#T_ec919_row1_col7,#T_ec919_row1_col8,#T_ec919_row2_col0,#T_ec919_row2_col1,#T_ec919_row2_col2,#T_ec919_row2_col3,#T_ec919_row2_col4,#T_ec919_row2_col5,#T_ec919_row2_col6,#T_ec919_row2_col7,#T_ec919_row2_col8,#T_ec919_row3_col0,#T_ec919_row3_col1,#T_ec919_row3_col2,#T_ec919_row3_col3,#T_ec919_row3_col4,#T_ec919_row3_col5,#T_ec919_row3_col6,#T_ec919_row3_col7,#T_ec919_row3_col8,#T_ec919_row4_col0,#T_ec919_row4_col1,#T_ec919_row4_col2,#T_ec919_row4_col3,#T_ec919_row4_col4,#T_ec919_row4_col5,#T_ec919_row4_col6,#T_ec919_row4_col7,#T_ec919_row4_col8,#T_ec919_row5_col0,#T_ec919_row5_col1,#T_ec919_row5_col2,#T_ec919_row5_col3,#T_ec919_row5_col4,#T_ec919_row5_col5,#T_ec919_row5_col6,#T_ec919_row5_col7,#T_ec919_row5_col8,#T_ec919_row6_col0,#T_ec919_row6_col1,#T_ec919_row6_col2,#T_ec919_row6_col3,#T_ec919_row6_col4,#T_ec919_row6_col5,#T_ec919_row6_col6,#T_ec919_row6_col7,#T_ec919_row6_col8{\n",
       "            text-align:  center;\n",
       "        }</style><table id=\"T_ec919_\" ><thead>    <tr>        <th class=\"blank level0\" ></th>        <th class=\"col_heading level0 col0\" >Column</th>        <th class=\"col_heading level0 col1\" >Data Type</th>        <th class=\"col_heading level0 col2\" >Missing Values</th>        <th class=\"col_heading level0 col3\" >Missing %</th>        <th class=\"col_heading level0 col4\" >Unique Values</th>        <th class=\"col_heading level0 col5\" >Min</th>        <th class=\"col_heading level0 col6\" >Max</th>        <th class=\"col_heading level0 col7\" >Mean</th>        <th class=\"col_heading level0 col8\" >Median</th>    </tr></thead><tbody>\n",
       "                <tr>\n",
       "                        <th id=\"T_ec919_level0_row0\" class=\"row_heading level0 row0\" >0</th>\n",
       "                        <td id=\"T_ec919_row0_col0\" class=\"data row0 col0\" >nflId</td>\n",
       "                        <td id=\"T_ec919_row0_col1\" class=\"data row0 col1\" >int64</td>\n",
       "                        <td id=\"T_ec919_row0_col2\" class=\"data row0 col2\" >0</td>\n",
       "                        <td id=\"T_ec919_row0_col3\" class=\"data row0 col3\" >0.00%</td>\n",
       "                        <td id=\"T_ec919_row0_col4\" class=\"data row0 col4\" >1683</td>\n",
       "                        <td id=\"T_ec919_row0_col5\" class=\"data row0 col5\" >25511</td>\n",
       "                        <td id=\"T_ec919_row0_col6\" class=\"data row0 col6\" >55241</td>\n",
       "                        <td id=\"T_ec919_row0_col7\" class=\"data row0 col7\" >48221.702317</td>\n",
       "                        <td id=\"T_ec919_row0_col8\" class=\"data row0 col8\" >47872.000000</td>\n",
       "            </tr>\n",
       "            <tr>\n",
       "                        <th id=\"T_ec919_level0_row1\" class=\"row_heading level0 row1\" >1</th>\n",
       "                        <td id=\"T_ec919_row1_col0\" class=\"data row1 col0\" >height</td>\n",
       "                        <td id=\"T_ec919_row1_col1\" class=\"data row1 col1\" >float64</td>\n",
       "                        <td id=\"T_ec919_row1_col2\" class=\"data row1 col2\" >0</td>\n",
       "                        <td id=\"T_ec919_row1_col3\" class=\"data row1 col3\" >0.00%</td>\n",
       "                        <td id=\"T_ec919_row1_col4\" class=\"data row1 col4\" >16</td>\n",
       "                        <td id=\"T_ec919_row1_col5\" class=\"data row1 col5\" >167.640000</td>\n",
       "                        <td id=\"T_ec919_row1_col6\" class=\"data row1 col6\" >205.740000</td>\n",
       "                        <td id=\"T_ec919_row1_col7\" class=\"data row1 col7\" >188.604433</td>\n",
       "                        <td id=\"T_ec919_row1_col8\" class=\"data row1 col8\" >190.500000</td>\n",
       "            </tr>\n",
       "            <tr>\n",
       "                        <th id=\"T_ec919_level0_row2\" class=\"row_heading level0 row2\" >2</th>\n",
       "                        <td id=\"T_ec919_row2_col0\" class=\"data row2 col0\" >weight</td>\n",
       "                        <td id=\"T_ec919_row2_col1\" class=\"data row2 col1\" >float64</td>\n",
       "                        <td id=\"T_ec919_row2_col2\" class=\"data row2 col2\" >0</td>\n",
       "                        <td id=\"T_ec919_row2_col3\" class=\"data row2 col3\" >0.00%</td>\n",
       "                        <td id=\"T_ec919_row2_col4\" class=\"data row2 col4\" >179</td>\n",
       "                        <td id=\"T_ec919_row2_col5\" class=\"data row2 col5\" >69.399576</td>\n",
       "                        <td id=\"T_ec919_row2_col6\" class=\"data row2 col6\" >172.364960</td>\n",
       "                        <td id=\"T_ec919_row2_col7\" class=\"data row2 col7\" >111.458578</td>\n",
       "                        <td id=\"T_ec919_row2_col8\" class=\"data row2 col8\" >107.047712</td>\n",
       "            </tr>\n",
       "            <tr>\n",
       "                        <th id=\"T_ec919_level0_row3\" class=\"row_heading level0 row3\" >3</th>\n",
       "                        <td id=\"T_ec919_row3_col0\" class=\"data row3 col0\" >birthDate</td>\n",
       "                        <td id=\"T_ec919_row3_col1\" class=\"data row3 col1\" >float64</td>\n",
       "                        <td id=\"T_ec919_row3_col2\" class=\"data row3 col2\" >479</td>\n",
       "                        <td id=\"T_ec919_row3_col3\" class=\"data row3 col3\" >28.46%</td>\n",
       "                        <td id=\"T_ec919_row3_col4\" class=\"data row3 col4\" >19</td>\n",
       "                        <td id=\"T_ec919_row3_col5\" class=\"data row3 col5\" >23.000000</td>\n",
       "                        <td id=\"T_ec919_row3_col6\" class=\"data row3 col6\" >45.000000</td>\n",
       "                        <td id=\"T_ec919_row3_col7\" class=\"data row3 col7\" >27.467608</td>\n",
       "                        <td id=\"T_ec919_row3_col8\" class=\"data row3 col8\" >27.000000</td>\n",
       "            </tr>\n",
       "            <tr>\n",
       "                        <th id=\"T_ec919_level0_row4\" class=\"row_heading level0 row4\" >4</th>\n",
       "                        <td id=\"T_ec919_row4_col0\" class=\"data row4 col0\" >collegeName</td>\n",
       "                        <td id=\"T_ec919_row4_col1\" class=\"data row4 col1\" >object</td>\n",
       "                        <td id=\"T_ec919_row4_col2\" class=\"data row4 col2\" >0</td>\n",
       "                        <td id=\"T_ec919_row4_col3\" class=\"data row4 col3\" >0.00%</td>\n",
       "                        <td id=\"T_ec919_row4_col4\" class=\"data row4 col4\" >226</td>\n",
       "                        <td id=\"T_ec919_row4_col5\" class=\"data row4 col5\" ></td>\n",
       "                        <td id=\"T_ec919_row4_col6\" class=\"data row4 col6\" ></td>\n",
       "                        <td id=\"T_ec919_row4_col7\" class=\"data row4 col7\" ></td>\n",
       "                        <td id=\"T_ec919_row4_col8\" class=\"data row4 col8\" ></td>\n",
       "            </tr>\n",
       "            <tr>\n",
       "                        <th id=\"T_ec919_level0_row5\" class=\"row_heading level0 row5\" >5</th>\n",
       "                        <td id=\"T_ec919_row5_col0\" class=\"data row5 col0\" >position</td>\n",
       "                        <td id=\"T_ec919_row5_col1\" class=\"data row5 col1\" >object</td>\n",
       "                        <td id=\"T_ec919_row5_col2\" class=\"data row5 col2\" >0</td>\n",
       "                        <td id=\"T_ec919_row5_col3\" class=\"data row5 col3\" >0.00%</td>\n",
       "                        <td id=\"T_ec919_row5_col4\" class=\"data row5 col4\" >19</td>\n",
       "                        <td id=\"T_ec919_row5_col5\" class=\"data row5 col5\" ></td>\n",
       "                        <td id=\"T_ec919_row5_col6\" class=\"data row5 col6\" ></td>\n",
       "                        <td id=\"T_ec919_row5_col7\" class=\"data row5 col7\" ></td>\n",
       "                        <td id=\"T_ec919_row5_col8\" class=\"data row5 col8\" ></td>\n",
       "            </tr>\n",
       "            <tr>\n",
       "                        <th id=\"T_ec919_level0_row6\" class=\"row_heading level0 row6\" >6</th>\n",
       "                        <td id=\"T_ec919_row6_col0\" class=\"data row6 col0\" >displayName</td>\n",
       "                        <td id=\"T_ec919_row6_col1\" class=\"data row6 col1\" >object</td>\n",
       "                        <td id=\"T_ec919_row6_col2\" class=\"data row6 col2\" >0</td>\n",
       "                        <td id=\"T_ec919_row6_col3\" class=\"data row6 col3\" >0.00%</td>\n",
       "                        <td id=\"T_ec919_row6_col4\" class=\"data row6 col4\" >1672</td>\n",
       "                        <td id=\"T_ec919_row6_col5\" class=\"data row6 col5\" ></td>\n",
       "                        <td id=\"T_ec919_row6_col6\" class=\"data row6 col6\" ></td>\n",
       "                        <td id=\"T_ec919_row6_col7\" class=\"data row6 col7\" ></td>\n",
       "                        <td id=\"T_ec919_row6_col8\" class=\"data row6 col8\" ></td>\n",
       "            </tr>\n",
       "    </tbody></table>"
      ],
      "text/plain": [
       "<pandas.io.formats.style.Styler at 0x267b5e5c580>"
      ]
     },
     "metadata": {},
     "output_type": "display_data"
    }
   ],
   "source": [
    "# 调用函数并打印生成的表格\n",
    "players_data_summary = generate_summary_table(players_data)"
   ]
  },
  {
   "cell_type": "markdown",
   "metadata": {},
   "source": [
    "由之前的统计信息可知，此表在生日值上是有缺失的，因此很多人的年龄不知道，并且缺失值达到了28.46%，不能采用中值或者均值进行替换，因此我们不得不舍弃该数据列，尽管在体育上年龄对于球员表现是重要因素。\n",
    "\n",
    "而且球员姓名也有重名，因此我们不能对球员姓名进行编码，只能使用nflId来标识球员"
   ]
  },
  {
   "cell_type": "code",
   "execution_count": 23,
   "metadata": {},
   "outputs": [
    {
     "name": "stdout",
     "output_type": "stream",
     "text": [
      "      nflId  height      weight       collegeName position       displayName\n",
      "0     25511  193.04  102.058200          Michigan       QB         Tom Brady\n",
      "1     29550  193.04  148.778176          Arkansas        T      Jason Peters\n",
      "2     29851  187.96  102.058200        California       QB     Aaron Rodgers\n",
      "3     30842  198.12  121.109064              UCLA       TE    Marcedes Lewis\n",
      "4     33084  193.04   98.429464    Boston College       QB         Matt Ryan\n",
      "...     ...     ...         ...               ...      ...               ...\n",
      "1678  55200  198.12  120.655472           Indiana       DT    Ryder Anderson\n",
      "1679  55212  182.88  104.326160        Iowa State      ILB       Jake Hummel\n",
      "1680  55239  187.96  136.077600      Pennsylvania       DT      Prince Emili\n",
      "1681  55240  185.42   83.914520           Buffalo       CB  Ja'Marcus Ingram\n",
      "1682  55241  187.96  127.005760  Coastal Carolina       DT       C.J. Brewer\n",
      "\n",
      "[1683 rows x 6 columns]\n"
     ]
    }
   ],
   "source": [
    "# 删除 'birthDate' 列\n",
    "players_data.drop(['birthDate'], axis=1, inplace=True)\n",
    "\n",
    "# 输出结果\n",
    "print(players_data)"
   ]
  },
  {
   "cell_type": "markdown",
   "metadata": {},
   "source": [
    "接下来我们进行可视化分析"
   ]
  },
  {
   "cell_type": "code",
   "execution_count": 24,
   "metadata": {},
   "outputs": [
    {
     "data": {
      "application/vnd.plotly.v1+json": {
       "config": {
        "plotlyServerURL": "https://plot.ly"
       },
       "data": [
        {
         "type": "bar",
         "x": [
          167.64000000000001,
          170.18,
          172.72,
          175.26,
          177.8,
          180.34,
          182.88,
          185.42,
          187.96,
          190.5,
          193.04,
          195.57999999999998,
          198.12,
          200.66,
          203.2,
          205.74
         ],
         "y": [
          3,
          2,
          19,
          46,
          90,
          126,
          156,
          200,
          188,
          254,
          234,
          200,
          111,
          35,
          15,
          4
         ]
        }
       ],
       "layout": {
        "template": {
         "data": {
          "bar": [
           {
            "error_x": {
             "color": "#2a3f5f"
            },
            "error_y": {
             "color": "#2a3f5f"
            },
            "marker": {
             "line": {
              "color": "#E5ECF6",
              "width": 0.5
             },
             "pattern": {
              "fillmode": "overlay",
              "size": 10,
              "solidity": 0.2
             }
            },
            "type": "bar"
           }
          ],
          "barpolar": [
           {
            "marker": {
             "line": {
              "color": "#E5ECF6",
              "width": 0.5
             },
             "pattern": {
              "fillmode": "overlay",
              "size": 10,
              "solidity": 0.2
             }
            },
            "type": "barpolar"
           }
          ],
          "carpet": [
           {
            "aaxis": {
             "endlinecolor": "#2a3f5f",
             "gridcolor": "white",
             "linecolor": "white",
             "minorgridcolor": "white",
             "startlinecolor": "#2a3f5f"
            },
            "baxis": {
             "endlinecolor": "#2a3f5f",
             "gridcolor": "white",
             "linecolor": "white",
             "minorgridcolor": "white",
             "startlinecolor": "#2a3f5f"
            },
            "type": "carpet"
           }
          ],
          "choropleth": [
           {
            "colorbar": {
             "outlinewidth": 0,
             "ticks": ""
            },
            "type": "choropleth"
           }
          ],
          "contour": [
           {
            "colorbar": {
             "outlinewidth": 0,
             "ticks": ""
            },
            "colorscale": [
             [
              0,
              "#0d0887"
             ],
             [
              0.1111111111111111,
              "#46039f"
             ],
             [
              0.2222222222222222,
              "#7201a8"
             ],
             [
              0.3333333333333333,
              "#9c179e"
             ],
             [
              0.4444444444444444,
              "#bd3786"
             ],
             [
              0.5555555555555556,
              "#d8576b"
             ],
             [
              0.6666666666666666,
              "#ed7953"
             ],
             [
              0.7777777777777778,
              "#fb9f3a"
             ],
             [
              0.8888888888888888,
              "#fdca26"
             ],
             [
              1,
              "#f0f921"
             ]
            ],
            "type": "contour"
           }
          ],
          "contourcarpet": [
           {
            "colorbar": {
             "outlinewidth": 0,
             "ticks": ""
            },
            "type": "contourcarpet"
           }
          ],
          "heatmap": [
           {
            "colorbar": {
             "outlinewidth": 0,
             "ticks": ""
            },
            "colorscale": [
             [
              0,
              "#0d0887"
             ],
             [
              0.1111111111111111,
              "#46039f"
             ],
             [
              0.2222222222222222,
              "#7201a8"
             ],
             [
              0.3333333333333333,
              "#9c179e"
             ],
             [
              0.4444444444444444,
              "#bd3786"
             ],
             [
              0.5555555555555556,
              "#d8576b"
             ],
             [
              0.6666666666666666,
              "#ed7953"
             ],
             [
              0.7777777777777778,
              "#fb9f3a"
             ],
             [
              0.8888888888888888,
              "#fdca26"
             ],
             [
              1,
              "#f0f921"
             ]
            ],
            "type": "heatmap"
           }
          ],
          "heatmapgl": [
           {
            "colorbar": {
             "outlinewidth": 0,
             "ticks": ""
            },
            "colorscale": [
             [
              0,
              "#0d0887"
             ],
             [
              0.1111111111111111,
              "#46039f"
             ],
             [
              0.2222222222222222,
              "#7201a8"
             ],
             [
              0.3333333333333333,
              "#9c179e"
             ],
             [
              0.4444444444444444,
              "#bd3786"
             ],
             [
              0.5555555555555556,
              "#d8576b"
             ],
             [
              0.6666666666666666,
              "#ed7953"
             ],
             [
              0.7777777777777778,
              "#fb9f3a"
             ],
             [
              0.8888888888888888,
              "#fdca26"
             ],
             [
              1,
              "#f0f921"
             ]
            ],
            "type": "heatmapgl"
           }
          ],
          "histogram": [
           {
            "marker": {
             "pattern": {
              "fillmode": "overlay",
              "size": 10,
              "solidity": 0.2
             }
            },
            "type": "histogram"
           }
          ],
          "histogram2d": [
           {
            "colorbar": {
             "outlinewidth": 0,
             "ticks": ""
            },
            "colorscale": [
             [
              0,
              "#0d0887"
             ],
             [
              0.1111111111111111,
              "#46039f"
             ],
             [
              0.2222222222222222,
              "#7201a8"
             ],
             [
              0.3333333333333333,
              "#9c179e"
             ],
             [
              0.4444444444444444,
              "#bd3786"
             ],
             [
              0.5555555555555556,
              "#d8576b"
             ],
             [
              0.6666666666666666,
              "#ed7953"
             ],
             [
              0.7777777777777778,
              "#fb9f3a"
             ],
             [
              0.8888888888888888,
              "#fdca26"
             ],
             [
              1,
              "#f0f921"
             ]
            ],
            "type": "histogram2d"
           }
          ],
          "histogram2dcontour": [
           {
            "colorbar": {
             "outlinewidth": 0,
             "ticks": ""
            },
            "colorscale": [
             [
              0,
              "#0d0887"
             ],
             [
              0.1111111111111111,
              "#46039f"
             ],
             [
              0.2222222222222222,
              "#7201a8"
             ],
             [
              0.3333333333333333,
              "#9c179e"
             ],
             [
              0.4444444444444444,
              "#bd3786"
             ],
             [
              0.5555555555555556,
              "#d8576b"
             ],
             [
              0.6666666666666666,
              "#ed7953"
             ],
             [
              0.7777777777777778,
              "#fb9f3a"
             ],
             [
              0.8888888888888888,
              "#fdca26"
             ],
             [
              1,
              "#f0f921"
             ]
            ],
            "type": "histogram2dcontour"
           }
          ],
          "mesh3d": [
           {
            "colorbar": {
             "outlinewidth": 0,
             "ticks": ""
            },
            "type": "mesh3d"
           }
          ],
          "parcoords": [
           {
            "line": {
             "colorbar": {
              "outlinewidth": 0,
              "ticks": ""
             }
            },
            "type": "parcoords"
           }
          ],
          "pie": [
           {
            "automargin": true,
            "type": "pie"
           }
          ],
          "scatter": [
           {
            "fillpattern": {
             "fillmode": "overlay",
             "size": 10,
             "solidity": 0.2
            },
            "type": "scatter"
           }
          ],
          "scatter3d": [
           {
            "line": {
             "colorbar": {
              "outlinewidth": 0,
              "ticks": ""
             }
            },
            "marker": {
             "colorbar": {
              "outlinewidth": 0,
              "ticks": ""
             }
            },
            "type": "scatter3d"
           }
          ],
          "scattercarpet": [
           {
            "marker": {
             "colorbar": {
              "outlinewidth": 0,
              "ticks": ""
             }
            },
            "type": "scattercarpet"
           }
          ],
          "scattergeo": [
           {
            "marker": {
             "colorbar": {
              "outlinewidth": 0,
              "ticks": ""
             }
            },
            "type": "scattergeo"
           }
          ],
          "scattergl": [
           {
            "marker": {
             "colorbar": {
              "outlinewidth": 0,
              "ticks": ""
             }
            },
            "type": "scattergl"
           }
          ],
          "scattermapbox": [
           {
            "marker": {
             "colorbar": {
              "outlinewidth": 0,
              "ticks": ""
             }
            },
            "type": "scattermapbox"
           }
          ],
          "scatterpolar": [
           {
            "marker": {
             "colorbar": {
              "outlinewidth": 0,
              "ticks": ""
             }
            },
            "type": "scatterpolar"
           }
          ],
          "scatterpolargl": [
           {
            "marker": {
             "colorbar": {
              "outlinewidth": 0,
              "ticks": ""
             }
            },
            "type": "scatterpolargl"
           }
          ],
          "scatterternary": [
           {
            "marker": {
             "colorbar": {
              "outlinewidth": 0,
              "ticks": ""
             }
            },
            "type": "scatterternary"
           }
          ],
          "surface": [
           {
            "colorbar": {
             "outlinewidth": 0,
             "ticks": ""
            },
            "colorscale": [
             [
              0,
              "#0d0887"
             ],
             [
              0.1111111111111111,
              "#46039f"
             ],
             [
              0.2222222222222222,
              "#7201a8"
             ],
             [
              0.3333333333333333,
              "#9c179e"
             ],
             [
              0.4444444444444444,
              "#bd3786"
             ],
             [
              0.5555555555555556,
              "#d8576b"
             ],
             [
              0.6666666666666666,
              "#ed7953"
             ],
             [
              0.7777777777777778,
              "#fb9f3a"
             ],
             [
              0.8888888888888888,
              "#fdca26"
             ],
             [
              1,
              "#f0f921"
             ]
            ],
            "type": "surface"
           }
          ],
          "table": [
           {
            "cells": {
             "fill": {
              "color": "#EBF0F8"
             },
             "line": {
              "color": "white"
             }
            },
            "header": {
             "fill": {
              "color": "#C8D4E3"
             },
             "line": {
              "color": "white"
             }
            },
            "type": "table"
           }
          ]
         },
         "layout": {
          "annotationdefaults": {
           "arrowcolor": "#2a3f5f",
           "arrowhead": 0,
           "arrowwidth": 1
          },
          "autotypenumbers": "strict",
          "coloraxis": {
           "colorbar": {
            "outlinewidth": 0,
            "ticks": ""
           }
          },
          "colorscale": {
           "diverging": [
            [
             0,
             "#8e0152"
            ],
            [
             0.1,
             "#c51b7d"
            ],
            [
             0.2,
             "#de77ae"
            ],
            [
             0.3,
             "#f1b6da"
            ],
            [
             0.4,
             "#fde0ef"
            ],
            [
             0.5,
             "#f7f7f7"
            ],
            [
             0.6,
             "#e6f5d0"
            ],
            [
             0.7,
             "#b8e186"
            ],
            [
             0.8,
             "#7fbc41"
            ],
            [
             0.9,
             "#4d9221"
            ],
            [
             1,
             "#276419"
            ]
           ],
           "sequential": [
            [
             0,
             "#0d0887"
            ],
            [
             0.1111111111111111,
             "#46039f"
            ],
            [
             0.2222222222222222,
             "#7201a8"
            ],
            [
             0.3333333333333333,
             "#9c179e"
            ],
            [
             0.4444444444444444,
             "#bd3786"
            ],
            [
             0.5555555555555556,
             "#d8576b"
            ],
            [
             0.6666666666666666,
             "#ed7953"
            ],
            [
             0.7777777777777778,
             "#fb9f3a"
            ],
            [
             0.8888888888888888,
             "#fdca26"
            ],
            [
             1,
             "#f0f921"
            ]
           ],
           "sequentialminus": [
            [
             0,
             "#0d0887"
            ],
            [
             0.1111111111111111,
             "#46039f"
            ],
            [
             0.2222222222222222,
             "#7201a8"
            ],
            [
             0.3333333333333333,
             "#9c179e"
            ],
            [
             0.4444444444444444,
             "#bd3786"
            ],
            [
             0.5555555555555556,
             "#d8576b"
            ],
            [
             0.6666666666666666,
             "#ed7953"
            ],
            [
             0.7777777777777778,
             "#fb9f3a"
            ],
            [
             0.8888888888888888,
             "#fdca26"
            ],
            [
             1,
             "#f0f921"
            ]
           ]
          },
          "colorway": [
           "#636efa",
           "#EF553B",
           "#00cc96",
           "#ab63fa",
           "#FFA15A",
           "#19d3f3",
           "#FF6692",
           "#B6E880",
           "#FF97FF",
           "#FECB52"
          ],
          "font": {
           "color": "#2a3f5f"
          },
          "geo": {
           "bgcolor": "white",
           "lakecolor": "white",
           "landcolor": "#E5ECF6",
           "showlakes": true,
           "showland": true,
           "subunitcolor": "white"
          },
          "hoverlabel": {
           "align": "left"
          },
          "hovermode": "closest",
          "mapbox": {
           "style": "light"
          },
          "paper_bgcolor": "white",
          "plot_bgcolor": "#E5ECF6",
          "polar": {
           "angularaxis": {
            "gridcolor": "white",
            "linecolor": "white",
            "ticks": ""
           },
           "bgcolor": "#E5ECF6",
           "radialaxis": {
            "gridcolor": "white",
            "linecolor": "white",
            "ticks": ""
           }
          },
          "scene": {
           "xaxis": {
            "backgroundcolor": "#E5ECF6",
            "gridcolor": "white",
            "gridwidth": 2,
            "linecolor": "white",
            "showbackground": true,
            "ticks": "",
            "zerolinecolor": "white"
           },
           "yaxis": {
            "backgroundcolor": "#E5ECF6",
            "gridcolor": "white",
            "gridwidth": 2,
            "linecolor": "white",
            "showbackground": true,
            "ticks": "",
            "zerolinecolor": "white"
           },
           "zaxis": {
            "backgroundcolor": "#E5ECF6",
            "gridcolor": "white",
            "gridwidth": 2,
            "linecolor": "white",
            "showbackground": true,
            "ticks": "",
            "zerolinecolor": "white"
           }
          },
          "shapedefaults": {
           "line": {
            "color": "#2a3f5f"
           }
          },
          "ternary": {
           "aaxis": {
            "gridcolor": "white",
            "linecolor": "white",
            "ticks": ""
           },
           "baxis": {
            "gridcolor": "white",
            "linecolor": "white",
            "ticks": ""
           },
           "bgcolor": "#E5ECF6",
           "caxis": {
            "gridcolor": "white",
            "linecolor": "white",
            "ticks": ""
           }
          },
          "title": {
           "x": 0.05
          },
          "xaxis": {
           "automargin": true,
           "gridcolor": "white",
           "linecolor": "white",
           "ticks": "",
           "title": {
            "standoff": 15
           },
           "zerolinecolor": "white",
           "zerolinewidth": 2
          },
          "yaxis": {
           "automargin": true,
           "gridcolor": "white",
           "linecolor": "white",
           "ticks": "",
           "title": {
            "standoff": 15
           },
           "zerolinecolor": "white",
           "zerolinewidth": 2
          }
         }
        },
        "title": {
         "text": "Height Distribution"
        },
        "xaxis": {
         "title": {
          "text": "Height (cm)"
         }
        },
        "yaxis": {
         "title": {
          "text": "Frequency"
         }
        }
       }
      }
     },
     "metadata": {},
     "output_type": "display_data"
    }
   ],
   "source": [
    "# 创建直方图统计身高每一厘米的频率\n",
    "height_counts = players_data['height'].value_counts().sort_index()\n",
    "\n",
    "fig = go.Figure(data=[go.Bar(x=height_counts.index, y=height_counts.values)])\n",
    "fig.update_layout(\n",
    "    title='Height Distribution',\n",
    "    xaxis_title='Height (cm)',\n",
    "    yaxis_title='Frequency'\n",
    ")\n",
    "fig.show()"
   ]
  },
  {
   "cell_type": "code",
   "execution_count": 25,
   "metadata": {},
   "outputs": [
    {
     "data": {
      "application/vnd.plotly.v1+json": {
       "config": {
        "plotlyServerURL": "https://plot.ly"
       },
       "data": [
        {
         "alignmentgroup": "True",
         "bingroup": "x",
         "hovertemplate": "weight=%{x}<br>count=%{y}<extra></extra>",
         "legendgroup": "",
         "marker": {
          "color": "#636efa",
          "pattern": {
           "shape": ""
          }
         },
         "name": "",
         "offsetgroup": "",
         "orientation": "v",
         "showlegend": false,
         "type": "histogram",
         "x": [
          102.0582,
          148.778176,
          102.0582,
          121.109064,
          98.429464,
          111.13004,
          142.88148,
          79.3786,
          136.0776,
          100.697424,
          99.79024,
          103.872568,
          97.52228,
          145.14944,
          137.891968,
          120.20188,
          124.7378,
          83.91452,
          88.45044,
          115.212368,
          147.4174,
          129.27372,
          151.95332,
          149.68536,
          149.68536,
          113.398,
          95.25431999999999,
          92.079176,
          99.79024,
          130.634496,
          116.573144,
          130.180904,
          97.52228,
          133.80964,
          99.79024,
          120.20188,
          142.88148,
          87.089664,
          122.46984,
          151.95332,
          97.52228,
          133.80964,
          142.88148,
          90.264808,
          106.59412,
          113.398,
          117.93392,
          93.893544,
          91.625584,
          140.61352,
          138.34556,
          113.398,
          112.037224,
          120.20188,
          138.34556,
          142.88148,
          97.068688,
          109.76926399999999,
          105.686936,
          126.552168,
          87.089664,
          97.52228,
          112.490816,
          110.222856,
          159.66438399999998,
          139.706336,
          91.625584,
          145.60303199999998,
          89.811216,
          90.7184,
          139.706336,
          88.45044,
          88.45044,
          96.161504,
          97.52228,
          78.925008,
          99.79024,
          102.0582,
          138.34556,
          99.79024,
          93.893544,
          143.788664,
          141.067112,
          96.161504,
          107.954896,
          113.398,
          86.18248,
          100.243832,
          87.543256,
          154.22128,
          111.13004,
          115.66596,
          117.93392,
          86.18248,
          137.891968,
          95.707912,
          81.192968,
          148.324584,
          88.45044,
          92.98636,
          139.252744,
          140.61352,
          127.459352,
          108.86207999999999,
          142.88148,
          119.294696,
          108.86207999999999,
          89.357624,
          140.61352,
          104.32616,
          97.52228,
          115.66596,
          86.636072,
          140.159928,
          148.778176,
          119.294696,
          90.7184,
          80.739376,
          96.161504,
          136.0776,
          115.66596,
          95.707912,
          122.016248,
          140.159928,
          104.779752,
          115.66596,
          140.159928,
          127.00576,
          87.996848,
          142.88148,
          113.398,
          141.520704,
          83.007336,
          87.543256,
          87.996848,
          97.52228,
          120.20188,
          145.14944,
          95.25431999999999,
          113.398,
          83.91452,
          114.305184,
          97.52228,
          99.79024,
          102.0582,
          88.904032,
          142.88148,
          149.68536,
          140.61352,
          106.59412,
          152.406912,
          142.88148,
          136.531192,
          92.98636,
          116.573144,
          158.7572,
          146.056624,
          113.398,
          90.7184,
          104.32616,
          136.0776,
          145.14944,
          136.531192,
          116.119552,
          131.54167999999999,
          138.34556,
          86.18248,
          92.98636,
          140.61352,
          148.778176,
          150.592544,
          105.233344,
          143.788664,
          140.61352,
          138.799152,
          147.4174,
          101.604608,
          122.46984,
          108.86207999999999,
          113.398,
          147.4174,
          113.398,
          149.68536,
          83.007336,
          129.27372,
          111.13004,
          95.25431999999999,
          115.66596,
          120.20188,
          104.779752,
          100.697424,
          115.66596,
          95.707912,
          142.88148,
          136.984784,
          97.975872,
          143.335072,
          97.975872,
          97.52228,
          132.448864,
          89.357624,
          141.974296,
          89.811216,
          140.61352,
          122.016248,
          139.252744,
          104.32616,
          97.52228,
          141.520704,
          87.089664,
          98.883056,
          153.314096,
          127.00576,
          120.20188,
          105.233344,
          92.98636,
          108.86207999999999,
          138.34556,
          87.543256,
          154.674872,
          92.079176,
          114.305184,
          148.778176,
          117.93392,
          115.66596,
          117.93392,
          147.4174,
          82.553744,
          95.25431999999999,
          92.98636,
          88.904032,
          107.047712,
          113.398,
          114.305184,
          145.14944,
          136.531192,
          97.975872,
          87.996848,
          144.242256,
          120.20188,
          80.28578399999999,
          123.377024,
          102.965384,
          100.243832,
          110.222856,
          146.51021599999999,
          140.61352,
          140.159928,
          140.61352,
          138.34556,
          97.068688,
          110.222856,
          87.089664,
          86.636072,
          117.93392,
          113.398,
          108.86207999999999,
          111.13004,
          122.46984,
          89.357624,
          115.66596,
          135.170416,
          138.34556,
          139.252744,
          140.61352,
          172.36496,
          117.93392,
          99.79024,
          145.14944,
          89.357624,
          119.294696,
          106.140528,
          86.18248,
          83.460928,
          94.80072799999999,
          132.448864,
          86.18248,
          95.25431999999999,
          100.697424,
          136.0776,
          81.64656,
          94.347136,
          109.76926399999999,
          85.275296,
          140.61352,
          135.624008,
          101.151016,
          107.501304,
          127.00576,
          103.418976,
          94.347136,
          142.88148,
          136.0776,
          139.706336,
          108.86207999999999,
          92.079176,
          138.34556,
          141.974296,
          144.242256,
          97.975872,
          140.159928,
          121.109064,
          88.904032,
          89.357624,
          142.427888,
          124.7378,
          111.13004,
          113.398,
          110.676448,
          139.706336,
          90.7184,
          91.171992,
          142.427888,
          130.180904,
          112.037224,
          149.68536,
          96.161504,
          138.799152,
          136.0776,
          102.965384,
          92.079176,
          140.159928,
          92.98636,
          96.161504,
          130.180904,
          96.161504,
          124.7378,
          139.706336,
          111.583632,
          134.263232,
          95.707912,
          97.52228,
          139.706336,
          137.438376,
          115.212368,
          89.811216,
          106.59412,
          138.34556,
          106.59412,
          118.387512,
          140.61352,
          91.625584,
          111.13004,
          90.264808,
          90.7184,
          116.573144,
          100.697424,
          105.233344,
          138.34556,
          96.161504,
          136.0776,
          148.778176,
          90.7184,
          92.079176,
          107.501304,
          107.954896,
          134.263232,
          138.799152,
          118.387512,
          131.995272,
          101.604608,
          140.61352,
          135.170416,
          98.429464,
          146.963808,
          83.91452,
          157.396424,
          89.811216,
          91.625584,
          88.904032,
          142.427888,
          106.140528,
          94.80072799999999,
          85.728888,
          106.59412,
          104.32616,
          107.954896,
          87.996848,
          138.34556,
          86.636072,
          101.151016,
          97.52228,
          92.98636,
          136.0776,
          82.553744,
          146.056624,
          94.80072799999999,
          83.460928,
          154.22128,
          86.18248,
          88.45044,
          91.625584,
          133.356048,
          133.356048,
          124.7378,
          103.418976,
          86.18248,
          135.624008,
          104.32616,
          144.242256,
          106.59412,
          86.18248,
          93.893544,
          108.86207999999999,
          141.974296,
          107.047712,
          121.109064,
          123.377024,
          97.52228,
          127.00576,
          103.418976,
          94.80072799999999,
          96.615096,
          98.883056,
          92.98636,
          104.32616,
          87.089664,
          106.59412,
          117.480328,
          96.161504,
          89.357624,
          136.0776,
          83.91452,
          113.398,
          136.0776,
          113.398,
          108.86207999999999,
          96.615096,
          120.20188,
          111.583632,
          114.305184,
          142.427888,
          145.14944,
          88.45044,
          90.7184,
          93.893544,
          88.45044,
          95.25431999999999,
          88.45044,
          82.100152,
          108.86207999999999,
          87.543256,
          108.86207999999999,
          99.79024,
          114.758776,
          90.264808,
          127.00576,
          109.76926399999999,
          144.242256,
          107.954896,
          145.14944,
          131.088088,
          91.625584,
          99.79024,
          97.52228,
          145.14944,
          147.4174,
          138.34556,
          88.45044,
          97.52228,
          119.748288,
          94.347136,
          137.438376,
          136.0776,
          104.32616,
          108.86207999999999,
          120.655472,
          92.532768,
          94.80072799999999,
          97.975872,
          105.686936,
          89.811216,
          94.80072799999999,
          88.45044,
          137.891968,
          85.275296,
          96.615096,
          94.80072799999999,
          112.490816,
          122.46984,
          105.686936,
          143.335072,
          91.625584,
          99.79024,
          108.86207999999999,
          120.20188,
          88.904032,
          100.243832,
          105.686936,
          111.13004,
          124.7378,
          96.615096,
          128.820128,
          134.716824,
          142.88148,
          113.398,
          91.171992,
          102.511792,
          151.95332,
          104.32616,
          101.151016,
          86.18248,
          78.471416,
          114.758776,
          82.100152,
          141.067112,
          94.347136,
          92.98636,
          91.625584,
          115.66596,
          103.418976,
          113.398,
          145.60303199999998,
          141.520704,
          92.532768,
          138.34556,
          139.252744,
          117.026736,
          127.00576,
          103.872568,
          102.0582,
          145.14944,
          122.46984,
          114.305184,
          117.93392,
          105.233344,
          97.068688,
          96.161504,
          92.079176,
          86.18248,
          95.25431999999999,
          113.398,
          104.32616,
          112.490816,
          156.48924,
          100.243832,
          141.067112,
          94.80072799999999,
          111.13004,
          86.18248,
          117.026736,
          102.0582,
          108.86207999999999,
          111.583632,
          95.25431999999999,
          86.18248,
          87.543256,
          104.779752,
          102.0582,
          149.231768,
          87.996848,
          88.904032,
          90.7184,
          143.788664,
          107.501304,
          107.501304,
          140.159928,
          92.98636,
          147.4174,
          99.79024,
          139.252744,
          90.7184,
          97.52228,
          105.686936,
          86.636072,
          124.7378,
          149.68536,
          107.501304,
          104.32616,
          142.88148,
          93.893544,
          157.396424,
          145.14944,
          120.20188,
          147.4174,
          113.398,
          97.52228,
          88.904032,
          116.119552,
          141.067112,
          141.520704,
          106.140528,
          140.61352,
          97.52228,
          111.13004,
          99.79024,
          98.429464,
          131.995272,
          86.636072,
          97.52228,
          96.161504,
          138.34556,
          148.324584,
          102.0582,
          104.32616,
          142.88148,
          138.34556,
          97.975872,
          114.305184,
          88.45044,
          88.904032,
          90.7184,
          113.851592,
          116.119552,
          135.170416,
          112.490816,
          92.98636,
          90.7184,
          81.64656,
          95.25431999999999,
          89.811216,
          134.716824,
          93.439952,
          125.644984,
          113.398,
          92.532768,
          141.067112,
          107.047712,
          142.88148,
          102.0582,
          142.88148,
          140.61352,
          120.20188,
          126.552168,
          90.7184,
          95.25431999999999,
          156.48924,
          140.159928,
          115.66596,
          108.86207999999999,
          105.686936,
          145.60303199999998,
          138.34556,
          95.25431999999999,
          145.14944,
          97.068688,
          138.34556,
          90.7184,
          139.252744,
          132.448864,
          110.222856,
          86.18248,
          117.93392,
          89.811216,
          107.047712,
          136.984784,
          134.716824,
          115.66596,
          89.811216,
          80.739376,
          97.975872,
          121.109064,
          87.089664,
          117.93392,
          83.460928,
          130.180904,
          114.758776,
          95.25431999999999,
          130.634496,
          106.59412,
          109.76926399999999,
          85.275296,
          115.66596,
          97.52228,
          141.974296,
          92.079176,
          113.398,
          92.98636,
          140.61352,
          115.212368,
          114.758776,
          139.706336,
          142.88148,
          98.429464,
          93.893544,
          144.242256,
          94.347136,
          109.76926399999999,
          86.18248,
          95.25431999999999,
          83.460928,
          140.61352,
          97.52228,
          92.079176,
          150.592544,
          97.068688,
          85.275296,
          83.91452,
          86.18248,
          150.138952,
          143.788664,
          103.872568,
          100.243832,
          156.035648,
          107.047712,
          131.54167999999999,
          83.91452,
          83.91452,
          141.067112,
          90.7184,
          86.18248,
          108.86207999999999,
          143.335072,
          91.625584,
          83.460928,
          97.068688,
          86.18248,
          129.27372,
          87.996848,
          91.625584,
          133.80964,
          133.80964,
          86.18248,
          107.954896,
          113.398,
          84.821704,
          112.490816,
          92.98636,
          140.61352,
          87.543256,
          136.0776,
          91.625584,
          105.686936,
          92.98636,
          101.604608,
          106.59412,
          95.25431999999999,
          127.00576,
          138.34556,
          139.252744,
          83.91452,
          92.98636,
          85.728888,
          105.233344,
          95.25431999999999,
          99.336648,
          92.98636,
          97.068688,
          136.984784,
          92.98636,
          86.18248,
          81.192968,
          87.543256,
          83.91452,
          102.965384,
          141.067112,
          90.7184,
          89.357624,
          145.14944,
          88.45044,
          133.80964,
          89.811216,
          123.377024,
          108.408488,
          88.904032,
          85.728888,
          131.54167999999999,
          92.079176,
          103.872568,
          104.32616,
          92.98636,
          90.7184,
          94.347136,
          115.66596,
          93.893544,
          120.655472,
          137.438376,
          120.20188,
          107.501304,
          99.79024,
          118.841104,
          112.490816,
          130.180904,
          105.686936,
          138.34556,
          125.644984,
          142.88148,
          139.252744,
          113.398,
          155.128464,
          138.34556,
          136.0776,
          112.944408,
          90.7184,
          142.88148,
          146.056624,
          99.79024,
          77.11064,
          118.841104,
          92.98636,
          133.80964,
          131.995272,
          138.799152,
          102.0582,
          86.18248,
          86.18248,
          141.520704,
          97.068688,
          140.61352,
          149.231768,
          88.45044,
          90.7184,
          141.520704,
          113.398,
          140.61352,
          83.460928,
          88.45044,
          142.88148,
          114.305184,
          108.86207999999999,
          102.511792,
          117.480328,
          95.707912,
          96.615096,
          147.4174,
          84.821704,
          139.706336,
          92.98636,
          93.439952,
          94.347136,
          86.18248,
          92.98636,
          104.32616,
          127.459352,
          82.100152,
          113.398,
          90.7184,
          127.459352,
          111.13004,
          100.697424,
          92.079176,
          95.25431999999999,
          113.851592,
          88.904032,
          107.954896,
          93.893544,
          143.335072,
          87.089664,
          146.963808,
          97.52228,
          107.501304,
          106.140528,
          139.706336,
          139.252744,
          99.79024,
          93.439952,
          113.398,
          115.212368,
          141.520704,
          102.511792,
          90.7184,
          140.61352,
          99.79024,
          94.347136,
          115.66596,
          123.377024,
          87.543256,
          90.7184,
          95.25431999999999,
          118.387512,
          140.61352,
          121.109064,
          140.61352,
          146.056624,
          94.80072799999999,
          106.140528,
          91.171992,
          97.068688,
          141.520704,
          129.27372,
          113.398,
          88.904032,
          120.20188,
          92.079176,
          102.0582,
          83.91452,
          109.76926399999999,
          108.86207999999999,
          112.490816,
          106.59412,
          95.25431999999999,
          136.0776,
          127.00576,
          104.32616,
          139.706336,
          86.18248,
          108.86207999999999,
          102.0582,
          86.18248,
          95.25431999999999,
          97.52228,
          101.604608,
          133.80964,
          86.636072,
          133.80964,
          146.51021599999999,
          91.625584,
          85.275296,
          91.625584,
          78.925008,
          146.963808,
          92.532768,
          145.14944,
          91.171992,
          114.758776,
          113.851592,
          114.758776,
          90.7184,
          136.984784,
          90.7184,
          108.86207999999999,
          128.820128,
          79.83219199999999,
          147.870992,
          106.59412,
          90.7184,
          136.0776,
          115.66596,
          90.7184,
          94.80072799999999,
          97.52228,
          81.64656,
          129.27372,
          115.66596,
          142.427888,
          141.067112,
          133.80964,
          142.427888,
          166.014672,
          105.686936,
          139.706336,
          151.95332,
          111.13004,
          109.76926399999999,
          136.0776,
          90.7184,
          107.954896,
          103.418976,
          130.634496,
          120.20188,
          102.0582,
          87.543256,
          77.11064,
          91.625584,
          88.45044,
          135.624008,
          107.501304,
          108.86207999999999,
          129.27372,
          93.893544,
          127.00576,
          115.66596,
          87.543256,
          107.501304,
          140.61352,
          83.91452,
          95.25431999999999,
          85.275296,
          90.7184,
          94.80072799999999,
          136.0776,
          151.499728,
          138.34556,
          108.86207999999999,
          158.7572,
          92.98636,
          118.387512,
          102.0582,
          136.0776,
          111.13004,
          96.161504,
          126.552168,
          97.52228,
          117.93392,
          92.98636,
          106.59412,
          87.543256,
          78.471416,
          88.45044,
          135.624008,
          87.996848,
          104.32616,
          107.501304,
          97.52228,
          118.387512,
          117.93392,
          129.27372,
          96.161504,
          111.13004,
          144.695848,
          86.18248,
          86.18248,
          77.11064,
          97.975872,
          90.7184,
          147.870992,
          98.883056,
          107.501304,
          144.242256,
          102.0582,
          86.636072,
          145.14944,
          146.056624,
          140.61352,
          87.089664,
          86.18248,
          85.728888,
          140.61352,
          113.398,
          88.45044,
          87.089664,
          106.140528,
          144.695848,
          93.439952,
          99.79024,
          111.13004,
          102.965384,
          88.904032,
          94.80072799999999,
          95.25431999999999,
          99.79024,
          95.707912,
          89.357624,
          97.975872,
          119.748288,
          146.056624,
          138.34556,
          100.243832,
          99.79024,
          117.026736,
          92.079176,
          92.98636,
          79.83219199999999,
          114.758776,
          102.965384,
          88.45044,
          93.893544,
          96.161504,
          98.883056,
          127.00576,
          97.068688,
          140.61352,
          89.357624,
          140.61352,
          94.347136,
          113.398,
          90.7184,
          113.398,
          106.59412,
          96.161504,
          113.398,
          100.243832,
          109.31567199999999,
          90.7184,
          150.592544,
          92.98636,
          136.0776,
          140.61352,
          140.61352,
          106.59412,
          138.34556,
          97.52228,
          90.7184,
          131.54167999999999,
          91.171992,
          97.52228,
          136.984784,
          142.88148,
          114.305184,
          92.532768,
          97.52228,
          117.480328,
          142.88148,
          83.91452,
          117.480328,
          117.93392,
          95.25431999999999,
          108.86207999999999,
          105.686936,
          111.13004,
          109.76926399999999,
          89.811216,
          114.758776,
          156.48924,
          97.52228,
          133.80964,
          149.68536,
          89.811216,
          99.336648,
          151.95332,
          108.86207999999999,
          138.34556,
          117.93392,
          115.66596,
          99.336648,
          145.14944,
          102.965384,
          142.88148,
          94.347136,
          96.615096,
          133.80964,
          139.706336,
          102.0582,
          113.851592,
          95.25431999999999,
          145.60303199999998,
          111.13004,
          79.3786,
          87.543256,
          83.007336,
          147.4174,
          97.068688,
          134.263232,
          145.14944,
          136.0776,
          146.963808,
          121.562656,
          91.171992,
          92.98636,
          99.79024,
          86.18248,
          92.98636,
          138.34556,
          78.017824,
          131.995272,
          90.7184,
          115.66596,
          136.0776,
          158.7572,
          151.046136,
          91.625584,
          94.347136,
          111.13004,
          145.60303199999998,
          131.54167999999999,
          92.98636,
          86.18248,
          87.543256,
          139.252744,
          95.25431999999999,
          113.398,
          94.80072799999999,
          134.716824,
          140.61352,
          77.11064,
          99.79024,
          108.86207999999999,
          92.079176,
          97.068688,
          95.25431999999999,
          95.25431999999999,
          120.20188,
          145.14944,
          112.037224,
          83.91452,
          113.398,
          84.368112,
          142.88148,
          109.76926399999999,
          92.98636,
          111.583632,
          106.59412,
          131.54167999999999,
          144.242256,
          111.13004,
          83.91452,
          113.398,
          92.98636,
          90.264808,
          113.398,
          99.79024,
          149.231768,
          138.34556,
          102.0582,
          86.18248,
          88.45044,
          79.3786,
          115.66596,
          106.59412,
          140.61352,
          104.32616,
          124.7378,
          129.27372,
          95.707912,
          108.86207999999999,
          106.59412,
          113.398,
          142.88148,
          92.98636,
          111.583632,
          92.98636,
          88.904032,
          117.93392,
          111.583632,
          140.61352,
          104.779752,
          83.91452,
          131.54167999999999,
          115.66596,
          85.275296,
          81.64656,
          83.91452,
          140.61352,
          83.91452,
          136.0776,
          97.52228,
          99.79024,
          142.88148,
          86.18248,
          115.66596,
          97.52228,
          108.408488,
          122.46984,
          88.45044,
          131.54167999999999,
          97.52228,
          115.66596,
          136.0776,
          92.532768,
          69.399576,
          86.18248,
          111.13004,
          99.79024,
          94.347136,
          102.511792,
          113.398,
          90.7184,
          82.553744,
          147.4174,
          90.7184,
          92.079176,
          74.84268,
          101.151016,
          111.13004,
          138.34556,
          140.61352,
          97.068688,
          117.93392,
          120.655472,
          106.140528,
          87.543256,
          120.20188,
          93.893544,
          142.427888,
          104.32616,
          90.7184,
          85.275296,
          95.25431999999999,
          122.46984,
          86.18248,
          114.758776,
          114.305184,
          118.841104,
          83.91452,
          83.460928,
          99.79024,
          88.904032,
          147.4174,
          140.61352,
          140.61352,
          87.996848,
          139.706336,
          91.625584,
          88.45044,
          147.4174,
          81.64656,
          149.68536,
          81.64656,
          113.398,
          133.80964,
          97.52228,
          135.624008,
          127.00576,
          117.026736,
          86.18248,
          69.399576,
          105.233344,
          90.7184,
          109.76926399999999,
          123.83061599999999,
          141.520704,
          143.335072,
          92.079176,
          102.0582,
          114.758776,
          134.716824,
          87.543256,
          142.88148,
          126.098576,
          92.98636,
          127.00576,
          87.543256,
          95.25431999999999,
          113.398,
          101.151016,
          114.758776,
          83.91452,
          112.490816,
          122.46984,
          97.52228,
          140.61352,
          97.52228,
          100.697424,
          117.93392,
          81.192968,
          105.686936,
          145.60303199999998,
          133.80964,
          111.13004,
          145.14944,
          96.615096,
          82.553744,
          104.32616,
          93.439952,
          108.86207999999999,
          138.34556,
          90.7184,
          86.18248,
          91.625584,
          140.61352,
          127.00576,
          88.45044,
          111.13004,
          136.0776,
          115.66596,
          106.59412,
          111.583632,
          156.942832,
          88.45044,
          116.119552,
          88.45044,
          93.893544,
          106.59412,
          142.88148,
          78.925008,
          88.45044,
          86.18248,
          136.0776,
          122.46984,
          86.636072,
          124.28420799999999,
          95.707912,
          138.34556,
          117.026736,
          99.79024,
          111.13004,
          129.27372,
          86.636072,
          150.592544,
          92.98636,
          98.429464,
          86.18248,
          142.88148,
          132.902456,
          81.192968,
          138.34556,
          136.0776,
          88.45044,
          142.88148,
          108.86207999999999,
          90.7184,
          88.45044,
          88.45044,
          104.32616,
          91.625584,
          154.22128,
          92.98636,
          86.18248,
          102.965384,
          97.52228,
          121.562656,
          88.45044,
          97.52228,
          90.7184,
          89.811216,
          138.34556,
          149.68536,
          117.93392,
          161.02516,
          100.243832,
          144.242256,
          98.883056,
          80.739376,
          97.975872,
          86.18248,
          138.34556,
          99.79024,
          120.20188,
          83.91452,
          88.45044,
          89.357624,
          141.520704,
          105.233344,
          96.161504,
          106.59412,
          101.604608,
          147.4174,
          92.98636,
          92.98636,
          127.00576,
          92.98636,
          113.851592,
          142.88148,
          149.68536,
          116.573144,
          112.490816,
          81.64656,
          114.305184,
          138.799152,
          99.79024,
          154.22128,
          97.52228,
          86.18248,
          99.79024,
          91.625584,
          127.912944,
          108.86207999999999,
          102.0582,
          140.61352,
          92.98636,
          97.52228,
          99.79024,
          80.739376,
          86.18248,
          113.851592,
          149.68536,
          142.88148,
          88.45044,
          125.644984,
          141.067112,
          110.676448,
          110.676448,
          154.22128,
          111.13004,
          142.88148,
          117.93392,
          89.811216,
          80.739376,
          115.66596,
          86.18248,
          149.68536,
          111.13004,
          103.872568,
          117.93392,
          81.64656,
          124.7378,
          120.20188,
          88.45044,
          90.7184,
          113.398,
          145.14944,
          163.29312,
          95.25431999999999,
          140.61352,
          87.089664,
          83.91452,
          154.22128,
          99.79024,
          147.4174,
          82.553744,
          138.34556,
          102.0582,
          99.79024,
          88.45044,
          108.86207999999999,
          88.904032,
          150.592544,
          131.54167999999999,
          117.93392,
          106.59412,
          142.88148,
          136.531192,
          124.7378,
          87.089664,
          90.7184,
          124.7378,
          94.347136,
          85.275296,
          99.79024,
          90.7184,
          116.119552,
          88.45044,
          120.20188,
          95.25431999999999,
          83.91452,
          126.098576,
          141.520704,
          91.625584,
          88.45044,
          81.64656,
          131.54167999999999,
          90.7184,
          96.615096,
          88.45044,
          111.13004,
          120.20188,
          140.61352,
          104.32616,
          133.80964,
          92.98636,
          113.398,
          95.25431999999999,
          86.18248,
          107.954896,
          136.0776,
          104.32616,
          147.4174,
          90.7184,
          140.61352,
          109.76926399999999,
          90.7184,
          144.695848,
          120.20188,
          105.233344,
          152.406912,
          138.34556,
          122.46984,
          113.398,
          77.11064,
          108.86207999999999,
          102.0582,
          131.54167999999999,
          83.91452,
          97.52228,
          122.46984,
          88.45044,
          100.697424,
          129.27372,
          95.25431999999999,
          101.151016,
          131.54167999999999,
          97.52228,
          90.7184,
          103.418976,
          92.98636,
          108.86207999999999,
          113.398,
          104.32616,
          118.387512,
          90.264808,
          113.398,
          97.52228,
          131.54167999999999,
          89.811216,
          172.36496,
          135.624008,
          115.66596,
          86.636072,
          92.98636,
          88.45044,
          129.27372,
          122.46984,
          87.543256,
          87.089664,
          109.31567199999999,
          77.11064,
          97.52228,
          97.52228,
          147.4174,
          92.98636,
          113.398,
          99.79024,
          90.7184,
          133.80964,
          89.357624,
          140.61352,
          99.79024,
          108.86207999999999,
          133.80964,
          81.64656,
          79.3786,
          113.398,
          105.233344,
          147.4174,
          86.18248,
          108.86207999999999,
          140.61352,
          99.79024,
          92.98636,
          99.79024,
          90.7184,
          135.170416,
          145.14944,
          77.11064,
          86.636072,
          93.439952,
          140.61352,
          117.480328,
          136.0776,
          84.821704,
          116.119552,
          131.54167999999999,
          108.408488,
          115.66596,
          145.14944,
          122.46984,
          106.59412,
          99.79024,
          92.98636,
          102.0582,
          111.13004,
          86.636072,
          147.4174,
          100.243832,
          132.448864,
          97.52228,
          88.904032,
          92.98636,
          131.995272,
          104.32616,
          86.18248,
          142.88148,
          120.20188,
          88.45044,
          86.18248,
          123.377024,
          106.59412,
          95.25431999999999,
          79.83219199999999,
          142.88148,
          91.171992,
          91.171992,
          92.532768,
          90.7184,
          100.243832,
          97.52228,
          117.93392,
          88.45044,
          109.76926399999999,
          86.18248,
          104.32616,
          96.161504,
          147.4174,
          124.7378,
          113.398,
          83.007336,
          105.233344,
          108.86207999999999,
          77.11064,
          113.398,
          92.98636,
          102.965384,
          90.7184,
          120.20188,
          102.0582,
          90.7184,
          101.151016,
          84.821704,
          87.996848,
          83.91452,
          132.902456,
          171.911368,
          104.32616,
          88.45044,
          87.996848,
          117.93392,
          133.80964,
          117.93392,
          111.13004,
          104.32616,
          134.263232,
          81.64656,
          114.305184,
          88.45044,
          99.79024,
          98.883056,
          141.067112,
          81.64656,
          86.18248,
          92.98636,
          93.893544,
          111.13004,
          92.98636,
          88.45044,
          145.60303199999998,
          104.32616,
          86.18248,
          129.27372,
          120.655472,
          104.32616,
          136.0776,
          83.91452,
          127.00576
         ],
         "xaxis": "x",
         "yaxis": "y"
        }
       ],
       "layout": {
        "barmode": "relative",
        "legend": {
         "tracegroupgap": 0
        },
        "template": {
         "data": {
          "bar": [
           {
            "error_x": {
             "color": "#2a3f5f"
            },
            "error_y": {
             "color": "#2a3f5f"
            },
            "marker": {
             "line": {
              "color": "#E5ECF6",
              "width": 0.5
             },
             "pattern": {
              "fillmode": "overlay",
              "size": 10,
              "solidity": 0.2
             }
            },
            "type": "bar"
           }
          ],
          "barpolar": [
           {
            "marker": {
             "line": {
              "color": "#E5ECF6",
              "width": 0.5
             },
             "pattern": {
              "fillmode": "overlay",
              "size": 10,
              "solidity": 0.2
             }
            },
            "type": "barpolar"
           }
          ],
          "carpet": [
           {
            "aaxis": {
             "endlinecolor": "#2a3f5f",
             "gridcolor": "white",
             "linecolor": "white",
             "minorgridcolor": "white",
             "startlinecolor": "#2a3f5f"
            },
            "baxis": {
             "endlinecolor": "#2a3f5f",
             "gridcolor": "white",
             "linecolor": "white",
             "minorgridcolor": "white",
             "startlinecolor": "#2a3f5f"
            },
            "type": "carpet"
           }
          ],
          "choropleth": [
           {
            "colorbar": {
             "outlinewidth": 0,
             "ticks": ""
            },
            "type": "choropleth"
           }
          ],
          "contour": [
           {
            "colorbar": {
             "outlinewidth": 0,
             "ticks": ""
            },
            "colorscale": [
             [
              0,
              "#0d0887"
             ],
             [
              0.1111111111111111,
              "#46039f"
             ],
             [
              0.2222222222222222,
              "#7201a8"
             ],
             [
              0.3333333333333333,
              "#9c179e"
             ],
             [
              0.4444444444444444,
              "#bd3786"
             ],
             [
              0.5555555555555556,
              "#d8576b"
             ],
             [
              0.6666666666666666,
              "#ed7953"
             ],
             [
              0.7777777777777778,
              "#fb9f3a"
             ],
             [
              0.8888888888888888,
              "#fdca26"
             ],
             [
              1,
              "#f0f921"
             ]
            ],
            "type": "contour"
           }
          ],
          "contourcarpet": [
           {
            "colorbar": {
             "outlinewidth": 0,
             "ticks": ""
            },
            "type": "contourcarpet"
           }
          ],
          "heatmap": [
           {
            "colorbar": {
             "outlinewidth": 0,
             "ticks": ""
            },
            "colorscale": [
             [
              0,
              "#0d0887"
             ],
             [
              0.1111111111111111,
              "#46039f"
             ],
             [
              0.2222222222222222,
              "#7201a8"
             ],
             [
              0.3333333333333333,
              "#9c179e"
             ],
             [
              0.4444444444444444,
              "#bd3786"
             ],
             [
              0.5555555555555556,
              "#d8576b"
             ],
             [
              0.6666666666666666,
              "#ed7953"
             ],
             [
              0.7777777777777778,
              "#fb9f3a"
             ],
             [
              0.8888888888888888,
              "#fdca26"
             ],
             [
              1,
              "#f0f921"
             ]
            ],
            "type": "heatmap"
           }
          ],
          "heatmapgl": [
           {
            "colorbar": {
             "outlinewidth": 0,
             "ticks": ""
            },
            "colorscale": [
             [
              0,
              "#0d0887"
             ],
             [
              0.1111111111111111,
              "#46039f"
             ],
             [
              0.2222222222222222,
              "#7201a8"
             ],
             [
              0.3333333333333333,
              "#9c179e"
             ],
             [
              0.4444444444444444,
              "#bd3786"
             ],
             [
              0.5555555555555556,
              "#d8576b"
             ],
             [
              0.6666666666666666,
              "#ed7953"
             ],
             [
              0.7777777777777778,
              "#fb9f3a"
             ],
             [
              0.8888888888888888,
              "#fdca26"
             ],
             [
              1,
              "#f0f921"
             ]
            ],
            "type": "heatmapgl"
           }
          ],
          "histogram": [
           {
            "marker": {
             "pattern": {
              "fillmode": "overlay",
              "size": 10,
              "solidity": 0.2
             }
            },
            "type": "histogram"
           }
          ],
          "histogram2d": [
           {
            "colorbar": {
             "outlinewidth": 0,
             "ticks": ""
            },
            "colorscale": [
             [
              0,
              "#0d0887"
             ],
             [
              0.1111111111111111,
              "#46039f"
             ],
             [
              0.2222222222222222,
              "#7201a8"
             ],
             [
              0.3333333333333333,
              "#9c179e"
             ],
             [
              0.4444444444444444,
              "#bd3786"
             ],
             [
              0.5555555555555556,
              "#d8576b"
             ],
             [
              0.6666666666666666,
              "#ed7953"
             ],
             [
              0.7777777777777778,
              "#fb9f3a"
             ],
             [
              0.8888888888888888,
              "#fdca26"
             ],
             [
              1,
              "#f0f921"
             ]
            ],
            "type": "histogram2d"
           }
          ],
          "histogram2dcontour": [
           {
            "colorbar": {
             "outlinewidth": 0,
             "ticks": ""
            },
            "colorscale": [
             [
              0,
              "#0d0887"
             ],
             [
              0.1111111111111111,
              "#46039f"
             ],
             [
              0.2222222222222222,
              "#7201a8"
             ],
             [
              0.3333333333333333,
              "#9c179e"
             ],
             [
              0.4444444444444444,
              "#bd3786"
             ],
             [
              0.5555555555555556,
              "#d8576b"
             ],
             [
              0.6666666666666666,
              "#ed7953"
             ],
             [
              0.7777777777777778,
              "#fb9f3a"
             ],
             [
              0.8888888888888888,
              "#fdca26"
             ],
             [
              1,
              "#f0f921"
             ]
            ],
            "type": "histogram2dcontour"
           }
          ],
          "mesh3d": [
           {
            "colorbar": {
             "outlinewidth": 0,
             "ticks": ""
            },
            "type": "mesh3d"
           }
          ],
          "parcoords": [
           {
            "line": {
             "colorbar": {
              "outlinewidth": 0,
              "ticks": ""
             }
            },
            "type": "parcoords"
           }
          ],
          "pie": [
           {
            "automargin": true,
            "type": "pie"
           }
          ],
          "scatter": [
           {
            "fillpattern": {
             "fillmode": "overlay",
             "size": 10,
             "solidity": 0.2
            },
            "type": "scatter"
           }
          ],
          "scatter3d": [
           {
            "line": {
             "colorbar": {
              "outlinewidth": 0,
              "ticks": ""
             }
            },
            "marker": {
             "colorbar": {
              "outlinewidth": 0,
              "ticks": ""
             }
            },
            "type": "scatter3d"
           }
          ],
          "scattercarpet": [
           {
            "marker": {
             "colorbar": {
              "outlinewidth": 0,
              "ticks": ""
             }
            },
            "type": "scattercarpet"
           }
          ],
          "scattergeo": [
           {
            "marker": {
             "colorbar": {
              "outlinewidth": 0,
              "ticks": ""
             }
            },
            "type": "scattergeo"
           }
          ],
          "scattergl": [
           {
            "marker": {
             "colorbar": {
              "outlinewidth": 0,
              "ticks": ""
             }
            },
            "type": "scattergl"
           }
          ],
          "scattermapbox": [
           {
            "marker": {
             "colorbar": {
              "outlinewidth": 0,
              "ticks": ""
             }
            },
            "type": "scattermapbox"
           }
          ],
          "scatterpolar": [
           {
            "marker": {
             "colorbar": {
              "outlinewidth": 0,
              "ticks": ""
             }
            },
            "type": "scatterpolar"
           }
          ],
          "scatterpolargl": [
           {
            "marker": {
             "colorbar": {
              "outlinewidth": 0,
              "ticks": ""
             }
            },
            "type": "scatterpolargl"
           }
          ],
          "scatterternary": [
           {
            "marker": {
             "colorbar": {
              "outlinewidth": 0,
              "ticks": ""
             }
            },
            "type": "scatterternary"
           }
          ],
          "surface": [
           {
            "colorbar": {
             "outlinewidth": 0,
             "ticks": ""
            },
            "colorscale": [
             [
              0,
              "#0d0887"
             ],
             [
              0.1111111111111111,
              "#46039f"
             ],
             [
              0.2222222222222222,
              "#7201a8"
             ],
             [
              0.3333333333333333,
              "#9c179e"
             ],
             [
              0.4444444444444444,
              "#bd3786"
             ],
             [
              0.5555555555555556,
              "#d8576b"
             ],
             [
              0.6666666666666666,
              "#ed7953"
             ],
             [
              0.7777777777777778,
              "#fb9f3a"
             ],
             [
              0.8888888888888888,
              "#fdca26"
             ],
             [
              1,
              "#f0f921"
             ]
            ],
            "type": "surface"
           }
          ],
          "table": [
           {
            "cells": {
             "fill": {
              "color": "#EBF0F8"
             },
             "line": {
              "color": "white"
             }
            },
            "header": {
             "fill": {
              "color": "#C8D4E3"
             },
             "line": {
              "color": "white"
             }
            },
            "type": "table"
           }
          ]
         },
         "layout": {
          "annotationdefaults": {
           "arrowcolor": "#2a3f5f",
           "arrowhead": 0,
           "arrowwidth": 1
          },
          "autotypenumbers": "strict",
          "coloraxis": {
           "colorbar": {
            "outlinewidth": 0,
            "ticks": ""
           }
          },
          "colorscale": {
           "diverging": [
            [
             0,
             "#8e0152"
            ],
            [
             0.1,
             "#c51b7d"
            ],
            [
             0.2,
             "#de77ae"
            ],
            [
             0.3,
             "#f1b6da"
            ],
            [
             0.4,
             "#fde0ef"
            ],
            [
             0.5,
             "#f7f7f7"
            ],
            [
             0.6,
             "#e6f5d0"
            ],
            [
             0.7,
             "#b8e186"
            ],
            [
             0.8,
             "#7fbc41"
            ],
            [
             0.9,
             "#4d9221"
            ],
            [
             1,
             "#276419"
            ]
           ],
           "sequential": [
            [
             0,
             "#0d0887"
            ],
            [
             0.1111111111111111,
             "#46039f"
            ],
            [
             0.2222222222222222,
             "#7201a8"
            ],
            [
             0.3333333333333333,
             "#9c179e"
            ],
            [
             0.4444444444444444,
             "#bd3786"
            ],
            [
             0.5555555555555556,
             "#d8576b"
            ],
            [
             0.6666666666666666,
             "#ed7953"
            ],
            [
             0.7777777777777778,
             "#fb9f3a"
            ],
            [
             0.8888888888888888,
             "#fdca26"
            ],
            [
             1,
             "#f0f921"
            ]
           ],
           "sequentialminus": [
            [
             0,
             "#0d0887"
            ],
            [
             0.1111111111111111,
             "#46039f"
            ],
            [
             0.2222222222222222,
             "#7201a8"
            ],
            [
             0.3333333333333333,
             "#9c179e"
            ],
            [
             0.4444444444444444,
             "#bd3786"
            ],
            [
             0.5555555555555556,
             "#d8576b"
            ],
            [
             0.6666666666666666,
             "#ed7953"
            ],
            [
             0.7777777777777778,
             "#fb9f3a"
            ],
            [
             0.8888888888888888,
             "#fdca26"
            ],
            [
             1,
             "#f0f921"
            ]
           ]
          },
          "colorway": [
           "#636efa",
           "#EF553B",
           "#00cc96",
           "#ab63fa",
           "#FFA15A",
           "#19d3f3",
           "#FF6692",
           "#B6E880",
           "#FF97FF",
           "#FECB52"
          ],
          "font": {
           "color": "#2a3f5f"
          },
          "geo": {
           "bgcolor": "white",
           "lakecolor": "white",
           "landcolor": "#E5ECF6",
           "showlakes": true,
           "showland": true,
           "subunitcolor": "white"
          },
          "hoverlabel": {
           "align": "left"
          },
          "hovermode": "closest",
          "mapbox": {
           "style": "light"
          },
          "paper_bgcolor": "white",
          "plot_bgcolor": "#E5ECF6",
          "polar": {
           "angularaxis": {
            "gridcolor": "white",
            "linecolor": "white",
            "ticks": ""
           },
           "bgcolor": "#E5ECF6",
           "radialaxis": {
            "gridcolor": "white",
            "linecolor": "white",
            "ticks": ""
           }
          },
          "scene": {
           "xaxis": {
            "backgroundcolor": "#E5ECF6",
            "gridcolor": "white",
            "gridwidth": 2,
            "linecolor": "white",
            "showbackground": true,
            "ticks": "",
            "zerolinecolor": "white"
           },
           "yaxis": {
            "backgroundcolor": "#E5ECF6",
            "gridcolor": "white",
            "gridwidth": 2,
            "linecolor": "white",
            "showbackground": true,
            "ticks": "",
            "zerolinecolor": "white"
           },
           "zaxis": {
            "backgroundcolor": "#E5ECF6",
            "gridcolor": "white",
            "gridwidth": 2,
            "linecolor": "white",
            "showbackground": true,
            "ticks": "",
            "zerolinecolor": "white"
           }
          },
          "shapedefaults": {
           "line": {
            "color": "#2a3f5f"
           }
          },
          "ternary": {
           "aaxis": {
            "gridcolor": "white",
            "linecolor": "white",
            "ticks": ""
           },
           "baxis": {
            "gridcolor": "white",
            "linecolor": "white",
            "ticks": ""
           },
           "bgcolor": "#E5ECF6",
           "caxis": {
            "gridcolor": "white",
            "linecolor": "white",
            "ticks": ""
           }
          },
          "title": {
           "x": 0.05
          },
          "xaxis": {
           "automargin": true,
           "gridcolor": "white",
           "linecolor": "white",
           "ticks": "",
           "title": {
            "standoff": 15
           },
           "zerolinecolor": "white",
           "zerolinewidth": 2
          },
          "yaxis": {
           "automargin": true,
           "gridcolor": "white",
           "linecolor": "white",
           "ticks": "",
           "title": {
            "standoff": 15
           },
           "zerolinecolor": "white",
           "zerolinewidth": 2
          }
         }
        },
        "title": {
         "text": "Weight Distribution"
        },
        "xaxis": {
         "anchor": "y",
         "domain": [
          0,
          1
         ],
         "title": {
          "text": "Weight"
         }
        },
        "yaxis": {
         "anchor": "x",
         "domain": [
          0,
          1
         ],
         "title": {
          "text": "count"
         }
        }
       }
      }
     },
     "metadata": {},
     "output_type": "display_data"
    }
   ],
   "source": [
    "# 创建直方图统计体重\n",
    "fig_weight = px.histogram(players_data, x='weight', title='Weight Distribution')\n",
    "fig_weight.update_xaxes(title='Weight')\n",
    "fig_weight.show()"
   ]
  },
  {
   "cell_type": "code",
   "execution_count": 26,
   "metadata": {},
   "outputs": [
    {
     "data": {
      "application/vnd.plotly.v1+json": {
       "config": {
        "plotlyServerURL": "https://plot.ly"
       },
       "data": [
        {
         "alignmentgroup": "True",
         "bingroup": "x",
         "hovertemplate": "position=%{x}<br>count=%{y}<extra></extra>",
         "legendgroup": "",
         "marker": {
          "color": "#636efa",
          "pattern": {
           "shape": ""
          }
         },
         "name": "",
         "offsetgroup": "",
         "orientation": "v",
         "showlegend": false,
         "type": "histogram",
         "x": [
          "QB",
          "T",
          "QB",
          "TE",
          "QB",
          "QB",
          "T",
          "WR",
          "DE",
          "QB",
          "QB",
          "QB",
          "QB",
          "T",
          "NT",
          "DE",
          "DE",
          "SS",
          "FS",
          "DE",
          "G",
          "OLB",
          "DT",
          "NT",
          "T",
          "OLB",
          "WR",
          "CB",
          "WR",
          "DE",
          "OLB",
          "DE",
          "RB",
          "DT",
          "QB",
          "TE",
          "C",
          "WR",
          "OLB",
          "T",
          "QB",
          "C",
          "DT",
          "CB",
          "ILB",
          "ILB",
          "DE",
          "QB",
          "CB",
          "DT",
          "DE",
          "OLB",
          "OLB",
          "DE",
          "T",
          "G",
          "SS",
          "ILB",
          "ILB",
          "DE",
          "CB",
          "QB",
          "MLB",
          "QB",
          "DT",
          "C",
          "QB",
          "T",
          "WR",
          "FS",
          "T",
          "FS",
          "SS",
          "FS",
          "QB",
          "WR",
          "RB",
          "WR",
          "G",
          "FS",
          "FS",
          "T",
          "G",
          "WR",
          "RB",
          "TE",
          "CB",
          "QB",
          "WR",
          "NT",
          "OLB",
          "OLB",
          "TE",
          "FS",
          "T",
          "WR",
          "WR",
          "NT",
          "FS",
          "SS",
          "DT",
          "T",
          "DE",
          "FB",
          "G",
          "OLB",
          "OLB",
          "FS",
          "G",
          "RB",
          "RB",
          "TE",
          "SS",
          "DT",
          "NT",
          "OLB",
          "WR",
          "CB",
          "SS",
          "C",
          "DE",
          "WR",
          "OLB",
          "T",
          "WR",
          "OLB",
          "T",
          "DT",
          "CB",
          "G",
          "ILB",
          "T",
          "WR",
          "FS",
          "CB",
          "QB",
          "DE",
          "G",
          "QB",
          "OLB",
          "SS",
          "OLB",
          "WR",
          "WR",
          "QB",
          "WR",
          "C",
          "T",
          "T",
          "OLB",
          "G",
          "G",
          "G",
          "RB",
          "TE",
          "DT",
          "DT",
          "TE",
          "CB",
          "OLB",
          "DE",
          "T",
          "C",
          "OLB",
          "DE",
          "T",
          "CB",
          "WR",
          "T",
          "T",
          "NT",
          "ILB",
          "C",
          "G",
          "T",
          "C",
          "RB",
          "DE",
          "FB",
          "OLB",
          "G",
          "ILB",
          "G",
          "CB",
          "DE",
          "TE",
          "SS",
          "TE",
          "DE",
          "QB",
          "QB",
          "OLB",
          "WR",
          "G",
          "DT",
          "WR",
          "G",
          "WR",
          "RB",
          "DT",
          "CB",
          "T",
          "WR",
          "T",
          "OLB",
          "T",
          "ILB",
          "WR",
          "G",
          "WR",
          "SS",
          "T",
          "DT",
          "OLB",
          "ILB",
          "SS",
          "ILB",
          "C",
          "CB",
          "DE",
          "RB",
          "TE",
          "T",
          "OLB",
          "DE",
          "DE",
          "G",
          "WR",
          "RB",
          "WR",
          "CB",
          "ILB",
          "TE",
          "OLB",
          "NT",
          "DE",
          "WR",
          "CB",
          "DT",
          "OLB",
          "WR",
          "OLB",
          "OLB",
          "RB",
          "MLB",
          "C",
          "G",
          "G",
          "G",
          "DT",
          "FS",
          "TE",
          "FS",
          "WR",
          "TE",
          "TE",
          "FB",
          "MLB",
          "TE",
          "FS",
          "TE",
          "DT",
          "NT",
          "NT",
          "T",
          "T",
          "TE",
          "QB",
          "T",
          "RB",
          "TE",
          "ILB",
          "WR",
          "CB",
          "WR",
          "DT",
          "CB",
          "QB",
          "RB",
          "C",
          "WR",
          "SS",
          "OLB",
          "CB",
          "C",
          "DT",
          "QB",
          "QB",
          "OLB",
          "RB",
          "CB",
          "T",
          "DT",
          "T",
          "DE",
          "CB",
          "DT",
          "T",
          "T",
          "FS",
          "C",
          "DE",
          "CB",
          "CB",
          "NT",
          "DE",
          "MLB",
          "TE",
          "ILB",
          "DT",
          "CB",
          "WR",
          "NT",
          "OLB",
          "RB",
          "DT",
          "WR",
          "DT",
          "C",
          "ILB",
          "WR",
          "G",
          "SS",
          "CB",
          "DE",
          "FS",
          "OLB",
          "DT",
          "DE",
          "DE",
          "RB",
          "CB",
          "G",
          "G",
          "TE",
          "CB",
          "ILB",
          "DT",
          "QB",
          "TE",
          "G",
          "FS",
          "ILB",
          "FS",
          "WR",
          "TE",
          "SS",
          "ILB",
          "DT",
          "SS",
          "DT",
          "DT",
          "SS",
          "WR",
          "ILB",
          "QB",
          "DE",
          "C",
          "OLB",
          "DE",
          "RB",
          "DT",
          "T",
          "RB",
          "T",
          "WR",
          "NT",
          "WR",
          "FS",
          "CB",
          "G",
          "FB",
          "QB",
          "WR",
          "QB",
          "ILB",
          "ILB",
          "FS",
          "C",
          "CB",
          "RB",
          "FS",
          "SS",
          "C",
          "WR",
          "T",
          "FS",
          "CB",
          "NT",
          "CB",
          "RB",
          "SS",
          "DT",
          "DT",
          "DE",
          "OLB",
          "WR",
          "C",
          "TE",
          "DT",
          "FB",
          "CB",
          "WR",
          "TE",
          "G",
          "ILB",
          "TE",
          "DE",
          "QB",
          "DT",
          "RB",
          "WR",
          "SS",
          "WR",
          "RB",
          "QB",
          "CB",
          "OLB",
          "DE",
          "FS",
          "CB",
          "DT",
          "CB",
          "TE",
          "T",
          "OLB",
          "TE",
          "SS",
          "DE",
          "TE",
          "OLB",
          "T",
          "T",
          "SS",
          "WR",
          "FS",
          "WR",
          "RB",
          "FS",
          "CB",
          "TE",
          "CB",
          "OLB",
          "RB",
          "OLB",
          "SS",
          "DE",
          "ILB",
          "DT",
          "ILB",
          "C",
          "DE",
          "CB",
          "FS",
          "WR",
          "T",
          "T",
          "DT",
          "CB",
          "RB",
          "DE",
          "WR",
          "C",
          "DE",
          "ILB",
          "ILB",
          "DE",
          "CB",
          "WR",
          "RB",
          "RB",
          "CB",
          "FS",
          "CB",
          "NT",
          "CB",
          "WR",
          "CB",
          "TE",
          "DE",
          "RB",
          "DT",
          "SS",
          "SS",
          "RB",
          "DE",
          "WR",
          "WR",
          "OLB",
          "DE",
          "DE",
          "RB",
          "C",
          "DE",
          "DT",
          "TE",
          "CB",
          "OLB",
          "G",
          "MLB",
          "OLB",
          "WR",
          "WR",
          "TE",
          "WR",
          "NT",
          "RB",
          "SS",
          "FS",
          "RB",
          "ILB",
          "DE",
          "DT",
          "C",
          "SS",
          "T",
          "C",
          "DE",
          "DE",
          "OLB",
          "WR",
          "G",
          "DE",
          "TE",
          "C",
          "TE",
          "WR",
          "QB",
          "WR",
          "RB",
          "QB",
          "DE",
          "OLB",
          "TE",
          "NT",
          "TE",
          "FB",
          "WR",
          "TE",
          "CB",
          "TE",
          "OLB",
          "ILB",
          "TE",
          "WR",
          "CB",
          "WR",
          "ILB",
          "QB",
          "T",
          "WR",
          "CB",
          "RB",
          "T",
          "TE",
          "ILB",
          "G",
          "RB",
          "T",
          "TE",
          "G",
          "WR",
          "QB",
          "RB",
          "CB",
          "OLB",
          "G",
          "QB",
          "ILB",
          "T",
          "FS",
          "NT",
          "DT",
          "DE",
          "T",
          "ILB",
          "FS",
          "CB",
          "OLB",
          "C",
          "C",
          "ILB",
          "T",
          "WR",
          "TE",
          "RB",
          "SS",
          "DT",
          "CB",
          "RB",
          "QB",
          "G",
          "G",
          "RB",
          "MLB",
          "T",
          "G",
          "WR",
          "TE",
          "WR",
          "CB",
          "WR",
          "OLB",
          "TE",
          "G",
          "DE",
          "SS",
          "FS",
          "CB",
          "CB",
          "WR",
          "T",
          "CB",
          "DE",
          "OLB",
          "SS",
          "DT",
          "ILB",
          "DT",
          "ILB",
          "T",
          "DT",
          "DE",
          "DE",
          "WR",
          "FS",
          "T",
          "DT",
          "TE",
          "OLB",
          "OLB",
          "T",
          "DT",
          "WR",
          "T",
          "SS",
          "G",
          "SS",
          "DT",
          "C",
          "TE",
          "CB",
          "TE",
          "RB",
          "ILB",
          "C",
          "DE",
          "DE",
          "SS",
          "CB",
          "ILB",
          "TE",
          "CB",
          "TE",
          "CB",
          "DT",
          "DE",
          "RB",
          "DE",
          "OLB",
          "TE",
          "CB",
          "ILB",
          "WR",
          "DT",
          "CB",
          "DE",
          "CB",
          "C",
          "TE",
          "DE",
          "DT",
          "G",
          "RB",
          "WR",
          "DT",
          "OLB",
          "DE",
          "WR",
          "FS",
          "WR",
          "NT",
          "ILB",
          "RB",
          "T",
          "WR",
          "WR",
          "CB",
          "WR",
          "G",
          "C",
          "OLB",
          "WR",
          "T",
          "OLB",
          "DT",
          "WR",
          "CB",
          "C",
          "RB",
          "CB",
          "TE",
          "G",
          "FS",
          "CB",
          "WR",
          "RB",
          "G",
          "RB",
          "SS",
          "DT",
          "C",
          "CB",
          "RB",
          "TE",
          "CB",
          "OLB",
          "RB",
          "DE",
          "CB",
          "DT",
          "RB",
          "ILB",
          "WR",
          "RB",
          "ILB",
          "WR",
          "DT",
          "DT",
          "C",
          "CB",
          "FS",
          "CB",
          "OLB",
          "FS",
          "WR",
          "CB",
          "ILB",
          "C",
          "SS",
          "CB",
          "CB",
          "CB",
          "CB",
          "WR",
          "T",
          "SS",
          "CB",
          "T",
          "CB",
          "DE",
          "CB",
          "DE",
          "TE",
          "CB",
          "WR",
          "DT",
          "FS",
          "ILB",
          "ILB",
          "WR",
          "WR",
          "RB",
          "FB",
          "QB",
          "DE",
          "NT",
          "DE",
          "ILB",
          "QB",
          "OLB",
          "TE",
          "DT",
          "ILB",
          "T",
          "OLB",
          "DT",
          "G",
          "OLB",
          "DT",
          "C",
          "DT",
          "TE",
          "SS",
          "T",
          "T",
          "RB",
          "WR",
          "DE",
          "SS",
          "DT",
          "DE",
          "T",
          "WR",
          "CB",
          "CB",
          "T",
          "WR",
          "T",
          "G",
          "CB",
          "CB",
          "G",
          "ILB",
          "G",
          "CB",
          "FS",
          "C",
          "DE",
          "TE",
          "WR",
          "TE",
          "RB",
          "CB",
          "G",
          "WR",
          "DT",
          "WR",
          "FS",
          "FS",
          "WR",
          "FS",
          "WR",
          "DE",
          "WR",
          "TE",
          "RB",
          "DE",
          "OLB",
          "RB",
          "RB",
          "WR",
          "DE",
          "CB",
          "OLB",
          "SS",
          "G",
          "CB",
          "DT",
          "RB",
          "MLB",
          "ILB",
          "G",
          "T",
          "WR",
          "CB",
          "OLB",
          "TE",
          "G",
          "OLB",
          "FS",
          "T",
          "RB",
          "SS",
          "DE",
          "OLB",
          "SS",
          "RB",
          "FS",
          "OLB",
          "C",
          "TE",
          "G",
          "G",
          "RB",
          "ILB",
          "FS",
          "QB",
          "NT",
          "DT",
          "TE",
          "SS",
          "TE",
          "CB",
          "ILB",
          "WR",
          "OLB",
          "OLB",
          "OLB",
          "ILB",
          "CB",
          "DT",
          "DE",
          "OLB",
          "G",
          "WR",
          "ILB",
          "QB",
          "FS",
          "RB",
          "WR",
          "ILB",
          "NT",
          "SS",
          "DT",
          "G",
          "QB",
          "CB",
          "RB",
          "WR",
          "T",
          "SS",
          "G",
          "CB",
          "OLB",
          "TE",
          "OLB",
          "RB",
          "T",
          "SS",
          "OLB",
          "DE",
          "WR",
          "T",
          "OLB",
          "QB",
          "T",
          "TE",
          "WR",
          "OLB",
          "WR",
          "WR",
          "DT",
          "DE",
          "G",
          "C",
          "DE",
          "T",
          "NT",
          "FB",
          "G",
          "G",
          "LS",
          "FB",
          "C",
          "CB",
          "ILB",
          "ILB",
          "DT",
          "DE",
          "RB",
          "WR",
          "WR",
          "FS",
          "FS",
          "T",
          "TE",
          "OLB",
          "DE",
          "WR",
          "DE",
          "TE",
          "CB",
          "MLB",
          "G",
          "CB",
          "WR",
          "CB",
          "CB",
          "FS",
          "C",
          "G",
          "G",
          "ILB",
          "DT",
          "WR",
          "DE",
          "WR",
          "DT",
          "OLB",
          "WR",
          "DE",
          "WR",
          "TE",
          "SS",
          "MLB",
          "WR",
          "WR",
          "WR",
          "NT",
          "WR",
          "TE",
          "TE",
          "RB",
          "TE",
          "TE",
          "DT",
          "ILB",
          "ILB",
          "T",
          "WR",
          "FS",
          "CB",
          "QB",
          "CB",
          "T",
          "QB",
          "QB",
          "DE",
          "DB",
          "CB",
          "T",
          "T",
          "DT",
          "WR",
          "CB",
          "WR",
          "T",
          "OLB",
          "WR",
          "WR",
          "ILB",
          "G",
          "WR",
          "QB",
          "ILB",
          "ILB",
          "CB",
          "RB",
          "WR",
          "WR",
          "RB",
          "FS",
          "FS",
          "OLB",
          "G",
          "DT",
          "RB",
          "WR",
          "TE",
          "SS",
          "FS",
          "WR",
          "OLB",
          "WR",
          "CB",
          "CB",
          "RB",
          "QB",
          "DE",
          "RB",
          "NT",
          "WR",
          "G",
          "WR",
          "OLB",
          "CB",
          "RB",
          "OLB",
          "FS",
          "ILB",
          "RB",
          "OLB",
          "SS",
          "G",
          "SS",
          "DT",
          "G",
          "DT",
          "OLB",
          "G",
          "RB",
          "CB",
          "C",
          "WR",
          "WR",
          "DT",
          "C",
          "OLB",
          "FS",
          "RB",
          "OLB",
          "DT",
          "CB",
          "DE",
          "TE",
          "WR",
          "TE",
          "MLB",
          "OLB",
          "OLB",
          "FS",
          "TE",
          "T",
          "OLB",
          "T",
          "G",
          "CB",
          "RB",
          "DT",
          "TE",
          "G",
          "OLB",
          "TE",
          "ILB",
          "G",
          "QB",
          "T",
          "SS",
          "WR",
          "NT",
          "NT",
          "ILB",
          "TE",
          "FS",
          "G",
          "TE",
          "CB",
          "CB",
          "CB",
          "G",
          "RB",
          "T",
          "C",
          "G",
          "T",
          "OLB",
          "CB",
          "WR",
          "MLB",
          "CB",
          "WR",
          "DT",
          "WR",
          "DT",
          "WR",
          "DE",
          "G",
          "G",
          "DT",
          "SS",
          "WR",
          "TE",
          "G",
          "T",
          "SS",
          "WR",
          "WR",
          "T",
          "SS",
          "TE",
          "WR",
          "C",
          "T",
          "CB",
          "WR",
          "ILB",
          "SS",
          "WR",
          "SS",
          "RB",
          "DE",
          "DT",
          "DE",
          "CB",
          "OLB",
          "CB",
          "T",
          "TE",
          "WR",
          "OLB",
          "ILB",
          "DT",
          "T",
          "TE",
          "CB",
          "ILB",
          "RB",
          "WR",
          "TE",
          "RB",
          "DT",
          "DT",
          "RB",
          "CB",
          "WR",
          "WR",
          "DT",
          "OLB",
          "DT",
          "ILB",
          "DT",
          "DE",
          "FS",
          "TE",
          "ILB",
          "DE",
          "C",
          "CB",
          "TE",
          "FS",
          "RB",
          "OLB",
          "TE",
          "T",
          "TE",
          "CB",
          "DE",
          "OLB",
          "FS",
          "CB",
          "RB",
          "G",
          "CB",
          "G",
          "RB",
          "TE",
          "DT",
          "CB",
          "DE",
          "CB",
          "ILB",
          "G",
          "WR",
          "DT",
          "WR",
          "FB",
          "G",
          "WR",
          "WR",
          "WR",
          "OLB",
          "QB",
          "QB",
          "QB",
          "TE",
          "WR",
          "WR",
          "T",
          "CB",
          "CB",
          "WR",
          "QB",
          "OLB",
          "T",
          "G",
          "QB",
          "OLB",
          "OLB",
          "OLB",
          "WR",
          "DE",
          "CB",
          "T",
          "RB",
          "RB",
          "CB",
          "WR",
          "DE",
          "CB",
          "DE",
          "OLB",
          "OLB",
          "CB",
          "WR",
          "RB",
          "FS",
          "G",
          "DT",
          "T",
          "SS",
          "T",
          "FS",
          "CB",
          "T",
          "CB",
          "G",
          "WR",
          "OLB",
          "T",
          "OLB",
          "T",
          "DE",
          "TE",
          "WR",
          "WR",
          "ILB",
          "WR",
          "OLB",
          "DE",
          "C",
          "C",
          "SS",
          "QB",
          "DE",
          "T",
          "CB",
          "NT",
          "DT",
          "CB",
          "DT",
          "CB",
          "WR",
          "DE",
          "OLB",
          "TE",
          "WR",
          "TE",
          "DE",
          "WR",
          "G",
          "RB",
          "WR",
          "OLB",
          "WR",
          "ILB",
          "T",
          "C",
          "TE",
          "G",
          "CB",
          "CB",
          "ILB",
          "FS",
          "ILB",
          "DT",
          "RB",
          "CB",
          "WR",
          "T",
          "DE",
          "WR",
          "ILB",
          "C",
          "OLB",
          "OLB",
          "RB",
          "NT",
          "CB",
          "TE",
          "FS",
          "RB",
          "TE",
          "T",
          "WR",
          "CB",
          "WR",
          "DT",
          "OLB",
          "CB",
          "G",
          "WR",
          "T",
          "TE",
          "ILB",
          "TE",
          "DE",
          "RB",
          "T",
          "FS",
          "OLB",
          "CB",
          "T",
          "DE",
          "WR",
          "DT",
          "G",
          "CB",
          "T",
          "TE",
          "SS",
          "CB",
          "CB",
          "OLB",
          "CB",
          "DT",
          "FS",
          "CB",
          "WR",
          "SS",
          "OLB",
          "RB",
          "ILB",
          "WR",
          "FS",
          "DT",
          "C",
          "DE",
          "DT",
          "RB",
          "DT",
          "RB",
          "CB",
          "RB",
          "WR",
          "T",
          "WR",
          "OLB",
          "RB",
          "SS",
          "CB",
          "G",
          "OLB",
          "RB",
          "QB",
          "ILB",
          "G",
          "SS",
          "WR",
          "DT",
          "RB",
          "ILB",
          "G",
          "G",
          "OLB",
          "DE",
          "FS",
          "DE",
          "G",
          "WR",
          "NT",
          "RB",
          "WR",
          "RB",
          "WR",
          "DT",
          "TE",
          "OLB",
          "T",
          "WR",
          "TE",
          "RB",
          "FS",
          "CB",
          "TE",
          "G",
          "T",
          "CB",
          "DE",
          "DT",
          "FB",
          "TE",
          "DT",
          "FB",
          "T",
          "TE",
          "CB",
          "CB",
          "TE",
          "CB",
          "T",
          "TE",
          "RB",
          "OLB",
          "WR",
          "OLB",
          "DE",
          "CB",
          "CB",
          "OLB",
          "T",
          "T",
          "WR",
          "T",
          "WR",
          "WR",
          "DT",
          "FS",
          "G",
          "WR",
          "G",
          "WR",
          "QB",
          "CB",
          "ILB",
          "CB",
          "T",
          "C",
          "DE",
          "ILB",
          "DT",
          "G",
          "DE",
          "FS",
          "FS",
          "DE",
          "WR",
          "CB",
          "RB",
          "FS",
          "OLB",
          "CB",
          "OLB",
          "RB",
          "WR",
          "DT",
          "DT",
          "SS",
          "CB",
          "WR",
          "C",
          "WR",
          "WR",
          "WR",
          "TE",
          "DE",
          "G",
          "ILB",
          "G",
          "CB",
          "DE",
          "SS",
          "RB",
          "OLB",
          "C",
          "ILB",
          "G",
          "CB",
          "T",
          "ILB",
          "WR",
          "T",
          "TE",
          "ILB",
          "DT",
          "T",
          "DE",
          "TE",
          "CB",
          "OLB",
          "ILB",
          "DE",
          "CB",
          "QB",
          "OLB",
          "WR",
          "OLB",
          "G",
          "RB",
          "RB",
          "DT",
          "SS",
          "SS",
          "RB",
          "WR",
          "OLB",
          "TE",
          "ILB",
          "OLB",
          "WR",
          "TE",
          "RB",
          "DT",
          "CB",
          "T",
          "T",
          "TE",
          "FS",
          "FS",
          "CB",
          "DE",
          "DE",
          "CB",
          "CB",
          "ILB",
          "CB",
          "RB",
          "RB",
          "DT",
          "RB",
          "TE",
          "RB",
          "WR",
          "G",
          "CB",
          "G",
          "QB",
          "TE",
          "T",
          "CB",
          "CB",
          "TE",
          "ILB",
          "DT",
          "WR",
          "TE",
          "DT",
          "RB",
          "CB",
          "RB",
          "CB",
          "DT",
          "DT",
          "WR",
          "WR",
          "CB",
          "T",
          "TE",
          "C",
          "CB",
          "DE",
          "DT",
          "ILB",
          "TE",
          "DT",
          "OLB",
          "OLB",
          "RB",
          "CB",
          "ILB",
          "OLB",
          "WR",
          "G",
          "TE",
          "DT",
          "RB",
          "WR",
          "RB",
          "DE",
          "TE",
          "CB",
          "C",
          "TE",
          "CB",
          "CB",
          "DE",
          "OLB",
          "WR",
          "CB",
          "T",
          "FS",
          "CB",
          "CB",
          "CB",
          "QB",
          "RB",
          "DE",
          "FS",
          "OLB",
          "WR",
          "RB",
          "QB",
          "NT",
          "OLB",
          "OLB",
          "CB",
          "ILB",
          "TE",
          "WR",
          "DE",
          "FS",
          "TE",
          "WR",
          "DE",
          "RB",
          "FS",
          "WR",
          "CB",
          "SS",
          "WR",
          "DT",
          "NT",
          "OLB",
          "CB",
          "RB",
          "DE",
          "DT",
          "OLB",
          "FB",
          "OLB",
          "DT",
          "WR",
          "OLB",
          "CB",
          "OLB",
          "RB",
          "G",
          "WR",
          "RB",
          "FS",
          "RB",
          "TE",
          "WR",
          "WR",
          "DT",
          "ILB",
          "CB",
          "DE",
          "DT",
          "ILB",
          "DT",
          "CB",
          "DT"
         ],
         "xaxis": "x",
         "yaxis": "y"
        }
       ],
       "layout": {
        "barmode": "relative",
        "legend": {
         "tracegroupgap": 0
        },
        "template": {
         "data": {
          "bar": [
           {
            "error_x": {
             "color": "#2a3f5f"
            },
            "error_y": {
             "color": "#2a3f5f"
            },
            "marker": {
             "line": {
              "color": "#E5ECF6",
              "width": 0.5
             },
             "pattern": {
              "fillmode": "overlay",
              "size": 10,
              "solidity": 0.2
             }
            },
            "type": "bar"
           }
          ],
          "barpolar": [
           {
            "marker": {
             "line": {
              "color": "#E5ECF6",
              "width": 0.5
             },
             "pattern": {
              "fillmode": "overlay",
              "size": 10,
              "solidity": 0.2
             }
            },
            "type": "barpolar"
           }
          ],
          "carpet": [
           {
            "aaxis": {
             "endlinecolor": "#2a3f5f",
             "gridcolor": "white",
             "linecolor": "white",
             "minorgridcolor": "white",
             "startlinecolor": "#2a3f5f"
            },
            "baxis": {
             "endlinecolor": "#2a3f5f",
             "gridcolor": "white",
             "linecolor": "white",
             "minorgridcolor": "white",
             "startlinecolor": "#2a3f5f"
            },
            "type": "carpet"
           }
          ],
          "choropleth": [
           {
            "colorbar": {
             "outlinewidth": 0,
             "ticks": ""
            },
            "type": "choropleth"
           }
          ],
          "contour": [
           {
            "colorbar": {
             "outlinewidth": 0,
             "ticks": ""
            },
            "colorscale": [
             [
              0,
              "#0d0887"
             ],
             [
              0.1111111111111111,
              "#46039f"
             ],
             [
              0.2222222222222222,
              "#7201a8"
             ],
             [
              0.3333333333333333,
              "#9c179e"
             ],
             [
              0.4444444444444444,
              "#bd3786"
             ],
             [
              0.5555555555555556,
              "#d8576b"
             ],
             [
              0.6666666666666666,
              "#ed7953"
             ],
             [
              0.7777777777777778,
              "#fb9f3a"
             ],
             [
              0.8888888888888888,
              "#fdca26"
             ],
             [
              1,
              "#f0f921"
             ]
            ],
            "type": "contour"
           }
          ],
          "contourcarpet": [
           {
            "colorbar": {
             "outlinewidth": 0,
             "ticks": ""
            },
            "type": "contourcarpet"
           }
          ],
          "heatmap": [
           {
            "colorbar": {
             "outlinewidth": 0,
             "ticks": ""
            },
            "colorscale": [
             [
              0,
              "#0d0887"
             ],
             [
              0.1111111111111111,
              "#46039f"
             ],
             [
              0.2222222222222222,
              "#7201a8"
             ],
             [
              0.3333333333333333,
              "#9c179e"
             ],
             [
              0.4444444444444444,
              "#bd3786"
             ],
             [
              0.5555555555555556,
              "#d8576b"
             ],
             [
              0.6666666666666666,
              "#ed7953"
             ],
             [
              0.7777777777777778,
              "#fb9f3a"
             ],
             [
              0.8888888888888888,
              "#fdca26"
             ],
             [
              1,
              "#f0f921"
             ]
            ],
            "type": "heatmap"
           }
          ],
          "heatmapgl": [
           {
            "colorbar": {
             "outlinewidth": 0,
             "ticks": ""
            },
            "colorscale": [
             [
              0,
              "#0d0887"
             ],
             [
              0.1111111111111111,
              "#46039f"
             ],
             [
              0.2222222222222222,
              "#7201a8"
             ],
             [
              0.3333333333333333,
              "#9c179e"
             ],
             [
              0.4444444444444444,
              "#bd3786"
             ],
             [
              0.5555555555555556,
              "#d8576b"
             ],
             [
              0.6666666666666666,
              "#ed7953"
             ],
             [
              0.7777777777777778,
              "#fb9f3a"
             ],
             [
              0.8888888888888888,
              "#fdca26"
             ],
             [
              1,
              "#f0f921"
             ]
            ],
            "type": "heatmapgl"
           }
          ],
          "histogram": [
           {
            "marker": {
             "pattern": {
              "fillmode": "overlay",
              "size": 10,
              "solidity": 0.2
             }
            },
            "type": "histogram"
           }
          ],
          "histogram2d": [
           {
            "colorbar": {
             "outlinewidth": 0,
             "ticks": ""
            },
            "colorscale": [
             [
              0,
              "#0d0887"
             ],
             [
              0.1111111111111111,
              "#46039f"
             ],
             [
              0.2222222222222222,
              "#7201a8"
             ],
             [
              0.3333333333333333,
              "#9c179e"
             ],
             [
              0.4444444444444444,
              "#bd3786"
             ],
             [
              0.5555555555555556,
              "#d8576b"
             ],
             [
              0.6666666666666666,
              "#ed7953"
             ],
             [
              0.7777777777777778,
              "#fb9f3a"
             ],
             [
              0.8888888888888888,
              "#fdca26"
             ],
             [
              1,
              "#f0f921"
             ]
            ],
            "type": "histogram2d"
           }
          ],
          "histogram2dcontour": [
           {
            "colorbar": {
             "outlinewidth": 0,
             "ticks": ""
            },
            "colorscale": [
             [
              0,
              "#0d0887"
             ],
             [
              0.1111111111111111,
              "#46039f"
             ],
             [
              0.2222222222222222,
              "#7201a8"
             ],
             [
              0.3333333333333333,
              "#9c179e"
             ],
             [
              0.4444444444444444,
              "#bd3786"
             ],
             [
              0.5555555555555556,
              "#d8576b"
             ],
             [
              0.6666666666666666,
              "#ed7953"
             ],
             [
              0.7777777777777778,
              "#fb9f3a"
             ],
             [
              0.8888888888888888,
              "#fdca26"
             ],
             [
              1,
              "#f0f921"
             ]
            ],
            "type": "histogram2dcontour"
           }
          ],
          "mesh3d": [
           {
            "colorbar": {
             "outlinewidth": 0,
             "ticks": ""
            },
            "type": "mesh3d"
           }
          ],
          "parcoords": [
           {
            "line": {
             "colorbar": {
              "outlinewidth": 0,
              "ticks": ""
             }
            },
            "type": "parcoords"
           }
          ],
          "pie": [
           {
            "automargin": true,
            "type": "pie"
           }
          ],
          "scatter": [
           {
            "fillpattern": {
             "fillmode": "overlay",
             "size": 10,
             "solidity": 0.2
            },
            "type": "scatter"
           }
          ],
          "scatter3d": [
           {
            "line": {
             "colorbar": {
              "outlinewidth": 0,
              "ticks": ""
             }
            },
            "marker": {
             "colorbar": {
              "outlinewidth": 0,
              "ticks": ""
             }
            },
            "type": "scatter3d"
           }
          ],
          "scattercarpet": [
           {
            "marker": {
             "colorbar": {
              "outlinewidth": 0,
              "ticks": ""
             }
            },
            "type": "scattercarpet"
           }
          ],
          "scattergeo": [
           {
            "marker": {
             "colorbar": {
              "outlinewidth": 0,
              "ticks": ""
             }
            },
            "type": "scattergeo"
           }
          ],
          "scattergl": [
           {
            "marker": {
             "colorbar": {
              "outlinewidth": 0,
              "ticks": ""
             }
            },
            "type": "scattergl"
           }
          ],
          "scattermapbox": [
           {
            "marker": {
             "colorbar": {
              "outlinewidth": 0,
              "ticks": ""
             }
            },
            "type": "scattermapbox"
           }
          ],
          "scatterpolar": [
           {
            "marker": {
             "colorbar": {
              "outlinewidth": 0,
              "ticks": ""
             }
            },
            "type": "scatterpolar"
           }
          ],
          "scatterpolargl": [
           {
            "marker": {
             "colorbar": {
              "outlinewidth": 0,
              "ticks": ""
             }
            },
            "type": "scatterpolargl"
           }
          ],
          "scatterternary": [
           {
            "marker": {
             "colorbar": {
              "outlinewidth": 0,
              "ticks": ""
             }
            },
            "type": "scatterternary"
           }
          ],
          "surface": [
           {
            "colorbar": {
             "outlinewidth": 0,
             "ticks": ""
            },
            "colorscale": [
             [
              0,
              "#0d0887"
             ],
             [
              0.1111111111111111,
              "#46039f"
             ],
             [
              0.2222222222222222,
              "#7201a8"
             ],
             [
              0.3333333333333333,
              "#9c179e"
             ],
             [
              0.4444444444444444,
              "#bd3786"
             ],
             [
              0.5555555555555556,
              "#d8576b"
             ],
             [
              0.6666666666666666,
              "#ed7953"
             ],
             [
              0.7777777777777778,
              "#fb9f3a"
             ],
             [
              0.8888888888888888,
              "#fdca26"
             ],
             [
              1,
              "#f0f921"
             ]
            ],
            "type": "surface"
           }
          ],
          "table": [
           {
            "cells": {
             "fill": {
              "color": "#EBF0F8"
             },
             "line": {
              "color": "white"
             }
            },
            "header": {
             "fill": {
              "color": "#C8D4E3"
             },
             "line": {
              "color": "white"
             }
            },
            "type": "table"
           }
          ]
         },
         "layout": {
          "annotationdefaults": {
           "arrowcolor": "#2a3f5f",
           "arrowhead": 0,
           "arrowwidth": 1
          },
          "autotypenumbers": "strict",
          "coloraxis": {
           "colorbar": {
            "outlinewidth": 0,
            "ticks": ""
           }
          },
          "colorscale": {
           "diverging": [
            [
             0,
             "#8e0152"
            ],
            [
             0.1,
             "#c51b7d"
            ],
            [
             0.2,
             "#de77ae"
            ],
            [
             0.3,
             "#f1b6da"
            ],
            [
             0.4,
             "#fde0ef"
            ],
            [
             0.5,
             "#f7f7f7"
            ],
            [
             0.6,
             "#e6f5d0"
            ],
            [
             0.7,
             "#b8e186"
            ],
            [
             0.8,
             "#7fbc41"
            ],
            [
             0.9,
             "#4d9221"
            ],
            [
             1,
             "#276419"
            ]
           ],
           "sequential": [
            [
             0,
             "#0d0887"
            ],
            [
             0.1111111111111111,
             "#46039f"
            ],
            [
             0.2222222222222222,
             "#7201a8"
            ],
            [
             0.3333333333333333,
             "#9c179e"
            ],
            [
             0.4444444444444444,
             "#bd3786"
            ],
            [
             0.5555555555555556,
             "#d8576b"
            ],
            [
             0.6666666666666666,
             "#ed7953"
            ],
            [
             0.7777777777777778,
             "#fb9f3a"
            ],
            [
             0.8888888888888888,
             "#fdca26"
            ],
            [
             1,
             "#f0f921"
            ]
           ],
           "sequentialminus": [
            [
             0,
             "#0d0887"
            ],
            [
             0.1111111111111111,
             "#46039f"
            ],
            [
             0.2222222222222222,
             "#7201a8"
            ],
            [
             0.3333333333333333,
             "#9c179e"
            ],
            [
             0.4444444444444444,
             "#bd3786"
            ],
            [
             0.5555555555555556,
             "#d8576b"
            ],
            [
             0.6666666666666666,
             "#ed7953"
            ],
            [
             0.7777777777777778,
             "#fb9f3a"
            ],
            [
             0.8888888888888888,
             "#fdca26"
            ],
            [
             1,
             "#f0f921"
            ]
           ]
          },
          "colorway": [
           "#636efa",
           "#EF553B",
           "#00cc96",
           "#ab63fa",
           "#FFA15A",
           "#19d3f3",
           "#FF6692",
           "#B6E880",
           "#FF97FF",
           "#FECB52"
          ],
          "font": {
           "color": "#2a3f5f"
          },
          "geo": {
           "bgcolor": "white",
           "lakecolor": "white",
           "landcolor": "#E5ECF6",
           "showlakes": true,
           "showland": true,
           "subunitcolor": "white"
          },
          "hoverlabel": {
           "align": "left"
          },
          "hovermode": "closest",
          "mapbox": {
           "style": "light"
          },
          "paper_bgcolor": "white",
          "plot_bgcolor": "#E5ECF6",
          "polar": {
           "angularaxis": {
            "gridcolor": "white",
            "linecolor": "white",
            "ticks": ""
           },
           "bgcolor": "#E5ECF6",
           "radialaxis": {
            "gridcolor": "white",
            "linecolor": "white",
            "ticks": ""
           }
          },
          "scene": {
           "xaxis": {
            "backgroundcolor": "#E5ECF6",
            "gridcolor": "white",
            "gridwidth": 2,
            "linecolor": "white",
            "showbackground": true,
            "ticks": "",
            "zerolinecolor": "white"
           },
           "yaxis": {
            "backgroundcolor": "#E5ECF6",
            "gridcolor": "white",
            "gridwidth": 2,
            "linecolor": "white",
            "showbackground": true,
            "ticks": "",
            "zerolinecolor": "white"
           },
           "zaxis": {
            "backgroundcolor": "#E5ECF6",
            "gridcolor": "white",
            "gridwidth": 2,
            "linecolor": "white",
            "showbackground": true,
            "ticks": "",
            "zerolinecolor": "white"
           }
          },
          "shapedefaults": {
           "line": {
            "color": "#2a3f5f"
           }
          },
          "ternary": {
           "aaxis": {
            "gridcolor": "white",
            "linecolor": "white",
            "ticks": ""
           },
           "baxis": {
            "gridcolor": "white",
            "linecolor": "white",
            "ticks": ""
           },
           "bgcolor": "#E5ECF6",
           "caxis": {
            "gridcolor": "white",
            "linecolor": "white",
            "ticks": ""
           }
          },
          "title": {
           "x": 0.05
          },
          "xaxis": {
           "automargin": true,
           "gridcolor": "white",
           "linecolor": "white",
           "ticks": "",
           "title": {
            "standoff": 15
           },
           "zerolinecolor": "white",
           "zerolinewidth": 2
          },
          "yaxis": {
           "automargin": true,
           "gridcolor": "white",
           "linecolor": "white",
           "ticks": "",
           "title": {
            "standoff": 15
           },
           "zerolinecolor": "white",
           "zerolinewidth": 2
          }
         }
        },
        "title": {
         "text": "Player Position Distribution"
        },
        "xaxis": {
         "anchor": "y",
         "domain": [
          0,
          1
         ],
         "title": {
          "text": "Position"
         }
        },
        "yaxis": {
         "anchor": "x",
         "domain": [
          0,
          1
         ],
         "title": {
          "text": "count"
         }
        }
       }
      }
     },
     "metadata": {},
     "output_type": "display_data"
    }
   ],
   "source": [
    "# 创建直方图不同位置的球员数量\n",
    "fig_position = px.histogram(players_data, x='position', title='Player Position Distribution')\n",
    "fig_position.update_xaxes(title='Position')\n",
    "fig_position.show()"
   ]
  },
  {
   "cell_type": "code",
   "execution_count": 27,
   "metadata": {},
   "outputs": [
    {
     "data": {
      "application/vnd.plotly.v1+json": {
       "config": {
        "plotlyServerURL": "https://plot.ly"
       },
       "data": [
        {
         "alignmentgroup": "True",
         "hovertemplate": "position=%{x}<br>weight=%{y}<extra></extra>",
         "legendgroup": "",
         "marker": {
          "color": "#636efa"
         },
         "name": "",
         "notched": false,
         "offsetgroup": "",
         "orientation": "v",
         "showlegend": false,
         "type": "box",
         "x": [
          "QB",
          "T",
          "QB",
          "TE",
          "QB",
          "QB",
          "T",
          "WR",
          "DE",
          "QB",
          "QB",
          "QB",
          "QB",
          "T",
          "NT",
          "DE",
          "DE",
          "SS",
          "FS",
          "DE",
          "G",
          "OLB",
          "DT",
          "NT",
          "T",
          "OLB",
          "WR",
          "CB",
          "WR",
          "DE",
          "OLB",
          "DE",
          "RB",
          "DT",
          "QB",
          "TE",
          "C",
          "WR",
          "OLB",
          "T",
          "QB",
          "C",
          "DT",
          "CB",
          "ILB",
          "ILB",
          "DE",
          "QB",
          "CB",
          "DT",
          "DE",
          "OLB",
          "OLB",
          "DE",
          "T",
          "G",
          "SS",
          "ILB",
          "ILB",
          "DE",
          "CB",
          "QB",
          "MLB",
          "QB",
          "DT",
          "C",
          "QB",
          "T",
          "WR",
          "FS",
          "T",
          "FS",
          "SS",
          "FS",
          "QB",
          "WR",
          "RB",
          "WR",
          "G",
          "FS",
          "FS",
          "T",
          "G",
          "WR",
          "RB",
          "TE",
          "CB",
          "QB",
          "WR",
          "NT",
          "OLB",
          "OLB",
          "TE",
          "FS",
          "T",
          "WR",
          "WR",
          "NT",
          "FS",
          "SS",
          "DT",
          "T",
          "DE",
          "FB",
          "G",
          "OLB",
          "OLB",
          "FS",
          "G",
          "RB",
          "RB",
          "TE",
          "SS",
          "DT",
          "NT",
          "OLB",
          "WR",
          "CB",
          "SS",
          "C",
          "DE",
          "WR",
          "OLB",
          "T",
          "WR",
          "OLB",
          "T",
          "DT",
          "CB",
          "G",
          "ILB",
          "T",
          "WR",
          "FS",
          "CB",
          "QB",
          "DE",
          "G",
          "QB",
          "OLB",
          "SS",
          "OLB",
          "WR",
          "WR",
          "QB",
          "WR",
          "C",
          "T",
          "T",
          "OLB",
          "G",
          "G",
          "G",
          "RB",
          "TE",
          "DT",
          "DT",
          "TE",
          "CB",
          "OLB",
          "DE",
          "T",
          "C",
          "OLB",
          "DE",
          "T",
          "CB",
          "WR",
          "T",
          "T",
          "NT",
          "ILB",
          "C",
          "G",
          "T",
          "C",
          "RB",
          "DE",
          "FB",
          "OLB",
          "G",
          "ILB",
          "G",
          "CB",
          "DE",
          "TE",
          "SS",
          "TE",
          "DE",
          "QB",
          "QB",
          "OLB",
          "WR",
          "G",
          "DT",
          "WR",
          "G",
          "WR",
          "RB",
          "DT",
          "CB",
          "T",
          "WR",
          "T",
          "OLB",
          "T",
          "ILB",
          "WR",
          "G",
          "WR",
          "SS",
          "T",
          "DT",
          "OLB",
          "ILB",
          "SS",
          "ILB",
          "C",
          "CB",
          "DE",
          "RB",
          "TE",
          "T",
          "OLB",
          "DE",
          "DE",
          "G",
          "WR",
          "RB",
          "WR",
          "CB",
          "ILB",
          "TE",
          "OLB",
          "NT",
          "DE",
          "WR",
          "CB",
          "DT",
          "OLB",
          "WR",
          "OLB",
          "OLB",
          "RB",
          "MLB",
          "C",
          "G",
          "G",
          "G",
          "DT",
          "FS",
          "TE",
          "FS",
          "WR",
          "TE",
          "TE",
          "FB",
          "MLB",
          "TE",
          "FS",
          "TE",
          "DT",
          "NT",
          "NT",
          "T",
          "T",
          "TE",
          "QB",
          "T",
          "RB",
          "TE",
          "ILB",
          "WR",
          "CB",
          "WR",
          "DT",
          "CB",
          "QB",
          "RB",
          "C",
          "WR",
          "SS",
          "OLB",
          "CB",
          "C",
          "DT",
          "QB",
          "QB",
          "OLB",
          "RB",
          "CB",
          "T",
          "DT",
          "T",
          "DE",
          "CB",
          "DT",
          "T",
          "T",
          "FS",
          "C",
          "DE",
          "CB",
          "CB",
          "NT",
          "DE",
          "MLB",
          "TE",
          "ILB",
          "DT",
          "CB",
          "WR",
          "NT",
          "OLB",
          "RB",
          "DT",
          "WR",
          "DT",
          "C",
          "ILB",
          "WR",
          "G",
          "SS",
          "CB",
          "DE",
          "FS",
          "OLB",
          "DT",
          "DE",
          "DE",
          "RB",
          "CB",
          "G",
          "G",
          "TE",
          "CB",
          "ILB",
          "DT",
          "QB",
          "TE",
          "G",
          "FS",
          "ILB",
          "FS",
          "WR",
          "TE",
          "SS",
          "ILB",
          "DT",
          "SS",
          "DT",
          "DT",
          "SS",
          "WR",
          "ILB",
          "QB",
          "DE",
          "C",
          "OLB",
          "DE",
          "RB",
          "DT",
          "T",
          "RB",
          "T",
          "WR",
          "NT",
          "WR",
          "FS",
          "CB",
          "G",
          "FB",
          "QB",
          "WR",
          "QB",
          "ILB",
          "ILB",
          "FS",
          "C",
          "CB",
          "RB",
          "FS",
          "SS",
          "C",
          "WR",
          "T",
          "FS",
          "CB",
          "NT",
          "CB",
          "RB",
          "SS",
          "DT",
          "DT",
          "DE",
          "OLB",
          "WR",
          "C",
          "TE",
          "DT",
          "FB",
          "CB",
          "WR",
          "TE",
          "G",
          "ILB",
          "TE",
          "DE",
          "QB",
          "DT",
          "RB",
          "WR",
          "SS",
          "WR",
          "RB",
          "QB",
          "CB",
          "OLB",
          "DE",
          "FS",
          "CB",
          "DT",
          "CB",
          "TE",
          "T",
          "OLB",
          "TE",
          "SS",
          "DE",
          "TE",
          "OLB",
          "T",
          "T",
          "SS",
          "WR",
          "FS",
          "WR",
          "RB",
          "FS",
          "CB",
          "TE",
          "CB",
          "OLB",
          "RB",
          "OLB",
          "SS",
          "DE",
          "ILB",
          "DT",
          "ILB",
          "C",
          "DE",
          "CB",
          "FS",
          "WR",
          "T",
          "T",
          "DT",
          "CB",
          "RB",
          "DE",
          "WR",
          "C",
          "DE",
          "ILB",
          "ILB",
          "DE",
          "CB",
          "WR",
          "RB",
          "RB",
          "CB",
          "FS",
          "CB",
          "NT",
          "CB",
          "WR",
          "CB",
          "TE",
          "DE",
          "RB",
          "DT",
          "SS",
          "SS",
          "RB",
          "DE",
          "WR",
          "WR",
          "OLB",
          "DE",
          "DE",
          "RB",
          "C",
          "DE",
          "DT",
          "TE",
          "CB",
          "OLB",
          "G",
          "MLB",
          "OLB",
          "WR",
          "WR",
          "TE",
          "WR",
          "NT",
          "RB",
          "SS",
          "FS",
          "RB",
          "ILB",
          "DE",
          "DT",
          "C",
          "SS",
          "T",
          "C",
          "DE",
          "DE",
          "OLB",
          "WR",
          "G",
          "DE",
          "TE",
          "C",
          "TE",
          "WR",
          "QB",
          "WR",
          "RB",
          "QB",
          "DE",
          "OLB",
          "TE",
          "NT",
          "TE",
          "FB",
          "WR",
          "TE",
          "CB",
          "TE",
          "OLB",
          "ILB",
          "TE",
          "WR",
          "CB",
          "WR",
          "ILB",
          "QB",
          "T",
          "WR",
          "CB",
          "RB",
          "T",
          "TE",
          "ILB",
          "G",
          "RB",
          "T",
          "TE",
          "G",
          "WR",
          "QB",
          "RB",
          "CB",
          "OLB",
          "G",
          "QB",
          "ILB",
          "T",
          "FS",
          "NT",
          "DT",
          "DE",
          "T",
          "ILB",
          "FS",
          "CB",
          "OLB",
          "C",
          "C",
          "ILB",
          "T",
          "WR",
          "TE",
          "RB",
          "SS",
          "DT",
          "CB",
          "RB",
          "QB",
          "G",
          "G",
          "RB",
          "MLB",
          "T",
          "G",
          "WR",
          "TE",
          "WR",
          "CB",
          "WR",
          "OLB",
          "TE",
          "G",
          "DE",
          "SS",
          "FS",
          "CB",
          "CB",
          "WR",
          "T",
          "CB",
          "DE",
          "OLB",
          "SS",
          "DT",
          "ILB",
          "DT",
          "ILB",
          "T",
          "DT",
          "DE",
          "DE",
          "WR",
          "FS",
          "T",
          "DT",
          "TE",
          "OLB",
          "OLB",
          "T",
          "DT",
          "WR",
          "T",
          "SS",
          "G",
          "SS",
          "DT",
          "C",
          "TE",
          "CB",
          "TE",
          "RB",
          "ILB",
          "C",
          "DE",
          "DE",
          "SS",
          "CB",
          "ILB",
          "TE",
          "CB",
          "TE",
          "CB",
          "DT",
          "DE",
          "RB",
          "DE",
          "OLB",
          "TE",
          "CB",
          "ILB",
          "WR",
          "DT",
          "CB",
          "DE",
          "CB",
          "C",
          "TE",
          "DE",
          "DT",
          "G",
          "RB",
          "WR",
          "DT",
          "OLB",
          "DE",
          "WR",
          "FS",
          "WR",
          "NT",
          "ILB",
          "RB",
          "T",
          "WR",
          "WR",
          "CB",
          "WR",
          "G",
          "C",
          "OLB",
          "WR",
          "T",
          "OLB",
          "DT",
          "WR",
          "CB",
          "C",
          "RB",
          "CB",
          "TE",
          "G",
          "FS",
          "CB",
          "WR",
          "RB",
          "G",
          "RB",
          "SS",
          "DT",
          "C",
          "CB",
          "RB",
          "TE",
          "CB",
          "OLB",
          "RB",
          "DE",
          "CB",
          "DT",
          "RB",
          "ILB",
          "WR",
          "RB",
          "ILB",
          "WR",
          "DT",
          "DT",
          "C",
          "CB",
          "FS",
          "CB",
          "OLB",
          "FS",
          "WR",
          "CB",
          "ILB",
          "C",
          "SS",
          "CB",
          "CB",
          "CB",
          "CB",
          "WR",
          "T",
          "SS",
          "CB",
          "T",
          "CB",
          "DE",
          "CB",
          "DE",
          "TE",
          "CB",
          "WR",
          "DT",
          "FS",
          "ILB",
          "ILB",
          "WR",
          "WR",
          "RB",
          "FB",
          "QB",
          "DE",
          "NT",
          "DE",
          "ILB",
          "QB",
          "OLB",
          "TE",
          "DT",
          "ILB",
          "T",
          "OLB",
          "DT",
          "G",
          "OLB",
          "DT",
          "C",
          "DT",
          "TE",
          "SS",
          "T",
          "T",
          "RB",
          "WR",
          "DE",
          "SS",
          "DT",
          "DE",
          "T",
          "WR",
          "CB",
          "CB",
          "T",
          "WR",
          "T",
          "G",
          "CB",
          "CB",
          "G",
          "ILB",
          "G",
          "CB",
          "FS",
          "C",
          "DE",
          "TE",
          "WR",
          "TE",
          "RB",
          "CB",
          "G",
          "WR",
          "DT",
          "WR",
          "FS",
          "FS",
          "WR",
          "FS",
          "WR",
          "DE",
          "WR",
          "TE",
          "RB",
          "DE",
          "OLB",
          "RB",
          "RB",
          "WR",
          "DE",
          "CB",
          "OLB",
          "SS",
          "G",
          "CB",
          "DT",
          "RB",
          "MLB",
          "ILB",
          "G",
          "T",
          "WR",
          "CB",
          "OLB",
          "TE",
          "G",
          "OLB",
          "FS",
          "T",
          "RB",
          "SS",
          "DE",
          "OLB",
          "SS",
          "RB",
          "FS",
          "OLB",
          "C",
          "TE",
          "G",
          "G",
          "RB",
          "ILB",
          "FS",
          "QB",
          "NT",
          "DT",
          "TE",
          "SS",
          "TE",
          "CB",
          "ILB",
          "WR",
          "OLB",
          "OLB",
          "OLB",
          "ILB",
          "CB",
          "DT",
          "DE",
          "OLB",
          "G",
          "WR",
          "ILB",
          "QB",
          "FS",
          "RB",
          "WR",
          "ILB",
          "NT",
          "SS",
          "DT",
          "G",
          "QB",
          "CB",
          "RB",
          "WR",
          "T",
          "SS",
          "G",
          "CB",
          "OLB",
          "TE",
          "OLB",
          "RB",
          "T",
          "SS",
          "OLB",
          "DE",
          "WR",
          "T",
          "OLB",
          "QB",
          "T",
          "TE",
          "WR",
          "OLB",
          "WR",
          "WR",
          "DT",
          "DE",
          "G",
          "C",
          "DE",
          "T",
          "NT",
          "FB",
          "G",
          "G",
          "LS",
          "FB",
          "C",
          "CB",
          "ILB",
          "ILB",
          "DT",
          "DE",
          "RB",
          "WR",
          "WR",
          "FS",
          "FS",
          "T",
          "TE",
          "OLB",
          "DE",
          "WR",
          "DE",
          "TE",
          "CB",
          "MLB",
          "G",
          "CB",
          "WR",
          "CB",
          "CB",
          "FS",
          "C",
          "G",
          "G",
          "ILB",
          "DT",
          "WR",
          "DE",
          "WR",
          "DT",
          "OLB",
          "WR",
          "DE",
          "WR",
          "TE",
          "SS",
          "MLB",
          "WR",
          "WR",
          "WR",
          "NT",
          "WR",
          "TE",
          "TE",
          "RB",
          "TE",
          "TE",
          "DT",
          "ILB",
          "ILB",
          "T",
          "WR",
          "FS",
          "CB",
          "QB",
          "CB",
          "T",
          "QB",
          "QB",
          "DE",
          "DB",
          "CB",
          "T",
          "T",
          "DT",
          "WR",
          "CB",
          "WR",
          "T",
          "OLB",
          "WR",
          "WR",
          "ILB",
          "G",
          "WR",
          "QB",
          "ILB",
          "ILB",
          "CB",
          "RB",
          "WR",
          "WR",
          "RB",
          "FS",
          "FS",
          "OLB",
          "G",
          "DT",
          "RB",
          "WR",
          "TE",
          "SS",
          "FS",
          "WR",
          "OLB",
          "WR",
          "CB",
          "CB",
          "RB",
          "QB",
          "DE",
          "RB",
          "NT",
          "WR",
          "G",
          "WR",
          "OLB",
          "CB",
          "RB",
          "OLB",
          "FS",
          "ILB",
          "RB",
          "OLB",
          "SS",
          "G",
          "SS",
          "DT",
          "G",
          "DT",
          "OLB",
          "G",
          "RB",
          "CB",
          "C",
          "WR",
          "WR",
          "DT",
          "C",
          "OLB",
          "FS",
          "RB",
          "OLB",
          "DT",
          "CB",
          "DE",
          "TE",
          "WR",
          "TE",
          "MLB",
          "OLB",
          "OLB",
          "FS",
          "TE",
          "T",
          "OLB",
          "T",
          "G",
          "CB",
          "RB",
          "DT",
          "TE",
          "G",
          "OLB",
          "TE",
          "ILB",
          "G",
          "QB",
          "T",
          "SS",
          "WR",
          "NT",
          "NT",
          "ILB",
          "TE",
          "FS",
          "G",
          "TE",
          "CB",
          "CB",
          "CB",
          "G",
          "RB",
          "T",
          "C",
          "G",
          "T",
          "OLB",
          "CB",
          "WR",
          "MLB",
          "CB",
          "WR",
          "DT",
          "WR",
          "DT",
          "WR",
          "DE",
          "G",
          "G",
          "DT",
          "SS",
          "WR",
          "TE",
          "G",
          "T",
          "SS",
          "WR",
          "WR",
          "T",
          "SS",
          "TE",
          "WR",
          "C",
          "T",
          "CB",
          "WR",
          "ILB",
          "SS",
          "WR",
          "SS",
          "RB",
          "DE",
          "DT",
          "DE",
          "CB",
          "OLB",
          "CB",
          "T",
          "TE",
          "WR",
          "OLB",
          "ILB",
          "DT",
          "T",
          "TE",
          "CB",
          "ILB",
          "RB",
          "WR",
          "TE",
          "RB",
          "DT",
          "DT",
          "RB",
          "CB",
          "WR",
          "WR",
          "DT",
          "OLB",
          "DT",
          "ILB",
          "DT",
          "DE",
          "FS",
          "TE",
          "ILB",
          "DE",
          "C",
          "CB",
          "TE",
          "FS",
          "RB",
          "OLB",
          "TE",
          "T",
          "TE",
          "CB",
          "DE",
          "OLB",
          "FS",
          "CB",
          "RB",
          "G",
          "CB",
          "G",
          "RB",
          "TE",
          "DT",
          "CB",
          "DE",
          "CB",
          "ILB",
          "G",
          "WR",
          "DT",
          "WR",
          "FB",
          "G",
          "WR",
          "WR",
          "WR",
          "OLB",
          "QB",
          "QB",
          "QB",
          "TE",
          "WR",
          "WR",
          "T",
          "CB",
          "CB",
          "WR",
          "QB",
          "OLB",
          "T",
          "G",
          "QB",
          "OLB",
          "OLB",
          "OLB",
          "WR",
          "DE",
          "CB",
          "T",
          "RB",
          "RB",
          "CB",
          "WR",
          "DE",
          "CB",
          "DE",
          "OLB",
          "OLB",
          "CB",
          "WR",
          "RB",
          "FS",
          "G",
          "DT",
          "T",
          "SS",
          "T",
          "FS",
          "CB",
          "T",
          "CB",
          "G",
          "WR",
          "OLB",
          "T",
          "OLB",
          "T",
          "DE",
          "TE",
          "WR",
          "WR",
          "ILB",
          "WR",
          "OLB",
          "DE",
          "C",
          "C",
          "SS",
          "QB",
          "DE",
          "T",
          "CB",
          "NT",
          "DT",
          "CB",
          "DT",
          "CB",
          "WR",
          "DE",
          "OLB",
          "TE",
          "WR",
          "TE",
          "DE",
          "WR",
          "G",
          "RB",
          "WR",
          "OLB",
          "WR",
          "ILB",
          "T",
          "C",
          "TE",
          "G",
          "CB",
          "CB",
          "ILB",
          "FS",
          "ILB",
          "DT",
          "RB",
          "CB",
          "WR",
          "T",
          "DE",
          "WR",
          "ILB",
          "C",
          "OLB",
          "OLB",
          "RB",
          "NT",
          "CB",
          "TE",
          "FS",
          "RB",
          "TE",
          "T",
          "WR",
          "CB",
          "WR",
          "DT",
          "OLB",
          "CB",
          "G",
          "WR",
          "T",
          "TE",
          "ILB",
          "TE",
          "DE",
          "RB",
          "T",
          "FS",
          "OLB",
          "CB",
          "T",
          "DE",
          "WR",
          "DT",
          "G",
          "CB",
          "T",
          "TE",
          "SS",
          "CB",
          "CB",
          "OLB",
          "CB",
          "DT",
          "FS",
          "CB",
          "WR",
          "SS",
          "OLB",
          "RB",
          "ILB",
          "WR",
          "FS",
          "DT",
          "C",
          "DE",
          "DT",
          "RB",
          "DT",
          "RB",
          "CB",
          "RB",
          "WR",
          "T",
          "WR",
          "OLB",
          "RB",
          "SS",
          "CB",
          "G",
          "OLB",
          "RB",
          "QB",
          "ILB",
          "G",
          "SS",
          "WR",
          "DT",
          "RB",
          "ILB",
          "G",
          "G",
          "OLB",
          "DE",
          "FS",
          "DE",
          "G",
          "WR",
          "NT",
          "RB",
          "WR",
          "RB",
          "WR",
          "DT",
          "TE",
          "OLB",
          "T",
          "WR",
          "TE",
          "RB",
          "FS",
          "CB",
          "TE",
          "G",
          "T",
          "CB",
          "DE",
          "DT",
          "FB",
          "TE",
          "DT",
          "FB",
          "T",
          "TE",
          "CB",
          "CB",
          "TE",
          "CB",
          "T",
          "TE",
          "RB",
          "OLB",
          "WR",
          "OLB",
          "DE",
          "CB",
          "CB",
          "OLB",
          "T",
          "T",
          "WR",
          "T",
          "WR",
          "WR",
          "DT",
          "FS",
          "G",
          "WR",
          "G",
          "WR",
          "QB",
          "CB",
          "ILB",
          "CB",
          "T",
          "C",
          "DE",
          "ILB",
          "DT",
          "G",
          "DE",
          "FS",
          "FS",
          "DE",
          "WR",
          "CB",
          "RB",
          "FS",
          "OLB",
          "CB",
          "OLB",
          "RB",
          "WR",
          "DT",
          "DT",
          "SS",
          "CB",
          "WR",
          "C",
          "WR",
          "WR",
          "WR",
          "TE",
          "DE",
          "G",
          "ILB",
          "G",
          "CB",
          "DE",
          "SS",
          "RB",
          "OLB",
          "C",
          "ILB",
          "G",
          "CB",
          "T",
          "ILB",
          "WR",
          "T",
          "TE",
          "ILB",
          "DT",
          "T",
          "DE",
          "TE",
          "CB",
          "OLB",
          "ILB",
          "DE",
          "CB",
          "QB",
          "OLB",
          "WR",
          "OLB",
          "G",
          "RB",
          "RB",
          "DT",
          "SS",
          "SS",
          "RB",
          "WR",
          "OLB",
          "TE",
          "ILB",
          "OLB",
          "WR",
          "TE",
          "RB",
          "DT",
          "CB",
          "T",
          "T",
          "TE",
          "FS",
          "FS",
          "CB",
          "DE",
          "DE",
          "CB",
          "CB",
          "ILB",
          "CB",
          "RB",
          "RB",
          "DT",
          "RB",
          "TE",
          "RB",
          "WR",
          "G",
          "CB",
          "G",
          "QB",
          "TE",
          "T",
          "CB",
          "CB",
          "TE",
          "ILB",
          "DT",
          "WR",
          "TE",
          "DT",
          "RB",
          "CB",
          "RB",
          "CB",
          "DT",
          "DT",
          "WR",
          "WR",
          "CB",
          "T",
          "TE",
          "C",
          "CB",
          "DE",
          "DT",
          "ILB",
          "TE",
          "DT",
          "OLB",
          "OLB",
          "RB",
          "CB",
          "ILB",
          "OLB",
          "WR",
          "G",
          "TE",
          "DT",
          "RB",
          "WR",
          "RB",
          "DE",
          "TE",
          "CB",
          "C",
          "TE",
          "CB",
          "CB",
          "DE",
          "OLB",
          "WR",
          "CB",
          "T",
          "FS",
          "CB",
          "CB",
          "CB",
          "QB",
          "RB",
          "DE",
          "FS",
          "OLB",
          "WR",
          "RB",
          "QB",
          "NT",
          "OLB",
          "OLB",
          "CB",
          "ILB",
          "TE",
          "WR",
          "DE",
          "FS",
          "TE",
          "WR",
          "DE",
          "RB",
          "FS",
          "WR",
          "CB",
          "SS",
          "WR",
          "DT",
          "NT",
          "OLB",
          "CB",
          "RB",
          "DE",
          "DT",
          "OLB",
          "FB",
          "OLB",
          "DT",
          "WR",
          "OLB",
          "CB",
          "OLB",
          "RB",
          "G",
          "WR",
          "RB",
          "FS",
          "RB",
          "TE",
          "WR",
          "WR",
          "DT",
          "ILB",
          "CB",
          "DE",
          "DT",
          "ILB",
          "DT",
          "CB",
          "DT"
         ],
         "x0": " ",
         "xaxis": "x",
         "y": [
          102.0582,
          148.778176,
          102.0582,
          121.109064,
          98.429464,
          111.13004,
          142.88148,
          79.3786,
          136.0776,
          100.697424,
          99.79024,
          103.872568,
          97.52228,
          145.14944,
          137.891968,
          120.20188,
          124.7378,
          83.91452,
          88.45044,
          115.212368,
          147.4174,
          129.27372,
          151.95332,
          149.68536,
          149.68536,
          113.398,
          95.25431999999999,
          92.079176,
          99.79024,
          130.634496,
          116.573144,
          130.180904,
          97.52228,
          133.80964,
          99.79024,
          120.20188,
          142.88148,
          87.089664,
          122.46984,
          151.95332,
          97.52228,
          133.80964,
          142.88148,
          90.264808,
          106.59412,
          113.398,
          117.93392,
          93.893544,
          91.625584,
          140.61352,
          138.34556,
          113.398,
          112.037224,
          120.20188,
          138.34556,
          142.88148,
          97.068688,
          109.76926399999999,
          105.686936,
          126.552168,
          87.089664,
          97.52228,
          112.490816,
          110.222856,
          159.66438399999998,
          139.706336,
          91.625584,
          145.60303199999998,
          89.811216,
          90.7184,
          139.706336,
          88.45044,
          88.45044,
          96.161504,
          97.52228,
          78.925008,
          99.79024,
          102.0582,
          138.34556,
          99.79024,
          93.893544,
          143.788664,
          141.067112,
          96.161504,
          107.954896,
          113.398,
          86.18248,
          100.243832,
          87.543256,
          154.22128,
          111.13004,
          115.66596,
          117.93392,
          86.18248,
          137.891968,
          95.707912,
          81.192968,
          148.324584,
          88.45044,
          92.98636,
          139.252744,
          140.61352,
          127.459352,
          108.86207999999999,
          142.88148,
          119.294696,
          108.86207999999999,
          89.357624,
          140.61352,
          104.32616,
          97.52228,
          115.66596,
          86.636072,
          140.159928,
          148.778176,
          119.294696,
          90.7184,
          80.739376,
          96.161504,
          136.0776,
          115.66596,
          95.707912,
          122.016248,
          140.159928,
          104.779752,
          115.66596,
          140.159928,
          127.00576,
          87.996848,
          142.88148,
          113.398,
          141.520704,
          83.007336,
          87.543256,
          87.996848,
          97.52228,
          120.20188,
          145.14944,
          95.25431999999999,
          113.398,
          83.91452,
          114.305184,
          97.52228,
          99.79024,
          102.0582,
          88.904032,
          142.88148,
          149.68536,
          140.61352,
          106.59412,
          152.406912,
          142.88148,
          136.531192,
          92.98636,
          116.573144,
          158.7572,
          146.056624,
          113.398,
          90.7184,
          104.32616,
          136.0776,
          145.14944,
          136.531192,
          116.119552,
          131.54167999999999,
          138.34556,
          86.18248,
          92.98636,
          140.61352,
          148.778176,
          150.592544,
          105.233344,
          143.788664,
          140.61352,
          138.799152,
          147.4174,
          101.604608,
          122.46984,
          108.86207999999999,
          113.398,
          147.4174,
          113.398,
          149.68536,
          83.007336,
          129.27372,
          111.13004,
          95.25431999999999,
          115.66596,
          120.20188,
          104.779752,
          100.697424,
          115.66596,
          95.707912,
          142.88148,
          136.984784,
          97.975872,
          143.335072,
          97.975872,
          97.52228,
          132.448864,
          89.357624,
          141.974296,
          89.811216,
          140.61352,
          122.016248,
          139.252744,
          104.32616,
          97.52228,
          141.520704,
          87.089664,
          98.883056,
          153.314096,
          127.00576,
          120.20188,
          105.233344,
          92.98636,
          108.86207999999999,
          138.34556,
          87.543256,
          154.674872,
          92.079176,
          114.305184,
          148.778176,
          117.93392,
          115.66596,
          117.93392,
          147.4174,
          82.553744,
          95.25431999999999,
          92.98636,
          88.904032,
          107.047712,
          113.398,
          114.305184,
          145.14944,
          136.531192,
          97.975872,
          87.996848,
          144.242256,
          120.20188,
          80.28578399999999,
          123.377024,
          102.965384,
          100.243832,
          110.222856,
          146.51021599999999,
          140.61352,
          140.159928,
          140.61352,
          138.34556,
          97.068688,
          110.222856,
          87.089664,
          86.636072,
          117.93392,
          113.398,
          108.86207999999999,
          111.13004,
          122.46984,
          89.357624,
          115.66596,
          135.170416,
          138.34556,
          139.252744,
          140.61352,
          172.36496,
          117.93392,
          99.79024,
          145.14944,
          89.357624,
          119.294696,
          106.140528,
          86.18248,
          83.460928,
          94.80072799999999,
          132.448864,
          86.18248,
          95.25431999999999,
          100.697424,
          136.0776,
          81.64656,
          94.347136,
          109.76926399999999,
          85.275296,
          140.61352,
          135.624008,
          101.151016,
          107.501304,
          127.00576,
          103.418976,
          94.347136,
          142.88148,
          136.0776,
          139.706336,
          108.86207999999999,
          92.079176,
          138.34556,
          141.974296,
          144.242256,
          97.975872,
          140.159928,
          121.109064,
          88.904032,
          89.357624,
          142.427888,
          124.7378,
          111.13004,
          113.398,
          110.676448,
          139.706336,
          90.7184,
          91.171992,
          142.427888,
          130.180904,
          112.037224,
          149.68536,
          96.161504,
          138.799152,
          136.0776,
          102.965384,
          92.079176,
          140.159928,
          92.98636,
          96.161504,
          130.180904,
          96.161504,
          124.7378,
          139.706336,
          111.583632,
          134.263232,
          95.707912,
          97.52228,
          139.706336,
          137.438376,
          115.212368,
          89.811216,
          106.59412,
          138.34556,
          106.59412,
          118.387512,
          140.61352,
          91.625584,
          111.13004,
          90.264808,
          90.7184,
          116.573144,
          100.697424,
          105.233344,
          138.34556,
          96.161504,
          136.0776,
          148.778176,
          90.7184,
          92.079176,
          107.501304,
          107.954896,
          134.263232,
          138.799152,
          118.387512,
          131.995272,
          101.604608,
          140.61352,
          135.170416,
          98.429464,
          146.963808,
          83.91452,
          157.396424,
          89.811216,
          91.625584,
          88.904032,
          142.427888,
          106.140528,
          94.80072799999999,
          85.728888,
          106.59412,
          104.32616,
          107.954896,
          87.996848,
          138.34556,
          86.636072,
          101.151016,
          97.52228,
          92.98636,
          136.0776,
          82.553744,
          146.056624,
          94.80072799999999,
          83.460928,
          154.22128,
          86.18248,
          88.45044,
          91.625584,
          133.356048,
          133.356048,
          124.7378,
          103.418976,
          86.18248,
          135.624008,
          104.32616,
          144.242256,
          106.59412,
          86.18248,
          93.893544,
          108.86207999999999,
          141.974296,
          107.047712,
          121.109064,
          123.377024,
          97.52228,
          127.00576,
          103.418976,
          94.80072799999999,
          96.615096,
          98.883056,
          92.98636,
          104.32616,
          87.089664,
          106.59412,
          117.480328,
          96.161504,
          89.357624,
          136.0776,
          83.91452,
          113.398,
          136.0776,
          113.398,
          108.86207999999999,
          96.615096,
          120.20188,
          111.583632,
          114.305184,
          142.427888,
          145.14944,
          88.45044,
          90.7184,
          93.893544,
          88.45044,
          95.25431999999999,
          88.45044,
          82.100152,
          108.86207999999999,
          87.543256,
          108.86207999999999,
          99.79024,
          114.758776,
          90.264808,
          127.00576,
          109.76926399999999,
          144.242256,
          107.954896,
          145.14944,
          131.088088,
          91.625584,
          99.79024,
          97.52228,
          145.14944,
          147.4174,
          138.34556,
          88.45044,
          97.52228,
          119.748288,
          94.347136,
          137.438376,
          136.0776,
          104.32616,
          108.86207999999999,
          120.655472,
          92.532768,
          94.80072799999999,
          97.975872,
          105.686936,
          89.811216,
          94.80072799999999,
          88.45044,
          137.891968,
          85.275296,
          96.615096,
          94.80072799999999,
          112.490816,
          122.46984,
          105.686936,
          143.335072,
          91.625584,
          99.79024,
          108.86207999999999,
          120.20188,
          88.904032,
          100.243832,
          105.686936,
          111.13004,
          124.7378,
          96.615096,
          128.820128,
          134.716824,
          142.88148,
          113.398,
          91.171992,
          102.511792,
          151.95332,
          104.32616,
          101.151016,
          86.18248,
          78.471416,
          114.758776,
          82.100152,
          141.067112,
          94.347136,
          92.98636,
          91.625584,
          115.66596,
          103.418976,
          113.398,
          145.60303199999998,
          141.520704,
          92.532768,
          138.34556,
          139.252744,
          117.026736,
          127.00576,
          103.872568,
          102.0582,
          145.14944,
          122.46984,
          114.305184,
          117.93392,
          105.233344,
          97.068688,
          96.161504,
          92.079176,
          86.18248,
          95.25431999999999,
          113.398,
          104.32616,
          112.490816,
          156.48924,
          100.243832,
          141.067112,
          94.80072799999999,
          111.13004,
          86.18248,
          117.026736,
          102.0582,
          108.86207999999999,
          111.583632,
          95.25431999999999,
          86.18248,
          87.543256,
          104.779752,
          102.0582,
          149.231768,
          87.996848,
          88.904032,
          90.7184,
          143.788664,
          107.501304,
          107.501304,
          140.159928,
          92.98636,
          147.4174,
          99.79024,
          139.252744,
          90.7184,
          97.52228,
          105.686936,
          86.636072,
          124.7378,
          149.68536,
          107.501304,
          104.32616,
          142.88148,
          93.893544,
          157.396424,
          145.14944,
          120.20188,
          147.4174,
          113.398,
          97.52228,
          88.904032,
          116.119552,
          141.067112,
          141.520704,
          106.140528,
          140.61352,
          97.52228,
          111.13004,
          99.79024,
          98.429464,
          131.995272,
          86.636072,
          97.52228,
          96.161504,
          138.34556,
          148.324584,
          102.0582,
          104.32616,
          142.88148,
          138.34556,
          97.975872,
          114.305184,
          88.45044,
          88.904032,
          90.7184,
          113.851592,
          116.119552,
          135.170416,
          112.490816,
          92.98636,
          90.7184,
          81.64656,
          95.25431999999999,
          89.811216,
          134.716824,
          93.439952,
          125.644984,
          113.398,
          92.532768,
          141.067112,
          107.047712,
          142.88148,
          102.0582,
          142.88148,
          140.61352,
          120.20188,
          126.552168,
          90.7184,
          95.25431999999999,
          156.48924,
          140.159928,
          115.66596,
          108.86207999999999,
          105.686936,
          145.60303199999998,
          138.34556,
          95.25431999999999,
          145.14944,
          97.068688,
          138.34556,
          90.7184,
          139.252744,
          132.448864,
          110.222856,
          86.18248,
          117.93392,
          89.811216,
          107.047712,
          136.984784,
          134.716824,
          115.66596,
          89.811216,
          80.739376,
          97.975872,
          121.109064,
          87.089664,
          117.93392,
          83.460928,
          130.180904,
          114.758776,
          95.25431999999999,
          130.634496,
          106.59412,
          109.76926399999999,
          85.275296,
          115.66596,
          97.52228,
          141.974296,
          92.079176,
          113.398,
          92.98636,
          140.61352,
          115.212368,
          114.758776,
          139.706336,
          142.88148,
          98.429464,
          93.893544,
          144.242256,
          94.347136,
          109.76926399999999,
          86.18248,
          95.25431999999999,
          83.460928,
          140.61352,
          97.52228,
          92.079176,
          150.592544,
          97.068688,
          85.275296,
          83.91452,
          86.18248,
          150.138952,
          143.788664,
          103.872568,
          100.243832,
          156.035648,
          107.047712,
          131.54167999999999,
          83.91452,
          83.91452,
          141.067112,
          90.7184,
          86.18248,
          108.86207999999999,
          143.335072,
          91.625584,
          83.460928,
          97.068688,
          86.18248,
          129.27372,
          87.996848,
          91.625584,
          133.80964,
          133.80964,
          86.18248,
          107.954896,
          113.398,
          84.821704,
          112.490816,
          92.98636,
          140.61352,
          87.543256,
          136.0776,
          91.625584,
          105.686936,
          92.98636,
          101.604608,
          106.59412,
          95.25431999999999,
          127.00576,
          138.34556,
          139.252744,
          83.91452,
          92.98636,
          85.728888,
          105.233344,
          95.25431999999999,
          99.336648,
          92.98636,
          97.068688,
          136.984784,
          92.98636,
          86.18248,
          81.192968,
          87.543256,
          83.91452,
          102.965384,
          141.067112,
          90.7184,
          89.357624,
          145.14944,
          88.45044,
          133.80964,
          89.811216,
          123.377024,
          108.408488,
          88.904032,
          85.728888,
          131.54167999999999,
          92.079176,
          103.872568,
          104.32616,
          92.98636,
          90.7184,
          94.347136,
          115.66596,
          93.893544,
          120.655472,
          137.438376,
          120.20188,
          107.501304,
          99.79024,
          118.841104,
          112.490816,
          130.180904,
          105.686936,
          138.34556,
          125.644984,
          142.88148,
          139.252744,
          113.398,
          155.128464,
          138.34556,
          136.0776,
          112.944408,
          90.7184,
          142.88148,
          146.056624,
          99.79024,
          77.11064,
          118.841104,
          92.98636,
          133.80964,
          131.995272,
          138.799152,
          102.0582,
          86.18248,
          86.18248,
          141.520704,
          97.068688,
          140.61352,
          149.231768,
          88.45044,
          90.7184,
          141.520704,
          113.398,
          140.61352,
          83.460928,
          88.45044,
          142.88148,
          114.305184,
          108.86207999999999,
          102.511792,
          117.480328,
          95.707912,
          96.615096,
          147.4174,
          84.821704,
          139.706336,
          92.98636,
          93.439952,
          94.347136,
          86.18248,
          92.98636,
          104.32616,
          127.459352,
          82.100152,
          113.398,
          90.7184,
          127.459352,
          111.13004,
          100.697424,
          92.079176,
          95.25431999999999,
          113.851592,
          88.904032,
          107.954896,
          93.893544,
          143.335072,
          87.089664,
          146.963808,
          97.52228,
          107.501304,
          106.140528,
          139.706336,
          139.252744,
          99.79024,
          93.439952,
          113.398,
          115.212368,
          141.520704,
          102.511792,
          90.7184,
          140.61352,
          99.79024,
          94.347136,
          115.66596,
          123.377024,
          87.543256,
          90.7184,
          95.25431999999999,
          118.387512,
          140.61352,
          121.109064,
          140.61352,
          146.056624,
          94.80072799999999,
          106.140528,
          91.171992,
          97.068688,
          141.520704,
          129.27372,
          113.398,
          88.904032,
          120.20188,
          92.079176,
          102.0582,
          83.91452,
          109.76926399999999,
          108.86207999999999,
          112.490816,
          106.59412,
          95.25431999999999,
          136.0776,
          127.00576,
          104.32616,
          139.706336,
          86.18248,
          108.86207999999999,
          102.0582,
          86.18248,
          95.25431999999999,
          97.52228,
          101.604608,
          133.80964,
          86.636072,
          133.80964,
          146.51021599999999,
          91.625584,
          85.275296,
          91.625584,
          78.925008,
          146.963808,
          92.532768,
          145.14944,
          91.171992,
          114.758776,
          113.851592,
          114.758776,
          90.7184,
          136.984784,
          90.7184,
          108.86207999999999,
          128.820128,
          79.83219199999999,
          147.870992,
          106.59412,
          90.7184,
          136.0776,
          115.66596,
          90.7184,
          94.80072799999999,
          97.52228,
          81.64656,
          129.27372,
          115.66596,
          142.427888,
          141.067112,
          133.80964,
          142.427888,
          166.014672,
          105.686936,
          139.706336,
          151.95332,
          111.13004,
          109.76926399999999,
          136.0776,
          90.7184,
          107.954896,
          103.418976,
          130.634496,
          120.20188,
          102.0582,
          87.543256,
          77.11064,
          91.625584,
          88.45044,
          135.624008,
          107.501304,
          108.86207999999999,
          129.27372,
          93.893544,
          127.00576,
          115.66596,
          87.543256,
          107.501304,
          140.61352,
          83.91452,
          95.25431999999999,
          85.275296,
          90.7184,
          94.80072799999999,
          136.0776,
          151.499728,
          138.34556,
          108.86207999999999,
          158.7572,
          92.98636,
          118.387512,
          102.0582,
          136.0776,
          111.13004,
          96.161504,
          126.552168,
          97.52228,
          117.93392,
          92.98636,
          106.59412,
          87.543256,
          78.471416,
          88.45044,
          135.624008,
          87.996848,
          104.32616,
          107.501304,
          97.52228,
          118.387512,
          117.93392,
          129.27372,
          96.161504,
          111.13004,
          144.695848,
          86.18248,
          86.18248,
          77.11064,
          97.975872,
          90.7184,
          147.870992,
          98.883056,
          107.501304,
          144.242256,
          102.0582,
          86.636072,
          145.14944,
          146.056624,
          140.61352,
          87.089664,
          86.18248,
          85.728888,
          140.61352,
          113.398,
          88.45044,
          87.089664,
          106.140528,
          144.695848,
          93.439952,
          99.79024,
          111.13004,
          102.965384,
          88.904032,
          94.80072799999999,
          95.25431999999999,
          99.79024,
          95.707912,
          89.357624,
          97.975872,
          119.748288,
          146.056624,
          138.34556,
          100.243832,
          99.79024,
          117.026736,
          92.079176,
          92.98636,
          79.83219199999999,
          114.758776,
          102.965384,
          88.45044,
          93.893544,
          96.161504,
          98.883056,
          127.00576,
          97.068688,
          140.61352,
          89.357624,
          140.61352,
          94.347136,
          113.398,
          90.7184,
          113.398,
          106.59412,
          96.161504,
          113.398,
          100.243832,
          109.31567199999999,
          90.7184,
          150.592544,
          92.98636,
          136.0776,
          140.61352,
          140.61352,
          106.59412,
          138.34556,
          97.52228,
          90.7184,
          131.54167999999999,
          91.171992,
          97.52228,
          136.984784,
          142.88148,
          114.305184,
          92.532768,
          97.52228,
          117.480328,
          142.88148,
          83.91452,
          117.480328,
          117.93392,
          95.25431999999999,
          108.86207999999999,
          105.686936,
          111.13004,
          109.76926399999999,
          89.811216,
          114.758776,
          156.48924,
          97.52228,
          133.80964,
          149.68536,
          89.811216,
          99.336648,
          151.95332,
          108.86207999999999,
          138.34556,
          117.93392,
          115.66596,
          99.336648,
          145.14944,
          102.965384,
          142.88148,
          94.347136,
          96.615096,
          133.80964,
          139.706336,
          102.0582,
          113.851592,
          95.25431999999999,
          145.60303199999998,
          111.13004,
          79.3786,
          87.543256,
          83.007336,
          147.4174,
          97.068688,
          134.263232,
          145.14944,
          136.0776,
          146.963808,
          121.562656,
          91.171992,
          92.98636,
          99.79024,
          86.18248,
          92.98636,
          138.34556,
          78.017824,
          131.995272,
          90.7184,
          115.66596,
          136.0776,
          158.7572,
          151.046136,
          91.625584,
          94.347136,
          111.13004,
          145.60303199999998,
          131.54167999999999,
          92.98636,
          86.18248,
          87.543256,
          139.252744,
          95.25431999999999,
          113.398,
          94.80072799999999,
          134.716824,
          140.61352,
          77.11064,
          99.79024,
          108.86207999999999,
          92.079176,
          97.068688,
          95.25431999999999,
          95.25431999999999,
          120.20188,
          145.14944,
          112.037224,
          83.91452,
          113.398,
          84.368112,
          142.88148,
          109.76926399999999,
          92.98636,
          111.583632,
          106.59412,
          131.54167999999999,
          144.242256,
          111.13004,
          83.91452,
          113.398,
          92.98636,
          90.264808,
          113.398,
          99.79024,
          149.231768,
          138.34556,
          102.0582,
          86.18248,
          88.45044,
          79.3786,
          115.66596,
          106.59412,
          140.61352,
          104.32616,
          124.7378,
          129.27372,
          95.707912,
          108.86207999999999,
          106.59412,
          113.398,
          142.88148,
          92.98636,
          111.583632,
          92.98636,
          88.904032,
          117.93392,
          111.583632,
          140.61352,
          104.779752,
          83.91452,
          131.54167999999999,
          115.66596,
          85.275296,
          81.64656,
          83.91452,
          140.61352,
          83.91452,
          136.0776,
          97.52228,
          99.79024,
          142.88148,
          86.18248,
          115.66596,
          97.52228,
          108.408488,
          122.46984,
          88.45044,
          131.54167999999999,
          97.52228,
          115.66596,
          136.0776,
          92.532768,
          69.399576,
          86.18248,
          111.13004,
          99.79024,
          94.347136,
          102.511792,
          113.398,
          90.7184,
          82.553744,
          147.4174,
          90.7184,
          92.079176,
          74.84268,
          101.151016,
          111.13004,
          138.34556,
          140.61352,
          97.068688,
          117.93392,
          120.655472,
          106.140528,
          87.543256,
          120.20188,
          93.893544,
          142.427888,
          104.32616,
          90.7184,
          85.275296,
          95.25431999999999,
          122.46984,
          86.18248,
          114.758776,
          114.305184,
          118.841104,
          83.91452,
          83.460928,
          99.79024,
          88.904032,
          147.4174,
          140.61352,
          140.61352,
          87.996848,
          139.706336,
          91.625584,
          88.45044,
          147.4174,
          81.64656,
          149.68536,
          81.64656,
          113.398,
          133.80964,
          97.52228,
          135.624008,
          127.00576,
          117.026736,
          86.18248,
          69.399576,
          105.233344,
          90.7184,
          109.76926399999999,
          123.83061599999999,
          141.520704,
          143.335072,
          92.079176,
          102.0582,
          114.758776,
          134.716824,
          87.543256,
          142.88148,
          126.098576,
          92.98636,
          127.00576,
          87.543256,
          95.25431999999999,
          113.398,
          101.151016,
          114.758776,
          83.91452,
          112.490816,
          122.46984,
          97.52228,
          140.61352,
          97.52228,
          100.697424,
          117.93392,
          81.192968,
          105.686936,
          145.60303199999998,
          133.80964,
          111.13004,
          145.14944,
          96.615096,
          82.553744,
          104.32616,
          93.439952,
          108.86207999999999,
          138.34556,
          90.7184,
          86.18248,
          91.625584,
          140.61352,
          127.00576,
          88.45044,
          111.13004,
          136.0776,
          115.66596,
          106.59412,
          111.583632,
          156.942832,
          88.45044,
          116.119552,
          88.45044,
          93.893544,
          106.59412,
          142.88148,
          78.925008,
          88.45044,
          86.18248,
          136.0776,
          122.46984,
          86.636072,
          124.28420799999999,
          95.707912,
          138.34556,
          117.026736,
          99.79024,
          111.13004,
          129.27372,
          86.636072,
          150.592544,
          92.98636,
          98.429464,
          86.18248,
          142.88148,
          132.902456,
          81.192968,
          138.34556,
          136.0776,
          88.45044,
          142.88148,
          108.86207999999999,
          90.7184,
          88.45044,
          88.45044,
          104.32616,
          91.625584,
          154.22128,
          92.98636,
          86.18248,
          102.965384,
          97.52228,
          121.562656,
          88.45044,
          97.52228,
          90.7184,
          89.811216,
          138.34556,
          149.68536,
          117.93392,
          161.02516,
          100.243832,
          144.242256,
          98.883056,
          80.739376,
          97.975872,
          86.18248,
          138.34556,
          99.79024,
          120.20188,
          83.91452,
          88.45044,
          89.357624,
          141.520704,
          105.233344,
          96.161504,
          106.59412,
          101.604608,
          147.4174,
          92.98636,
          92.98636,
          127.00576,
          92.98636,
          113.851592,
          142.88148,
          149.68536,
          116.573144,
          112.490816,
          81.64656,
          114.305184,
          138.799152,
          99.79024,
          154.22128,
          97.52228,
          86.18248,
          99.79024,
          91.625584,
          127.912944,
          108.86207999999999,
          102.0582,
          140.61352,
          92.98636,
          97.52228,
          99.79024,
          80.739376,
          86.18248,
          113.851592,
          149.68536,
          142.88148,
          88.45044,
          125.644984,
          141.067112,
          110.676448,
          110.676448,
          154.22128,
          111.13004,
          142.88148,
          117.93392,
          89.811216,
          80.739376,
          115.66596,
          86.18248,
          149.68536,
          111.13004,
          103.872568,
          117.93392,
          81.64656,
          124.7378,
          120.20188,
          88.45044,
          90.7184,
          113.398,
          145.14944,
          163.29312,
          95.25431999999999,
          140.61352,
          87.089664,
          83.91452,
          154.22128,
          99.79024,
          147.4174,
          82.553744,
          138.34556,
          102.0582,
          99.79024,
          88.45044,
          108.86207999999999,
          88.904032,
          150.592544,
          131.54167999999999,
          117.93392,
          106.59412,
          142.88148,
          136.531192,
          124.7378,
          87.089664,
          90.7184,
          124.7378,
          94.347136,
          85.275296,
          99.79024,
          90.7184,
          116.119552,
          88.45044,
          120.20188,
          95.25431999999999,
          83.91452,
          126.098576,
          141.520704,
          91.625584,
          88.45044,
          81.64656,
          131.54167999999999,
          90.7184,
          96.615096,
          88.45044,
          111.13004,
          120.20188,
          140.61352,
          104.32616,
          133.80964,
          92.98636,
          113.398,
          95.25431999999999,
          86.18248,
          107.954896,
          136.0776,
          104.32616,
          147.4174,
          90.7184,
          140.61352,
          109.76926399999999,
          90.7184,
          144.695848,
          120.20188,
          105.233344,
          152.406912,
          138.34556,
          122.46984,
          113.398,
          77.11064,
          108.86207999999999,
          102.0582,
          131.54167999999999,
          83.91452,
          97.52228,
          122.46984,
          88.45044,
          100.697424,
          129.27372,
          95.25431999999999,
          101.151016,
          131.54167999999999,
          97.52228,
          90.7184,
          103.418976,
          92.98636,
          108.86207999999999,
          113.398,
          104.32616,
          118.387512,
          90.264808,
          113.398,
          97.52228,
          131.54167999999999,
          89.811216,
          172.36496,
          135.624008,
          115.66596,
          86.636072,
          92.98636,
          88.45044,
          129.27372,
          122.46984,
          87.543256,
          87.089664,
          109.31567199999999,
          77.11064,
          97.52228,
          97.52228,
          147.4174,
          92.98636,
          113.398,
          99.79024,
          90.7184,
          133.80964,
          89.357624,
          140.61352,
          99.79024,
          108.86207999999999,
          133.80964,
          81.64656,
          79.3786,
          113.398,
          105.233344,
          147.4174,
          86.18248,
          108.86207999999999,
          140.61352,
          99.79024,
          92.98636,
          99.79024,
          90.7184,
          135.170416,
          145.14944,
          77.11064,
          86.636072,
          93.439952,
          140.61352,
          117.480328,
          136.0776,
          84.821704,
          116.119552,
          131.54167999999999,
          108.408488,
          115.66596,
          145.14944,
          122.46984,
          106.59412,
          99.79024,
          92.98636,
          102.0582,
          111.13004,
          86.636072,
          147.4174,
          100.243832,
          132.448864,
          97.52228,
          88.904032,
          92.98636,
          131.995272,
          104.32616,
          86.18248,
          142.88148,
          120.20188,
          88.45044,
          86.18248,
          123.377024,
          106.59412,
          95.25431999999999,
          79.83219199999999,
          142.88148,
          91.171992,
          91.171992,
          92.532768,
          90.7184,
          100.243832,
          97.52228,
          117.93392,
          88.45044,
          109.76926399999999,
          86.18248,
          104.32616,
          96.161504,
          147.4174,
          124.7378,
          113.398,
          83.007336,
          105.233344,
          108.86207999999999,
          77.11064,
          113.398,
          92.98636,
          102.965384,
          90.7184,
          120.20188,
          102.0582,
          90.7184,
          101.151016,
          84.821704,
          87.996848,
          83.91452,
          132.902456,
          171.911368,
          104.32616,
          88.45044,
          87.996848,
          117.93392,
          133.80964,
          117.93392,
          111.13004,
          104.32616,
          134.263232,
          81.64656,
          114.305184,
          88.45044,
          99.79024,
          98.883056,
          141.067112,
          81.64656,
          86.18248,
          92.98636,
          93.893544,
          111.13004,
          92.98636,
          88.45044,
          145.60303199999998,
          104.32616,
          86.18248,
          129.27372,
          120.655472,
          104.32616,
          136.0776,
          83.91452,
          127.00576
         ],
         "y0": " ",
         "yaxis": "y"
        }
       ],
       "layout": {
        "boxmode": "group",
        "legend": {
         "tracegroupgap": 0
        },
        "template": {
         "data": {
          "bar": [
           {
            "error_x": {
             "color": "#2a3f5f"
            },
            "error_y": {
             "color": "#2a3f5f"
            },
            "marker": {
             "line": {
              "color": "#E5ECF6",
              "width": 0.5
             },
             "pattern": {
              "fillmode": "overlay",
              "size": 10,
              "solidity": 0.2
             }
            },
            "type": "bar"
           }
          ],
          "barpolar": [
           {
            "marker": {
             "line": {
              "color": "#E5ECF6",
              "width": 0.5
             },
             "pattern": {
              "fillmode": "overlay",
              "size": 10,
              "solidity": 0.2
             }
            },
            "type": "barpolar"
           }
          ],
          "carpet": [
           {
            "aaxis": {
             "endlinecolor": "#2a3f5f",
             "gridcolor": "white",
             "linecolor": "white",
             "minorgridcolor": "white",
             "startlinecolor": "#2a3f5f"
            },
            "baxis": {
             "endlinecolor": "#2a3f5f",
             "gridcolor": "white",
             "linecolor": "white",
             "minorgridcolor": "white",
             "startlinecolor": "#2a3f5f"
            },
            "type": "carpet"
           }
          ],
          "choropleth": [
           {
            "colorbar": {
             "outlinewidth": 0,
             "ticks": ""
            },
            "type": "choropleth"
           }
          ],
          "contour": [
           {
            "colorbar": {
             "outlinewidth": 0,
             "ticks": ""
            },
            "colorscale": [
             [
              0,
              "#0d0887"
             ],
             [
              0.1111111111111111,
              "#46039f"
             ],
             [
              0.2222222222222222,
              "#7201a8"
             ],
             [
              0.3333333333333333,
              "#9c179e"
             ],
             [
              0.4444444444444444,
              "#bd3786"
             ],
             [
              0.5555555555555556,
              "#d8576b"
             ],
             [
              0.6666666666666666,
              "#ed7953"
             ],
             [
              0.7777777777777778,
              "#fb9f3a"
             ],
             [
              0.8888888888888888,
              "#fdca26"
             ],
             [
              1,
              "#f0f921"
             ]
            ],
            "type": "contour"
           }
          ],
          "contourcarpet": [
           {
            "colorbar": {
             "outlinewidth": 0,
             "ticks": ""
            },
            "type": "contourcarpet"
           }
          ],
          "heatmap": [
           {
            "colorbar": {
             "outlinewidth": 0,
             "ticks": ""
            },
            "colorscale": [
             [
              0,
              "#0d0887"
             ],
             [
              0.1111111111111111,
              "#46039f"
             ],
             [
              0.2222222222222222,
              "#7201a8"
             ],
             [
              0.3333333333333333,
              "#9c179e"
             ],
             [
              0.4444444444444444,
              "#bd3786"
             ],
             [
              0.5555555555555556,
              "#d8576b"
             ],
             [
              0.6666666666666666,
              "#ed7953"
             ],
             [
              0.7777777777777778,
              "#fb9f3a"
             ],
             [
              0.8888888888888888,
              "#fdca26"
             ],
             [
              1,
              "#f0f921"
             ]
            ],
            "type": "heatmap"
           }
          ],
          "heatmapgl": [
           {
            "colorbar": {
             "outlinewidth": 0,
             "ticks": ""
            },
            "colorscale": [
             [
              0,
              "#0d0887"
             ],
             [
              0.1111111111111111,
              "#46039f"
             ],
             [
              0.2222222222222222,
              "#7201a8"
             ],
             [
              0.3333333333333333,
              "#9c179e"
             ],
             [
              0.4444444444444444,
              "#bd3786"
             ],
             [
              0.5555555555555556,
              "#d8576b"
             ],
             [
              0.6666666666666666,
              "#ed7953"
             ],
             [
              0.7777777777777778,
              "#fb9f3a"
             ],
             [
              0.8888888888888888,
              "#fdca26"
             ],
             [
              1,
              "#f0f921"
             ]
            ],
            "type": "heatmapgl"
           }
          ],
          "histogram": [
           {
            "marker": {
             "pattern": {
              "fillmode": "overlay",
              "size": 10,
              "solidity": 0.2
             }
            },
            "type": "histogram"
           }
          ],
          "histogram2d": [
           {
            "colorbar": {
             "outlinewidth": 0,
             "ticks": ""
            },
            "colorscale": [
             [
              0,
              "#0d0887"
             ],
             [
              0.1111111111111111,
              "#46039f"
             ],
             [
              0.2222222222222222,
              "#7201a8"
             ],
             [
              0.3333333333333333,
              "#9c179e"
             ],
             [
              0.4444444444444444,
              "#bd3786"
             ],
             [
              0.5555555555555556,
              "#d8576b"
             ],
             [
              0.6666666666666666,
              "#ed7953"
             ],
             [
              0.7777777777777778,
              "#fb9f3a"
             ],
             [
              0.8888888888888888,
              "#fdca26"
             ],
             [
              1,
              "#f0f921"
             ]
            ],
            "type": "histogram2d"
           }
          ],
          "histogram2dcontour": [
           {
            "colorbar": {
             "outlinewidth": 0,
             "ticks": ""
            },
            "colorscale": [
             [
              0,
              "#0d0887"
             ],
             [
              0.1111111111111111,
              "#46039f"
             ],
             [
              0.2222222222222222,
              "#7201a8"
             ],
             [
              0.3333333333333333,
              "#9c179e"
             ],
             [
              0.4444444444444444,
              "#bd3786"
             ],
             [
              0.5555555555555556,
              "#d8576b"
             ],
             [
              0.6666666666666666,
              "#ed7953"
             ],
             [
              0.7777777777777778,
              "#fb9f3a"
             ],
             [
              0.8888888888888888,
              "#fdca26"
             ],
             [
              1,
              "#f0f921"
             ]
            ],
            "type": "histogram2dcontour"
           }
          ],
          "mesh3d": [
           {
            "colorbar": {
             "outlinewidth": 0,
             "ticks": ""
            },
            "type": "mesh3d"
           }
          ],
          "parcoords": [
           {
            "line": {
             "colorbar": {
              "outlinewidth": 0,
              "ticks": ""
             }
            },
            "type": "parcoords"
           }
          ],
          "pie": [
           {
            "automargin": true,
            "type": "pie"
           }
          ],
          "scatter": [
           {
            "fillpattern": {
             "fillmode": "overlay",
             "size": 10,
             "solidity": 0.2
            },
            "type": "scatter"
           }
          ],
          "scatter3d": [
           {
            "line": {
             "colorbar": {
              "outlinewidth": 0,
              "ticks": ""
             }
            },
            "marker": {
             "colorbar": {
              "outlinewidth": 0,
              "ticks": ""
             }
            },
            "type": "scatter3d"
           }
          ],
          "scattercarpet": [
           {
            "marker": {
             "colorbar": {
              "outlinewidth": 0,
              "ticks": ""
             }
            },
            "type": "scattercarpet"
           }
          ],
          "scattergeo": [
           {
            "marker": {
             "colorbar": {
              "outlinewidth": 0,
              "ticks": ""
             }
            },
            "type": "scattergeo"
           }
          ],
          "scattergl": [
           {
            "marker": {
             "colorbar": {
              "outlinewidth": 0,
              "ticks": ""
             }
            },
            "type": "scattergl"
           }
          ],
          "scattermapbox": [
           {
            "marker": {
             "colorbar": {
              "outlinewidth": 0,
              "ticks": ""
             }
            },
            "type": "scattermapbox"
           }
          ],
          "scatterpolar": [
           {
            "marker": {
             "colorbar": {
              "outlinewidth": 0,
              "ticks": ""
             }
            },
            "type": "scatterpolar"
           }
          ],
          "scatterpolargl": [
           {
            "marker": {
             "colorbar": {
              "outlinewidth": 0,
              "ticks": ""
             }
            },
            "type": "scatterpolargl"
           }
          ],
          "scatterternary": [
           {
            "marker": {
             "colorbar": {
              "outlinewidth": 0,
              "ticks": ""
             }
            },
            "type": "scatterternary"
           }
          ],
          "surface": [
           {
            "colorbar": {
             "outlinewidth": 0,
             "ticks": ""
            },
            "colorscale": [
             [
              0,
              "#0d0887"
             ],
             [
              0.1111111111111111,
              "#46039f"
             ],
             [
              0.2222222222222222,
              "#7201a8"
             ],
             [
              0.3333333333333333,
              "#9c179e"
             ],
             [
              0.4444444444444444,
              "#bd3786"
             ],
             [
              0.5555555555555556,
              "#d8576b"
             ],
             [
              0.6666666666666666,
              "#ed7953"
             ],
             [
              0.7777777777777778,
              "#fb9f3a"
             ],
             [
              0.8888888888888888,
              "#fdca26"
             ],
             [
              1,
              "#f0f921"
             ]
            ],
            "type": "surface"
           }
          ],
          "table": [
           {
            "cells": {
             "fill": {
              "color": "#EBF0F8"
             },
             "line": {
              "color": "white"
             }
            },
            "header": {
             "fill": {
              "color": "#C8D4E3"
             },
             "line": {
              "color": "white"
             }
            },
            "type": "table"
           }
          ]
         },
         "layout": {
          "annotationdefaults": {
           "arrowcolor": "#2a3f5f",
           "arrowhead": 0,
           "arrowwidth": 1
          },
          "autotypenumbers": "strict",
          "coloraxis": {
           "colorbar": {
            "outlinewidth": 0,
            "ticks": ""
           }
          },
          "colorscale": {
           "diverging": [
            [
             0,
             "#8e0152"
            ],
            [
             0.1,
             "#c51b7d"
            ],
            [
             0.2,
             "#de77ae"
            ],
            [
             0.3,
             "#f1b6da"
            ],
            [
             0.4,
             "#fde0ef"
            ],
            [
             0.5,
             "#f7f7f7"
            ],
            [
             0.6,
             "#e6f5d0"
            ],
            [
             0.7,
             "#b8e186"
            ],
            [
             0.8,
             "#7fbc41"
            ],
            [
             0.9,
             "#4d9221"
            ],
            [
             1,
             "#276419"
            ]
           ],
           "sequential": [
            [
             0,
             "#0d0887"
            ],
            [
             0.1111111111111111,
             "#46039f"
            ],
            [
             0.2222222222222222,
             "#7201a8"
            ],
            [
             0.3333333333333333,
             "#9c179e"
            ],
            [
             0.4444444444444444,
             "#bd3786"
            ],
            [
             0.5555555555555556,
             "#d8576b"
            ],
            [
             0.6666666666666666,
             "#ed7953"
            ],
            [
             0.7777777777777778,
             "#fb9f3a"
            ],
            [
             0.8888888888888888,
             "#fdca26"
            ],
            [
             1,
             "#f0f921"
            ]
           ],
           "sequentialminus": [
            [
             0,
             "#0d0887"
            ],
            [
             0.1111111111111111,
             "#46039f"
            ],
            [
             0.2222222222222222,
             "#7201a8"
            ],
            [
             0.3333333333333333,
             "#9c179e"
            ],
            [
             0.4444444444444444,
             "#bd3786"
            ],
            [
             0.5555555555555556,
             "#d8576b"
            ],
            [
             0.6666666666666666,
             "#ed7953"
            ],
            [
             0.7777777777777778,
             "#fb9f3a"
            ],
            [
             0.8888888888888888,
             "#fdca26"
            ],
            [
             1,
             "#f0f921"
            ]
           ]
          },
          "colorway": [
           "#636efa",
           "#EF553B",
           "#00cc96",
           "#ab63fa",
           "#FFA15A",
           "#19d3f3",
           "#FF6692",
           "#B6E880",
           "#FF97FF",
           "#FECB52"
          ],
          "font": {
           "color": "#2a3f5f"
          },
          "geo": {
           "bgcolor": "white",
           "lakecolor": "white",
           "landcolor": "#E5ECF6",
           "showlakes": true,
           "showland": true,
           "subunitcolor": "white"
          },
          "hoverlabel": {
           "align": "left"
          },
          "hovermode": "closest",
          "mapbox": {
           "style": "light"
          },
          "paper_bgcolor": "white",
          "plot_bgcolor": "#E5ECF6",
          "polar": {
           "angularaxis": {
            "gridcolor": "white",
            "linecolor": "white",
            "ticks": ""
           },
           "bgcolor": "#E5ECF6",
           "radialaxis": {
            "gridcolor": "white",
            "linecolor": "white",
            "ticks": ""
           }
          },
          "scene": {
           "xaxis": {
            "backgroundcolor": "#E5ECF6",
            "gridcolor": "white",
            "gridwidth": 2,
            "linecolor": "white",
            "showbackground": true,
            "ticks": "",
            "zerolinecolor": "white"
           },
           "yaxis": {
            "backgroundcolor": "#E5ECF6",
            "gridcolor": "white",
            "gridwidth": 2,
            "linecolor": "white",
            "showbackground": true,
            "ticks": "",
            "zerolinecolor": "white"
           },
           "zaxis": {
            "backgroundcolor": "#E5ECF6",
            "gridcolor": "white",
            "gridwidth": 2,
            "linecolor": "white",
            "showbackground": true,
            "ticks": "",
            "zerolinecolor": "white"
           }
          },
          "shapedefaults": {
           "line": {
            "color": "#2a3f5f"
           }
          },
          "ternary": {
           "aaxis": {
            "gridcolor": "white",
            "linecolor": "white",
            "ticks": ""
           },
           "baxis": {
            "gridcolor": "white",
            "linecolor": "white",
            "ticks": ""
           },
           "bgcolor": "#E5ECF6",
           "caxis": {
            "gridcolor": "white",
            "linecolor": "white",
            "ticks": ""
           }
          },
          "title": {
           "x": 0.05
          },
          "xaxis": {
           "automargin": true,
           "gridcolor": "white",
           "linecolor": "white",
           "ticks": "",
           "title": {
            "standoff": 15
           },
           "zerolinecolor": "white",
           "zerolinewidth": 2
          },
          "yaxis": {
           "automargin": true,
           "gridcolor": "white",
           "linecolor": "white",
           "ticks": "",
           "title": {
            "standoff": 15
           },
           "zerolinecolor": "white",
           "zerolinewidth": 2
          }
         }
        },
        "title": {
         "text": "Position vs Weight"
        },
        "xaxis": {
         "anchor": "y",
         "domain": [
          0,
          1
         ],
         "title": {
          "text": "Position"
         }
        },
        "yaxis": {
         "anchor": "x",
         "domain": [
          0,
          1
         ],
         "title": {
          "text": "Weight"
         }
        }
       }
      }
     },
     "metadata": {},
     "output_type": "display_data"
    }
   ],
   "source": [
    "# 创建箱线图得到位置与体重的关系\n",
    "fig_box = px.box(players_data, x='position', y='weight', title='Position vs Weight')\n",
    "fig_box.update_xaxes(title='Position')\n",
    "fig_box.update_yaxes(title='Weight')\n",
    "fig_box.show()"
   ]
  },
  {
   "cell_type": "code",
   "execution_count": 28,
   "metadata": {},
   "outputs": [
    {
     "data": {
      "application/vnd.plotly.v1+json": {
       "config": {
        "plotlyServerURL": "https://plot.ly"
       },
       "data": [
        {
         "alignmentgroup": "True",
         "hovertemplate": "variable=height<br>position=%{x}<br>value=%{y}<extra></extra>",
         "legendgroup": "height",
         "marker": {
          "color": "#636efa",
          "pattern": {
           "shape": ""
          }
         },
         "name": "height",
         "offsetgroup": "height",
         "orientation": "v",
         "showlegend": true,
         "textposition": "auto",
         "type": "bar",
         "x": [
          "C",
          "CB",
          "DB",
          "DE",
          "DT",
          "FB",
          "FS",
          "G",
          "ILB",
          "LS",
          "MLB",
          "NT",
          "OLB",
          "QB",
          "RB",
          "SS",
          "T",
          "TE",
          "WR"
         ],
         "xaxis": "x",
         "y": [
          192.71672727272727,
          182.57413612565412,
          190.5,
          192.91808000000017,
          191.26000000000013,
          184.6384615384616,
          183.17307692307688,
          194.27300970873807,
          187.00408602150532,
          190.5,
          187.03636363636363,
          190.90967741935484,
          190.84471428571436,
          189.70885245901644,
          180.19775999999976,
          183.35625,
          197.74214876033074,
          194.56400000000033,
          184.8723853211007
         ],
         "yaxis": "y"
        },
        {
         "alignmentgroup": "True",
         "hovertemplate": "variable=weight<br>position=%{x}<br>value=%{y}<extra></extra>",
         "legendgroup": "weight",
         "marker": {
          "color": "#EF553B",
          "pattern": {
           "shape": ""
          }
         },
         "name": "weight",
         "offsetgroup": "weight",
         "orientation": "v",
         "showlegend": true,
         "textposition": "auto",
         "type": "bar",
         "x": [
          "C",
          "CB",
          "DB",
          "DE",
          "DT",
          "FB",
          "FS",
          "G",
          "ILB",
          "LS",
          "MLB",
          "NT",
          "OLB",
          "QB",
          "RB",
          "SS",
          "T",
          "TE",
          "WR"
         ],
         "xaxis": "x",
         "y": [
          138.5847266909091,
          87.62874978010478,
          102.0582,
          123.26090444799993,
          138.70629064566933,
          112.31635753846155,
          91.8756411282051,
          142.27375479611652,
          106.32098933333336,
          111.13004,
          107.33636145454544,
          146.58337599999996,
          112.45517662857141,
          99.97613836065578,
          97.16666387200004,
          92.54694274999999,
          143.41004588429755,
          112.83554592000004,
          90.4936846972477
         ],
         "yaxis": "y"
        }
       ],
       "layout": {
        "barmode": "group",
        "legend": {
         "title": {
          "text": "variable"
         },
         "tracegroupgap": 0
        },
        "template": {
         "data": {
          "bar": [
           {
            "error_x": {
             "color": "#2a3f5f"
            },
            "error_y": {
             "color": "#2a3f5f"
            },
            "marker": {
             "line": {
              "color": "#E5ECF6",
              "width": 0.5
             },
             "pattern": {
              "fillmode": "overlay",
              "size": 10,
              "solidity": 0.2
             }
            },
            "type": "bar"
           }
          ],
          "barpolar": [
           {
            "marker": {
             "line": {
              "color": "#E5ECF6",
              "width": 0.5
             },
             "pattern": {
              "fillmode": "overlay",
              "size": 10,
              "solidity": 0.2
             }
            },
            "type": "barpolar"
           }
          ],
          "carpet": [
           {
            "aaxis": {
             "endlinecolor": "#2a3f5f",
             "gridcolor": "white",
             "linecolor": "white",
             "minorgridcolor": "white",
             "startlinecolor": "#2a3f5f"
            },
            "baxis": {
             "endlinecolor": "#2a3f5f",
             "gridcolor": "white",
             "linecolor": "white",
             "minorgridcolor": "white",
             "startlinecolor": "#2a3f5f"
            },
            "type": "carpet"
           }
          ],
          "choropleth": [
           {
            "colorbar": {
             "outlinewidth": 0,
             "ticks": ""
            },
            "type": "choropleth"
           }
          ],
          "contour": [
           {
            "colorbar": {
             "outlinewidth": 0,
             "ticks": ""
            },
            "colorscale": [
             [
              0,
              "#0d0887"
             ],
             [
              0.1111111111111111,
              "#46039f"
             ],
             [
              0.2222222222222222,
              "#7201a8"
             ],
             [
              0.3333333333333333,
              "#9c179e"
             ],
             [
              0.4444444444444444,
              "#bd3786"
             ],
             [
              0.5555555555555556,
              "#d8576b"
             ],
             [
              0.6666666666666666,
              "#ed7953"
             ],
             [
              0.7777777777777778,
              "#fb9f3a"
             ],
             [
              0.8888888888888888,
              "#fdca26"
             ],
             [
              1,
              "#f0f921"
             ]
            ],
            "type": "contour"
           }
          ],
          "contourcarpet": [
           {
            "colorbar": {
             "outlinewidth": 0,
             "ticks": ""
            },
            "type": "contourcarpet"
           }
          ],
          "heatmap": [
           {
            "colorbar": {
             "outlinewidth": 0,
             "ticks": ""
            },
            "colorscale": [
             [
              0,
              "#0d0887"
             ],
             [
              0.1111111111111111,
              "#46039f"
             ],
             [
              0.2222222222222222,
              "#7201a8"
             ],
             [
              0.3333333333333333,
              "#9c179e"
             ],
             [
              0.4444444444444444,
              "#bd3786"
             ],
             [
              0.5555555555555556,
              "#d8576b"
             ],
             [
              0.6666666666666666,
              "#ed7953"
             ],
             [
              0.7777777777777778,
              "#fb9f3a"
             ],
             [
              0.8888888888888888,
              "#fdca26"
             ],
             [
              1,
              "#f0f921"
             ]
            ],
            "type": "heatmap"
           }
          ],
          "heatmapgl": [
           {
            "colorbar": {
             "outlinewidth": 0,
             "ticks": ""
            },
            "colorscale": [
             [
              0,
              "#0d0887"
             ],
             [
              0.1111111111111111,
              "#46039f"
             ],
             [
              0.2222222222222222,
              "#7201a8"
             ],
             [
              0.3333333333333333,
              "#9c179e"
             ],
             [
              0.4444444444444444,
              "#bd3786"
             ],
             [
              0.5555555555555556,
              "#d8576b"
             ],
             [
              0.6666666666666666,
              "#ed7953"
             ],
             [
              0.7777777777777778,
              "#fb9f3a"
             ],
             [
              0.8888888888888888,
              "#fdca26"
             ],
             [
              1,
              "#f0f921"
             ]
            ],
            "type": "heatmapgl"
           }
          ],
          "histogram": [
           {
            "marker": {
             "pattern": {
              "fillmode": "overlay",
              "size": 10,
              "solidity": 0.2
             }
            },
            "type": "histogram"
           }
          ],
          "histogram2d": [
           {
            "colorbar": {
             "outlinewidth": 0,
             "ticks": ""
            },
            "colorscale": [
             [
              0,
              "#0d0887"
             ],
             [
              0.1111111111111111,
              "#46039f"
             ],
             [
              0.2222222222222222,
              "#7201a8"
             ],
             [
              0.3333333333333333,
              "#9c179e"
             ],
             [
              0.4444444444444444,
              "#bd3786"
             ],
             [
              0.5555555555555556,
              "#d8576b"
             ],
             [
              0.6666666666666666,
              "#ed7953"
             ],
             [
              0.7777777777777778,
              "#fb9f3a"
             ],
             [
              0.8888888888888888,
              "#fdca26"
             ],
             [
              1,
              "#f0f921"
             ]
            ],
            "type": "histogram2d"
           }
          ],
          "histogram2dcontour": [
           {
            "colorbar": {
             "outlinewidth": 0,
             "ticks": ""
            },
            "colorscale": [
             [
              0,
              "#0d0887"
             ],
             [
              0.1111111111111111,
              "#46039f"
             ],
             [
              0.2222222222222222,
              "#7201a8"
             ],
             [
              0.3333333333333333,
              "#9c179e"
             ],
             [
              0.4444444444444444,
              "#bd3786"
             ],
             [
              0.5555555555555556,
              "#d8576b"
             ],
             [
              0.6666666666666666,
              "#ed7953"
             ],
             [
              0.7777777777777778,
              "#fb9f3a"
             ],
             [
              0.8888888888888888,
              "#fdca26"
             ],
             [
              1,
              "#f0f921"
             ]
            ],
            "type": "histogram2dcontour"
           }
          ],
          "mesh3d": [
           {
            "colorbar": {
             "outlinewidth": 0,
             "ticks": ""
            },
            "type": "mesh3d"
           }
          ],
          "parcoords": [
           {
            "line": {
             "colorbar": {
              "outlinewidth": 0,
              "ticks": ""
             }
            },
            "type": "parcoords"
           }
          ],
          "pie": [
           {
            "automargin": true,
            "type": "pie"
           }
          ],
          "scatter": [
           {
            "fillpattern": {
             "fillmode": "overlay",
             "size": 10,
             "solidity": 0.2
            },
            "type": "scatter"
           }
          ],
          "scatter3d": [
           {
            "line": {
             "colorbar": {
              "outlinewidth": 0,
              "ticks": ""
             }
            },
            "marker": {
             "colorbar": {
              "outlinewidth": 0,
              "ticks": ""
             }
            },
            "type": "scatter3d"
           }
          ],
          "scattercarpet": [
           {
            "marker": {
             "colorbar": {
              "outlinewidth": 0,
              "ticks": ""
             }
            },
            "type": "scattercarpet"
           }
          ],
          "scattergeo": [
           {
            "marker": {
             "colorbar": {
              "outlinewidth": 0,
              "ticks": ""
             }
            },
            "type": "scattergeo"
           }
          ],
          "scattergl": [
           {
            "marker": {
             "colorbar": {
              "outlinewidth": 0,
              "ticks": ""
             }
            },
            "type": "scattergl"
           }
          ],
          "scattermapbox": [
           {
            "marker": {
             "colorbar": {
              "outlinewidth": 0,
              "ticks": ""
             }
            },
            "type": "scattermapbox"
           }
          ],
          "scatterpolar": [
           {
            "marker": {
             "colorbar": {
              "outlinewidth": 0,
              "ticks": ""
             }
            },
            "type": "scatterpolar"
           }
          ],
          "scatterpolargl": [
           {
            "marker": {
             "colorbar": {
              "outlinewidth": 0,
              "ticks": ""
             }
            },
            "type": "scatterpolargl"
           }
          ],
          "scatterternary": [
           {
            "marker": {
             "colorbar": {
              "outlinewidth": 0,
              "ticks": ""
             }
            },
            "type": "scatterternary"
           }
          ],
          "surface": [
           {
            "colorbar": {
             "outlinewidth": 0,
             "ticks": ""
            },
            "colorscale": [
             [
              0,
              "#0d0887"
             ],
             [
              0.1111111111111111,
              "#46039f"
             ],
             [
              0.2222222222222222,
              "#7201a8"
             ],
             [
              0.3333333333333333,
              "#9c179e"
             ],
             [
              0.4444444444444444,
              "#bd3786"
             ],
             [
              0.5555555555555556,
              "#d8576b"
             ],
             [
              0.6666666666666666,
              "#ed7953"
             ],
             [
              0.7777777777777778,
              "#fb9f3a"
             ],
             [
              0.8888888888888888,
              "#fdca26"
             ],
             [
              1,
              "#f0f921"
             ]
            ],
            "type": "surface"
           }
          ],
          "table": [
           {
            "cells": {
             "fill": {
              "color": "#EBF0F8"
             },
             "line": {
              "color": "white"
             }
            },
            "header": {
             "fill": {
              "color": "#C8D4E3"
             },
             "line": {
              "color": "white"
             }
            },
            "type": "table"
           }
          ]
         },
         "layout": {
          "annotationdefaults": {
           "arrowcolor": "#2a3f5f",
           "arrowhead": 0,
           "arrowwidth": 1
          },
          "autotypenumbers": "strict",
          "coloraxis": {
           "colorbar": {
            "outlinewidth": 0,
            "ticks": ""
           }
          },
          "colorscale": {
           "diverging": [
            [
             0,
             "#8e0152"
            ],
            [
             0.1,
             "#c51b7d"
            ],
            [
             0.2,
             "#de77ae"
            ],
            [
             0.3,
             "#f1b6da"
            ],
            [
             0.4,
             "#fde0ef"
            ],
            [
             0.5,
             "#f7f7f7"
            ],
            [
             0.6,
             "#e6f5d0"
            ],
            [
             0.7,
             "#b8e186"
            ],
            [
             0.8,
             "#7fbc41"
            ],
            [
             0.9,
             "#4d9221"
            ],
            [
             1,
             "#276419"
            ]
           ],
           "sequential": [
            [
             0,
             "#0d0887"
            ],
            [
             0.1111111111111111,
             "#46039f"
            ],
            [
             0.2222222222222222,
             "#7201a8"
            ],
            [
             0.3333333333333333,
             "#9c179e"
            ],
            [
             0.4444444444444444,
             "#bd3786"
            ],
            [
             0.5555555555555556,
             "#d8576b"
            ],
            [
             0.6666666666666666,
             "#ed7953"
            ],
            [
             0.7777777777777778,
             "#fb9f3a"
            ],
            [
             0.8888888888888888,
             "#fdca26"
            ],
            [
             1,
             "#f0f921"
            ]
           ],
           "sequentialminus": [
            [
             0,
             "#0d0887"
            ],
            [
             0.1111111111111111,
             "#46039f"
            ],
            [
             0.2222222222222222,
             "#7201a8"
            ],
            [
             0.3333333333333333,
             "#9c179e"
            ],
            [
             0.4444444444444444,
             "#bd3786"
            ],
            [
             0.5555555555555556,
             "#d8576b"
            ],
            [
             0.6666666666666666,
             "#ed7953"
            ],
            [
             0.7777777777777778,
             "#fb9f3a"
            ],
            [
             0.8888888888888888,
             "#fdca26"
            ],
            [
             1,
             "#f0f921"
            ]
           ]
          },
          "colorway": [
           "#636efa",
           "#EF553B",
           "#00cc96",
           "#ab63fa",
           "#FFA15A",
           "#19d3f3",
           "#FF6692",
           "#B6E880",
           "#FF97FF",
           "#FECB52"
          ],
          "font": {
           "color": "#2a3f5f"
          },
          "geo": {
           "bgcolor": "white",
           "lakecolor": "white",
           "landcolor": "#E5ECF6",
           "showlakes": true,
           "showland": true,
           "subunitcolor": "white"
          },
          "hoverlabel": {
           "align": "left"
          },
          "hovermode": "closest",
          "mapbox": {
           "style": "light"
          },
          "paper_bgcolor": "white",
          "plot_bgcolor": "#E5ECF6",
          "polar": {
           "angularaxis": {
            "gridcolor": "white",
            "linecolor": "white",
            "ticks": ""
           },
           "bgcolor": "#E5ECF6",
           "radialaxis": {
            "gridcolor": "white",
            "linecolor": "white",
            "ticks": ""
           }
          },
          "scene": {
           "xaxis": {
            "backgroundcolor": "#E5ECF6",
            "gridcolor": "white",
            "gridwidth": 2,
            "linecolor": "white",
            "showbackground": true,
            "ticks": "",
            "zerolinecolor": "white"
           },
           "yaxis": {
            "backgroundcolor": "#E5ECF6",
            "gridcolor": "white",
            "gridwidth": 2,
            "linecolor": "white",
            "showbackground": true,
            "ticks": "",
            "zerolinecolor": "white"
           },
           "zaxis": {
            "backgroundcolor": "#E5ECF6",
            "gridcolor": "white",
            "gridwidth": 2,
            "linecolor": "white",
            "showbackground": true,
            "ticks": "",
            "zerolinecolor": "white"
           }
          },
          "shapedefaults": {
           "line": {
            "color": "#2a3f5f"
           }
          },
          "ternary": {
           "aaxis": {
            "gridcolor": "white",
            "linecolor": "white",
            "ticks": ""
           },
           "baxis": {
            "gridcolor": "white",
            "linecolor": "white",
            "ticks": ""
           },
           "bgcolor": "#E5ECF6",
           "caxis": {
            "gridcolor": "white",
            "linecolor": "white",
            "ticks": ""
           }
          },
          "title": {
           "x": 0.05
          },
          "xaxis": {
           "automargin": true,
           "gridcolor": "white",
           "linecolor": "white",
           "ticks": "",
           "title": {
            "standoff": 15
           },
           "zerolinecolor": "white",
           "zerolinewidth": 2
          },
          "yaxis": {
           "automargin": true,
           "gridcolor": "white",
           "linecolor": "white",
           "ticks": "",
           "title": {
            "standoff": 15
           },
           "zerolinecolor": "white",
           "zerolinewidth": 2
          }
         }
        },
        "title": {
         "text": "Average Height and Weight by Position"
        },
        "xaxis": {
         "anchor": "y",
         "domain": [
          0,
          1
         ],
         "title": {
          "text": "Position"
         }
        },
        "yaxis": {
         "anchor": "x",
         "domain": [
          0,
          1
         ],
         "title": {
          "text": "Value"
         }
        }
       }
      }
     },
     "metadata": {},
     "output_type": "display_data"
    }
   ],
   "source": [
    "# 计算各个球员位置的平均身高和体重\n",
    "avg_height_weight = players_data.groupby('position').agg({'height': 'mean', 'weight': 'mean'}).reset_index()\n",
    "\n",
    "# 绘制柱状图展示不同位置球员的平均身高和体重\n",
    "fig_avg = px.bar(avg_height_weight, x='position', y=['height', 'weight'], \n",
    "                 barmode='group', title='Average Height and Weight by Position')\n",
    "fig_avg.update_xaxes(title='Position')\n",
    "fig_avg.update_yaxes(title='Value')\n",
    "fig_avg.show()"
   ]
  },
  {
   "cell_type": "code",
   "execution_count": 29,
   "metadata": {},
   "outputs": [
    {
     "data": {
      "application/vnd.plotly.v1+json": {
       "config": {
        "plotlyServerURL": "https://plot.ly"
       },
       "data": [
        {
         "alignmentgroup": "True",
         "bingroup": "x",
         "hovertemplate": "bmi=%{x}<br>count=%{y}<extra></extra>",
         "legendgroup": "",
         "marker": {
          "color": "#636efa",
          "pattern": {
           "shape": ""
          }
         },
         "name": "",
         "offsetgroup": "",
         "orientation": "v",
         "showlegend": false,
         "type": "histogram",
         "x": [
          27.387556506414953,
          39.92497126268491,
          28.887970485948273,
          30.85460628514945,
          26.4137767195202,
          28.312279175511666,
          38.342579108980935,
          25.109607362071866,
          32.95635966271932,
          27.747790108913552,
          27.49781001784226,
          31.057639352933027,
          27.604060686572794,
          37.94604182225738,
          37.996973842836574,
          34.02360968345019,
          32.60987969100243,
          26.54444206847597,
          27.979276774880077,
          32.61130890413716,
          38.538948725730144,
          32.934692102125815,
          41.871665254441616,
          40.1684162094086,
          36.25199562899126,
          31.247511383911657,
          25.561719405987287,
          26.782324684934608,
          27.49781001784226,
          34.151437640031645,
          31.28267565399397,
          34.934349854849295,
          31.7495980507609,
          34.98150730489352,
          28.246015586260533,
          30.623485638818746,
          40.443158680327585,
          27.548826362958845,
          33.74731229462459,
          38.712708260393505,
          28.365516291925815,
          36.872063433015754,
          38.342579108980935,
          28.55321065744172,
          31.004168970244496,
          32.983158478983505,
          32.497411839268125,
          25.19655198590176,
          26.650392051018674,
          37.73396674217171,
          36.167321111839065,
          31.247511383911657,
          31.712572044574326,
          31.42406588405689,
          35.245898565432896,
          38.342579108980935,
          27.475669706635244,
          32.82073678344887,
          30.74030370241263,
          34.872222704445406,
          26.778268037789793,
          29.98608139648336,
          31.840963024511872,
          28.08115852918096,
          42.84631062336917,
          38.49693402497916,
          25.24798919820062,
          35.26330483910967,
          25.42141402763448,
          27.12457585408998,
          38.49693402497916,
          27.979276774880077,
          27.196678475880258,
          27.96971839017801,
          28.365516291925815,
          26.456316407442504,
          30.683432126634134,
          28.122760245520492,
          38.12196388837222,
          28.246015586260533,
          29.701078422565008,
          36.63262244341714,
          36.87880939600639,
          27.96971839017801,
          30.557053225136396,
          29.645345173638574,
          25.76834706138548,
          27.622800063377905,
          26.17521569919683,
          42.49661548211986,
          32.32349530940383,
          31.87246161158989,
          30.831158980584117,
          28.057784323928235,
          36.04873973114451,
          27.0904967668226,
          26.433386284121863,
          40.87174489015644,
          27.196678475880258,
          27.046189952766476,
          40.50331861219175,
          37.73396674217171,
          32.472450809464405,
          31.663832139824162,
          37.353134918784605,
          32.872381975875065,
          31.663832139824162,
          26.71770721627863,
          36.76022801531183,
          28.747710473198726,
          30.84894618768829,
          29.467882407165206,
          25.90396994065593,
          37.612244268809874,
          40.996734935692096,
          32.872381975875065,
          25.67819598750958,
          27.064507589222785,
          29.567670958392892,
          38.51729398126436,
          30.238252077111348,
          27.837785756262075,
          33.622322249088946,
          36.64164663461728,
          27.392298940442043,
          30.238252077111348,
          34.809857858779964,
          36.94113749646152,
          27.057208329850102,
          38.342579108980935,
          32.09774498438697,
          36.05482082759037,
          26.25747512719515,
          26.917738183819946,
          27.057208329850102,
          27.604060686572794,
          33.12236206694636,
          38.951191475790154,
          26.24790956248579,
          31.247511383911657,
          28.12884215733829,
          31.49749147498295,
          28.365516291925815,
          28.246015586260533,
          28.887970485948273,
          27.336148621910414,
          36.40150179708643,
          38.13490664456674,
          36.76022801531183,
          30.171880285323752,
          41.99665529997727,
          39.37186434372869,
          34.78365727277148,
          30.272872560027835,
          31.28267565399397,
          44.93684297814176,
          39.194636422513845,
          28.890080791338438,
          25.67819598750958,
          31.193262232203477,
          33.795978503669865,
          36.9793034129132,
          37.622003706229634,
          31.997451657125538,
          37.23338418188888,
          38.12196388837222,
          26.49932774572948,
          28.59137993618181,
          36.76022801531183,
          36.03228656457313,
          40.41186115613229,
          30.608371068496695,
          39.62184443479998,
          38.746914116050455,
          35.36145888859824,
          39.55980384259937,
          31.241312710754755,
          34.66556458313793,
          32.54949102490797,
          32.09774498438697,
          37.55710502873997,
          31.247511383911657,
          38.13490664456674,
          27.02407648041509,
          33.79569349794797,
          29.0524382701658,
          29.288730666332583,
          29.467882407165206,
          30.623485638818746,
          28.11789134658602,
          27.02238908632942,
          31.87246161158989,
          27.837785756262075,
          37.353134918784605,
          35.8115769697554,
          26.99784983569967,
          35.59843069053226,
          26.99784983569967,
          28.365516291925815,
          32.89475241023867,
          26.71770721627863,
          37.1159721573955,
          26.85333009554908,
          36.76022801531183,
          32.7433453343361,
          36.40448387322817,
          31.193262232203477,
          27.604060686572794,
          38.99689420712175,
          27.548826362958845,
          29.565787680958078,
          39.05938922988957,
          34.99721274998105,
          31.42406588405689,
          31.464507990744377,
          27.046189952766476,
          33.47283504723724,
          35.245898565432896,
          26.917738183819946,
          39.406070199385624,
          29.977527461881223,
          30.674063287184747,
          36.03228656457313,
          32.497411839268125,
          30.238252077111348,
          32.497411839268125,
          40.62176479908515,
          26.113991656554738,
          27.70585312234614,
          25.62295933480756,
          26.58208433700818,
          31.13610160416043,
          28.890080791338438,
          29.882507935027682,
          37.94604182225738,
          34.78365727277148,
          29.294541922417178,
          27.057208329850102,
          38.70774652906647,
          34.02360968345019,
          26.13804118597525,
          33.10851275442163,
          29.94870789891702,
          32.63563334520074,
          32.95635966271932,
          39.31635889587569,
          40.899116513939546,
          37.612244268809874,
          37.73396674217171,
          41.364978177487224,
          29.023296163876278,
          31.199008124824132,
          26.778268037789793,
          25.90396994065593,
          30.045684022991974,
          28.16331541972489,
          32.54949102490797,
          31.455790084699228,
          32.86506780769795,
          29.091492167441384,
          29.467882407165206,
          39.31592490694833,
          39.159248880952106,
          39.416030840827204,
          36.76022801531183,
          41.74472223944448,
          31.647843074079503,
          27.49781001784226,
          38.951191475790154,
          28.2662437161609,
          30.392364992488037,
          30.043489305386206,
          28.88908113456365,
          25.66250686954855,
          25.439996932625444,
          38.52432910345273,
          26.49932774572948,
          27.70585312234614,
          30.962372418694446,
          37.49701366069399,
          26.58105883319517,
          27.441987854514277,
          31.070617144886587,
          27.762439225781623,
          37.73396674217171,
          40.551240901864524,
          27.144111559691265,
          28.10378722460937,
          33.20278659447521,
          30.922016473662577,
          27.441987854514277,
          36.40150179708643,
          33.795978503669865,
          35.59257953492895,
          28.45953136669303,
          26.782324684934608,
          39.159248880952106,
          37.1159721573955,
          35.82373721389006,
          28.49744892584175,
          37.612244268809874,
          33.37234215801765,
          26.58208433700818,
          26.71770721627863,
          39.24687429819304,
          33.473680174507166,
          31.455790084699228,
          29.645345173638574,
          32.1915626754879,
          35.59257953492895,
          26.386526783186806,
          28.840177598722544,
          38.22085663561909,
          34.03285625933709,
          30.872541247304717,
          40.1684162094086,
          26.497889653557085,
          38.24695393390787,
          36.516742008553265,
          29.94870789891702,
          26.06336892732222,
          38.62192407051481,
          28.59137993618181,
          27.96971839017801,
          34.934349854849295,
          29.567670958392892,
          30.979646961697377,
          39.54442182076475,
          31.584181064636777,
          36.9970534785514,
          27.837785756262075,
          28.365516291925815,
          36.523065253922724,
          36.88190942863881,
          30.917508233908435,
          27.615088913970723,
          30.171880285323752,
          39.159248880952106,
          28.604781240033397,
          30.16124434615733,
          35.82370018125966,
          25.934977947384674,
          32.32349530940383,
          27.75455906000088,
          26.386526783186806,
          29.699003053495915,
          28.50279754613563,
          28.239613819947863,
          38.12196388837222,
          28.75205040533538,
          36.516742008553265,
          43.27390392442636,
          27.12457585408998,
          26.782324684934608,
          30.42866224519885,
          30.557053225136396,
          34.205855656944706,
          37.24707684872433,
          32.62240188480377,
          35.42123974829667,
          30.379524956580777,
          38.746914116050455,
          34.436976303275415,
          29.430164801687628,
          38.420367345035594,
          26.54444206847597,
          43.37154580086938,
          26.122661515354938,
          27.395821612630883,
          27.336148621910414,
          37.23455353809005,
          30.043489305386206,
          26.833714806947505,
          24.93526781011153,
          28.604781240033397,
          29.529925385636012,
          32.27824526636708,
          25.5949309796912,
          37.12535437536249,
          25.90396994065593,
          29.420977363253286,
          26.17033177279651,
          27.802690250442232,
          37.49701366069399,
          27.672698771003073,
          38.183204583646486,
          29.149260520302427,
          27.171749029488396,
          46.11177895195297,
          27.261859421678025,
          27.979276774880077,
          28.172969498091344,
          36.74707338748011,
          34.86292592419896,
          34.37226252230282,
          28.497730382127433,
          23.74810865177286,
          36.39501953519143,
          28.747710473198726,
          41.95457758526702,
          32.775484317086466,
          25.76834706138548,
          27.310055220598343,
          29.99761092855519,
          39.121884252657395,
          31.13610160416043,
          31.661228645446,
          33.10851275442163,
          27.604060686572794,
          35.94947438251341,
          30.922016473662577,
          26.122919516950144,
          28.101651024093947,
          26.535499192882043,
          28.59137993618181,
          28.747710473198726,
          26.03959281992638,
          31.004168970244496,
          32.37242179373248,
          27.96971839017801,
          26.71770721627863,
          37.49701366069399,
          25.801977015578704,
          28.890080791338438,
          35.574414208366285,
          31.247511383911657,
          29.99761092855519,
          29.707141104423048,
          34.02360968345019,
          29.94372844701368,
          30.674063287184747,
          36.28594147392108,
          36.9793034129132,
          27.979276774880077,
          25.67819598750958,
          28.073936008983132,
          27.196678475880258,
          30.131528834486236,
          25.726863613607133,
          24.54774114795143,
          29.99761092855519,
          24.77945912794674,
          29.99761092855519,
          29.025179461505484,
          32.48291792419961,
          26.98895297481953,
          34.082292541316384,
          31.070617144886587,
          39.74683448033563,
          29.7476308374839,
          36.9793034129132,
          32.55679262520197,
          27.395821612630883,
          28.246015586260533,
          28.365516291925815,
          37.94604182225738,
          38.538948725730144,
          38.12196388837222,
          25.036241087821836,
          30.84894618768829,
          32.99737202141071,
          26.705323827009963,
          37.87198379730093,
          35.574414208366285,
          30.344505800664827,
          29.99761092855519,
          32.37817791425057,
          27.667067371171782,
          27.573920488430208,
          30.125551542513513,
          30.74030370241263,
          26.85333009554908,
          28.34518176752403,
          27.979276774880077,
          37.00363190200065,
          26.220387453669172,
          25.92688682607282,
          26.833714806947505,
          30.997531292840364,
          32.86506780769795,
          30.74030370241263,
          39.496854389264335,
          27.395821612630883,
          29.025179461505484,
          33.47283504723724,
          34.02360968345019,
          24.49804892498674,
          26.900666612967576,
          31.600130870014826,
          30.622561156233424,
          32.60987969100243,
          28.887673284605828,
          34.56918243476377,
          37.12204352408705,
          38.342579108980935,
          30.43061834046106,
          28.840177598722544,
          30.650770715121677,
          40.777028576217816,
          30.344505800664827,
          30.243902077310327,
          27.261859421678025,
          26.30426861199743,
          30.001089315722236,
          27.520650975558002,
          38.8719041615861,
          30.715890207247757,
          27.802690250442232,
          28.172969498091344,
          32.73969988407471,
          30.08064053283296,
          30.43061834046106,
          43.534944245814415,
          37.9774116888954,
          27.667067371171782,
          33.505632323764644,
          37.36879932208618,
          32.24743174819683,
          34.082292541316384,
          29.401534405698467,
          28.887970485948273,
          37.94604182225738,
          32.86506780769795,
          29.882507935027682,
          30.831158980584117,
          28.239613819947863,
          27.475669706635244,
          29.567670958392892,
          26.782324684934608,
          27.261859421678025,
          27.70585312234614,
          29.645345173638574,
          30.344505800664827,
          30.997531292840364,
          43.121565709798084,
          28.374406566198083,
          38.8719041615861,
          25.439996932625444,
          29.822005973651837,
          28.057784323928235,
          29.81456337666127,
          30.515147835851227,
          32.54949102490797,
          31.584181064636777,
          25.561719405987287,
          27.261859421678025,
          25.462998345775265,
          31.328885111473927,
          28.122760245520492,
          38.01934632140138,
          25.5949309796912,
          25.164632067759385,
          28.696694128082132,
          35.71108395221116,
          28.10378722460937,
          32.14262238709663,
          35.70813985809431,
          29.414111481284188,
          34.82661591142417,
          25.423271096377825,
          36.40448387322817,
          27.12457585408998,
          28.365516291925815,
          32.496544025026154,
          26.638797891759637,
          33.473680174507166,
          39.13185562920292,
          28.10378722460937,
          31.193262232203477,
          34.604177645855295,
          27.310055220598343,
          42.23769825655995,
          39.99681457140692,
          30.623485638818746,
          35.70272296794593,
          29.645345173638574,
          27.604060686572794,
          28.12276024552049,
          31.160953180632124,
          36.87880939600639,
          37.9774116888954,
          30.043489305386206,
          39.80120378063984,
          29.98608139648336,
          29.822005973651837,
          30.683432126634134,
          28.629381559757682,
          35.42123974829667,
          27.405342892318437,
          29.98608139648336,
          27.21888774676015,
          37.12535437536249,
          41.983850439578156,
          31.38078285678491,
          29.529925385636012,
          36.40150179708643,
          38.12196388837222,
          26.292054246158354,
          29.121201437669143,
          25.726863613607133,
          26.58208433700818,
          27.894029206031036,
          32.22613596432452,
          30.3568334578059,
          35.33725144697718,
          29.408182412249467,
          28.59137993618181,
          26.386526783186806,
          25.827024715273918,
          28.48080464679448,
          24.101049725645158,
          33.45801871863317,
          27.17812258668241,
          34.62224261337411,
          29.645345173638574,
          26.91425731885054,
          38.8719041615861,
          29.497650746412607,
          38.342579108980935,
          28.887970485948273,
          36.40150179708643,
          40.899116513939546,
          31.42406588405689,
          33.96057006795454,
          26.386526783186806,
          27.70585312234614,
          37.89981361212722,
          38.62192407051481,
          30.238252077111348,
          28.45953136669303,
          29.122680609805666,
          38.06462320295193,
          40.23945334435988,
          26.962105786885054,
          36.9793034129132,
          26.747869744628378,
          35.245898565432896,
          25.67819598750958,
          38.371943979443515,
          34.625763162809854,
          29.57856102692815,
          25.067200444027463,
          32.497411839268125,
          29.23916471651469,
          31.13610160416043,
          38.77407594113946,
          37.12204352408705,
          31.03923070727028,
          28.409727186801312,
          24.825685993367617,
          27.73245166651034,
          32.49990038761241,
          26.778268037789793,
          30.045684022991974,
          27.171749029488396,
          36.84821124207624,
          30.001089315722236,
          31.011235305394365,
          35.056072328211144,
          30.171880285323752,
          28.69669412808214,
          27.762439225781623,
          32.73969988407471,
          26.872859790164025,
          39.121884252657395,
          25.372979243736268,
          33.90571981761247,
          27.802690250442232,
          38.746914116050455,
          31.747471566054244,
          33.37895638073131,
          38.49693402497916,
          38.342579108980935,
          28.629381559757682,
          25.19655198590176,
          38.70774652906647,
          28.209558888253582,
          31.070617144886587,
          28.057784323928235,
          27.70585312234614,
          24.95460978576278,
          37.73396674217171,
          27.604060686572794,
          32.76469427135365,
          37.40088287739466,
          25.37641546863462,
          22.29329957057621,
          25.09023266503323,
          28.057784323928235,
          39.25043700989747,
          37.59029768017372,
          31.057639352933027,
          28.374406566198083,
          37.78995907991816,
          32.00699950782618,
          33.51249371795259,
          27.319421578561702,
          26.54444206847597,
          36.87880939600639,
          27.12457585408998,
          28.057784323928235,
          28.45953136669303,
          39.496854389264335,
          26.650392051018674,
          25.66250686954855,
          25.37641546863462,
          28.88908113456365,
          33.79569349794797,
          26.31083857846728,
          27.395821612630883,
          36.872063433015754,
          37.87533908157663,
          27.261859421678025,
          31.399966871992298,
          30.43061834046106,
          27.614766676708317,
          32.71929321115164,
          29.414111481284188,
          43.2357452693481,
          26.917738183819946,
          37.49701366069399,
          28.172969498091344,
          29.915098325448657,
          27.046189952766476,
          31.241312710754755,
          29.37266070087696,
          26.24790956248579,
          34.082292541316384,
          39.159248880952106,
          36.40448387322817,
          26.54444206847597,
          28.59137993618181,
          26.359857599699325,
          31.464507990744377,
          29.288730666332583,
          28.89324682758955,
          29.414111481284188,
          27.475669706635244,
          38.77407594113946,
          29.414111481284188,
          28.057784323928235,
          24.27649538941053,
          25.462998345775265,
          25.801977015578704,
          26.917973417663827,
          36.87880939600639,
          24.998009107129327,
          25.293023047696934,
          37.94604182225738,
          25.726863613607133,
          36.872063433015754,
          26.122661515354938,
          33.10851275442163,
          28.34094998599848,
          26.58208433700818,
          28.73703333911858,
          34.388600401420746,
          27.531444491901333,
          30.212573166748893,
          29.529925385636012,
          26.320150887197318,
          25.67819598750958,
          29.84456189320542,
          31.87246161158989,
          29.701078422565008,
          32.37817791425057,
          37.87198379730093,
          32.25645544088872,
          32.14262238709663,
          26.087903752801946,
          31.06832174197323,
          29.408182412249467,
          37.86466593387306,
          32.496544025026154,
          37.12535437536249,
          32.84704245239154,
          38.342579108980935,
          37.36879932208618,
          29.645345173638574,
          41.62908588975073,
          38.12196388837222,
          36.516742008553265,
          30.308895867099213,
          27.894029206031036,
          37.353134918784605,
          38.183204583646486,
          31.566363540890343,
          25.10433334246211,
          30.276804669322683,
          27.802690250442232,
          34.09029533377936,
          37.361775161826436,
          35.36145888859824,
          27.387556506414953,
          26.49932774572948,
          25.76834706138548,
          36.99739077670094,
          29.846611250453204,
          36.76022801531183,
          41.121724981227736,
          26.44646145773773,
          25.67819598750958,
          36.99739077670094,
          32.09774498438697,
          36.76022801531183,
          23.623940308508807,
          25.036241087821836,
          38.342579108980935,
          31.49749147498295,
          30.813835185011488,
          30.650770715121677,
          31.526120600717658,
          29.42820081236274,
          27.3472787266977,
          37.55710502873997,
          26.831409009756793,
          38.49693402497916,
          27.802690250442232,
          27.938313129712682,
          28.209558888253582,
          28.057784323928235,
          27.802690250442232,
          27.996168873224175,
          34.20401501467823,
          25.970508185914326,
          29.645345173638574,
          30.40955908901437,
          35.1222027955167,
          31.455790084699228,
          31.853330482171167,
          31.793942580979394,
          28.48080464679448,
          31.372501429447304,
          27.336148621910414,
          31.399966871992298,
          27.310055220598343,
          39.496854389264335,
          24.651068148009195,
          43.941812883625765,
          29.98608139648336,
          30.42866224519885,
          30.872236336328562,
          36.523065253922724,
          35.477019211763604,
          26.77894413960573,
          27.17812258668241,
          30.43061834046106,
          30.917508233908435,
          37.9774116888954,
          31.520253002815068,
          28.696694128082132,
          36.76022801531183,
          30.683432126634134,
          29.009790374272278,
          30.238252077111348,
          30.64168717666068,
          26.917738183819946,
          28.696694128082132,
          29.288730666332583,
          30.16124434615733,
          36.76022801531183,
          33.37234215801765,
          37.73396674217171,
          39.194636422513845,
          28.34518176752403,
          30.043489305386206,
          29.68218236373461,
          26.747869744628378,
          41.162981781771414,
          33.79569349794797,
          30.43061834046106,
          25.85879624752307,
          29.11145103540207,
          26.06336892732222,
          30.515147835851227,
          26.54444206847597,
          29.456838553566303,
          31.663832139824162,
          29.408182412249467,
          31.004168970244496,
          27.70585312234614,
          37.49701366069399,
          33.20278659447521,
          27.996168873224175,
          35.59257953492895,
          25.067200444027463,
          31.663832139824162,
          29.684842631085154,
          27.261859421678025,
          30.131528834486236,
          26.872859790164025,
          31.241312710754755,
          34.98150730489352,
          25.90396994065593,
          36.872063433015754,
          38.301785964341036,
          27.395821612630883,
          26.220387453669172,
          28.983661069362956,
          24.267805409247,
          37.441544705574614,
          27.667067371171782,
          38.951191475790154,
          28.033499352061188,
          29.236761760834497,
          29.76392655433313,
          30.795785760546593,
          28.696694128082132,
          34.021285027027666,
          27.894029206031036,
          29.99761092855519,
          35.49717293212365,
          25.253090832712275,
          36.72496330732126,
          30.171880285323752,
          25.67819598750958,
          35.574414208366285,
          31.87246161158989,
          25.67819598750958,
          26.833714806947505,
          28.365516291925815,
          27.36860318011293,
          37.600800666041195,
          31.87246161158989,
          37.23455353809005,
          39.929594760577395,
          34.98150730489352,
          35.37312416717446,
          45.746356666046665,
          31.600130870014826,
          37.490521795448025,
          40.777028576217816,
          30.622561156233424,
          31.92769740765603,
          36.516742008553265,
          28.696694128082132,
          30.557053225136396,
          29.273143425760917,
          34.151437640031645,
          32.25645544088872,
          30.515147835851227,
          29.345224520898867,
          27.43841392182325,
          28.983661069362956,
          27.196678475880258,
          33.68332524199097,
          26.035524133548268,
          29.99761092855519,
          34.69090490812561,
          26.576932847072413,
          34.082292541316384,
          30.238252077111348,
          26.17521569919683,
          32.14262238709663,
          36.76022801531183,
          27.319421578561702,
          26.24790956248579,
          27.762439225781623,
          26.386526783186806,
          28.34518176752403,
          36.516742008553265,
          40.655306102855974,
          37.12535437536249,
          31.663832139824162,
          41.50348324309401,
          27.802690250442232,
          30.949740361278675,
          27.387556506414953,
          37.49701366069399,
          30.622561156233424,
          27.96971839017801,
          34.872222704445406,
          26.872859790164025,
          30.045684022991974,
          27.802690250442232,
          29.37266070087696,
          25.462998345775265,
          27.09533037689377,
          25.726863613607133,
          39.44785754086428,
          27.83579330423967,
          26.578874328031365,
          29.622640791948253,
          29.98608139648336,
          32.62240188480377,
          30.045684022991974,
          36.59142928220115,
          27.96971839017801,
          30.622561156233424,
          36.86374308974785,
          25.76834706138548,
          26.49932774572948,
          23.055889475976485,
          26.292054246158354,
          26.386526783186806,
          38.6575301064247,
          28.761314193673616,
          27.38779659018884,
          37.70887906086827,
          28.122760245520492,
          25.199133077943397,
          37.94604182225738,
          38.183204583646486,
          35.82370018125966,
          25.33106571185933,
          24.394286188134096,
          24.26589520819655,
          35.82370018125966,
          30.43061834046106,
          27.196678475880258,
          23.998088742844153,
          29.247670655341313,
          39.871824525871276,
          27.17812258668241,
          26.77894413960573,
          32.32349530940383,
          29.94870789891702,
          27.336148621910414,
          31.777989248020013,
          25.561719405987287,
          26.77894413960573,
          30.275012305126648,
          25.990728881439004,
          27.73245166651034,
          31.305484503362337,
          38.183204583646486,
          37.12535437536249,
          30.82290227266429,
          28.246015586260533,
          29.81456337666127,
          25.372979243736268,
          30.272872560027835,
          25.990368636901945,
          31.622481520518598,
          27.63100145313864,
          26.44646145773773,
          26.576932847072413,
          29.567670958392892,
          27.989233626385438,
          33.20278659447521,
          30.70546271704788,
          34.922511120458864,
          25.293023047696934,
          35.82370018125966,
          25.9979294714145,
          32.09774498438697,
          27.12457585408998,
          32.983158478983505,
          30.171880285323752,
          26.497889653557085,
          32.09774498438697,
          28.374406566198083,
          28.578112747387586,
          26.386526783186806,
          41.49669511783468,
          27.802690250442232,
          37.49701366069399,
          34.922511120458864,
          37.73396674217171,
          29.37266070087696,
          37.12535437536249,
          30.84894618768829,
          26.386526783186806,
          35.29951727493483,
          27.260198733360433,
          26.872859790164025,
          38.77407594113946,
          38.342579108980935,
          29.882507935027682,
          26.91425731885054,
          30.84894618768829,
          32.37242179373248,
          38.342579108980935,
          23.752331288446356,
          32.37242179373248,
          32.497411839268125,
          29.288730666332583,
          29.99761092855519,
          28.36133629330971,
          30.622561156233424,
          29.456838553566303,
          26.85333009554908,
          29.236761760834497,
          40.91057633962123,
          27.604060686572794,
          35.908129641744054,
          40.1684162094086,
          28.409727186801312,
          30.54396198060398,
          39.72476253267569,
          28.45953136669303,
          35.245898565432896,
          30.831158980584117,
          30.238252077111348,
          27.372819972306612,
          36.9793034129132,
          26.2321933585353,
          34.604177645855295,
          29.009790374272278,
          26.62287969909273,
          35.908129641744054,
          39.54442182076475,
          27.387556506414953,
          28.27596868140379,
          26.962105786885054,
          39.072913949151996,
          29.0524382701658,
          25.109607362071866,
          25.462998345775265,
          27.02407648041509,
          39.55980384259937,
          30.70546271704788,
          35.10008868558807,
          39.99681457140692,
          36.516742008553265,
          36.49965678396346,
          32.621622860974256,
          26.51845941710274,
          26.320150887197318,
          29.837033439498978,
          26.49932774572948,
          27.046189952766476,
          38.12196388837222,
          23.98886511718669,
          36.37210325087317,
          27.12457585408998,
          32.73969988407471,
          35.574414208366285,
          43.746515937476325,
          43.93356709400603,
          28.172969498091344,
          26.705323827009963,
          29.0524382701658,
          38.06462320295193,
          34.388600401420746,
          26.320150887197318,
          24.394286188134096,
          26.17521569919683,
          34.58455133542217,
          28.48080464679448,
          30.43061834046106,
          25.439996932625444,
          35.21867006628263,
          34.922511120458864,
          24.392190008869814,
          26.77894413960573,
          31.663832139824162,
          26.06336892732222,
          26.747869744628378,
          29.288730666332583,
          30.131528834486236,
          33.12236206694636,
          41.085113580015324,
          30.065450920375525,
          25.801977015578704,
          30.43061834046106,
          25.22585554430368,
          40.443158680327585,
          28.69669412808214,
          26.320150887197318,
          29.171019650860355,
          29.37266070087696,
          36.24711320533752,
          37.70887906086827,
          29.822005973651837,
          23.752331288446356,
          30.43061834046106,
          30.272872560027835,
          24.222772199007004,
          31.247511383911657,
          31.566363540890343,
          43.40583655834229,
          39.159248880952106,
          31.38078285678491,
          27.261859421678025,
          26.44646145773773,
          25.109607362071866,
          31.03923070727028,
          30.171880285323752,
          37.73396674217171,
          29.529925385636012,
          32.60987969100243,
          36.59142928220115,
          29.42820081236274,
          29.99761092855519,
          31.004168970244496,
          29.645345173638574,
          38.342579108980935,
          27.802690250442232,
          29.94372844701368,
          24.95310703917807,
          27.336148621910414,
          32.497411839268125,
          29.171019650860355,
          35.82370018125966,
          28.11789134658602,
          25.801977015578704,
          36.24711320533752,
          31.87246161158989,
          26.220387453669172,
          27.36860318011293,
          29.859450444337064,
          37.73396674217171,
          24.407537274447794,
          35.574414208366285,
          29.158919043146728,
          26.087903752801946,
          39.37186434372869,
          27.261859421678025,
          31.87246161158989,
          26.872859790164025,
          29.872620883019547,
          33.74731229462459,
          26.44646145773773,
          36.24711320533752,
          26.872859790164025,
          33.64282164856318,
          36.516742008553265,
          26.19175990725977,
          22.593900008215893,
          27.261859421678025,
          29.822005973651837,
          25.423271096377825,
          26.705323827009963,
          27.5092789797768,
          28.890080791338438,
          26.386526783186806,
          26.113991656554738,
          37.55710502873997,
          26.386526783186806,
          26.06336892732222,
          21.768884596129116,
          27.8727801544492,
          30.622561156233424,
          38.12196388837222,
          37.73396674217171,
          26.747869744628378,
          31.647843074079503,
          31.542647264751444,
          28.48305876667155,
          26.17521569919683,
          33.12236206694636,
          26.576932847072413,
          37.23455353809005,
          29.529925385636012,
          28.696694128082132,
          24.803335176195596,
          26.962105786885054,
          31.201287254645514,
          25.067200444027463,
          28.50127520476159,
          29.882507935027682,
          31.06832174197323,
          23.752331288446356,
          27.171749029488396,
          31.566363540890343,
          25.85879624752307,
          37.55710502873997,
          36.76022801531183,
          35.82370018125966,
          26.31083857846728,
          35.59257953492895,
          25.934977947384674,
          25.726863613607133,
          36.61231004564235,
          25.827024715273918,
          39.13185562920292,
          26.58105883319517,
          32.09774498438697,
          34.98150730489352,
          28.365516291925815,
          34.55253662644077,
          32.35689048629905,
          30.59399621919501,
          28.057784323928235,
          22.593900008215893,
          31.464507990744377,
          24.34449467236885,
          30.247591019626483,
          33.230235227783474,
          36.99739077670094,
          37.471716299479155,
          27.531444491901333,
          27.387556506414953,
          30.795785760546593,
          34.32141598011007,
          26.17521569919683,
          40.443158680327585,
          33.8388475945927,
          25.62295933480756,
          35.94947438251341,
          26.17521569919683,
          26.962105786885054,
          31.247511383911657,
          27.8727801544492,
          30.001089315722236,
          24.407537274447794,
          30.18717339373737,
          32.01697278752966,
          30.84894618768829,
          37.73396674217171,
          28.365516291925815,
          27.02238908632942,
          30.831158980584117,
          24.27649538941053,
          30.74030370241263,
          34.39798063866818,
          34.98150730489352,
          29.0524382701658,
          39.99681457140692,
          26.62287969909273,
          24.68336402722188,
          29.529925385636012,
          27.938313129712682,
          29.99761092855519,
          38.12196388837222,
          28.696694128082132,
          25.76834706138548,
          25.934977947384674,
          36.76022801531183,
          34.99721274998105,
          25.726863613607133,
          32.32349530940383,
          37.49701366069399,
          28.72658172811939,
          28.604781240033397,
          33.36322830053067,
          43.24655575533374,
          27.196678475880258,
          29.58344273033056,
          25.726863613607133,
          27.310055220598343,
          29.37266070087696,
          37.353134918784605,
          25.695023538755336,
          25.036241087821836,
          25.76834706138548,
          38.51729398126436,
          32.01697278752966,
          26.638797891759637,
          33.35195770114532,
          25.020671326550957,
          36.167321111839065,
          29.81456337666127,
          29.025179461505484,
          30.622561156233424,
          34.69090490812561,
          26.638797891759637,
          38.36602729089745,
          27.046189952766476,
          28.629381559757682,
          27.261859421678025,
          37.353134918784605,
          33.007405671917574,
          23.615941470952187,
          38.12196388837222,
          34.668096949606124,
          25.726863613607133,
          34.604177645855295,
          29.213393606842615,
          27.12457585408998,
          24.373058879451094,
          26.44646145773773,
          29.529925385636012,
          28.172969498091344,
          40.31766943614846,
          27.046189952766476,
          26.49932774572948,
          27.63100145313864,
          28.365516291925815,
          32.621622860974256,
          28.79614706929477,
          26.17033177279651,
          26.386526783186806,
          27.615088913970723,
          38.12196388837222,
          41.24671502676339,
          33.38165478376245,
          42.096390146566776,
          30.82290227266429,
          40.828331620140226,
          28.761314193673616,
          24.825685993367617,
          30.125551542513513,
          27.261859421678025,
          34.35924481206437,
          28.246015586260533,
          33.12236206694636,
          27.319421578561702,
          25.726863613607133,
          27.475618767940567,
          36.99739077670094,
          28.99769056427002,
          31.306580403540977,
          29.37266070087696,
          29.55290999716922,
          37.55710502873997,
          24.95310703917807,
          24.309183042383633,
          33.20278659447521,
          29.414111481284188,
          32.22613596432452,
          37.353134918784605,
          38.13490664456674,
          31.28267565399397,
          30.18717339373737,
          24.41211826868098,
          31.49749147498295,
          35.36145888859824,
          27.49781001784226,
          41.38564094302704,
          29.98608139648336,
          25.067200444027463,
          29.837033439498978,
          26.650392051018674,
          36.2062563423885,
          29.213393606842615,
          28.887970485948273,
          33.21923363858921,
          30.272872560027835,
          25.494996849329173,
          29.837033439498978,
          27.064507589222785,
          25.067200444027463,
          30.5523408138229,
          39.13185562920292,
          36.40150179708643,
          27.979276774880077,
          34.62224261337411,
          36.87880939600639,
          33.09198254198977,
          28.933856889471247,
          41.38564094302704,
          33.22760542126022,
          37.353134918784605,
          31.647843074079503,
          27.615088913970723,
          24.825685993367617,
          31.03923070727028,
          26.49932774572948,
          38.13490664456674,
          28.312279175511666,
          32.85771477665404,
          31.647843074079503,
          25.10462628542793,
          32.60987969100243,
          30.623485638818746,
          25.726863613607133,
          24.998009107129327,
          29.645345173638574,
          38.951191475790154,
          40.55517420440384,
          24.902089945856403,
          36.76022801531183,
          26.03959281992638,
          24.407537274447794,
          39.29050987622028,
          26.77894413960573,
          39.55980384259937,
          25.38356657748824,
          38.12196388837222,
          28.122760245520492,
          27.49781001784226,
          27.196678475880258,
          29.213393606842615,
          25.164632067759385,
          38.36602729089745,
          36.24711320533752,
          31.647843074079503,
          29.37266070087696,
          39.37186434372869,
          34.78365727277148,
          33.473680174507166,
          26.03959281992638,
          26.386526783186806,
          31.77908887047228,
          24.664927184467295,
          25.49710130284458,
          29.025179461505484,
          27.12457585408998,
          31.997451657125538,
          26.44646145773773,
          32.25645544088872,
          30.131528834486236,
          25.801977015578704,
          34.74723265890976,
          37.9774116888954,
          26.650392051018674,
          26.44646145773773,
          22.498208196416392,
          36.24711320533752,
          24.998009107129327,
          26.62287969909273,
          27.979276774880077,
          30.622561156233424,
          32.25645544088872,
          36.76022801531183,
          28.747710473198726,
          35.908129641744054,
          27.802690250442232,
          30.43061834046106,
          27.70585312234614,
          26.49932774572948,
          29.7476308374839,
          34.668096949606124,
          30.344505800664827,
          39.55980384259937,
          25.67819598750958,
          36.76022801531183,
          30.247591019626483,
          27.12457585408998,
          35.93639047556896,
          29.853114344908384,
          29.786707345511108,
          40.898751049579666,
          34.35924481206437,
          30.416380653302884,
          30.43061834046106,
          21.82646658938314,
          29.213393606842615,
          30.515147835851227,
          35.29951727493483,
          28.12884215733829,
          28.365516291925815,
          32.01697278752966,
          24.373058879451094,
          29.289044729337352,
          35.622162977659286,
          26.962105786885054,
          29.420977363253286,
          35.29951727493483,
          28.365516291925815,
          26.386526783186806,
          30.08064053283296,
          26.320150887197318,
          28.45953136669303,
          29.645345173638574,
          29.529925385636012,
          33.5100457637,
          25.54980500757203,
          29.645345173638574,
          30.84894618768829,
          36.24711320533752,
          26.122661515354938,
          40.72035091181903,
          34.55253662644077,
          29.467882407165206,
          25.90396994065593,
          27.046189952766476,
          27.196678475880258,
          33.79569349794797,
          32.01697278752966,
          24.77945912794674,
          25.33106571185933,
          30.122600974090837,
          23.70992482512638,
          29.158919043146728,
          28.365516291925815,
          39.55980384259937,
          28.59137993618181,
          29.645345173638574,
          29.025179461505484,
          25.67819598750958,
          34.98150730489352,
          24.623038970522387,
          34.922511120458864,
          29.025179461505484,
          29.213393606842615,
          34.98150730489352,
          26.58105883319517,
          24.407275555277156,
          31.247511383911657,
          29.786707345511108,
          38.538948725730144,
          25.76834706138548,
          27.734477559684898,
          37.73396674217171,
          30.683432126634134,
          24.95310703917807,
          31.566363540890343,
          24.34449467236885,
          35.33725144697718,
          38.951191475790154,
          24.392190008869814,
          26.638797891759637,
          28.730850082211965,
          34.922511120458864,
          29.93012369982662,
          35.574414208366285,
          26.831409009756793,
          31.160953180632124,
          36.24711320533752,
          29.872620883019547,
          31.87246161158989,
          36.9793034129132,
          32.86506780769795,
          31.004168970244496,
          31.566363540890343,
          27.046189952766476,
          31.38078285678491,
          28.312279175511666,
          25.90396994065593,
          39.55980384259937,
          26.900666612967576,
          34.625763162809854,
          29.158919043146728,
          25.85879624752307,
          29.414111481284188,
          36.37210325087317,
          31.193262232203477,
          25.76834706138548,
          39.37186434372869,
          31.42406588405689,
          25.726863613607133,
          25.76834706138548,
          32.254135548918775,
          30.171880285323752,
          26.24790956248579,
          23.86962675159918,
          36.40150179708643,
          26.51845941710274,
          27.260198733360433,
          25.497969289271914,
          24.34449467236885,
          28.374406566198083,
          29.98608139648336,
          31.647843074079503,
          27.979276774880077,
          30.247591019626483,
          23.74810865177286,
          28.747710473198726,
          27.96971839017801,
          40.62176479908515,
          35.30751948282567,
          30.43061834046106,
          25.523036723518395,
          29.786707345511108,
          28.45953136669303,
          25.848125225662216,
          31.247511383911657,
          27.802690250442232,
          26.917973417663827,
          28.696694128082132,
          33.12236206694636,
          34.21075397514117,
          26.386526783186806,
          28.631188526073178,
          27.614766676708317,
          27.057208329850102,
          25.09023266503323,
          35.66468469502036,
          47.37122725801007,
          28.747710473198726,
          25.726863613607133,
          28.648474520221463,
          31.647843074079503,
          38.920127005200534,
          32.497411839268125,
          34.17018577738801,
          30.344505800664827,
          39.052059639116464,
          25.827024715273918,
          30.674063287184747,
          25.036241087821836,
          29.025179461505484,
          28.761314193673616,
          35.93926050442502,
          24.41211826868098,
          28.88908113456365,
          25.62295933480756,
          29.701078422565008,
          29.822005973651837,
          26.320150887197318,
          25.726863613607133,
          38.06462320295193,
          28.747710473198726,
          26.49932774572948,
          37.600800666041195,
          30.739045961984097,
          31.193262232203477,
          38.51729398126436,
          24.407537274447794,
          35.94947438251341
         ],
         "xaxis": "x",
         "yaxis": "y"
        }
       ],
       "layout": {
        "barmode": "relative",
        "legend": {
         "tracegroupgap": 0
        },
        "template": {
         "data": {
          "bar": [
           {
            "error_x": {
             "color": "#2a3f5f"
            },
            "error_y": {
             "color": "#2a3f5f"
            },
            "marker": {
             "line": {
              "color": "#E5ECF6",
              "width": 0.5
             },
             "pattern": {
              "fillmode": "overlay",
              "size": 10,
              "solidity": 0.2
             }
            },
            "type": "bar"
           }
          ],
          "barpolar": [
           {
            "marker": {
             "line": {
              "color": "#E5ECF6",
              "width": 0.5
             },
             "pattern": {
              "fillmode": "overlay",
              "size": 10,
              "solidity": 0.2
             }
            },
            "type": "barpolar"
           }
          ],
          "carpet": [
           {
            "aaxis": {
             "endlinecolor": "#2a3f5f",
             "gridcolor": "white",
             "linecolor": "white",
             "minorgridcolor": "white",
             "startlinecolor": "#2a3f5f"
            },
            "baxis": {
             "endlinecolor": "#2a3f5f",
             "gridcolor": "white",
             "linecolor": "white",
             "minorgridcolor": "white",
             "startlinecolor": "#2a3f5f"
            },
            "type": "carpet"
           }
          ],
          "choropleth": [
           {
            "colorbar": {
             "outlinewidth": 0,
             "ticks": ""
            },
            "type": "choropleth"
           }
          ],
          "contour": [
           {
            "colorbar": {
             "outlinewidth": 0,
             "ticks": ""
            },
            "colorscale": [
             [
              0,
              "#0d0887"
             ],
             [
              0.1111111111111111,
              "#46039f"
             ],
             [
              0.2222222222222222,
              "#7201a8"
             ],
             [
              0.3333333333333333,
              "#9c179e"
             ],
             [
              0.4444444444444444,
              "#bd3786"
             ],
             [
              0.5555555555555556,
              "#d8576b"
             ],
             [
              0.6666666666666666,
              "#ed7953"
             ],
             [
              0.7777777777777778,
              "#fb9f3a"
             ],
             [
              0.8888888888888888,
              "#fdca26"
             ],
             [
              1,
              "#f0f921"
             ]
            ],
            "type": "contour"
           }
          ],
          "contourcarpet": [
           {
            "colorbar": {
             "outlinewidth": 0,
             "ticks": ""
            },
            "type": "contourcarpet"
           }
          ],
          "heatmap": [
           {
            "colorbar": {
             "outlinewidth": 0,
             "ticks": ""
            },
            "colorscale": [
             [
              0,
              "#0d0887"
             ],
             [
              0.1111111111111111,
              "#46039f"
             ],
             [
              0.2222222222222222,
              "#7201a8"
             ],
             [
              0.3333333333333333,
              "#9c179e"
             ],
             [
              0.4444444444444444,
              "#bd3786"
             ],
             [
              0.5555555555555556,
              "#d8576b"
             ],
             [
              0.6666666666666666,
              "#ed7953"
             ],
             [
              0.7777777777777778,
              "#fb9f3a"
             ],
             [
              0.8888888888888888,
              "#fdca26"
             ],
             [
              1,
              "#f0f921"
             ]
            ],
            "type": "heatmap"
           }
          ],
          "heatmapgl": [
           {
            "colorbar": {
             "outlinewidth": 0,
             "ticks": ""
            },
            "colorscale": [
             [
              0,
              "#0d0887"
             ],
             [
              0.1111111111111111,
              "#46039f"
             ],
             [
              0.2222222222222222,
              "#7201a8"
             ],
             [
              0.3333333333333333,
              "#9c179e"
             ],
             [
              0.4444444444444444,
              "#bd3786"
             ],
             [
              0.5555555555555556,
              "#d8576b"
             ],
             [
              0.6666666666666666,
              "#ed7953"
             ],
             [
              0.7777777777777778,
              "#fb9f3a"
             ],
             [
              0.8888888888888888,
              "#fdca26"
             ],
             [
              1,
              "#f0f921"
             ]
            ],
            "type": "heatmapgl"
           }
          ],
          "histogram": [
           {
            "marker": {
             "pattern": {
              "fillmode": "overlay",
              "size": 10,
              "solidity": 0.2
             }
            },
            "type": "histogram"
           }
          ],
          "histogram2d": [
           {
            "colorbar": {
             "outlinewidth": 0,
             "ticks": ""
            },
            "colorscale": [
             [
              0,
              "#0d0887"
             ],
             [
              0.1111111111111111,
              "#46039f"
             ],
             [
              0.2222222222222222,
              "#7201a8"
             ],
             [
              0.3333333333333333,
              "#9c179e"
             ],
             [
              0.4444444444444444,
              "#bd3786"
             ],
             [
              0.5555555555555556,
              "#d8576b"
             ],
             [
              0.6666666666666666,
              "#ed7953"
             ],
             [
              0.7777777777777778,
              "#fb9f3a"
             ],
             [
              0.8888888888888888,
              "#fdca26"
             ],
             [
              1,
              "#f0f921"
             ]
            ],
            "type": "histogram2d"
           }
          ],
          "histogram2dcontour": [
           {
            "colorbar": {
             "outlinewidth": 0,
             "ticks": ""
            },
            "colorscale": [
             [
              0,
              "#0d0887"
             ],
             [
              0.1111111111111111,
              "#46039f"
             ],
             [
              0.2222222222222222,
              "#7201a8"
             ],
             [
              0.3333333333333333,
              "#9c179e"
             ],
             [
              0.4444444444444444,
              "#bd3786"
             ],
             [
              0.5555555555555556,
              "#d8576b"
             ],
             [
              0.6666666666666666,
              "#ed7953"
             ],
             [
              0.7777777777777778,
              "#fb9f3a"
             ],
             [
              0.8888888888888888,
              "#fdca26"
             ],
             [
              1,
              "#f0f921"
             ]
            ],
            "type": "histogram2dcontour"
           }
          ],
          "mesh3d": [
           {
            "colorbar": {
             "outlinewidth": 0,
             "ticks": ""
            },
            "type": "mesh3d"
           }
          ],
          "parcoords": [
           {
            "line": {
             "colorbar": {
              "outlinewidth": 0,
              "ticks": ""
             }
            },
            "type": "parcoords"
           }
          ],
          "pie": [
           {
            "automargin": true,
            "type": "pie"
           }
          ],
          "scatter": [
           {
            "fillpattern": {
             "fillmode": "overlay",
             "size": 10,
             "solidity": 0.2
            },
            "type": "scatter"
           }
          ],
          "scatter3d": [
           {
            "line": {
             "colorbar": {
              "outlinewidth": 0,
              "ticks": ""
             }
            },
            "marker": {
             "colorbar": {
              "outlinewidth": 0,
              "ticks": ""
             }
            },
            "type": "scatter3d"
           }
          ],
          "scattercarpet": [
           {
            "marker": {
             "colorbar": {
              "outlinewidth": 0,
              "ticks": ""
             }
            },
            "type": "scattercarpet"
           }
          ],
          "scattergeo": [
           {
            "marker": {
             "colorbar": {
              "outlinewidth": 0,
              "ticks": ""
             }
            },
            "type": "scattergeo"
           }
          ],
          "scattergl": [
           {
            "marker": {
             "colorbar": {
              "outlinewidth": 0,
              "ticks": ""
             }
            },
            "type": "scattergl"
           }
          ],
          "scattermapbox": [
           {
            "marker": {
             "colorbar": {
              "outlinewidth": 0,
              "ticks": ""
             }
            },
            "type": "scattermapbox"
           }
          ],
          "scatterpolar": [
           {
            "marker": {
             "colorbar": {
              "outlinewidth": 0,
              "ticks": ""
             }
            },
            "type": "scatterpolar"
           }
          ],
          "scatterpolargl": [
           {
            "marker": {
             "colorbar": {
              "outlinewidth": 0,
              "ticks": ""
             }
            },
            "type": "scatterpolargl"
           }
          ],
          "scatterternary": [
           {
            "marker": {
             "colorbar": {
              "outlinewidth": 0,
              "ticks": ""
             }
            },
            "type": "scatterternary"
           }
          ],
          "surface": [
           {
            "colorbar": {
             "outlinewidth": 0,
             "ticks": ""
            },
            "colorscale": [
             [
              0,
              "#0d0887"
             ],
             [
              0.1111111111111111,
              "#46039f"
             ],
             [
              0.2222222222222222,
              "#7201a8"
             ],
             [
              0.3333333333333333,
              "#9c179e"
             ],
             [
              0.4444444444444444,
              "#bd3786"
             ],
             [
              0.5555555555555556,
              "#d8576b"
             ],
             [
              0.6666666666666666,
              "#ed7953"
             ],
             [
              0.7777777777777778,
              "#fb9f3a"
             ],
             [
              0.8888888888888888,
              "#fdca26"
             ],
             [
              1,
              "#f0f921"
             ]
            ],
            "type": "surface"
           }
          ],
          "table": [
           {
            "cells": {
             "fill": {
              "color": "#EBF0F8"
             },
             "line": {
              "color": "white"
             }
            },
            "header": {
             "fill": {
              "color": "#C8D4E3"
             },
             "line": {
              "color": "white"
             }
            },
            "type": "table"
           }
          ]
         },
         "layout": {
          "annotationdefaults": {
           "arrowcolor": "#2a3f5f",
           "arrowhead": 0,
           "arrowwidth": 1
          },
          "autotypenumbers": "strict",
          "coloraxis": {
           "colorbar": {
            "outlinewidth": 0,
            "ticks": ""
           }
          },
          "colorscale": {
           "diverging": [
            [
             0,
             "#8e0152"
            ],
            [
             0.1,
             "#c51b7d"
            ],
            [
             0.2,
             "#de77ae"
            ],
            [
             0.3,
             "#f1b6da"
            ],
            [
             0.4,
             "#fde0ef"
            ],
            [
             0.5,
             "#f7f7f7"
            ],
            [
             0.6,
             "#e6f5d0"
            ],
            [
             0.7,
             "#b8e186"
            ],
            [
             0.8,
             "#7fbc41"
            ],
            [
             0.9,
             "#4d9221"
            ],
            [
             1,
             "#276419"
            ]
           ],
           "sequential": [
            [
             0,
             "#0d0887"
            ],
            [
             0.1111111111111111,
             "#46039f"
            ],
            [
             0.2222222222222222,
             "#7201a8"
            ],
            [
             0.3333333333333333,
             "#9c179e"
            ],
            [
             0.4444444444444444,
             "#bd3786"
            ],
            [
             0.5555555555555556,
             "#d8576b"
            ],
            [
             0.6666666666666666,
             "#ed7953"
            ],
            [
             0.7777777777777778,
             "#fb9f3a"
            ],
            [
             0.8888888888888888,
             "#fdca26"
            ],
            [
             1,
             "#f0f921"
            ]
           ],
           "sequentialminus": [
            [
             0,
             "#0d0887"
            ],
            [
             0.1111111111111111,
             "#46039f"
            ],
            [
             0.2222222222222222,
             "#7201a8"
            ],
            [
             0.3333333333333333,
             "#9c179e"
            ],
            [
             0.4444444444444444,
             "#bd3786"
            ],
            [
             0.5555555555555556,
             "#d8576b"
            ],
            [
             0.6666666666666666,
             "#ed7953"
            ],
            [
             0.7777777777777778,
             "#fb9f3a"
            ],
            [
             0.8888888888888888,
             "#fdca26"
            ],
            [
             1,
             "#f0f921"
            ]
           ]
          },
          "colorway": [
           "#636efa",
           "#EF553B",
           "#00cc96",
           "#ab63fa",
           "#FFA15A",
           "#19d3f3",
           "#FF6692",
           "#B6E880",
           "#FF97FF",
           "#FECB52"
          ],
          "font": {
           "color": "#2a3f5f"
          },
          "geo": {
           "bgcolor": "white",
           "lakecolor": "white",
           "landcolor": "#E5ECF6",
           "showlakes": true,
           "showland": true,
           "subunitcolor": "white"
          },
          "hoverlabel": {
           "align": "left"
          },
          "hovermode": "closest",
          "mapbox": {
           "style": "light"
          },
          "paper_bgcolor": "white",
          "plot_bgcolor": "#E5ECF6",
          "polar": {
           "angularaxis": {
            "gridcolor": "white",
            "linecolor": "white",
            "ticks": ""
           },
           "bgcolor": "#E5ECF6",
           "radialaxis": {
            "gridcolor": "white",
            "linecolor": "white",
            "ticks": ""
           }
          },
          "scene": {
           "xaxis": {
            "backgroundcolor": "#E5ECF6",
            "gridcolor": "white",
            "gridwidth": 2,
            "linecolor": "white",
            "showbackground": true,
            "ticks": "",
            "zerolinecolor": "white"
           },
           "yaxis": {
            "backgroundcolor": "#E5ECF6",
            "gridcolor": "white",
            "gridwidth": 2,
            "linecolor": "white",
            "showbackground": true,
            "ticks": "",
            "zerolinecolor": "white"
           },
           "zaxis": {
            "backgroundcolor": "#E5ECF6",
            "gridcolor": "white",
            "gridwidth": 2,
            "linecolor": "white",
            "showbackground": true,
            "ticks": "",
            "zerolinecolor": "white"
           }
          },
          "shapedefaults": {
           "line": {
            "color": "#2a3f5f"
           }
          },
          "ternary": {
           "aaxis": {
            "gridcolor": "white",
            "linecolor": "white",
            "ticks": ""
           },
           "baxis": {
            "gridcolor": "white",
            "linecolor": "white",
            "ticks": ""
           },
           "bgcolor": "#E5ECF6",
           "caxis": {
            "gridcolor": "white",
            "linecolor": "white",
            "ticks": ""
           }
          },
          "title": {
           "x": 0.05
          },
          "xaxis": {
           "automargin": true,
           "gridcolor": "white",
           "linecolor": "white",
           "ticks": "",
           "title": {
            "standoff": 15
           },
           "zerolinecolor": "white",
           "zerolinewidth": 2
          },
          "yaxis": {
           "automargin": true,
           "gridcolor": "white",
           "linecolor": "white",
           "ticks": "",
           "title": {
            "standoff": 15
           },
           "zerolinecolor": "white",
           "zerolinewidth": 2
          }
         }
        },
        "title": {
         "text": "BMI Distribution"
        },
        "xaxis": {
         "anchor": "y",
         "domain": [
          0,
          1
         ],
         "title": {
          "text": "BMI"
         }
        },
        "yaxis": {
         "anchor": "x",
         "domain": [
          0,
          1
         ],
         "title": {
          "text": "count"
         }
        }
       }
      }
     },
     "metadata": {},
     "output_type": "display_data"
    }
   ],
   "source": [
    "# 计算BMI指数\n",
    "players_data['bmi'] = players_data['weight'] / ((players_data['height'] / 100) ** 2)\n",
    "\n",
    "# 绘制BMI指数的直方图\n",
    "fig_bmi = px.histogram(players_data, x='bmi', title='BMI Distribution')\n",
    "fig_bmi.update_xaxes(title='BMI')\n",
    "fig_bmi.show()"
   ]
  },
  {
   "cell_type": "markdown",
   "metadata": {},
   "source": [
    "可视化分析完成后，接下来对其collegeName和position两列进行编码，将姓名drop掉使用nflId标识球员"
   ]
  },
  {
   "cell_type": "code",
   "execution_count": 30,
   "metadata": {},
   "outputs": [
    {
     "name": "stdout",
     "output_type": "stream",
     "text": [
      "      nflId  height      weight  collegeName  position        bmi\n",
      "0     25511  193.04  102.058200          109        14  27.387557\n",
      "1     29550  193.04  148.778176            8        17  39.924971\n",
      "2     29851  187.96  102.058200           29        14  28.887970\n",
      "3     30842  198.12  121.109064          196        18  30.854606\n",
      "4     33084  193.04   98.429464           22        14  26.413777\n",
      "...     ...     ...         ...          ...       ...        ...\n",
      "1678  55200  198.12  120.655472           82         5  30.739046\n",
      "1679  55212  182.88  104.326160           85         9  31.193262\n",
      "1680  55239  187.96  136.077600          146         5  38.517294\n",
      "1681  55240  185.42   83.914520           28         2  24.407537\n",
      "1682  55241  187.96  127.005760           39         5  35.949474\n",
      "\n",
      "[1683 rows x 6 columns]\n"
     ]
    }
   ],
   "source": [
    "# 获取所有学院和职位的列表，并按字母顺序排序\n",
    "college_names = sorted(players_data['collegeName'].unique())\n",
    "positions = sorted(players_data['position'].unique())\n",
    "\n",
    "# 创建学院和职位编码映射\n",
    "college_encoding = {college: code for code, college in enumerate(college_names, 1)}\n",
    "position_encoding = {position: code for code, position in enumerate(positions, 1)}\n",
    "\n",
    "# 对 'collegeName' 和 'position' 进行编码\n",
    "players_data['collegeName'] = players_data['collegeName'].map(college_encoding)\n",
    "players_data['position'] = players_data['position'].map(position_encoding)\n",
    "\n",
    "# 删除 'displayName' 列\n",
    "players_data.drop(['displayName'], axis=1, inplace=True)\n",
    "\n",
    "# 输出编码后的结果\n",
    "print(players_data)"
   ]
  }
 ],
 "metadata": {
  "kernelspec": {
   "display_name": "python_all",
   "language": "python",
   "name": "python3"
  },
  "language_info": {
   "codemirror_mode": {
    "name": "ipython",
    "version": 3
   },
   "file_extension": ".py",
   "mimetype": "text/x-python",
   "name": "python",
   "nbconvert_exporter": "python",
   "pygments_lexer": "ipython3",
   "version": "3.8.16"
  }
 },
 "nbformat": 4,
 "nbformat_minor": 2
}
