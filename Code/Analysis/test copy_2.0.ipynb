{
 "cells": [
  {
   "cell_type": "markdown",
   "metadata": {},
   "source": [
    "### <font color='289C4E'>目录</font><a class='anchor' id='top'></a>\n",
    "- [导入数据](#1)\n",
    "- [标准化方向数据](#2)\n",
    "- [合并数据](#3)\n",
    "- [创建比赛摘要](#4)\n",
    "- [探索性数据分析](#5)\n",
    "- [建模](#6)\n",
    "- [GIF/动画](#7)"
   ]
  },
  {
   "cell_type": "markdown",
   "metadata": {},
   "source": [
    "# 1. 导入数据 <a class=\"anchor\"  id=\"1\"></a>"
   ]
  },
  {
   "cell_type": "code",
   "execution_count": null,
   "metadata": {},
   "outputs": [],
   "source": [
    "import pandas as pd\n",
    "import numpy as np\n",
    "import matplotlib.pyplot as plt\n",
    "import seaborn as sns\n",
    "import plotly.express as px\n",
    "import plotly.graph_objects as go\n",
    "from sklearn.ensemble import RandomForestClassifier\n",
    "from sklearn.model_selection import train_test_split\n",
    "from sklearn.ensemble import RandomForestRegressor\n"
   ]
  },
  {
   "cell_type": "code",
   "execution_count": null,
   "metadata": {},
   "outputs": [],
   "source": [
    "# 读取 games.csv 文件\n",
    "games_data = pd.read_csv('../../Dataset/games.csv')\n",
    "\n",
    "# 读取 players.csv 文件\n",
    "players_data = pd.read_csv('../../Dataset/players.csv')\n",
    "\n",
    "# 读取 plays.csv 文件\n",
    "plays_data = pd.read_csv('../../Dataset/plays.csv')\n",
    "\n",
    "# 读取 tackles.csv 文件\n",
    "tackles_data = pd.read_csv('../../Dataset/tackles.csv')"
   ]
  },
  {
   "cell_type": "markdown",
   "metadata": {},
   "source": [
    "建立一个函数用于统计表格相关列的值信息"
   ]
  },
  {
   "cell_type": "code",
   "execution_count": null,
   "metadata": {},
   "outputs": [],
   "source": [
    "def generate_summary_table(data):\n",
    "    summary_table = pd.DataFrame(columns=['Column', 'Data Type', 'Missing Values', 'Missing %', 'Unique Values', 'Min', 'Max', 'Mean', 'Median'])\n",
    "    \n",
    "    for column in data.columns:\n",
    "        data_type = str(data[column].dtype)\n",
    "        \n",
    "        missing_values = data[column].isnull().sum()\n",
    "        missing_percentage = (missing_values / len(data)) * 100\n",
    "        \n",
    "        if data[column].dtype == 'object':\n",
    "            min_value, max_value, mean_value, median_value = '', '', '', ''\n",
    "        else:\n",
    "            min_value = data[column].min()\n",
    "            max_value = data[column].max()\n",
    "            mean_value = data[column].mean()\n",
    "            median_value = data[column].median()\n",
    "        \n",
    "        unique_values = data[column].nunique()  # 计算唯一值数量\n",
    "        \n",
    "        summary_table = summary_table.append({\n",
    "            'Column': column,\n",
    "            'Data Type': data_type,\n",
    "            'Missing Values': missing_values,\n",
    "            'Missing %': f'{missing_percentage:.2f}%',\n",
    "            'Unique Values': unique_values,  # 添加唯一值数量\n",
    "            'Min': min_value,\n",
    "            'Max': max_value,\n",
    "            'Mean': mean_value,\n",
    "            'Median': median_value\n",
    "        }, ignore_index=True)\n",
    "    \n",
    "    formatted_table = summary_table.style.set_properties(**{'text-align': 'center'})\n",
    "    \n",
    "    print(\"表格信息统计:\")\n",
    "    display(formatted_table)\n",
    "    \n",
    "    return summary_table\n"
   ]
  },
  {
   "cell_type": "markdown",
   "metadata": {},
   "source": [
    "1. 比赛数据games.csv分析"
   ]
  },
  {
   "cell_type": "code",
   "execution_count": null,
   "metadata": {},
   "outputs": [],
   "source": [
    "games_data.head()"
   ]
  },
  {
   "cell_type": "markdown",
   "metadata": {},
   "source": [
    "生成表格信息统计图"
   ]
  },
  {
   "cell_type": "code",
   "execution_count": null,
   "metadata": {},
   "outputs": [],
   "source": [
    "# 调用函数并打印生成的表格\n",
    "games_data_summary = generate_summary_table(games_data)"
   ]
  },
  {
   "cell_type": "markdown",
   "metadata": {},
   "source": [
    "2. 球员数据players.csv分析"
   ]
  },
  {
   "cell_type": "code",
   "execution_count": null,
   "metadata": {},
   "outputs": [],
   "source": [
    "players_data.head()"
   ]
  },
  {
   "cell_type": "markdown",
   "metadata": {},
   "source": [
    "生成表格信息统计图"
   ]
  },
  {
   "cell_type": "code",
   "execution_count": null,
   "metadata": {},
   "outputs": [],
   "source": [
    "# 调用函数并打印生成的表格\n",
    "players_data_summary = generate_summary_table(players_data)"
   ]
  },
  {
   "cell_type": "markdown",
   "metadata": {},
   "source": [
    "3. 每场比赛数据plays.csv分析"
   ]
  },
  {
   "cell_type": "code",
   "execution_count": null,
   "metadata": {},
   "outputs": [],
   "source": [
    "plays_data.head()"
   ]
  },
  {
   "cell_type": "markdown",
   "metadata": {},
   "source": [
    "生成表格信息统计图"
   ]
  },
  {
   "cell_type": "code",
   "execution_count": null,
   "metadata": {},
   "outputs": [],
   "source": [
    "# 调用函数并打印生成的表格\n",
    "plays_data_summary = generate_summary_table(plays_data)"
   ]
  },
  {
   "cell_type": "markdown",
   "metadata": {},
   "source": [
    "4. 铲球数据tackles.csv分析"
   ]
  },
  {
   "cell_type": "code",
   "execution_count": null,
   "metadata": {},
   "outputs": [],
   "source": [
    "tackles_data.head()"
   ]
  },
  {
   "cell_type": "markdown",
   "metadata": {},
   "source": [
    "生成表格信息统计图"
   ]
  },
  {
   "cell_type": "code",
   "execution_count": null,
   "metadata": {},
   "outputs": [],
   "source": [
    "# 调用函数并打印生成的表格\n",
    "tackles_data_summary = generate_summary_table(tackles_data)"
   ]
  },
  {
   "cell_type": "markdown",
   "metadata": {},
   "source": [
    "# 2. 标准化数据 <a class=\"anchor\"  id=\"1\"></a>"
   ]
  },
  {
   "cell_type": "markdown",
   "metadata": {},
   "source": [
    "1. games.csv\n",
    "\n",
    "首先对该表格内容进行数据清洗与可视化\n",
    "\n",
    "由之前信息可得此表中没有出现数据缺失的情况，因此可以直接处理\n",
    "\n",
    "得分分布 - 直方图展示主队和客队得分的分布情况"
   ]
  },
  {
   "cell_type": "code",
   "execution_count": null,
   "metadata": {},
   "outputs": [],
   "source": [
    "# 调用函数并打印生成的表格\n",
    "games_data_summary = generate_summary_table(games_data)"
   ]
  },
  {
   "cell_type": "code",
   "execution_count": null,
   "metadata": {},
   "outputs": [],
   "source": [
    "# 创建直方图\n",
    "fig = px.histogram(games_data, x=[\"homeFinalScore\", \"visitorFinalScore\"], nbins=20, barmode=\"overlay\",\n",
    "                   labels={\"value\": \"Score\", \"variable\": \"Team\"}, title=\"Score Distribution\")\n",
    "fig.update_layout(xaxis_title=\"Score\", yaxis_title=\"Frequency\")\n",
    "fig.show()\n"
   ]
  },
  {
   "cell_type": "markdown",
   "metadata": {},
   "source": [
    "赛季中的队伍表现 - 折线图显示每支球队在赛季不同周次的得分情况"
   ]
  },
  {
   "cell_type": "code",
   "execution_count": null,
   "metadata": {},
   "outputs": [],
   "source": [
    "# 根据赛季、周次和队伍分组并计算得分总和\n",
    "team_scores = games_data.groupby([\"season\", \"week\", \"homeTeamAbbr\"])[\"homeFinalScore\"].sum().reset_index()\n",
    "team_scores = team_scores.rename(columns={\"homeTeamAbbr\": \"Team\", \"homeFinalScore\": \"Score\"})\n",
    "\n",
    "# 获取所有队伍的列表\n",
    "all_teams = team_scores[\"Team\"].unique().tolist()\n",
    "\n",
    "# 创建交互式折线图\n",
    "fig = go.Figure()\n",
    "\n",
    "for team in all_teams:\n",
    "    team_data = team_scores[team_scores[\"Team\"] == team]\n",
    "    fig.add_trace(go.Scatter(x=team_data[\"week\"], y=team_data[\"Score\"], mode='lines', name=team))\n",
    "\n",
    "# 设置布局\n",
    "fig.update_layout(\n",
    "    title=\"Team Performance in Different Weeks\",\n",
    "    xaxis_title=\"Week\",\n",
    "    yaxis_title=\"Score\",\n",
    "    legend=dict(orientation=\"h\", y=-0.2),\n",
    "    margin=dict(l=20, r=20, t=80, b=20)\n",
    ")\n",
    "\n",
    "fig.show()"
   ]
  },
  {
   "cell_type": "markdown",
   "metadata": {},
   "source": [
    "从结果可以看出，并不是所有的队伍每个星期都参赛"
   ]
  },
  {
   "cell_type": "markdown",
   "metadata": {},
   "source": [
    "赛季中比赛结果统计 - 饼图展示每个赛季主队和客队的胜利次数和比赛结果"
   ]
  },
  {
   "cell_type": "code",
   "execution_count": null,
   "metadata": {},
   "outputs": [],
   "source": [
    "# 创建新列，表示主队和客队的胜利情况\n",
    "games_data['home_win'] = games_data['homeFinalScore'] > games_data['visitorFinalScore']\n",
    "games_data['visitor_win'] = games_data['homeFinalScore'] < games_data['visitorFinalScore']\n",
    "\n",
    "# 统计每个赛季中主队和客队的胜利次数\n",
    "season_results = games_data.groupby(['season']).agg({\n",
    "    'home_win': 'sum',\n",
    "    'visitor_win': 'sum'\n",
    "}).reset_index()\n",
    "\n",
    "# 重塑数据以符合饼图格式\n",
    "season_results_melted = season_results.melt(id_vars='season', var_name='Result', value_name='Wins')\n",
    "\n",
    "# 显示饼图\n",
    "fig = px.pie(season_results_melted, values='Wins', names='Result', title='Season Results: Home Team vs Visitor Team Wins',\n",
    "             hover_data=['Wins'], labels={'Result': 'Game Result'})\n",
    "fig.show()"
   ]
  },
  {
   "cell_type": "markdown",
   "metadata": {},
   "source": [
    "看来主场确实有优势啊"
   ]
  },
  {
   "cell_type": "markdown",
   "metadata": {},
   "source": [
    "接下来进行数据清理的工作"
   ]
  },
  {
   "cell_type": "code",
   "execution_count": null,
   "metadata": {},
   "outputs": [],
   "source": [
    "# 调用函数并打印生成的表格\n",
    "games_data_summary = generate_summary_table(games_data)"
   ]
  },
  {
   "cell_type": "markdown",
   "metadata": {},
   "source": [
    "分析结果发现这里面存在着大量的非数值文本，这会使数据很难处理，因此我们要适当的舍弃或者对这些文本进行重新编码。接下来我们看看这些列分别代表了什么数据"
   ]
  },
  {
   "cell_type": "markdown",
   "metadata": {},
   "source": [
    "这些字段的含义如下：\n",
    "\n",
    "- **gameId（比赛ID）**：比赛的唯一标识符（数字）\n",
    "- **season（赛季）**：比赛所属的赛季（数字）\n",
    "- **week（周次）**：比赛所在的周次（数字）\n",
    "- **gameDate（比赛日期）**：比赛日期（时间，月/日/年）\n",
    "- **gameTimeEastern（比赛开始时间）**：比赛开始时间（时间，时:分:秒，东部标准时间）\n",
    "- **homeTeamAbbr（主队三字母代码）**：主队的三字母代码（文本）\n",
    "- **visitorTeamAbbr（客队三字母代码）**：客队的三字母代码（文本）\n",
    "- **homeFinalScore（主队最终得分）**：主队在比赛中的总得分（数字）\n",
    "- **visitorFinalScore（客队最终得分）**：客队在比赛中的总得分（数字）\n",
    "\n",
    "这些字段描述了每场比赛的详细信息，包括比赛的标识、赛季、比赛日期和时间、参赛队伍及其得分情况。"
   ]
  },
  {
   "cell_type": "markdown",
   "metadata": {},
   "source": [
    "* 其中赛季（season）肯定是一个无关值，因为这些数据都属于一个赛季，可以抛弃\n",
    "* gameTimeEastern可能不太重要，因为是比赛举行的时间，稍后可以用热力图分析一下\n",
    "* 而对主队客队，我们可以采用编码的方式来对这些队伍进行编码来剔除文本信息。"
   ]
  },
  {
   "cell_type": "markdown",
   "metadata": {},
   "source": [
    "由于热力图只能处理数值信息，因此我们应先将队名，比赛日期和比赛时间进行编码"
   ]
  },
  {
   "cell_type": "code",
   "execution_count": null,
   "metadata": {},
   "outputs": [],
   "source": [
    "# 获取所有队伍的列表，并按字母顺序排序\n",
    "teams = sorted(set(games_data['homeTeamAbbr'].unique()) | set(games_data['visitorTeamAbbr'].unique()))\n",
    "\n",
    "# 创建队伍编码映射\n",
    "team_encoding = {team: code for code, team in enumerate(teams, 1)}\n",
    "\n",
    "# 对 'homeTeamAbbr' 和 'visitorTeamAbbr' 进行编码\n",
    "games_data['homeTeamAbbr'] = games_data['homeTeamAbbr'].map(team_encoding)\n",
    "games_data['visitorTeamAbbr'] = games_data['visitorTeamAbbr'].map(team_encoding)\n",
    "\n",
    "# 对 'gameDate' 进行日期编码\n",
    "games_data['gameDate'] = pd.to_datetime(games_data['gameDate'])\n",
    "games_data['gameDate'] = (games_data['gameDate'] - games_data['gameDate'].min()).dt.days + 1\n",
    "\n",
    "# 对 'gameTimeEastern' 进行小时编码\n",
    "games_data['gameTimeEastern'] = pd.to_datetime(games_data['gameTimeEastern']).dt.hour + \\\n",
    "                                pd.to_datetime(games_data['gameTimeEastern']).dt.minute / 60 + \\\n",
    "                                pd.to_datetime(games_data['gameTimeEastern']).dt.second / 3600\n",
    "\n",
    "# 输出队名与编码的对应关系\n",
    "for team, code in team_encoding.items():\n",
    "    print(f\"Team: {team} -> Code: {code}\")\n",
    "\n",
    "# 输出编码后的结果\n",
    "print(games_data[['season', 'week', 'homeTeamAbbr', 'visitorTeamAbbr', 'homeFinalScore', 'visitorFinalScore', 'gameDate', 'gameTimeEastern']])"
   ]
  },
  {
   "cell_type": "markdown",
   "metadata": {},
   "source": [
    "对于队名我采用了一个编码规则，按照字母排列编码\n",
    "比赛日期也采用了相似的编码，比赛时间编码则是直接转化为小时数，比如20:00:00就编码为20"
   ]
  },
  {
   "cell_type": "markdown",
   "metadata": {},
   "source": [
    "首先drop掉season，再画出热力图，看看比赛时间会不会对比赛的胜负结果产生影响。"
   ]
  },
  {
   "cell_type": "code",
   "execution_count": null,
   "metadata": {},
   "outputs": [],
   "source": [
    "# 剔除 'season', 'home_win', 'visitor_win' 列\n",
    "games_df_without_season = games_data.drop(columns=['season', 'home_win', 'visitor_win'])\n",
    "\n",
    "# 计算相关性矩阵\n",
    "correlation_matrix = games_df_without_season.corr()\n",
    "\n",
    "# 创建热力图\n",
    "fig = px.imshow(correlation_matrix,\n",
    "                labels=dict(color=\"Correlation\"),\n",
    "                x=correlation_matrix.index,\n",
    "                y=correlation_matrix.columns,\n",
    "                color_continuous_scale='Viridis')\n",
    "\n",
    "# 在热力图中标注数值\n",
    "annotations = []\n",
    "for i, row in enumerate(correlation_matrix.index):\n",
    "    for j, col in enumerate(correlation_matrix.columns):\n",
    "        annotations.append(\n",
    "            dict(\n",
    "                x=col,\n",
    "                y=row,\n",
    "                text=f\"{correlation_matrix.iloc[i, j]:.2f}\",\n",
    "                showarrow=False,\n",
    "            )\n",
    "        )\n",
    "\n",
    "fig.update_layout(\n",
    "    title='Correlation Heatmap of Columns (Season Column Excluded)',\n",
    "    xaxis_title='Columns',\n",
    "    yaxis_title='Columns',\n",
    "    annotations=annotations\n",
    ")\n",
    "\n",
    "fig.show()"
   ]
  },
  {
   "cell_type": "markdown",
   "metadata": {},
   "source": [
    "发现gameId,week和gameDate强相关，这是因为比赛的时间安排决定了这几项必然强相关，相反，其他数据项的相关性并不大，因此，我们需要进一步分析其相关性。\n",
    "\n",
    "采用随机森林的方法，目标变量为'homeFinalScore', 'visitorFinalScore'，因为这两列数据是比分数据"
   ]
  },
  {
   "cell_type": "code",
   "execution_count": null,
   "metadata": {},
   "outputs": [],
   "source": [
    "# 定义特征 (X) 和目标变量 (y)\n",
    "X = games_df_without_season.drop(['homeFinalScore', 'visitorFinalScore'], axis=1)\n",
    "y = games_df_without_season[['homeFinalScore', 'visitorFinalScore']]\n",
    "\n",
    "# 划分数据为训练集和测试集\n",
    "X_train, X_test, y_train, y_test = train_test_split(X, y, test_size=0.2, random_state=42)\n",
    "\n",
    "# 创建一个包含 100 个决策树的随机森林回归模型\n",
    "rf_regressor = RandomForestRegressor(n_estimators=100, random_state=42)\n",
    "\n",
    "# 拟合模型\n",
    "rf_regressor.fit(X_train, y_train)\n",
    "\n",
    "# 获取特征的重要性\n",
    "feature_importances = rf_regressor.feature_importances_\n",
    "\n",
    "# 创建 DataFrame 来可视化特征重要性\n",
    "feature_importance_df = pd.DataFrame({'Feature': X.columns, 'Importance': feature_importances})\n",
    "\n",
    "# 对特征重要性值进行降序排列\n",
    "feature_importance_df = feature_importance_df.sort_values(by='Importance', ascending=False)\n",
    "\n",
    "# 使用 Plotly Express 创建水平条形图\n",
    "fig = px.bar(feature_importance_df, x='Importance', y='Feature', orientation='h',\n",
    "             labels={'Importance': 'Importance', 'Feature': 'Feature'},\n",
    "             title='Feature Importances')\n",
    "fig.show()"
   ]
  },
  {
   "cell_type": "markdown",
   "metadata": {},
   "source": [
    "由上图所示，我们可以放心剔除week，gameDate和gameTimeEastern来减少数据维度，这些数据列与比赛的分数相关性不大，保留gameId，因为可能要用这项数据连接其他表。至于'home_win', 'visitor_win'两列仅仅代表主队胜利还是客队胜利，这一点通过比较得分就能得到，没有必要保留徒增数据维度。"
   ]
  },
  {
   "cell_type": "code",
   "execution_count": null,
   "metadata": {},
   "outputs": [],
   "source": [
    "games_data_cleaned = games_data.drop(columns=['season', 'home_win', 'visitor_win', 'week', 'gameDate', 'gameTimeEastern'])\n",
    "games_data_cleaned.head()  # 数据清理完成"
   ]
  },
  {
   "cell_type": "markdown",
   "metadata": {},
   "source": [
    "至此，该表的数据清理完成"
   ]
  },
  {
   "cell_type": "markdown",
   "metadata": {},
   "source": [
    "2. players.csv\n",
    "\n",
    "首先对该表格内容进行公制化转换，转换成我们可以处理的数据"
   ]
  },
  {
   "cell_type": "code",
   "execution_count": null,
   "metadata": {},
   "outputs": [],
   "source": [
    "players_data.head()"
   ]
  },
  {
   "cell_type": "markdown",
   "metadata": {},
   "source": [
    "身高：米  体重：千克  出生日期：转化为年龄"
   ]
  },
  {
   "cell_type": "code",
   "execution_count": null,
   "metadata": {},
   "outputs": [],
   "source": [
    "# 转换身高为厘米\n",
    "players_data['height'] = players_data['height'].apply(lambda x: int(x.split('-')[0]) * 30.48 + int(x.split('-')[1]) * 2.54)\n",
    "\n",
    "# 转换体重为公斤\n",
    "players_data['weight'] = players_data['weight'] * 0.453592\n",
    "\n",
    "# 计算年龄\n",
    "players_data['birthDate'] = 2022 - pd.to_datetime(players_data['birthDate']).dt.year\n",
    "\n",
    "# 输出转换后的结果\n",
    "print(players_data)"
   ]
  },
  {
   "cell_type": "code",
   "execution_count": null,
   "metadata": {},
   "outputs": [],
   "source": [
    "# 调用函数并打印生成的表格\n",
    "players_data_summary = generate_summary_table(players_data)"
   ]
  },
  {
   "cell_type": "markdown",
   "metadata": {},
   "source": [
    "由之前的统计信息可知，此表在生日值上是有缺失的，因此很多人的年龄不知道，并且缺失值达到了28.46%，不能采用中值或者均值进行替换，因此我们不得不舍弃该数据列，尽管在体育上年龄对于球员表现是重要因素。\n",
    "\n",
    "而且球员姓名也有重名，因此我们不能对球员姓名进行编码，只能使用nflId来标识球员"
   ]
  },
  {
   "cell_type": "code",
   "execution_count": null,
   "metadata": {},
   "outputs": [],
   "source": [
    "# 删除 'birthDate' 列\n",
    "players_data.drop(['birthDate'], axis=1, inplace=True)\n",
    "\n",
    "# 输出结果\n",
    "print(players_data)"
   ]
  },
  {
   "cell_type": "markdown",
   "metadata": {},
   "source": [
    "接下来我们进行可视化分析"
   ]
  },
  {
   "cell_type": "code",
   "execution_count": null,
   "metadata": {},
   "outputs": [],
   "source": [
    "# 创建直方图统计身高每一厘米的频率\n",
    "height_counts = players_data['height'].value_counts().sort_index()\n",
    "\n",
    "fig = go.Figure(data=[go.Bar(x=height_counts.index, y=height_counts.values)])\n",
    "fig.update_layout(\n",
    "    title='Height Distribution',\n",
    "    xaxis_title='Height (cm)',\n",
    "    yaxis_title='Frequency'\n",
    ")\n",
    "fig.show()"
   ]
  },
  {
   "cell_type": "code",
   "execution_count": null,
   "metadata": {},
   "outputs": [],
   "source": [
    "# 创建直方图统计体重\n",
    "fig_weight = px.histogram(players_data, x='weight', title='Weight Distribution')\n",
    "fig_weight.update_xaxes(title='Weight')\n",
    "fig_weight.show()"
   ]
  },
  {
   "cell_type": "code",
   "execution_count": null,
   "metadata": {},
   "outputs": [],
   "source": [
    "# 创建直方图不同位置的球员数量\n",
    "fig_position = px.histogram(players_data, x='position', title='Player Position Distribution')\n",
    "fig_position.update_xaxes(title='Position')\n",
    "fig_position.show()"
   ]
  },
  {
   "cell_type": "code",
   "execution_count": null,
   "metadata": {},
   "outputs": [],
   "source": [
    "# 创建箱线图得到位置与体重的关系\n",
    "fig_box = px.box(players_data, x='position', y='weight', title='Position vs Weight')\n",
    "fig_box.update_xaxes(title='Position')\n",
    "fig_box.update_yaxes(title='Weight')\n",
    "fig_box.show()"
   ]
  },
  {
   "cell_type": "code",
   "execution_count": null,
   "metadata": {},
   "outputs": [],
   "source": [
    "# 计算各个球员位置的平均身高和体重\n",
    "avg_height_weight = players_data.groupby('position').agg({'height': 'mean', 'weight': 'mean'}).reset_index()\n",
    "\n",
    "# 绘制柱状图展示不同位置球员的平均身高和体重\n",
    "fig_avg = px.bar(avg_height_weight, x='position', y=['height', 'weight'], \n",
    "                 barmode='group', title='Average Height and Weight by Position')\n",
    "fig_avg.update_xaxes(title='Position')\n",
    "fig_avg.update_yaxes(title='Value')\n",
    "fig_avg.show()"
   ]
  },
  {
   "cell_type": "code",
   "execution_count": null,
   "metadata": {},
   "outputs": [],
   "source": [
    "# 计算BMI指数\n",
    "players_data['bmi'] = players_data['weight'] / ((players_data['height'] / 100) ** 2)\n",
    "\n",
    "# 绘制BMI指数的直方图\n",
    "fig_bmi = px.histogram(players_data, x='bmi', title='BMI Distribution')\n",
    "fig_bmi.update_xaxes(title='BMI')\n",
    "fig_bmi.show()"
   ]
  },
  {
   "cell_type": "markdown",
   "metadata": {},
   "source": [
    "可视化分析完成后，接下来对其collegeName和position两列进行编码，将姓名drop掉使用nflId标识球员"
   ]
  },
  {
   "cell_type": "code",
   "execution_count": null,
   "metadata": {},
   "outputs": [],
   "source": [
    "# 获取所有学院和职位的列表，并按字母顺序排序\n",
    "college_names = sorted(players_data['collegeName'].unique())\n",
    "positions = sorted(players_data['position'].unique())\n",
    "\n",
    "# 创建学院和职位编码映射\n",
    "college_encoding = {college: code for code, college in enumerate(college_names, 1)}\n",
    "position_encoding = {position: code for code, position in enumerate(positions, 1)}\n",
    "\n",
    "# 对 'collegeName' 和 'position' 进行编码\n",
    "players_data['collegeName'] = players_data['collegeName'].map(college_encoding)\n",
    "players_data['position'] = players_data['position'].map(position_encoding)\n",
    "\n",
    "# 删除 'displayName' 列\n",
    "players_data.drop(['displayName'], axis=1, inplace=True)\n",
    "\n",
    "# 输出编码后的结果\n",
    "print(players_data)"
   ]
  },
  {
   "cell_type": "markdown",
   "metadata": {},
   "source": [
    "接下来绘制热力图，来分析数据列的关系"
   ]
  },
  {
   "cell_type": "code",
   "execution_count": null,
   "metadata": {},
   "outputs": [],
   "source": [
    "# 计算相关性矩阵\n",
    "correlation_matrix = players_data.corr()\n",
    "\n",
    "# 创建热力图\n",
    "fig = px.imshow(correlation_matrix,\n",
    "                labels=dict(color=\"Correlation\"),\n",
    "                x=correlation_matrix.index,\n",
    "                y=correlation_matrix.columns,\n",
    "                color_continuous_scale='Viridis')\n",
    "\n",
    "# 在热力图中标注数值\n",
    "annotations = []\n",
    "for i, row in enumerate(correlation_matrix.index):\n",
    "    for j, col in enumerate(correlation_matrix.columns):\n",
    "        annotations.append(\n",
    "            dict(\n",
    "                x=col,\n",
    "                y=row,\n",
    "                text=f\"{correlation_matrix.iloc[i, j]:.2f}\",\n",
    "                showarrow=False,\n",
    "            )\n",
    "        )\n",
    "\n",
    "fig.update_layout(\n",
    "    title='Correlation Heatmap of Columns',\n",
    "    xaxis_title='Columns',\n",
    "    yaxis_title='Columns',\n",
    "    annotations=annotations\n",
    ")\n",
    "\n",
    "fig.show()"
   ]
  },
  {
   "cell_type": "markdown",
   "metadata": {},
   "source": [
    "分析热力图可以得出相关性较高的数据项是身高体重和bmi，这一方面是因为人的成长决定的，人高和体重必然存在一定的联系，另一方面是因为bmi是由身高体重计算得出的。\n",
    "\n",
    "我们将这三项drop掉，再观察其热力图分布"
   ]
  },
  {
   "cell_type": "code",
   "execution_count": null,
   "metadata": {},
   "outputs": [],
   "source": [
    "# 删除 'height'、'weight' 和 'bmi' 列\n",
    "players_data_deleted = players_data.drop(columns=['height', 'weight', 'bmi'])\n",
    "\n",
    "# 计算相关性矩阵\n",
    "correlation_matrix = players_data_deleted.corr()\n",
    "\n",
    "# 创建热力图\n",
    "fig = px.imshow(correlation_matrix,\n",
    "                labels=dict(color=\"Correlation\"),\n",
    "                x=correlation_matrix.index,\n",
    "                y=correlation_matrix.columns,\n",
    "                color_continuous_scale='Viridis')\n",
    "\n",
    "# 在热力图中标注数值\n",
    "annotations = []\n",
    "for i, row in enumerate(correlation_matrix.index):\n",
    "    for j, col in enumerate(correlation_matrix.columns):\n",
    "        annotations.append(\n",
    "            dict(\n",
    "                x=col,\n",
    "                y=row,\n",
    "                text=f\"{correlation_matrix.iloc[i, j]:.2f}\",\n",
    "                showarrow=False,\n",
    "            )\n",
    "        )\n",
    "\n",
    "fig.update_layout(\n",
    "    title='Correlation Heatmap of Columns (height, weight, bmi Excluded)',\n",
    "    xaxis_title='Columns',\n",
    "    yaxis_title='Columns',\n",
    "    annotations=annotations\n",
    ")\n",
    "\n",
    "fig.show()"
   ]
  },
  {
   "cell_type": "markdown",
   "metadata": {},
   "source": [
    "可以看到剩下的数据列都是一些球员的属性名，比如球员打的位置和大学名称，几乎没有任何相关性，因此该表中的数据几乎不用清洗掉这些列的内容，因为这些列还要负责后续表格的连接工作"
   ]
  },
  {
   "cell_type": "code",
   "execution_count": null,
   "metadata": {},
   "outputs": [],
   "source": [
    "players_data_cleaned = players_data\n",
    "print(players_data_cleaned)"
   ]
  },
  {
   "cell_type": "markdown",
   "metadata": {},
   "source": [
    "3. plays.csv\n",
    "\n",
    "首先对该表格内容进行数据清洗与可视化"
   ]
  },
  {
   "cell_type": "code",
   "execution_count": null,
   "metadata": {},
   "outputs": [],
   "source": [
    "plays_data.head()"
   ]
  },
  {
   "cell_type": "code",
   "execution_count": null,
   "metadata": {},
   "outputs": [],
   "source": [
    "# 调用函数并打印生成的表格\n",
    "plays_data_summary = generate_summary_table(plays_data)"
   ]
  },
  {
   "cell_type": "markdown",
   "metadata": {},
   "source": [
    "可以看到表格当中存在很多缺失值，我们用以下代码进行直观统计"
   ]
  },
  {
   "cell_type": "code",
   "execution_count": null,
   "metadata": {},
   "outputs": [],
   "source": [
    "# 找出有缺失值的列\n",
    "columns_with_missing_values = plays_data.columns[plays_data.isnull().any()]\n",
    "missing_values_info = []\n",
    "\n",
    "# 遍历每一列，统计缺失值的数量、百分比和数据类型\n",
    "for column in columns_with_missing_values:\n",
    "    missing_count = plays_data[column].isnull().sum()\n",
    "    missing_percentage = (missing_count / len(plays_data)) * 100\n",
    "    data_type = plays_data[column].dtype\n",
    "    missing_values_info.append((column, missing_percentage, missing_count, data_type))\n",
    "\n",
    "# 将结果转换为 DataFrame 并按数据类型排序\n",
    "missing_values_df = pd.DataFrame(missing_values_info, columns=['Column Name', 'Missing Percentage', 'Missing Count', 'Data Type'])\n",
    "missing_values_df = missing_values_df.sort_values(by='Data Type')\n",
    "\n",
    "# 打印结果\n",
    "print(missing_values_df)"
   ]
  },
  {
   "cell_type": "markdown",
   "metadata": {},
   "source": [
    "按照数据类型排序可以发现其中defendersInTheBox，passProbability，expectedPointsAdded，yardlineSide，offenseFormation缺失值较少，剩余数据项缺失值很多。\n",
    "passLength，passResult，penaltyYards的缺失是因为可能在此期间没有发生传球活动或者球员没有犯规，foulName的缺失则是因为球员可能没有犯规\n",
    "\n",
    "首先drop掉与犯规的数据"
   ]
  },
  {
   "cell_type": "code",
   "execution_count": null,
   "metadata": {},
   "outputs": [],
   "source": [
    "# 确定要删除的与犯规相关的列名列表\n",
    "columns_to_drop = ['penaltyYards', 'foulNFLId1', 'foulNFLId2', 'foulName1', 'foulName2']\n",
    "\n",
    "# 删除这些列\n",
    "plays_data.drop(columns=columns_to_drop, inplace=True)\n",
    "\n",
    "# 打印删除列后的数据集\n",
    "plays_data.head()"
   ]
  },
  {
   "cell_type": "markdown",
   "metadata": {},
   "source": [
    "剩下的数据维度依旧有30维，我们继续清洗\n",
    "\n",
    "通过观察我们发现\n",
    "* ballCarrierId和ballCarrierDisplayName就是球员的对应关系，并且与之前的players.csv表中的nflId能够对应起来，因此我们将ballCarrierDisplayName drop掉，将ballCarrierId改为nflId\n",
    "* playDescription是长文本信息表示了场上发生的具体事件，难以量化统计，drop掉\n",
    "* possessionTeam和defensiveTeam可以采用与之前相同的编码方式按照字母顺序从1开始将队名编码，方便量化处理\t\n",
    "* yardlineSide存在缺失值，因此将其drop掉\n",
    "* gameClock是比赛时间发生的时间（24小时制），由于不同场次的比赛与不同时间点发生（有的是早上开赛有的是晚上开赛），因此该项难以量化统计。也要drop掉\n",
    "* passResult和passLength存在巨量空值，难以统计，也要drop掉\n",
    "* playNullifiedByPenalty是一个跟犯规相关的数据，也要drop掉\n",
    "* offenseFormation缺失值少，存在缺失有可能是根本没有阵型，可以采取数值编码的形式，没有阵型为0，剩下的阵型按照字母顺序从1开始编码\n",
    "* defendersInTheBox出现少量空值代表在当前时候根本没有防守球员靠近box，可以将空值置0\n",
    "* passProbability出现少量空值，也可以采用defendersInTheBox类似的做法\n",
    "* expectedPointsAdded存在一个空值，由于表格庞大，我们可以采用该数据列的中位数进行填充\n",
    "\n",
    "分析完表格后就可以数据可视化了"
   ]
  },
  {
   "cell_type": "markdown",
   "metadata": {},
   "source": [
    "不同节次中比赛的分布情况"
   ]
  },
  {
   "cell_type": "code",
   "execution_count": null,
   "metadata": {},
   "outputs": [],
   "source": [
    "# 创建直方图\n",
    "fig = px.histogram(plays_data, x=\"quarter\", title=\"Distribution of Games by Quarters\")\n",
    "fig.update_xaxes(title_text=\"Quarter\")\n",
    "fig.update_yaxes(title_text=\"Number of Games\")\n",
    "fig.show()"
   ]
  },
  {
   "cell_type": "markdown",
   "metadata": {},
   "source": [
    "进攻次数在比赛的分布情况"
   ]
  },
  {
   "cell_type": "code",
   "execution_count": null,
   "metadata": {},
   "outputs": [],
   "source": [
    "# 获取不同down的唯一整数值\n",
    "down_values = sorted(plays_data['down'].unique())\n",
    "\n",
    "# 创建直方图\n",
    "fig = px.histogram(plays_data, x='down', title='Distribution of Plays by Down',\n",
    "                   labels={'down': 'Down', 'count': 'Number of Plays'})\n",
    "\n",
    "# 自定义横坐标轴的刻度值和标签\n",
    "fig.update_layout(xaxis=dict(tickvals=down_values, ticktext=[str(val) for val in down_values]))\n",
    "\n",
    "# 显示图形\n",
    "fig.show()"
   ]
  },
  {
   "cell_type": "markdown",
   "metadata": {},
   "source": [
    "前进码数（yards to go）的分布情况"
   ]
  },
  {
   "cell_type": "code",
   "execution_count": null,
   "metadata": {},
   "outputs": [],
   "source": [
    "# 使用 Plotly 绘制前进码数的分布情况\n",
    "fig = px.histogram(plays_data, x='yardsToGo', title='Distribution of Yards to Go')\n",
    "fig.update_xaxes(title='Yards to Go')  # 设置 x 轴标题\n",
    "fig.update_yaxes(title='Frequency')    # 设置 y 轴标题\n",
    "fig.show()"
   ]
  },
  {
   "cell_type": "markdown",
   "metadata": {},
   "source": [
    "第三次进攻且距离终点很短（3rd and short）或者第一次进攻但距离终点很远（1st and long）。"
   ]
  },
  {
   "cell_type": "markdown",
   "metadata": {},
   "source": [
    "基于持球队伍的比赛分布情况possessionTeam"
   ]
  },
  {
   "cell_type": "code",
   "execution_count": null,
   "metadata": {},
   "outputs": [],
   "source": [
    "# 使用value_counts()计算每个持球队伍的比赛数量\n",
    "possession_team_count = plays_data['possessionTeam'].value_counts()\n",
    "\n",
    "# 创建基于持球队伍比赛分布情况的柱状图\n",
    "fig = px.bar(possession_team_count, x=possession_team_count.index, y=possession_team_count.values,\n",
    "             labels={'x': '持球队伍', 'y': '比赛数量'},\n",
    "             title='基于持球队伍的比赛分布情况')\n",
    "\n",
    "fig.update_layout(xaxis={'categoryorder': 'total descending'})  # 按比赛数量降序排列持球队伍\n",
    "\n",
    "fig.show()"
   ]
  },
  {
   "cell_type": "markdown",
   "metadata": {},
   "source": [
    "预期分值增加（Expected Points Added，EPA）的分布情况"
   ]
  },
  {
   "cell_type": "code",
   "execution_count": null,
   "metadata": {},
   "outputs": [],
   "source": [
    "fig = px.histogram(plays_data, x='expectedPointsAdded', \n",
    "                   title='Distribution of Expected Points Added (EPA)',\n",
    "                   labels={'expectedPointsAdded': 'Expected Points Added (EPA)'})\n",
    "\n",
    "fig.update_layout(xaxis_title='Expected Points Added (EPA)',\n",
    "                  yaxis_title='Count')\n",
    "\n",
    "fig.show()"
   ]
  },
  {
   "cell_type": "markdown",
   "metadata": {},
   "source": [
    "EPA衡量了一次比赛对球队预期得分的影响。它有助于评估不同比赛的效果。"
   ]
  },
  {
   "cell_type": "markdown",
   "metadata": {},
   "source": [
    "可视化完成之后我们对表格信息进行处理"
   ]
  },
  {
   "cell_type": "markdown",
   "metadata": {},
   "source": [
    "删除处理"
   ]
  },
  {
   "cell_type": "code",
   "execution_count": null,
   "metadata": {},
   "outputs": [],
   "source": [
    "plays_data = plays_data.drop(columns=['ballCarrierDisplayName', 'playDescription', 'yardlineSide', 'gameClock',\n",
    "                                      'passResult', 'passLength', 'playNullifiedByPenalty'])\n",
    "plays_data.head()"
   ]
  },
  {
   "cell_type": "markdown",
   "metadata": {},
   "source": [
    "列名替换"
   ]
  },
  {
   "cell_type": "code",
   "execution_count": null,
   "metadata": {},
   "outputs": [],
   "source": [
    "# 替换列名 'ballCarrierId' 为 'nflId'\n",
    "plays_data.rename(columns={'ballCarrierId': 'nflId'}, inplace=True)"
   ]
  },
  {
   "cell_type": "markdown",
   "metadata": {},
   "source": [
    "表格编码\n",
    "* 'possessionTeam' 和 'defensiveTeam'"
   ]
  },
  {
   "cell_type": "code",
   "execution_count": null,
   "metadata": {},
   "outputs": [],
   "source": [
    "# 创建一个包含 'possessionTeam' 和 'defensiveTeam' 列独特值的列表\n",
    "unique_teams = sorted(list(set(plays_data['possessionTeam']) | set(plays_data['defensiveTeam'])))\n",
    "\n",
    "# 创建一个从 1 开始的新编码字典\n",
    "team_encoding = {team: code for code, team in enumerate(unique_teams, start=1)}\n",
    "\n",
    "# 使用字典映射将 'possessionTeam' 和 'defensiveTeam' 列的值进行重新编码\n",
    "plays_data['possessionTeam_encoded'] = plays_data['possessionTeam'].map(team_encoding)\n",
    "plays_data['defensiveTeam_encoded'] = plays_data['defensiveTeam'].map(team_encoding)\n",
    "\n",
    "# 将编码值填充回原列\n",
    "plays_data['possessionTeam'] = plays_data['possessionTeam_encoded']\n",
    "plays_data['defensiveTeam'] = plays_data['defensiveTeam_encoded']\n",
    "\n",
    "plays_data.head()"
   ]
  },
  {
   "cell_type": "markdown",
   "metadata": {},
   "source": [
    "* 'offenseFormation'"
   ]
  },
  {
   "cell_type": "code",
   "execution_count": null,
   "metadata": {},
   "outputs": [],
   "source": [
    "# 将'offenseFormation'列中的NA值替换为0\n",
    "plays_data['offenseFormation'].fillna(0, inplace=True)\n",
    "\n",
    "# 排除填充后的整数0，对非零字符串值进行编码\n",
    "unique_formations = sorted(filter(lambda x: x != 0, plays_data['offenseFormation'].unique()))\n",
    "encoding_dict = {val: idx + 1 for idx, val in enumerate(unique_formations)}\n",
    "\n",
    "# 将编码后的值填充回'offenseFormation'列\n",
    "plays_data['offenseFormation'] = plays_data['offenseFormation'].map(lambda x: encoding_dict.get(x, 0)).astype(int)\n",
    "\n",
    "# 显示编码结果与原始值的对应关系\n",
    "reverse_encoding_dict = {v: k for k, v in encoding_dict.items()}\n",
    "print(\"编码结果与原始值的对应关系:\")\n",
    "for code, value in sorted(reverse_encoding_dict.items()):\n",
    "    print(f\"{code} -> '{value}'\")"
   ]
  },
  {
   "cell_type": "markdown",
   "metadata": {},
   "source": [
    "defendersInTheBox与 passProbability列的空值置0"
   ]
  },
  {
   "cell_type": "code",
   "execution_count": null,
   "metadata": {},
   "outputs": [],
   "source": [
    "# 将'defendersInTheBox'列和'passProbability'列中的NA值替换为数值0\n",
    "plays_data['defendersInTheBox'].fillna(0, inplace=True)\n",
    "plays_data['passProbability'].fillna(0, inplace=True)"
   ]
  },
  {
   "cell_type": "markdown",
   "metadata": {},
   "source": [
    "中位数填充"
   ]
  },
  {
   "cell_type": "code",
   "execution_count": null,
   "metadata": {},
   "outputs": [],
   "source": [
    "# 计算'expectedPointsAdded'列的中位数\n",
    "epa_median = plays_data['expectedPointsAdded'].median()\n",
    "\n",
    "# 将'expectedPointsAdded'列的空值使用中位数填充\n",
    "plays_data['expectedPointsAdded'].fillna(epa_median, inplace=True)"
   ]
  },
  {
   "cell_type": "markdown",
   "metadata": {},
   "source": [
    "展示清洗后的数据"
   ]
  },
  {
   "cell_type": "code",
   "execution_count": null,
   "metadata": {},
   "outputs": [],
   "source": [
    "plays_data.head"
   ]
  },
  {
   "cell_type": "code",
   "execution_count": null,
   "metadata": {},
   "outputs": [],
   "source": [
    "plays_data_summary = generate_summary_table(plays_data)"
   ]
  },
  {
   "cell_type": "code",
   "execution_count": null,
   "metadata": {},
   "outputs": [],
   "source": [
    "# 计算相关性矩阵\n",
    "correlation_matrix = plays_data.corr()\n",
    "\n",
    "# 创建热力图\n",
    "fig = px.imshow(correlation_matrix,\n",
    "                labels=dict(color=\"Correlation\"),\n",
    "                x=correlation_matrix.index,\n",
    "                y=correlation_matrix.columns,\n",
    "                color_continuous_scale='Viridis')\n",
    "\n",
    "# 在热力图中标注数值\n",
    "annotations = []\n",
    "for i, row in enumerate(correlation_matrix.index):\n",
    "    for j, col in enumerate(correlation_matrix.columns):\n",
    "        annotations.append(\n",
    "            dict(\n",
    "                x=col,\n",
    "                y=row,\n",
    "                text=f\"{correlation_matrix.iloc[i, j]:.2f}\",\n",
    "                showarrow=False,\n",
    "            )\n",
    "        )\n",
    "\n",
    "fig.update_layout(\n",
    "    title='Correlation Heatmap of Columns',\n",
    "    xaxis_title='Columns',\n",
    "    yaxis_title='Columns',\n",
    "    annotations=annotations,\n",
    "    width=1200,  # 设置宽度为800像素\n",
    "    height=1200  # 设置高度为600像素 \n",
    ")\n",
    "\n",
    "fig.show()"
   ]
  },
  {
   "cell_type": "markdown",
   "metadata": {},
   "source": [
    "这张图太大了，很难找出相关性，我们把相关性阈值调到0.2，找到相关性高的列"
   ]
  },
  {
   "cell_type": "code",
   "execution_count": null,
   "metadata": {},
   "outputs": [],
   "source": [
    "# 计算相关性矩阵\n",
    "correlation_matrix = plays_data.corr()\n",
    "\n",
    "# 找到相关性绝对值大于0.5的列\n",
    "high_correlation_cols = correlation_matrix[\n",
    "    (correlation_matrix.abs() > 0.2) & (correlation_matrix != 1)\n",
    "].stack().reset_index()\n",
    "\n",
    "high_correlation_cols.columns = ['Column1', 'Column2', 'Correlation']\n",
    "\n",
    "# 根据高相关性的列重新构建相关性矩阵\n",
    "filtered_matrix = pd.pivot_table(high_correlation_cols, values='Correlation', \n",
    "                                 index='Column1', columns='Column2').fillna(0)\n",
    "\n",
    "# 创建热力图\n",
    "fig = px.imshow(filtered_matrix,\n",
    "                labels=dict(color=\"Correlation\"),\n",
    "                x=filtered_matrix.index,\n",
    "                y=filtered_matrix.columns,\n",
    "                color_continuous_scale='Viridis')\n",
    "\n",
    "# 在热力图中标注数值\n",
    "annotations = []\n",
    "for i, row in enumerate(filtered_matrix.index):\n",
    "    for j, col in enumerate(filtered_matrix.columns):\n",
    "        annotations.append(\n",
    "            dict(\n",
    "                x=col,\n",
    "                y=row,\n",
    "                text=f\"{filtered_matrix.iloc[i, j]:.2f}\",\n",
    "                showarrow=False,\n",
    "            )\n",
    "        )\n",
    "\n",
    "fig.update_layout(\n",
    "    title='Correlation Heatmap of Columns (|Correlation| > 0.2)',\n",
    "    xaxis_title='Columns',\n",
    "    yaxis_title='Columns',\n",
    "    annotations=annotations,\n",
    "    width=1000,  # 设置宽度为800像素\n",
    "    height=800  # 设置高度为800像素\n",
    ")\n",
    "\n",
    "fig.show()"
   ]
  },
  {
   "cell_type": "code",
   "execution_count": null,
   "metadata": {},
   "outputs": [],
   "source": [
    "# 打印出高相关性的列名\n",
    "high_correlation_columns = high_correlation_cols[['Column1', 'Column2']]\n",
    "high_correlation_columns = high_correlation_columns.stack().unique()\n",
    "print(\"高相关性绝对值大于0.2的列名：\")\n",
    "for col in high_correlation_columns:\n",
    "    print(col)\n"
   ]
  },
  {
   "cell_type": "markdown",
   "metadata": {},
   "source": [
    "- **playId**: 每个球场行为（play）的唯一标识符。\n",
    "- **quarter**: 球赛的季节，表示比赛处于第几节。\n",
    "- **preSnapHomeScore**: 此次行为（play）之前的主队得分。\n",
    "- **preSnapVisitorScore**: 此次行为（play）之前的客队得分。\n",
    "- **down**: 当前球场行为中所处的第几次进攻。\n",
    "- **yardsToGo**: 到达下一个进攻阵地线所需的码数。\n",
    "- **passProbability**: 此次进攻行为（play）为传球的概率。\n",
    "- **defendersInTheBox**: 防守方在中锋（center）和进攻线（offensive line）之间的防守球员数量。\n",
    "- **expectedPoints**: 此次球场行为（play）所带来的预期积分。\n",
    "- **preSnapHomeTeamWinProbability**: 此次行为（play）之前主队获胜的概率。\n",
    "- **preSnapVisitorTeamWinProbability**: 此次行为（play）之前客队获胜的概率。\n",
    "- **prePenaltyPlayResult**: 在处罚（penalty）之前的球场行为结果。\n",
    "- **playResult**: 当前球场行为的结果。\n",
    "- **expectedPointsAdded**: 此次球场行为（play）所带来的预期积分增加值，即根据历史数据和场上情况，此次行为可能带来的积分增加期望值。\n",
    "- **homeTeamWinProbabilityAdded**: 此次球场行为（play）之后，主队获胜概率的变化。\n",
    "- **visitorTeamWinProbabilityAdded**: 此次球场行为（play）之后，客队获胜概率的变化。"
   ]
  },
  {
   "cell_type": "markdown",
   "metadata": {},
   "source": [
    "以上列的相关性高，代表对比赛结果影响较大。\n",
    "\n",
    "此外我们还要保留gameId,playId,nflID用来连接表"
   ]
  },
  {
   "cell_type": "code",
   "execution_count": null,
   "metadata": {},
   "outputs": [],
   "source": [
    "# 列名列表，保留的列\n",
    "columns_to_keep = [\n",
    "    'gameId', 'playId', 'nflId', 'quarter', 'preSnapHomeScore', 'preSnapVisitorScore', 'down',\n",
    "    'yardsToGo', 'passProbability', 'defendersInTheBox', 'expectedPoints',\n",
    "    'preSnapHomeTeamWinProbability', 'preSnapVisitorTeamWinProbability',\n",
    "    'prePenaltyPlayResult', 'playResult', 'expectedPointsAdded',\n",
    "    'homeTeamWinProbabilityAdded', 'visitorTeamWinProbilityAdded', \n",
    "]\n",
    "\n",
    "# 删除除了指定列之外的所有列\n",
    "plays_data_cleaned = plays_data[columns_to_keep]\n",
    "plays_data_cleaned.head()"
   ]
  },
  {
   "cell_type": "code",
   "execution_count": null,
   "metadata": {},
   "outputs": [],
   "source": [
    "# 调用函数并打印生成的表格\n",
    "plays_data_summary = generate_summary_table(plays_data)"
   ]
  },
  {
   "cell_type": "markdown",
   "metadata": {},
   "source": [
    "没有问题，下一张表走起"
   ]
  },
  {
   "cell_type": "markdown",
   "metadata": {},
   "source": [
    "4. tackles.csv\n",
    "\n",
    "首先对该表格内容进行数据清洗与可视化"
   ]
  },
  {
   "cell_type": "code",
   "execution_count": null,
   "metadata": {},
   "outputs": [],
   "source": [
    "tackles_data.head()"
   ]
  },
  {
   "cell_type": "code",
   "execution_count": null,
   "metadata": {},
   "outputs": [],
   "source": [
    "# 调用函数并打印生成的表格\n",
    "tackles_data_summary = generate_summary_table(tackles_data)"
   ]
  },
  {
   "cell_type": "markdown",
   "metadata": {},
   "source": [
    "可以看到该表全为数值项，并且没有任何缺失数据，大大减轻了笔者的工作！！！\n",
    "直接进行可视化分析！！！"
   ]
  },
  {
   "cell_type": "markdown",
   "metadata": {},
   "source": [
    "铲球（tackles）的分布情况"
   ]
  },
  {
   "cell_type": "code",
   "execution_count": null,
   "metadata": {},
   "outputs": [],
   "source": [
    "# 统计铲球是否成功的次数\n",
    "tackle_success_counts = tackles_data['tackle'].value_counts()\n",
    "\n",
    "# 创建条形统计图\n",
    "fig = px.bar(x=tackle_success_counts.index, y=tackle_success_counts.values,\n",
    "             labels={'x': 'Tackle Success', 'y': 'Count'},\n",
    "             title='Distribution of Tackle Success',\n",
    "             category_orders={'x': [0, 1]}\n",
    "            )\n",
    "\n",
    "# 设置 x 轴标签\n",
    "fig.update_xaxes(type='category')\n",
    "\n",
    "# 显示图表\n",
    "fig.show()"
   ]
  },
  {
   "cell_type": "markdown",
   "metadata": {},
   "source": [
    "助攻（assists）的分布情况"
   ]
  },
  {
   "cell_type": "code",
   "execution_count": null,
   "metadata": {},
   "outputs": [],
   "source": [
    "# 统计助攻是否成功的次数\n",
    "assist_counts = tackles_data['assist'].value_counts()\n",
    "\n",
    "# 创建条形统计图\n",
    "fig = px.bar(x=assist_counts.index, y=assist_counts.values,\n",
    "             labels={'x': 'Assist Success', 'y': 'Count'},\n",
    "             title='Distribution of Assist Success',\n",
    "             category_orders={'x': [0, 1]}\n",
    "            )\n",
    "\n",
    "# 设置 x 轴标签\n",
    "fig.update_xaxes(type='category')\n",
    "\n",
    "# 显示图表\n",
    "fig.show()"
   ]
  },
  {
   "cell_type": "markdown",
   "metadata": {},
   "source": [
    "强制性失误（forced fumbles）的分布情况"
   ]
  },
  {
   "cell_type": "code",
   "execution_count": null,
   "metadata": {},
   "outputs": [],
   "source": [
    "# 统计强制性失误的次数\n",
    "forced_fumbles_counts = tackles_data['forcedFumble'].value_counts()\n",
    "\n",
    "# 创建条形统计图\n",
    "fig = px.bar(x=forced_fumbles_counts.index, y=forced_fumbles_counts.values,\n",
    "             labels={'x': 'Forced Fumble', 'y': 'Count'},\n",
    "             title='Distribution of Forced Fumbles',\n",
    "             category_orders={'x': [0, 1]}\n",
    "            )\n",
    "\n",
    "# 设置 x 轴标签\n",
    "fig.update_xaxes(type='category')\n",
    "\n",
    "# 显示图表\n",
    "fig.show()"
   ]
  },
  {
   "cell_type": "markdown",
   "metadata": {},
   "source": [
    "Pro Football Focus（PFF）失误铲球（missed tackles）的分布情况"
   ]
  },
  {
   "cell_type": "code",
   "execution_count": null,
   "metadata": {},
   "outputs": [],
   "source": [
    "# 统计 PFF 失误铲球的次数\n",
    "missed_tackles_counts = tackles_data['pff_missedTackle'].value_counts()\n",
    "\n",
    "# 创建条形统计图\n",
    "fig = px.bar(x=missed_tackles_counts.index, y=missed_tackles_counts.values,\n",
    "             labels={'x': 'PFF Missed Tackle', 'y': 'Count'},\n",
    "             title='Distribution of PFF Missed Tackles',\n",
    "             category_orders={'x': [0, 1]}\n",
    "            )\n",
    "\n",
    "# 设置 x 轴标签\n",
    "fig.update_xaxes(type='category')\n",
    "\n",
    "# 显示图表\n",
    "fig.show()"
   ]
  },
  {
   "cell_type": "markdown",
   "metadata": {},
   "source": [
    "直接绘制热力图进行分析"
   ]
  },
  {
   "cell_type": "code",
   "execution_count": null,
   "metadata": {},
   "outputs": [],
   "source": [
    "# 计算相关性矩阵\n",
    "correlation_matrix = tackles_data.corr()\n",
    "\n",
    "# 创建热力图\n",
    "fig = px.imshow(correlation_matrix,\n",
    "                labels=dict(color=\"Correlation\"),\n",
    "                x=correlation_matrix.index,\n",
    "                y=correlation_matrix.columns,\n",
    "                color_continuous_scale='Viridis')\n",
    "\n",
    "# 在热力图中标注数值\n",
    "annotations = []\n",
    "for i, row in enumerate(correlation_matrix.index):\n",
    "    for j, col in enumerate(correlation_matrix.columns):\n",
    "        annotations.append(\n",
    "            dict(\n",
    "                x=col,\n",
    "                y=row,\n",
    "                text=f\"{correlation_matrix.iloc[i, j]:.2f}\",\n",
    "                showarrow=False,\n",
    "            )\n",
    "        )\n",
    "\n",
    "# 更新布局\n",
    "fig.update_layout(\n",
    "    title='Correlation Heatmap of Features',\n",
    "    xaxis_title='Features',\n",
    "    yaxis_title='Features',\n",
    "    annotations=annotations,\n",
    "    width=800,  # 设置宽度为800像素\n",
    "    height=600  # 设置高度为600像素\n",
    ")\n",
    "\n",
    "# 显示图表\n",
    "fig.show()"
   ]
  },
  {
   "cell_type": "markdown",
   "metadata": {},
   "source": [
    "从以上图中分析出tackle和assist有很强的负相关性\n",
    "\n",
    "pff_missedTackle和tackle有很强的负相关性"
   ]
  },
  {
   "cell_type": "markdown",
   "metadata": {},
   "source": [
    "接下来处理最难处理的表，week表\n",
    "\n",
    "第一步读取表格并合并"
   ]
  },
  {
   "cell_type": "code",
   "execution_count": null,
   "metadata": {},
   "outputs": [],
   "source": [
    "week1_data = pd.read_csv('../../Dataset/tracking_week_1.csv')\n",
    "week2_data = pd.read_csv('../../Dataset/tracking_week_2.csv')\n",
    "week3_data = pd.read_csv('../../Dataset/tracking_week_3.csv')\n",
    "week4_data = pd.read_csv('../../Dataset/tracking_week_4.csv')\n",
    "week5_data = pd.read_csv('../../Dataset/tracking_week_5.csv')\n",
    "week6_data = pd.read_csv('../../Dataset/tracking_week_6.csv')\n",
    "week7_data = pd.read_csv('../../Dataset/tracking_week_7.csv')\n",
    "week8_data = pd.read_csv('../../Dataset/tracking_week_8.csv')\n",
    "week9_data = pd.read_csv('../../Dataset/tracking_week_9.csv')"
   ]
  }
 ],
 "metadata": {
  "kernelspec": {
   "display_name": "python_all",
   "language": "python",
   "name": "python3"
  },
  "language_info": {
   "codemirror_mode": {
    "name": "ipython",
    "version": 3
   },
   "file_extension": ".py",
   "mimetype": "text/x-python",
   "name": "python",
   "nbconvert_exporter": "python",
   "pygments_lexer": "ipython3",
   "version": "3.8.16"
  }
 },
 "nbformat": 4,
 "nbformat_minor": 2
}
